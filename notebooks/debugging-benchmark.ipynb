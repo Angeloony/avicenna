{
 "cells": [
  {
   "cell_type": "markdown",
   "id": "b56b957c-7815-4c78-ae8c-5558c5ebd513",
   "metadata": {},
   "source": [
    "# Using Avicenna to explain bugs in the debugging-benchmark"
   ]
  },
  {
   "cell_type": "code",
   "execution_count": 2,
   "id": "3b20ba79-7ba5-4ece-9c26-f17ab6b49487",
   "metadata": {},
   "outputs": [],
   "source": [
    "from debugging_benchmark.student_assignments import MiddleAssignmentBenchmarkRepository\n",
    "from debugging_framework.benchmark import BenchmarkRepository, BenchmarkProgram\n",
    "\n",
    "from avicenna import Avicenna"
   ]
  },
  {
   "cell_type": "code",
   "execution_count": 6,
   "id": "f0eb258c-c797-40c6-86f8-5e95bb7fc65e",
   "metadata": {},
   "outputs": [
    {
     "name": "stdout",
     "output_type": "stream",
     "text": [
      "Number of subjects: 10\n"
     ]
    }
   ],
   "source": [
    "from typing import List\n",
    "# building the subjects\n",
    "\n",
    "repos: List[BenchmarkRepository] = [\n",
    "    MiddleAssignmentBenchmarkRepository()\n",
    "]\n",
    "\n",
    "subjects: List[BenchmarkProgram] = []\n",
    "for repo in repos:\n",
    "    subjects_ = repo.build()\n",
    "    subjects += subjects_\n",
    "\n",
    "print(f\"Number of subjects: {len(subjects)}\")"
   ]
  },
  {
   "cell_type": "code",
   "execution_count": 7,
   "id": "64b63799-3ab0-4224-9d77-2813f0c9ee0a",
   "metadata": {},
   "outputs": [
    {
     "name": "stdout",
     "output_type": "stream",
     "text": [
      "Middle_1\n",
      "Middle_2\n",
      "Middle_3\n",
      "Middle_4\n",
      "Middle_5\n",
      "Middle_6\n",
      "Middle_7\n",
      "Middle_8\n",
      "Middle_9\n",
      "Middle_10\n"
     ]
    }
   ],
   "source": [
    "for subject in subjects:\n",
    "    print(subject)"
   ]
  },
  {
   "cell_type": "code",
   "execution_count": 22,
   "id": "9676475d-e00b-4fb3-8043-9de467f48e9a",
   "metadata": {},
   "outputs": [
    {
     "name": "stdout",
     "output_type": "stream",
     "text": [
      "Runnung Middle_8\n"
     ]
    },
    {
     "ename": "AssertionError",
     "evalue": "",
     "output_type": "error",
     "traceback": [
      "\u001b[0;31m---------------------------------------------------------------------------\u001b[0m",
      "\u001b[0;31mAssertionError\u001b[0m                            Traceback (most recent call last)",
      "Cell \u001b[0;32mIn[22], line 10\u001b[0m\n\u001b[1;32m      7\u001b[0m param[\u001b[38;5;124m\"\u001b[39m\u001b[38;5;124mtop_n_relevant_features\u001b[39m\u001b[38;5;124m\"\u001b[39m] \u001b[38;5;241m=\u001b[39m \u001b[38;5;241m4\u001b[39m\n\u001b[1;32m      9\u001b[0m avicenna \u001b[38;5;241m=\u001b[39m Avicenna(\u001b[38;5;241m*\u001b[39m\u001b[38;5;241m*\u001b[39mparam)\n\u001b[0;32m---> 10\u001b[0m diagnosis \u001b[38;5;241m=\u001b[39m \u001b[43mavicenna\u001b[49m\u001b[38;5;241;43m.\u001b[39;49m\u001b[43mexplain\u001b[49m\u001b[43m(\u001b[49m\u001b[43m)\u001b[49m\n\u001b[1;32m     11\u001b[0m \u001b[38;5;28;01mif\u001b[39;00m diagnosis:\n\u001b[1;32m     12\u001b[0m     \u001b[38;5;28mprint\u001b[39m(\u001b[38;5;124mf\u001b[39m\u001b[38;5;124m\"\u001b[39m\u001b[38;5;124mFinal Diagnosis for \u001b[39m\u001b[38;5;132;01m{\u001b[39;00msubject\u001b[38;5;132;01m}\u001b[39;00m\u001b[38;5;124m\"\u001b[39m)\n",
      "File \u001b[0;32m~/github/avicenna/src/avicenna/avicenna.py:218\u001b[0m, in \u001b[0;36mAvicenna.explain\u001b[0;34m(self)\u001b[0m\n\u001b[1;32m    216\u001b[0m new_inputs: Set[Input] \u001b[38;5;241m=\u001b[39m \u001b[38;5;28mself\u001b[39m\u001b[38;5;241m.\u001b[39mall_inputs\u001b[38;5;241m.\u001b[39munion(\u001b[38;5;28mself\u001b[39m\u001b[38;5;241m.\u001b[39mgenerate_more_inputs())\n\u001b[1;32m    217\u001b[0m \u001b[38;5;28;01mwhile\u001b[39;00m \u001b[38;5;28mself\u001b[39m\u001b[38;5;241m.\u001b[39m_do_more_iterations():\n\u001b[0;32m--> 218\u001b[0m     new_inputs \u001b[38;5;241m=\u001b[39m \u001b[38;5;28;43mself\u001b[39;49m\u001b[38;5;241;43m.\u001b[39;49m\u001b[43m_loop\u001b[49m\u001b[43m(\u001b[49m\u001b[43mnew_inputs\u001b[49m\u001b[43m)\u001b[49m\n\u001b[1;32m    219\u001b[0m \u001b[38;5;28;01mreturn\u001b[39;00m \u001b[38;5;28mself\u001b[39m\u001b[38;5;241m.\u001b[39mfinalize()\n",
      "File \u001b[0;32m~/github/avicenna/src/avicenna/avicenna.py:263\u001b[0m, in \u001b[0;36mAvicenna._loop\u001b[0;34m(self, test_inputs)\u001b[0m\n\u001b[1;32m    260\u001b[0m test_inputs \u001b[38;5;241m=\u001b[39m \u001b[38;5;28mself\u001b[39m\u001b[38;5;241m.\u001b[39mconstruct_inputs(test_inputs)\n\u001b[1;32m    261\u001b[0m exclusion_non_terminals \u001b[38;5;241m=\u001b[39m \u001b[38;5;28mself\u001b[39m\u001b[38;5;241m.\u001b[39mlearn_relevant_features()\n\u001b[0;32m--> 263\u001b[0m new_candidates \u001b[38;5;241m=\u001b[39m \u001b[38;5;28;43mself\u001b[39;49m\u001b[38;5;241;43m.\u001b[39;49m\u001b[43mpattern_learner\u001b[49m\u001b[38;5;241;43m.\u001b[39;49m\u001b[43mlearn_failure_invariants\u001b[49m\u001b[43m(\u001b[49m\n\u001b[1;32m    264\u001b[0m \u001b[43m    \u001b[49m\u001b[43mtest_inputs\u001b[49m\u001b[43m,\u001b[49m\n\u001b[1;32m    265\u001b[0m \u001b[43m    \u001b[49m\u001b[38;5;28;43mself\u001b[39;49m\u001b[38;5;241;43m.\u001b[39;49m\u001b[43mprecision_truth_table\u001b[49m\u001b[43m,\u001b[49m\n\u001b[1;32m    266\u001b[0m \u001b[43m    \u001b[49m\u001b[38;5;28;43mself\u001b[39;49m\u001b[38;5;241;43m.\u001b[39;49m\u001b[43mrecall_truth_table\u001b[49m\u001b[43m,\u001b[49m\n\u001b[1;32m    267\u001b[0m \u001b[43m    \u001b[49m\u001b[43mexclusion_non_terminals\u001b[49m\u001b[43m,\u001b[49m\n\u001b[1;32m    268\u001b[0m \u001b[43m\u001b[49m\u001b[43m)\u001b[49m\n\u001b[1;32m    270\u001b[0m new_candidates \u001b[38;5;241m=\u001b[39m new_candidates\u001b[38;5;241m.\u001b[39mkeys()\n\u001b[1;32m    272\u001b[0m \u001b[38;5;28mself\u001b[39m\u001b[38;5;241m.\u001b[39mbest_candidates \u001b[38;5;241m=\u001b[39m new_candidates\n",
      "File \u001b[0;32m~/github/avicenna/src/avicenna/pattern_learner.py:226\u001b[0m, in \u001b[0;36mAviIslearn.learn_failure_invariants\u001b[0;34m(self, test_inputs, precision_truth_table, recall_truth_table, exclude_nonterminals)\u001b[0m\n\u001b[1;32m    224\u001b[0m \u001b[38;5;28mself\u001b[39m\u001b[38;5;241m.\u001b[39mupdate_inputs(positive_inputs, negative_inputs)\n\u001b[1;32m    225\u001b[0m \u001b[38;5;28mself\u001b[39m\u001b[38;5;241m.\u001b[39mexclude_nonterminals \u001b[38;5;241m=\u001b[39m exclude_nonterminals \u001b[38;5;129;01mor\u001b[39;00m \u001b[38;5;28mset\u001b[39m()\n\u001b[0;32m--> 226\u001b[0m \u001b[38;5;28;01mreturn\u001b[39;00m \u001b[38;5;28;43mself\u001b[39;49m\u001b[38;5;241;43m.\u001b[39;49m\u001b[43m_learn_invariants\u001b[49m\u001b[43m(\u001b[49m\n\u001b[1;32m    227\u001b[0m \u001b[43m    \u001b[49m\u001b[43mpositive_inputs\u001b[49m\u001b[43m,\u001b[49m\u001b[43m \u001b[49m\u001b[43mnegative_inputs\u001b[49m\u001b[43m,\u001b[49m\u001b[43m \u001b[49m\u001b[43mprecision_truth_table\u001b[49m\u001b[43m,\u001b[49m\u001b[43m \u001b[49m\u001b[43mrecall_truth_table\u001b[49m\n\u001b[1;32m    228\u001b[0m \u001b[43m\u001b[49m\u001b[43m)\u001b[49m\n",
      "File \u001b[0;32m~/github/avicenna/src/avicenna/pattern_learner.py:260\u001b[0m, in \u001b[0;36mAviIslearn._learn_invariants\u001b[0;34m(self, positive_inputs, negative_inputs, precision_truth_table, recall_truth_table)\u001b[0m\n\u001b[1;32m    256\u001b[0m \u001b[38;5;28mself\u001b[39m\u001b[38;5;241m.\u001b[39mevaluate_precision(\n\u001b[1;32m    257\u001b[0m     precision_truth_table, recall_truth_table, negative_inputs\n\u001b[1;32m    258\u001b[0m )\n\u001b[1;32m    259\u001b[0m \u001b[38;5;28mself\u001b[39m\u001b[38;5;241m.\u001b[39mget_disjunctions()\n\u001b[0;32m--> 260\u001b[0m \u001b[38;5;28;43mself\u001b[39;49m\u001b[38;5;241;43m.\u001b[39;49m\u001b[43mget_conjunctions\u001b[49m\u001b[43m(\u001b[49m\u001b[43mprecision_truth_table\u001b[49m\u001b[43m,\u001b[49m\u001b[43m \u001b[49m\u001b[43mrecall_truth_table\u001b[49m\u001b[43m)\u001b[49m\n\u001b[1;32m    262\u001b[0m result \u001b[38;5;241m=\u001b[39m \u001b[38;5;28mself\u001b[39m\u001b[38;5;241m.\u001b[39mget_result_dict(precision_truth_table, recall_truth_table)\n\u001b[1;32m    263\u001b[0m \u001b[38;5;28;01mreturn\u001b[39;00m result\n",
      "File \u001b[0;32m~/github/avicenna/src/avicenna/pattern_learner.py:393\u001b[0m, in \u001b[0;36mAviIslearn.get_conjunctions\u001b[0;34m(self, precision_truth_table, recall_truth_table)\u001b[0m\n\u001b[1;32m    391\u001b[0m logger\u001b[38;5;241m.\u001b[39minfo(\u001b[38;5;124m\"\u001b[39m\u001b[38;5;124mCalculating Boolean Combinations.\u001b[39m\u001b[38;5;124m\"\u001b[39m)\n\u001b[1;32m    392\u001b[0m \u001b[38;5;28;01mfor\u001b[39;00m level \u001b[38;5;129;01min\u001b[39;00m \u001b[38;5;28mrange\u001b[39m(\u001b[38;5;241m2\u001b[39m, \u001b[38;5;28mself\u001b[39m\u001b[38;5;241m.\u001b[39mmax_conjunction_size \u001b[38;5;241m+\u001b[39m \u001b[38;5;241m1\u001b[39m):\n\u001b[0;32m--> 393\u001b[0m     \u001b[38;5;28;43mself\u001b[39;49m\u001b[38;5;241;43m.\u001b[39;49m\u001b[43mprocess_conjunction_level\u001b[49m\u001b[43m(\u001b[49m\n\u001b[1;32m    394\u001b[0m \u001b[43m        \u001b[49m\u001b[43mlevel\u001b[49m\u001b[43m,\u001b[49m\u001b[43m \u001b[49m\u001b[43mprecision_truth_table\u001b[49m\u001b[43m,\u001b[49m\u001b[43m \u001b[49m\u001b[43mrecall_truth_table\u001b[49m\n\u001b[1;32m    395\u001b[0m \u001b[43m    \u001b[49m\u001b[43m)\u001b[49m\n",
      "File \u001b[0;32m~/github/avicenna/src/avicenna/pattern_learner.py:408\u001b[0m, in \u001b[0;36mAviIslearn.process_conjunction_level\u001b[0;34m(self, level, precision_truth_table, recall_truth_table)\u001b[0m\n\u001b[1;32m    403\u001b[0m combinations \u001b[38;5;241m=\u001b[39m \u001b[38;5;28mself\u001b[39m\u001b[38;5;241m.\u001b[39mget_combinations_of_truth_table_rows(\n\u001b[1;32m    404\u001b[0m     level, precision_truth_table\n\u001b[1;32m    405\u001b[0m )\n\u001b[1;32m    407\u001b[0m \u001b[38;5;28;01mfor\u001b[39;00m rows_with_indices \u001b[38;5;129;01min\u001b[39;00m combinations:\n\u001b[0;32m--> 408\u001b[0m     \u001b[38;5;28;43mself\u001b[39;49m\u001b[38;5;241;43m.\u001b[39;49m\u001b[43mprocess_combination\u001b[49m\u001b[43m(\u001b[49m\n\u001b[1;32m    409\u001b[0m \u001b[43m        \u001b[49m\u001b[43mrows_with_indices\u001b[49m\u001b[43m,\u001b[49m\u001b[43m \u001b[49m\u001b[43mprecision_truth_table\u001b[49m\u001b[43m,\u001b[49m\u001b[43m \u001b[49m\u001b[43mrecall_truth_table\u001b[49m\n\u001b[1;32m    410\u001b[0m \u001b[43m    \u001b[49m\u001b[43m)\u001b[49m\n",
      "File \u001b[0;32m~/github/avicenna/src/avicenna/pattern_learner.py:429\u001b[0m, in \u001b[0;36mAviIslearn.process_combination\u001b[0;34m(self, rows_with_indices, precision_truth_table, recall_truth_table)\u001b[0m\n\u001b[1;32m    426\u001b[0m \u001b[38;5;28;01mif\u001b[39;00m \u001b[38;5;129;01mnot\u001b[39;00m \u001b[38;5;28mself\u001b[39m\u001b[38;5;241m.\u001b[39mrows_meet_minimum_recall(rows_with_indices, recall_truth_table):\n\u001b[1;32m    427\u001b[0m     \u001b[38;5;28;01mreturn\u001b[39;00m\n\u001b[0;32m--> 429\u001b[0m \u001b[38;5;28;43mself\u001b[39;49m\u001b[38;5;241;43m.\u001b[39;49m\u001b[43madd_conjunction_to_truth_table\u001b[49m\u001b[43m(\u001b[49m\n\u001b[1;32m    430\u001b[0m \u001b[43m    \u001b[49m\u001b[43mprecision_table_rows\u001b[49m\u001b[43m,\u001b[49m\n\u001b[1;32m    431\u001b[0m \u001b[43m    \u001b[49m\u001b[43mprecision_truth_table\u001b[49m\u001b[43m,\u001b[49m\n\u001b[1;32m    432\u001b[0m \u001b[43m    \u001b[49m\u001b[43mrecall_truth_table\u001b[49m\u001b[43m,\u001b[49m\n\u001b[1;32m    433\u001b[0m \u001b[43m    \u001b[49m\u001b[43mrows_with_indices\u001b[49m\u001b[43m,\u001b[49m\n\u001b[1;32m    434\u001b[0m \u001b[43m\u001b[49m\u001b[43m)\u001b[49m\n",
      "File \u001b[0;32m~/github/avicenna/src/avicenna/pattern_learner.py:456\u001b[0m, in \u001b[0;36mAviIslearn.add_conjunction_to_truth_table\u001b[0;34m(self, precision_table_rows, precision_truth_table, recall_truth_table, rows_with_indices)\u001b[0m\n\u001b[1;32m    451\u001b[0m precision_conjunction \u001b[38;5;241m=\u001b[39m \u001b[38;5;28mself\u001b[39m\u001b[38;5;241m.\u001b[39mget_conjunction(precision_table_rows)\n\u001b[1;32m    452\u001b[0m recall_conjunction \u001b[38;5;241m=\u001b[39m \u001b[38;5;28mself\u001b[39m\u001b[38;5;241m.\u001b[39mget_conjunction(\n\u001b[1;32m    453\u001b[0m     [recall_truth_table[idx] \u001b[38;5;28;01mfor\u001b[39;00m idx, _ \u001b[38;5;129;01min\u001b[39;00m rows_with_indices]\n\u001b[1;32m    454\u001b[0m )\n\u001b[0;32m--> 456\u001b[0m \u001b[38;5;28;01mif\u001b[39;00m \u001b[38;5;28;43mself\u001b[39;49m\u001b[38;5;241;43m.\u001b[39;49m\u001b[43mis_new_conjunction_valid\u001b[49m\u001b[43m(\u001b[49m\u001b[43mprecision_conjunction\u001b[49m\u001b[43m,\u001b[49m\u001b[43m \u001b[49m\u001b[43mprecision_table_rows\u001b[49m\u001b[43m)\u001b[49m:\n\u001b[1;32m    457\u001b[0m     precision_truth_table\u001b[38;5;241m.\u001b[39mappend(precision_conjunction)\n\u001b[1;32m    458\u001b[0m     recall_truth_table\u001b[38;5;241m.\u001b[39mappend(recall_conjunction)\n",
      "File \u001b[0;32m~/github/avicenna/src/avicenna/pattern_learner.py:471\u001b[0m, in \u001b[0;36mAviIslearn.is_new_conjunction_valid\u001b[0;34m(self, conjunction, precision_table_rows)\u001b[0m\n\u001b[1;32m    468\u001b[0m \u001b[38;5;28;01mdef\u001b[39;00m \u001b[38;5;21mis_new_conjunction_valid\u001b[39m(\n\u001b[1;32m    469\u001b[0m     \u001b[38;5;28mself\u001b[39m, conjunction: AvicennaTruthTableRow, precision_table_rows\n\u001b[1;32m    470\u001b[0m ) \u001b[38;5;241m-\u001b[39m\u001b[38;5;241m>\u001b[39m \u001b[38;5;28mbool\u001b[39m:\n\u001b[0;32m--> 471\u001b[0m     new_precision \u001b[38;5;241m=\u001b[39m \u001b[38;5;241m1\u001b[39m \u001b[38;5;241m-\u001b[39m \u001b[43mconjunction\u001b[49m\u001b[38;5;241;43m.\u001b[39;49m\u001b[43meval_result\u001b[49m\u001b[43m(\u001b[49m\u001b[43m)\u001b[49m\n\u001b[1;32m    472\u001b[0m     \u001b[38;5;28;01mreturn\u001b[39;00m new_precision \u001b[38;5;241m>\u001b[39m\u001b[38;5;241m=\u001b[39m \u001b[38;5;28mself\u001b[39m\u001b[38;5;241m.\u001b[39mmin_specificity \u001b[38;5;129;01mand\u001b[39;00m \u001b[38;5;28mall\u001b[39m(\n\u001b[1;32m    473\u001b[0m         new_precision \u001b[38;5;241m>\u001b[39m \u001b[38;5;241m1\u001b[39m \u001b[38;5;241m-\u001b[39m row\u001b[38;5;241m.\u001b[39meval_result() \u001b[38;5;28;01mfor\u001b[39;00m row \u001b[38;5;129;01min\u001b[39;00m precision_table_rows\n\u001b[1;32m    474\u001b[0m     )\n",
      "File \u001b[0;32m~/github/avicenna/src/avicenna/pattern_learner.py:76\u001b[0m, in \u001b[0;36mAvicennaTruthTableRow.eval_result\u001b[0;34m(self)\u001b[0m\n\u001b[1;32m     75\u001b[0m \u001b[38;5;28;01mdef\u001b[39;00m \u001b[38;5;21meval_result\u001b[39m(\u001b[38;5;28mself\u001b[39m) \u001b[38;5;241m-\u001b[39m\u001b[38;5;241m>\u001b[39m \u001b[38;5;28mfloat\u001b[39m:\n\u001b[0;32m---> 76\u001b[0m     \u001b[38;5;28;01massert\u001b[39;00m \u001b[38;5;28mself\u001b[39m\u001b[38;5;241m.\u001b[39minputs_are_valid()\n\u001b[1;32m     77\u001b[0m     \u001b[38;5;28;01mreturn\u001b[39;00m \u001b[38;5;28msum\u001b[39m(\u001b[38;5;28mint\u001b[39m(entry) \u001b[38;5;28;01mfor\u001b[39;00m entry \u001b[38;5;129;01min\u001b[39;00m \u001b[38;5;28mself\u001b[39m\u001b[38;5;241m.\u001b[39meval_results) \u001b[38;5;241m/\u001b[39m \u001b[38;5;28mlen\u001b[39m(\u001b[38;5;28mself\u001b[39m\u001b[38;5;241m.\u001b[39meval_results)\n",
      "\u001b[0;31mAssertionError\u001b[0m: "
     ]
    }
   ],
   "source": [
    "from isla.language import ISLaUnparser\n",
    "subject = subjects[8-1]\n",
    "\n",
    "print(f\"Runnung {subject}\")\n",
    "\n",
    "param = subject.to_dict()\n",
    "param[\"top_n_relevant_features\"] = 4\n",
    "\n",
    "avicenna = Avicenna(**param)\n",
    "diagnosis = avicenna.explain()\n",
    "if diagnosis:\n",
    "    print(f\"Final Diagnosis for {subject}\")\n",
    "    print(ISLaUnparser(diagnosis[0]).unparse())\n",
    "    print(f\"Avicenna calculated a precision: {diagnosis[1] * 100:.2f}% and recall {diagnosis[2] * 100:.2f}%\")\n",
    "else:\n",
    "    print(f\"No diagnosis has been learned for {subject}!\")"
   ]
  },
  {
   "cell_type": "code",
   "execution_count": 23,
   "id": "5625d992-217e-4a1c-ac66-1d8707cb1006",
   "metadata": {},
   "outputs": [
    {
     "data": {
      "text/plain": [
       "{Input(('1 310 6', <OracleResult.FAILING: 'FAILING'>)),\n",
       " Input(('1 4 1', <OracleResult.FAILING: 'FAILING'>)),\n",
       " Input(('1 4 3', <OracleResult.FAILING: 'FAILING'>)),\n",
       " Input(('1 5 6', <OracleResult.FAILING: 'FAILING'>)),\n",
       " Input(('1 5 7', <OracleResult.FAILING: 'FAILING'>)),\n",
       " Input(('1 8 1905', <OracleResult.FAILING: 'FAILING'>)),\n",
       " Input(('1 85605 2', <OracleResult.FAILING: 'FAILING'>)),\n",
       " Input(('10 6 6', <OracleResult.FAILING: 'FAILING'>)),\n",
       " Input(('14 22 50161', <OracleResult.FAILING: 'FAILING'>)),\n",
       " Input(('162 934 200', <OracleResult.FAILING: 'FAILING'>)),\n",
       " Input(('2 3 2', <OracleResult.FAILING: 'FAILING'>)),\n",
       " Input(('245 93 5', <OracleResult.FAILING: 'FAILING'>)),\n",
       " Input(('286 2 2', <OracleResult.FAILING: 'FAILING'>)),\n",
       " Input(('3 2 92', <OracleResult.FAILING: 'FAILING'>)),\n",
       " Input(('3 4 103', <OracleResult.FAILING: 'FAILING'>)),\n",
       " Input(('3 44941 2', <OracleResult.FAILING: 'FAILING'>)),\n",
       " Input(('3 77 322', <OracleResult.FAILING: 'FAILING'>)),\n",
       " Input(('3 90 5', <OracleResult.FAILING: 'FAILING'>)),\n",
       " Input(('305 6882 84', <OracleResult.FAILING: 'FAILING'>)),\n",
       " Input(('337 1 2', <OracleResult.FAILING: 'FAILING'>)),\n",
       " Input(('3518125 5 8', <OracleResult.FAILING: 'FAILING'>)),\n",
       " Input(('3750 588 77', <OracleResult.FAILING: 'FAILING'>)),\n",
       " Input(('384 88 59', <OracleResult.FAILING: 'FAILING'>)),\n",
       " Input(('3885 3 3', <OracleResult.FAILING: 'FAILING'>)),\n",
       " Input(('4 42 7', <OracleResult.FAILING: 'FAILING'>)),\n",
       " Input(('40 1 1', <OracleResult.FAILING: 'FAILING'>)),\n",
       " Input(('42 444 58090', <OracleResult.FAILING: 'FAILING'>)),\n",
       " Input(('4267 9 33', <OracleResult.FAILING: 'FAILING'>)),\n",
       " Input(('46 63 20', <OracleResult.FAILING: 'FAILING'>)),\n",
       " Input(('47 8 46', <OracleResult.FAILING: 'FAILING'>)),\n",
       " Input(('483 7 62', <OracleResult.FAILING: 'FAILING'>)),\n",
       " Input(('4929 2 2823', <OracleResult.FAILING: 'FAILING'>)),\n",
       " Input(('495 12 4', <OracleResult.FAILING: 'FAILING'>)),\n",
       " Input(('5 2359 4', <OracleResult.FAILING: 'FAILING'>)),\n",
       " Input(('6 5158 1', <OracleResult.FAILING: 'FAILING'>)),\n",
       " Input(('6 520 5', <OracleResult.FAILING: 'FAILING'>)),\n",
       " Input(('65 160 74', <OracleResult.FAILING: 'FAILING'>)),\n",
       " Input(('650 7 8', <OracleResult.FAILING: 'FAILING'>)),\n",
       " Input(('67 3 4', <OracleResult.FAILING: 'FAILING'>)),\n",
       " Input(('691 8420 486', <OracleResult.FAILING: 'FAILING'>)),\n",
       " Input(('7 4290 983', <OracleResult.FAILING: 'FAILING'>)),\n",
       " Input(('7 46 8', <OracleResult.FAILING: 'FAILING'>)),\n",
       " Input(('7514 3 7', <OracleResult.FAILING: 'FAILING'>)),\n",
       " Input(('8 2 94', <OracleResult.FAILING: 'FAILING'>)),\n",
       " Input(('854754 4 3', <OracleResult.FAILING: 'FAILING'>)),\n",
       " Input(('9 19 14', <OracleResult.FAILING: 'FAILING'>)),\n",
       " Input(('9146 1247 9782', <OracleResult.FAILING: 'FAILING'>)),\n",
       " Input(('9378 9 1', <OracleResult.FAILING: 'FAILING'>)),\n",
       " Input(('95 8 34', <OracleResult.FAILING: 'FAILING'>)),\n",
       " Input(('9771 7567386 471', <OracleResult.FAILING: 'FAILING'>)),\n",
       " Input(('978 518 300', <OracleResult.FAILING: 'FAILING'>)),\n",
       " Input(('99 4 9', <OracleResult.FAILING: 'FAILING'>))}"
      ]
     },
     "execution_count": 23,
     "metadata": {},
     "output_type": "execute_result"
    }
   ],
   "source": [
    "avicenna.all_inputs"
   ]
  },
  {
   "cell_type": "code",
   "execution_count": null,
   "id": "38dd14e6-e6c1-4e3c-8bac-4d96ec1596c5",
   "metadata": {},
   "outputs": [],
   "source": [
    "oracle = subject.oracle"
   ]
  },
  {
   "cell_type": "code",
   "execution_count": null,
   "id": "f17fb5e4-c83b-49f1-a460-6d19f0d267fb",
   "metadata": {},
   "outputs": [],
   "source": [
    "oracle(\"143 2 5\")"
   ]
  },
  {
   "cell_type": "code",
   "execution_count": null,
   "id": "c886847d-56eb-4aea-968c-b2db54b3be82",
   "metadata": {},
   "outputs": [],
   "source": []
  }
 ],
 "metadata": {
  "kernelspec": {
   "display_name": "Python 3 (ipykernel)",
   "language": "python",
   "name": "python3"
  },
  "language_info": {
   "codemirror_mode": {
    "name": "ipython",
    "version": 3
   },
   "file_extension": ".py",
   "mimetype": "text/x-python",
   "name": "python",
   "nbconvert_exporter": "python",
   "pygments_lexer": "ipython3",
   "version": "3.10.9"
  }
 },
 "nbformat": 4,
 "nbformat_minor": 5
}
