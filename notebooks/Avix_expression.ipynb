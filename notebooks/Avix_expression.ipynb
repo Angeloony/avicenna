{
 "cells": [
  {
   "cell_type": "code",
   "execution_count": 1,
   "id": "e8333c71-28ed-44ba-8e4e-52a72f8f96e8",
   "metadata": {},
   "outputs": [],
   "source": [
    "import enum\n",
    "import importlib\n",
    "import inspect\n",
    "import os\n",
    "import shutil\n",
    "\n",
    "from typing import List\n",
    "from IPython.display import HTML\n",
    "from sflkit.analysis.spectra import Line\n",
    "\n",
    "from sflkit.analysis import analysis_type, factory\n",
    "from sflkit import *\n",
    "from sflkit.color import ColorCode\n",
    "from sflkit import instrument_config, analyze_config\n",
    "from sflkit.config import Config\n",
    "\n",
    "from avicenna import *"
   ]
  },
  {
   "cell_type": "markdown",
   "id": "7be07d73-70af-4d38-9bc9-2d2f027987f0",
   "metadata": {},
   "source": [
    "## A faulty Program"
   ]
  },
  {
   "cell_type": "markdown",
   "id": "742bbc76-5fd4-46a9-ac78-f132118ec072",
   "metadata": {},
   "source": [
    "First, we need a faulty program. We chose an implementation of the `middle(x, y, z)` function that returns the *middle* number of its three arguments. For example, `middle(1, 3, 2)` should return 2 because `1 < 2` and `2 < 3`. We introduced a fault in this implementation of `middle` that occurs in line 7 `m = y`. "
   ]
  },
  {
   "cell_type": "code",
   "execution_count": 2,
   "id": "97ceacc2-3d6f-4d8f-95b4-11d45e805760",
   "metadata": {},
   "outputs": [],
   "source": [
    "def middle(x, y, z):\n",
    "    m = z\n",
    "    if y < z:\n",
    "        if x < y:\n",
    "            m = y\n",
    "        elif x < z:\n",
    "            m = y \n",
    "    else:\n",
    "        if x > y:\n",
    "            m = y\n",
    "        elif x > z:\n",
    "            m = x # desired line\n",
    "    return m"
   ]
  },
  {
   "cell_type": "code",
   "execution_count": 3,
   "id": "47f08bc5",
   "metadata": {},
   "outputs": [],
   "source": [
    "import ast\n",
    "import os\n",
    "import random\n",
    "import string\n",
    "import subprocess\n",
    "from _ast import Call, ImportFrom\n",
    "from pathlib import Path\n",
    "from typing import List, Optional, Tuple, Any, Callable\n",
    "\n",
    "from tests4py.constants import PYTHON\n",
    "from tests4py.grammars import python\n",
    "from tests4py.grammars.fuzzer import Grammar\n",
    "from tests4py.grammars.fuzzer import is_valid_grammar\n",
    "from tests4py.grammars.fuzzer import srange\n",
    "from tests4py.projects import Project, Status, TestingFramework, TestStatus\n",
    "from tests4py.tests.generator import UnittestGenerator, SystemtestGenerator\n",
    "from tests4py.tests.utils import API, TestResult\n",
    "\n",
    "PROJECT_MAME = \"expression\"\n",
    "\n",
    "\n",
    "class Expression(Project):\n",
    "    def __init__(\n",
    "        self,\n",
    "        bug_id: int,\n",
    "        buggy_commit_id: str,\n",
    "        fixed_commit_id: str,\n",
    "        test_files: List[Path],\n",
    "        test_cases: List[str],\n",
    "        test_status_fixed: TestStatus = TestStatus.PASSING,\n",
    "        test_status_buggy: TestStatus = TestStatus.FAILING,\n",
    "        unittests: Optional[UnittestGenerator] = None,\n",
    "        systemtests: Optional[SystemtestGenerator] = None,\n",
    "        api: Optional[API] = None,\n",
    "        loc: int = 0,\n",
    "    ):\n",
    "        super().__init__(\n",
    "            bug_id=bug_id,\n",
    "            project_name=PROJECT_MAME,\n",
    "            github_url=\"https://github.com/smythi93/expression\",\n",
    "            status=Status.OK,\n",
    "            python_version=\"3.10.9\",\n",
    "            python_path=\"\",\n",
    "            buggy_commit_id=buggy_commit_id,\n",
    "            fixed_commit_id=fixed_commit_id,\n",
    "            testing_framework=TestingFramework.PYTEST,\n",
    "            test_files=test_files,\n",
    "            test_cases=test_cases,\n",
    "            test_status_fixed=test_status_fixed,\n",
    "            test_status_buggy=test_status_buggy,\n",
    "            unittests=unittests,\n",
    "            systemtests=systemtests,\n",
    "            api=api,\n",
    "            grammar=grammar,\n",
    "            loc=loc,\n",
    "            setup=[[PYTHON, \"-m\", \"pip\", \"install\", \"-e\", \".\"]],\n",
    "            included_files=[os.path.join(\"src\", PROJECT_MAME)],\n",
    "            test_base=Path(\"tests\"),\n",
    "        )\n",
    "\n",
    "\n",
    "def register():\n",
    "    Expression(\n",
    "        bug_id=1,\n",
    "        buggy_commit_id=\"7b08a1dd737bd47c9be47258d2cd63bb7de72c47\",\n",
    "        fixed_commit_id=\"10356a6d3768db2ff7749408b7f3d12a773a18a9\",\n",
    "        test_files=[\n",
    "            Path(\"tests\", \"test_evaluate.py\"),\n",
    "            Path(\"tests\", \"test_expression.py\"),\n",
    "        ],\n",
    "        test_cases=[\n",
    "            os.path.join(\"tests\", \"test_evaluate.py\")\n",
    "            + \"::TestEvaluate::test_eval_div_error\",\n",
    "            os.path.join(\"tests\", \"test_expression.py\") + \"::TestExpr::test_div_error\",\n",
    "        ],\n",
    "        loc=108,\n",
    "        unittests=ExpressionUnittestGenerator(),\n",
    "        systemtests=ExpressionSystemtestGenerator(),\n",
    "        api=ExpressionAPI(),\n",
    "    )\n",
    "\n",
    "\n",
    "class ExpressionAPI(API):\n",
    "    def __init__(self, default_timeout=5):\n",
    "        super().__init__(default_timeout=default_timeout)\n",
    "\n",
    "    def get_test_arguments_from_string(self, s: str) -> List[str]:\n",
    "        return [s]\n",
    "\n",
    "    def oracle(self, args: Any) -> Tuple[TestResult, str]:\n",
    "        if args is None:\n",
    "            return TestResult.UNDEFINED, \"No process finished\"\n",
    "        process: subprocess.CompletedProcess = args\n",
    "        if process.returncode != 0 and b\"ValueError\" not in process.stderr:\n",
    "            return TestResult.FAILING, f\"Process failed with {process.returncode}\"\n",
    "        elif process.returncode != 0:\n",
    "            return (\n",
    "                TestResult.PASSING,\n",
    "                f\"Process failed with ValueError and code {process.returncode}\",\n",
    "            )\n",
    "        expected = process.args[2]\n",
    "        expected = \"\".join(expected).strip()\n",
    "        result = process.stdout.decode(\"utf8\")\n",
    "        result = float(result)\n",
    "        try:\n",
    "            expected = eval(expected.replace(\"~\", \"-\"))\n",
    "        except ZeroDivisionError:\n",
    "            return (\n",
    "                TestResult.FAILING,\n",
    "                \"ZeroDivisionError for evaluation but no ValueError for subject.\",\n",
    "            )\n",
    "        if result == expected:\n",
    "            return TestResult.PASSING, f\"Expected {expected}, and was {result}\"\n",
    "        else:\n",
    "            return TestResult.FAILING, f\"Expected {expected}, but was {result}\"\n",
    "\n",
    "\n",
    "class ExpressionTestGenerator:\n",
    "    @staticmethod\n",
    "    def generate_values(producer: Callable) -> Tuple[Any, Any]:\n",
    "        return tuple(producer())\n",
    "\n",
    "    @staticmethod\n",
    "    def _generate_int() -> int:\n",
    "        value = random.randint(1, 1001)\n",
    "        return value\n",
    "\n",
    "    @staticmethod\n",
    "    def _generate_symbol() -> str:\n",
    "        symbols_ = [\"+\", \"-\", \"/\", \"*\"]\n",
    "        return symbols_[random.randint(0, 3)]\n",
    "\n",
    "    def generate_structure_(self):\n",
    "        structure_ = (\n",
    "            f\"{self._generate_int()}\",\n",
    "            f\"{self._generate_int()} {self._generate_symbol()} {self._generate_int()}\",\n",
    "        )\n",
    "        structure_zero_div_ = \" \" + \"/\" + \" \" + \"0\" + \" \"\n",
    "        value_for_sub = self._generate_int()\n",
    "        structure_sub_zero_div_ = (\n",
    "            \"(\" + str(value_for_sub) + \" - \" + str(value_for_sub) + \")\"\n",
    "        )\n",
    "        structure_passing_ = (\n",
    "            \"(\"\n",
    "            + (\n",
    "                structure_[1]\n",
    "                + \")\"\n",
    "                + \" \"\n",
    "                + self._generate_symbol()\n",
    "                + \" \"\n",
    "                + structure_[0]\n",
    "            ),\n",
    "            (structure_[1]),\n",
    "            (\"(\" + structure_[1] + \")\"),\n",
    "            (\n",
    "                structure_[0]\n",
    "                + \" \"\n",
    "                + self._generate_symbol()\n",
    "                + \" \"\n",
    "                + \"(\"\n",
    "                + structure_[1]\n",
    "                + \")\"\n",
    "            ),\n",
    "        )\n",
    "        structure_failing_ = (\n",
    "            (\"(\" + structure_[1] + \")\" + structure_zero_div_),\n",
    "            (\n",
    "                structure_[0]\n",
    "                + structure_zero_div_\n",
    "                + self._generate_symbol()\n",
    "                + \" \"\n",
    "                + structure_[0]\n",
    "            ),\n",
    "            (structure_[0] + structure_zero_div_),\n",
    "            (structure_[0] + \" / \" + structure_sub_zero_div_),\n",
    "        )\n",
    "        return (\n",
    "            structure_passing_[random.randint(0, 3)],\n",
    "            structure_failing_[random.randint(0, 3)],\n",
    "        )\n",
    "\n",
    "\n",
    "class ExpressionUnittestGenerator(\n",
    "    python.PythonGenerator, UnittestGenerator, ExpressionTestGenerator\n",
    "):\n",
    "    def _generate_one(\n",
    "        self,\n",
    "    ) -> tuple:\n",
    "        return self.generate_values(self.generate_structure_)\n",
    "\n",
    "    @staticmethod\n",
    "    def _get_assert(\n",
    "        expected: str,\n",
    "        result: str,\n",
    "    ) -> list[Call]:\n",
    "        return [\n",
    "            ast.Call(\n",
    "                func=ast.Attribute(value=ast.Name(id=\"self\"), attr=\"assertEqual\"),\n",
    "                args=[\n",
    "                    ast.Constant(value=expected),\n",
    "                    ast.Call(\n",
    "                        func=ast.Name(id=\"evaluate\"),\n",
    "                        args=(\n",
    "                            [\n",
    "                                ast.Constant(value=result),\n",
    "                            ],\n",
    "                        ),\n",
    "                        keywords=[],\n",
    "                    ),\n",
    "                ],\n",
    "                keywords=[],\n",
    "            ),\n",
    "        ]\n",
    "\n",
    "    @staticmethod\n",
    "    def _get_assert_with_error_(\n",
    "        expected: ZeroDivisionError | str,\n",
    "        result: str,\n",
    "    ) -> list[Call]:\n",
    "        return [\n",
    "            ast.Call(\n",
    "                func=ast.Attribute(value=ast.Name(id=\"self\"), attr=\"assertRaises\"),\n",
    "                args=[\n",
    "                    ast.Constant(value=expected),\n",
    "                    ast.Call(\n",
    "                        func=ast.Name(id=\"evaluate\"),\n",
    "                        args=(\n",
    "                            [\n",
    "                                ast.Constant(value=result),\n",
    "                            ],\n",
    "                        ),\n",
    "                        keywords=[],\n",
    "                    ),\n",
    "                ],\n",
    "                keywords=[],\n",
    "            ),\n",
    "        ]\n",
    "\n",
    "    def get_imports(self) -> list[ImportFrom]:\n",
    "        return [\n",
    "            ast.ImportFrom(\n",
    "                module=\"expression.evaluate\",\n",
    "                names=[\n",
    "                    ast.alias(name=\"evaluate\"),\n",
    "                ],\n",
    "                level=0,\n",
    "            ),\n",
    "            ast.ImportFrom(\n",
    "                module=\"expression.expr.arithmetic\",\n",
    "                names=[\n",
    "                    ast.alias(name=\"Constant\"),\n",
    "                    ast.alias(name=\"Div\"),\n",
    "                    ast.alias(name=\"Add\"),\n",
    "                    ast.alias(name=\"Mul\"),\n",
    "                ],\n",
    "                level=0,\n",
    "            ),\n",
    "            ast.ImportFrom(\n",
    "                module=\"expression.expr.parse\",\n",
    "                names=[\n",
    "                    ast.alias(name=\"parse\"),\n",
    "                ],\n",
    "                level=0,\n",
    "            ),\n",
    "        ]\n",
    "\n",
    "    def generate_failing_test(self) -> Tuple[ast.FunctionDef, TestResult]:\n",
    "        _, generated_value = self._generate_one()\n",
    "        print(\"fail :\", generated_value)\n",
    "        test = self.get_empty_test()\n",
    "        test.body = self._get_assert_with_error_(\"ZeroDivisionError\", generated_value)\n",
    "        return test, TestResult.FAILING\n",
    "\n",
    "    def generate_passing_test(self) -> Tuple[ast.FunctionDef, TestResult]:\n",
    "        generated_value, _ = self._generate_one()\n",
    "        print(\"pass :\", generated_value)\n",
    "        test = self.get_empty_test()\n",
    "        test.body = self._get_assert(eval(generated_value), generated_value)\n",
    "        return test, TestResult.PASSING\n",
    "\n",
    "\n",
    "class ExpressionSystemtestGenerator(SystemtestGenerator, ExpressionTestGenerator):\n",
    "    def generate_failing_test(self) -> Tuple[str, TestResult]:\n",
    "        _, generated_value = self.generate_values(self.generate_structure_)\n",
    "        return f\"{generated_value}\", TestResult.FAILING\n",
    "\n",
    "    def generate_passing_test(self) -> Tuple[str, TestResult]:\n",
    "        generated_value, _ = self.generate_values(self.generate_structure_)\n",
    "        return f\"{generated_value}\", TestResult.PASSING\n",
    "\n",
    "\n",
    "grammar: Grammar = {\n",
    "    \"<start>\": [\"<add_term>\"],\n",
    "    \"<add_term>\": [\"<add_term> <add> <mul_term>\", \"<mul_term>\"],\n",
    "    \"<mul_term>\": [\"<mul_term> <mul> <neg_term>\", \"<neg_term>\"],\n",
    "    \"<neg_term>\": [\"<terminal>\", \"~ <terminal>\"],\n",
    "    \"<terminal>\": [\"<int>\", \"(<add_term>)\"],\n",
    "    \"<add>\": srange(\"+-\"),\n",
    "    \"<mul>\": srange(\"*/\"),\n",
    "    \"<int>\": [\"<digit><int>\", \"<digit>\"],\n",
    "    \"<digit>\": srange(string.digits),\n",
    "}\n",
    "\n",
    "assert is_valid_grammar(grammar)"
   ]
  },
  {
   "cell_type": "markdown",
   "id": "3669e4eb-0643-488e-9859-9290dc88eea5",
   "metadata": {},
   "source": [
    "Next, we introduce a class to capture test runs' results efficiently. The `TestResult` is an enum with two possible values, `PASS`and `FAIL`. `PASS` donates a passing test case and `FAIL` a failing one."
   ]
  },
  {
   "cell_type": "code",
   "execution_count": 4,
   "id": "374e93f7-e48b-46fd-997d-54dea2b67e12",
   "metadata": {},
   "outputs": [],
   "source": [
    "class TestResult(enum.Enum):\n",
    "    \n",
    "    def __repr__(self):\n",
    "        return self.value\n",
    "    \n",
    "    PASS = 'PASS'\n",
    "    FAIL = 'FAIL'"
   ]
  },
  {
   "cell_type": "markdown",
   "id": "89df6ffe-a6b3-4a56-bd07-cd74a0fb438e",
   "metadata": {},
   "source": [
    "Now we implement a test function that takes the three arguments of `middle(x, y, z)` and an expected result. This test function compares the return of `middle(x, y, z)` with the desired value and returns `PASS` if they match and `FAIL` otherwise."
   ]
  },
  {
   "cell_type": "code",
   "execution_count": 5,
   "id": "eea55fff-0efa-48ba-8112-ed6f5698b645",
   "metadata": {},
   "outputs": [],
   "source": [
    "def test(function, x, y, z, expected):\n",
    "    try:\n",
    "        if function(x, y, z) == expected:\n",
    "            return TestResult.PASS\n",
    "        else:\n",
    "            return TestResult.FAIL\n",
    "    except BaseException:\n",
    "        return TestResult.FAIL\n",
    "\n",
    "def test_middle(x, y, z, expected):\n",
    "    return test(middle, x, y, z, expected)"
   ]
  },
  {
   "cell_type": "code",
   "execution_count": 6,
   "id": "d395a695-ba1d-47e9-b21f-ef2d6c95fb37",
   "metadata": {},
   "outputs": [
    {
     "name": "stdout",
     "output_type": "stream",
     "text": [
      "def middle(x, y, z):\n",
      "    m = z\n",
      "    if y < z:\n",
      "        if x < y:\n",
      "            m = y\n",
      "        elif x < z:\n",
      "            m = y \n",
      "    else:\n",
      "        if x > y:\n",
      "            m = y\n",
      "        elif x > z:\n",
      "            m = x # desired line\n",
      "    return m\n",
      "\n"
     ]
    }
   ],
   "source": [
    "source = inspect.getsource(middle)\n",
    "print(source)"
   ]
  },
  {
   "cell_type": "code",
   "execution_count": 7,
   "id": "76d8e864-1983-4d28-9403-141d20477d75",
   "metadata": {},
   "outputs": [],
   "source": [
    "middle_py = 'middle.py'\n",
    "tmp_py = 'tmp.py'"
   ]
  },
  {
   "cell_type": "markdown",
   "id": "6c623cfd-eb78-4fa3-afc8-85a82d48002b",
   "metadata": {},
   "source": [
    "We produced the same results for the test cases, so it seems to work."
   ]
  },
  {
   "cell_type": "markdown",
   "id": "12423b92-7543-4017-9891-6bad2a2994e1",
   "metadata": {},
   "source": [
    "### Configuring SFLKit\n",
    "\n",
    "The `Config` class provides comfortable access to `SFLKit` by defining the fundamental concepts we want to investigate.\n",
    "\n",
    "We give some information for the config that we need to define. First, we need the path to the source we want to investigate, which we already have in `middle_py`. Next, we need an out, `tmp_py`. We also need:\n",
    "\n",
    "The language of our subject is `'python'`.\n",
    "Let's start with `'line'` as the predicates we want to investigate.\n",
    "We define `'tarantula'` as our evaluation metric for the predicates, i.e., the similarity coefficient.\n",
    "We also need a list of passing and failing tests used during the analysis."
   ]
  },
  {
   "cell_type": "code",
   "execution_count": 8,
   "id": "e43c061a-807b-4bc3-b707-7e1c89799f99",
   "metadata": {},
   "outputs": [],
   "source": [
    "language='python'\n",
    "predicates='line'\n",
    "metrics='Tarantula'\n",
    "#passing='event-files/0,event-files/1'\n",
    "#failing='event-files/2'"
   ]
  },
  {
   "cell_type": "markdown",
   "id": "6bc586ae-8d1d-4bb0-987c-cdd608f6ea20",
   "metadata": {},
   "source": [
    "We define a function that gives as a `Config` object, so we do not need to create it manually every time we change something."
   ]
  },
  {
   "cell_type": "code",
   "execution_count": null,
   "id": "f15da5de",
   "metadata": {},
   "outputs": [],
   "source": []
  },
  {
   "cell_type": "code",
   "execution_count": 9,
   "id": "b0cd0637-7b4a-4736-80a3-6211b7e529c9",
   "metadata": {},
   "outputs": [],
   "source": [
    "def get_config():\n",
    "    return Config.create(path=middle_py, working=tmp_py, language=language, predicates=predicates)"
   ]
  },
  {
   "cell_type": "markdown",
   "id": "a905e276-c475-4fc4-b23c-936dd5fea818",
   "metadata": {},
   "source": [
    "Now we can define a function that instruments our subject. We leverage `SFLKit`'s `instrument_config()`, which takes a config we create with our defined `get_config()` and instruments the subject. We can also show the content of the instrumented python file with this function."
   ]
  },
  {
   "cell_type": "code",
   "execution_count": 10,
   "id": "d0a87958-fbf9-4ad8-91c5-c4f9526ebcc5",
   "metadata": {},
   "outputs": [],
   "source": [
    "def instrument(out=False):\n",
    "    instrument_config(get_config())"
   ]
  },
  {
   "cell_type": "markdown",
   "id": "65524f0a-7c30-41db-be30-a108261e5592",
   "metadata": {},
   "source": [
    "Now we instrument our `middle.py` subject and check the results."
   ]
  },
  {
   "cell_type": "code",
   "execution_count": 11,
   "id": "c19129e7-cf49-4028-8997-76afeafc9324",
   "metadata": {},
   "outputs": [
    {
     "name": "stderr",
     "output_type": "stream",
     "text": [
      "sflkit :: INFO     :: I found 11 events in middle.py.\n",
      "sflkit :: INFO     :: I found 11 events in middle.py.\n"
     ]
    }
   ],
   "source": [
    "instrument()"
   ]
  },
  {
   "cell_type": "markdown",
   "id": "ba9c03c5-419d-49a0-accb-53b190d200dd",
   "metadata": {},
   "source": [
    "As you can see, the instrumentation added an import at the beginning to a lib that comes with `SFLKit`, cluing the execution of files together. Moreover, the instrumentation added a function call function of the lib in front of each executable line that tracks the executed lines."
   ]
  },
  {
   "cell_type": "markdown",
   "id": "690cf88f-0965-4ee7-9ea3-84e0a536e08d",
   "metadata": {},
   "source": [
    "## Get and Analyze Events"
   ]
  },
  {
   "cell_type": "markdown",
   "id": "e4fe045c-cb86-4c05-90e6-730ab1123601",
   "metadata": {},
   "source": [
    "Now, we want to extract the events from the execution of tests. Therefore, we need to adjust our test execution function again because the shared library for tracking the events does not know when to start and stop. We need to reset this library before entering our `middle.py` and tell the library to dump the events after the function finishes."
   ]
  },
  {
   "cell_type": "code",
   "execution_count": 12,
   "id": "a5daf879-9158-402f-8b5f-bab67f4736da",
   "metadata": {},
   "outputs": [],
   "source": [
    "def test_tmp(x, y, z, expected): \n",
    "    import tmp\n",
    "    importlib.reload(tmp)\n",
    "    tmp.sflkitlib.lib.reset()\n",
    "    try:\n",
    "        return test(tmp.middle, x, y, z, expected)\n",
    "    finally:\n",
    "        tmp.sflkitlib.lib.dump_events()"
   ]
  },
  {
   "cell_type": "markdown",
   "id": "bb741ed6-bb58-4b7a-9c56-8e58804651d3",
   "metadata": {},
   "source": [
    "We define a path to write the generated event logs."
   ]
  },
  {
   "cell_type": "code",
   "execution_count": 13,
   "id": "823303be-b13f-4405-9186-857625aec1b1",
   "metadata": {},
   "outputs": [],
   "source": [
    "event_files = 'event-files'"
   ]
  },
  {
   "cell_type": "markdown",
   "id": "8f8453ef-c2ba-4b77-800a-0c44b72bfd5a",
   "metadata": {},
   "source": [
    "Then, we need a function to generate the event log from the previous test cases. We change the environment variable `EVENTS_PATH` to the output path of the event log file before running each test."
   ]
  },
  {
   "cell_type": "code",
   "execution_count": 14,
   "id": "e084ac5b-b15e-47d0-8cda-4dc14adbb2e9",
   "metadata": {},
   "outputs": [],
   "source": [
    "# def run_tests():\n",
    "#     if os.path.exists(event_files):\n",
    "#         shutil.rmtree(event_files)\n",
    "#     os.mkdir(event_files)\n",
    "#     os.environ['EVENTS_PATH'] = os.path.join(event_files, '0')\n",
    "#     test_tmp(3, 2, 1, expected=2)\n",
    "#     os.environ['EVENTS_PATH'] = os.path.join(event_files, '1')\n",
    "#     test_tmp(3, 1, 2, expected=2)\n",
    "#     os.environ['EVENTS_PATH'] = os.path.join(event_files, '2')\n",
    "#     test_tmp(2, 1, 3, expected=2)"
   ]
  },
  {
   "cell_type": "markdown",
   "id": "bf9f60a3-c565-404d-8d61-7b804fb65907",
   "metadata": {},
   "source": [
    "With this, we can execute the tests and analyze the result with the help of `analyze_config()` from SFLKit."
   ]
  },
  {
   "cell_type": "code",
   "execution_count": 15,
   "id": "d922df2e-39a9-4aea-a926-b9275bdd9197",
   "metadata": {},
   "outputs": [],
   "source": [
    "# def analyze():\n",
    "#     run_tests()\n",
    "#     return analyze_config(get_config())"
   ]
  },
  {
   "cell_type": "markdown",
   "id": "726382fb-4b55-4952-b105-e0afd88dd36f",
   "metadata": {},
   "source": [
    "Let's execute the tests and analyze the event logs for lines and the Tarantula metric."
   ]
  },
  {
   "cell_type": "code",
   "execution_count": 16,
   "id": "f52db0b7-4423-49a2-b79c-3bff82e9f084",
   "metadata": {},
   "outputs": [],
   "source": [
    "#results = analyze()"
   ]
  },
  {
   "cell_type": "markdown",
   "id": "09b4a254-9059-4e18-87d2-a8a9c01a26d4",
   "metadata": {},
   "source": [
    "The results look something like this:"
   ]
  },
  {
   "cell_type": "code",
   "execution_count": 17,
   "id": "cd538827-c2b6-45fe-a3bf-1bae6e213223",
   "metadata": {},
   "outputs": [],
   "source": [
    "#results"
   ]
  },
  {
   "cell_type": "markdown",
   "id": "7ee136ed-b595-448a-b2e6-89e9d1b16d0b",
   "metadata": {},
   "source": [
    "This structure maps analysis objects and metrics to a list of sorted suggestions where the fault occurs."
   ]
  },
  {
   "cell_type": "markdown",
   "id": "29fee667-ff00-426a-ab91-254a89f09bb8",
   "metadata": {},
   "source": [
    "Now, we can put all this together and produce a pretty output that shows us where the fault originates by leveraging `SFLKit`'s `ColorCode` object."
   ]
  },
  {
   "cell_type": "markdown",
   "id": "a35f1a31-eba0-4efc-8c44-545f8ecf95ca",
   "metadata": {},
   "source": [
    "As you can see, the analysis indeed suggests the buggy line 7 as the most suspicious."
   ]
  },
  {
   "cell_type": "markdown",
   "id": "2c9e89ce-815f-4d84-aa6f-f43d41030c96",
   "metadata": {},
   "source": [
    "But what if lines are not enough to show the fault?\n",
    "\n",
    "What if the metric we have chosen for evaluation is insufficient?"
   ]
  },
  {
   "cell_type": "markdown",
   "id": "16036e61",
   "metadata": {},
   "source": [
    "### Extension using Avicenna\n",
    "We seek to utilize SFLKit's instrmentation of program code line events to determine constraints describing a specific line's reachability with Avicenna. \n",
    "\n",
    "1. We must instrument our test program, middle, and use that output.\n",
    "2. We access the event files and check what line was called, oracle determines YES or NO.\n",
    "3. If yes, learn from that event file, make constraint loop with Avicenna\n",
    "4. If no, call other event files to check for line event YES.\n",
    "\n",
    "\n",
    "Instrumentation for line events is coded as follows: (event_type, file_name, line_num, event_id)\n"
   ]
  },
  {
   "cell_type": "markdown",
   "id": "fc45900f",
   "metadata": {},
   "source": [
    "First we need to instrument our event files for a given program or function."
   ]
  },
  {
   "cell_type": "markdown",
   "id": "acd985c3",
   "metadata": {},
   "source": [
    "The oracle has to be able to determine if a given line is called when a test case is run. This means we need to call sflkit's instrumentation for each test case when determining whether it is valuable and can be used for finding constraints that lead to the desired line."
   ]
  },
  {
   "cell_type": "code",
   "execution_count": 18,
   "id": "f7e22f47",
   "metadata": {},
   "outputs": [],
   "source": [
    "import string\n",
    "import csv\n",
    "import logging\n",
    "\n",
    "from pathlib import Path\n",
    "#from avicenna import Avicenna\n",
    "from debugging_framework.input.oracle import OracleResult\n",
    "from isla.solver import ISLaSolver\n"
   ]
  },
  {
   "cell_type": "markdown",
   "id": "f1b30d0b",
   "metadata": {},
   "source": [
    "We can now go through our event-files folder and iterate through each file, representing a test case. The relevant test cases will be denoted by an OracleResult.BUG for now. We can use this behavior-triggering input as our input for a run of Avicenna to find the constraints leading to this behavior."
   ]
  },
  {
   "cell_type": "markdown",
   "id": "c45a7f56",
   "metadata": {},
   "source": [
    "The oracle used in this run of Avicenna will be the oracle checking against line-event calls. This requires us to run sflkit using Avicenna's new hypotheses after every run. \n",
    "\n",
    "- TODO : update Avicenna and fix up prototype for it \n",
    "- TODO : implement prototype functionality using SFLKit and Avicenna 0.2 "
   ]
  },
  {
   "cell_type": "markdown",
   "id": "62d2fbf2",
   "metadata": {},
   "source": [
    "#### Testing inputs for regular middle bug. "
   ]
  },
  {
   "cell_type": "code",
   "execution_count": 19,
   "id": "6635a037",
   "metadata": {},
   "outputs": [],
   "source": [
    "middle_grammar = {\n",
    "    \"<start>\": [\"<stmt>\"],\n",
    "    \"<stmt>\": [\"<x>,<y>,<z>\"],\n",
    "    \"<x>\": [\"<integer>\"],\n",
    "    \"<y>\": [\"<integer>\"],\n",
    "    \"<z>\": [\"<integer>\"],\n",
    "    \"<integer>\": [\"<digit>\", \"<digit><integer>\"],\n",
    "    \"<digit>\": [str(num) for num in range(1, 10)]\n",
    "}\n",
    "\n",
    "\n",
    "middle_grammar_converted = {\n",
    "    \"<start>\": [\"<stmt>\"],\n",
    "    \"<stmt>\": [\"str.to.int(<x>),str.to.int(<y>),str.to.int(<z>)\"],\n",
    "    \"<x>\": [\"<integer>\"],\n",
    "    \"<y>\": [\"<integer>\"],\n",
    "    \"<z>\": [\"<integer>\"],\n",
    "    \"<integer>\": [\"<digit>\", \"<digit><integer>\"],\n",
    "    \"<digit>\": [str(num) for num in range(1, 10)]\n",
    "}"
   ]
  },
  {
   "cell_type": "code",
   "execution_count": 20,
   "id": "09cb633c",
   "metadata": {},
   "outputs": [],
   "source": [
    "# 321, 312, 213\n",
    "middle_inputs = ['2,3,1', '3,1,2', '2,1,3']"
   ]
  },
  {
   "cell_type": "code",
   "execution_count": 21,
   "id": "a01fd133",
   "metadata": {},
   "outputs": [],
   "source": [
    "# path = Path('./event-files/')\n",
    "# if os.path.exists(path):\n",
    "#     shutil.rmtree(path) \n",
    "# # os.mkdir(path) \n",
    "# os.environ['EVENTS_PATH'] = os.path.join(path, '0')\n",
    "# os.environ['EVENTS_PATH'] = os.path.join(path, '1')\n",
    "# os.environ['EVENTS_PATH'] = os.path.join(path, '2')\n"
   ]
  },
  {
   "cell_type": "code",
   "execution_count": 22,
   "id": "5adee8c4",
   "metadata": {},
   "outputs": [],
   "source": [
    "middle_py = 'middle.py'\n",
    "tmp_py = 'tmp.py'\n",
    "language='python'\n",
    "predicates='line'\n",
    "metrics='Tarantula'\n",
    "#passing='event-files/0,event-files/1'\n",
    "failing='event-files/2'\n",
    "def get_config():\n",
    "    return Config.create(path=middle_py,\n",
    "                         working=tmp_py,\n",
    "                         language=language,\n",
    "                         predicates=predicates,\n",
    "                         metrics=metrics,\n",
    "                         failing=failing)\n",
    "def instrument(out=True):\n",
    "    instrument_config(get_config())\n",
    "    if out:\n",
    "        with open(tmp_py, 'r') as fp:\n",
    "            print(fp.read())"
   ]
  },
  {
   "cell_type": "code",
   "execution_count": 23,
   "id": "8667ab66",
   "metadata": {},
   "outputs": [
    {
     "name": "stderr",
     "output_type": "stream",
     "text": [
      "sflkit :: INFO     :: I found 11 events in middle.py.\n",
      "sflkit :: INFO     :: I found 11 events in middle.py.\n"
     ]
    },
    {
     "name": "stdout",
     "output_type": "stream",
     "text": [
      "import sflkitlib.lib\n",
      "\n",
      "def middle(x, y, z):\n",
      "    sflkitlib.lib.add_line_event(0)\n",
      "    m = z\n",
      "    sflkitlib.lib.add_line_event(1)\n",
      "    if y < z:\n",
      "        sflkitlib.lib.add_line_event(2)\n",
      "        if x < y:\n",
      "            sflkitlib.lib.add_line_event(3)\n",
      "            m = y\n",
      "        else:\n",
      "            sflkitlib.lib.add_line_event(4)\n",
      "            if x < z:\n",
      "                sflkitlib.lib.add_line_event(5)\n",
      "                m = y\n",
      "    else:\n",
      "        sflkitlib.lib.add_line_event(6)\n",
      "        if x > y:\n",
      "            sflkitlib.lib.add_line_event(7)\n",
      "            m = y\n",
      "        else:\n",
      "            sflkitlib.lib.add_line_event(8)\n",
      "            if x > z:\n",
      "                sflkitlib.lib.add_line_event(9)\n",
      "                m = x\n",
      "    sflkitlib.lib.add_line_event(10)\n",
      "    return m\n"
     ]
    }
   ],
   "source": [
    "instrument()"
   ]
  },
  {
   "cell_type": "code",
   "execution_count": 24,
   "id": "f4f3bee1",
   "metadata": {},
   "outputs": [],
   "source": [
    "def analyzer_conf(conf: Config, factory):\n",
    "    analyzer = Analyzer(irrelevant_event_files=conf.failing, \n",
    "                        relevant_event_files=conf.passing,\n",
    "                        factory=factory)\n",
    "    return analyzer"
   ]
  },
  {
   "cell_type": "code",
   "execution_count": 25,
   "id": "4b07897a",
   "metadata": {},
   "outputs": [
    {
     "data": {
      "text/plain": [
       "LINE"
      ]
     },
     "execution_count": 25,
     "metadata": {},
     "output_type": "execute_result"
    }
   ],
   "source": [
    "factory = factory.LineFactory()\n",
    "line_event = analysis_type.AnalysisType(0)\n",
    "line_event"
   ]
  },
  {
   "cell_type": "code",
   "execution_count": 26,
   "id": "d1e4df3e",
   "metadata": {},
   "outputs": [],
   "source": [
    "analyzer = analyzer_conf(get_config(), factory=factory)"
   ]
  },
  {
   "cell_type": "code",
   "execution_count": 27,
   "id": "eecbf218",
   "metadata": {},
   "outputs": [],
   "source": [
    "# results = analyzer.analyze()\n",
    "# results\n",
    "\n",
    "# analyzer needs event files \n",
    "analyzer.analyze()"
   ]
  },
  {
   "cell_type": "code",
   "execution_count": 28,
   "id": "d743121d",
   "metadata": {},
   "outputs": [
    {
     "name": "stdout",
     "output_type": "stream",
     "text": [
      "{2, 3, 9, 10, 13}\n"
     ]
    }
   ],
   "source": [
    "coverage: List[Line] = analyzer.get_coverage()\n",
    "coverage = {line.line for line in coverage}\n",
    "print(coverage)"
   ]
  },
  {
   "cell_type": "code",
   "execution_count": 29,
   "id": "190c5287",
   "metadata": {},
   "outputs": [],
   "source": [
    "def middle_inp_conv(inp):\n",
    "    inp = inp.__str__()\n",
    "    middle_input = inp.split(',')\n",
    "    \n",
    "    converted_inp = [\n",
    "        int(middle_input[0]),\n",
    "        int(middle_input[1]),\n",
    "        int(middle_input[2])\n",
    "    ]\n",
    "    \n",
    "    return converted_inp"
   ]
  },
  {
   "cell_type": "code",
   "execution_count": 30,
   "id": "025672c0",
   "metadata": {},
   "outputs": [],
   "source": [
    "# from typing import List\n",
    "\n",
    "# from sflkit.analysis.analysis_type import AnalysisType\n",
    "# from sflkit.analysis.spectra import Line\n",
    "\n",
    "# analyzer2 = analyzer.analyze()\n",
    "# print(\"hi\")\n",
    "# coverage: List[Line] = analyzer2.get_coverage(AnalysisType.LINE)\n",
    "# coverage = {line.line for line in coverage}\n",
    "# print(coverage)\n",
    "from avicenna.avix import *\n",
    "from avicenna.oracle_construction import * \n",
    "avix_oracle = construct_oracle(\n",
    "                            program_under_test='middle',\n",
    "                            inp_converter=middle_inp_conv,\n",
    "                            timeout=10,\n",
    "                            line = 7,\n",
    "                            resource_path='rsc/',\n",
    "                            program_oracle= None,\n",
    "                            )\n"
   ]
  },
  {
   "cell_type": "code",
   "execution_count": 31,
   "id": "668dc3dc",
   "metadata": {},
   "outputs": [
    {
     "data": {
      "text/plain": [
       "<OracleResult.FAILING: 'FAILING'>"
      ]
     },
     "execution_count": 31,
     "metadata": {},
     "output_type": "execute_result"
    }
   ],
   "source": [
    "avix_oracle('2,1,3')"
   ]
  },
  {
   "cell_type": "code",
   "execution_count": 32,
   "id": "548623aa",
   "metadata": {},
   "outputs": [],
   "source": [
    "def middle_oracle(x, y, z):\n",
    "    # convert inputs\n",
    "    \n",
    "    sorted_inputs = [x, y, z]\n",
    "    sorted_inputs.sort()\n",
    "    return sorted_inputs[1]\n",
    "    \n",
    "    inputs = input.split()\n",
    "    result_list = [x, y, z]\n",
    "    result_list.sort()\n",
    "    return result_list[1]"
   ]
  },
  {
   "cell_type": "code",
   "execution_count": 33,
   "id": "e5131eff",
   "metadata": {},
   "outputs": [],
   "source": [
    "regular_oracle = construct_oracle(\n",
    "                            program_under_test=middle,\n",
    "                            timeout=10,\n",
    "                            program_oracle=middle_oracle,\n",
    "                            default_oracle_result=OracleResult.PASSING)\n",
    "\n"
   ]
  },
  {
   "cell_type": "code",
   "execution_count": 34,
   "id": "fca10362",
   "metadata": {},
   "outputs": [
    {
     "data": {
      "text/plain": [
       "['2,3,1', '3,1,2', '2,1,3']"
      ]
     },
     "execution_count": 34,
     "metadata": {},
     "output_type": "execute_result"
    }
   ],
   "source": [
    "param = list(map(int, str('2,1,3').strip().split(',')))\n",
    "middle_inputs"
   ]
  },
  {
   "cell_type": "code",
   "execution_count": 35,
   "id": "64704837",
   "metadata": {},
   "outputs": [
    {
     "data": {
      "text/plain": [
       "<OracleResult.PASSING: 'PASSING'>"
      ]
     },
     "execution_count": 35,
     "metadata": {},
     "output_type": "execute_result"
    }
   ],
   "source": [
    "regular_oracle('3,1,2')\n"
   ]
  },
  {
   "cell_type": "code",
   "execution_count": 36,
   "id": "1b0fef36",
   "metadata": {},
   "outputs": [],
   "source": [
    "avicenna = Avicenna(\n",
    "    grammar=middle_grammar,\n",
    "    initial_inputs=middle_inputs,\n",
    "    oracle=avix_oracle,\n",
    "    max_iterations=20,\n",
    "    top_n_relevant_features=3,\n",
    ")"
   ]
  },
  {
   "cell_type": "code",
   "execution_count": 37,
   "id": "5465c93e",
   "metadata": {},
   "outputs": [],
   "source": [
    "avicenna2 = Avicenna(\n",
    "    grammar=middle_grammar,\n",
    "    initial_inputs=middle_inputs,\n",
    "    oracle=regular_oracle,\n",
    "    max_iterations=10,\n",
    "    top_n_relevant_features=3, \n",
    ")"
   ]
  },
  {
   "cell_type": "code",
   "execution_count": 38,
   "id": "95b78629",
   "metadata": {},
   "outputs": [],
   "source": [
    "import warnings\n",
    "# Suppress the specific SHAP warning\n",
    "warnings.filterwarnings(\n",
    "    \"ignore\",\n",
    "    message=\"LightGBM binary classifier with TreeExplainer shap values output has changed to a list of ndarray\",\n",
    ")\n",
    "warnings.filterwarnings(\n",
    "    \"ignore\", \n",
    "    message=\"No further splits with positive gain, best gain: -inf\"\n",
    ")"
   ]
  },
  {
   "cell_type": "code",
   "execution_count": 39,
   "id": "1fb1d396",
   "metadata": {},
   "outputs": [
    {
     "ename": "KeyboardInterrupt",
     "evalue": "",
     "output_type": "error",
     "traceback": [
      "\u001b[0;31m---------------------------------------------------------------------------\u001b[0m",
      "\u001b[0;31mKeyboardInterrupt\u001b[0m                         Traceback (most recent call last)",
      "Cell \u001b[0;32mIn[39], line 3\u001b[0m\n\u001b[1;32m      1\u001b[0m logging\u001b[38;5;241m.\u001b[39mbasicConfig(filename\u001b[38;5;241m=\u001b[39m\u001b[38;5;124m'\u001b[39m\u001b[38;5;124mavicenna.log\u001b[39m\u001b[38;5;124m'\u001b[39m, filemode\u001b[38;5;241m=\u001b[39m\u001b[38;5;124m'\u001b[39m\u001b[38;5;124mw\u001b[39m\u001b[38;5;124m'\u001b[39m, encoding\u001b[38;5;241m=\u001b[39m\u001b[38;5;124m'\u001b[39m\u001b[38;5;124mutf-8\u001b[39m\u001b[38;5;124m'\u001b[39m, level\u001b[38;5;241m=\u001b[39mlogging\u001b[38;5;241m.\u001b[39mINFO, force\u001b[38;5;241m=\u001b[39m\u001b[38;5;28;01mTrue\u001b[39;00m)\n\u001b[1;32m      2\u001b[0m \u001b[38;5;66;03m# only 2 constraints used in the end why\u001b[39;00m\n\u001b[0;32m----> 3\u001b[0m best_invariant \u001b[38;5;241m=\u001b[39m \u001b[43mavicenna\u001b[49m\u001b[38;5;241;43m.\u001b[39;49m\u001b[43mexplain\u001b[49m\u001b[43m(\u001b[49m\u001b[43m)\u001b[49m \u001b[38;5;66;03m# unparse with islaunparse for further use\u001b[39;00m\n",
      "File \u001b[0;32m~/ba/avicenna/src/avicenna/avicenna.py:253\u001b[0m, in \u001b[0;36mAvicenna.explain\u001b[0;34m(self)\u001b[0m\n\u001b[1;32m    250\u001b[0m             LOGGER\u001b[38;5;241m.\u001b[39minfo(\u001b[38;5;124m\"\u001b[39m\u001b[38;5;124mTIMEOUT\u001b[39m\u001b[38;5;124m\"\u001b[39m)\n\u001b[1;32m    251\u001b[0m             \u001b[38;5;28;01mraise\u001b[39;00m \u001b[38;5;167;01mTimeoutError\u001b[39;00m(\u001b[38;5;28mself\u001b[39m\u001b[38;5;241m.\u001b[39mtimeout_seconds)\n\u001b[0;32m--> 253\u001b[0m     new_inputs \u001b[38;5;241m=\u001b[39m \u001b[38;5;28;43mself\u001b[39;49m\u001b[38;5;241;43m.\u001b[39;49m\u001b[43m_loop\u001b[49m\u001b[43m(\u001b[49m\u001b[43mnew_inputs\u001b[49m\u001b[43m)\u001b[49m\n\u001b[1;32m    255\u001b[0m \u001b[38;5;28;01mreturn\u001b[39;00m \u001b[38;5;28mself\u001b[39m\u001b[38;5;241m.\u001b[39mfinalize()\n",
      "File \u001b[0;32m~/ba/avicenna/src/avicenna/avicenna.py:305\u001b[0m, in \u001b[0;36mAvicenna._loop\u001b[0;34m(self, test_inputs)\u001b[0m\n\u001b[1;32m    302\u001b[0m exclusion_non_terminals \u001b[38;5;241m=\u001b[39m \u001b[38;5;28mself\u001b[39m\u001b[38;5;241m.\u001b[39mlearn_relevant_features()\n\u001b[1;32m    303\u001b[0m \u001b[38;5;66;03m#print(\"printing test inputs\")\u001b[39;00m\n\u001b[1;32m    304\u001b[0m \u001b[38;5;66;03m#print(test_inputs)\u001b[39;00m\n\u001b[0;32m--> 305\u001b[0m new_candidates \u001b[38;5;241m=\u001b[39m \u001b[38;5;28;43mself\u001b[39;49m\u001b[38;5;241;43m.\u001b[39;49m\u001b[43mpattern_learner\u001b[49m\u001b[38;5;241;43m.\u001b[39;49m\u001b[43mlearn_failure_invariants\u001b[49m\u001b[43m(\u001b[49m\n\u001b[1;32m    306\u001b[0m \u001b[43m    \u001b[49m\u001b[43mtest_inputs\u001b[49m\u001b[43m,\u001b[49m\n\u001b[1;32m    307\u001b[0m \u001b[43m    \u001b[49m\u001b[38;5;28;43mself\u001b[39;49m\u001b[38;5;241;43m.\u001b[39;49m\u001b[43mprecision_truth_table\u001b[49m\u001b[43m,\u001b[49m\n\u001b[1;32m    308\u001b[0m \u001b[43m    \u001b[49m\u001b[38;5;28;43mself\u001b[39;49m\u001b[38;5;241;43m.\u001b[39;49m\u001b[43mrecall_truth_table\u001b[49m\u001b[43m,\u001b[49m\n\u001b[1;32m    309\u001b[0m \u001b[43m    \u001b[49m\u001b[43mexclusion_non_terminals\u001b[49m\u001b[43m,\u001b[49m\n\u001b[1;32m    310\u001b[0m \u001b[43m\u001b[49m\u001b[43m)\u001b[49m\n\u001b[1;32m    311\u001b[0m \u001b[38;5;66;03m#print(self.precision_truth_table)\u001b[39;00m\n\u001b[1;32m    313\u001b[0m new_candidates \u001b[38;5;241m=\u001b[39m \u001b[38;5;28mset\u001b[39m([x[\u001b[38;5;241m0\u001b[39m] \u001b[38;5;28;01mfor\u001b[39;00m x \u001b[38;5;129;01min\u001b[39;00m new_candidates[:\u001b[38;5;241m20\u001b[39m]])\n",
      "File \u001b[0;32m~/ba/avicenna/src/avicenna/pattern_learner.py:257\u001b[0m, in \u001b[0;36mAviIslearn.learn_failure_invariants\u001b[0;34m(self, test_inputs, precision_truth_table, recall_truth_table, exclude_nonterminals)\u001b[0m\n\u001b[1;32m    255\u001b[0m \u001b[38;5;28mself\u001b[39m\u001b[38;5;241m.\u001b[39mupdate_inputs(positive_inputs, negative_inputs)\n\u001b[1;32m    256\u001b[0m \u001b[38;5;28mself\u001b[39m\u001b[38;5;241m.\u001b[39mexclude_nonterminals \u001b[38;5;241m=\u001b[39m exclude_nonterminals \u001b[38;5;129;01mor\u001b[39;00m \u001b[38;5;28mset\u001b[39m()\n\u001b[0;32m--> 257\u001b[0m \u001b[38;5;28;01mreturn\u001b[39;00m \u001b[38;5;28;43mself\u001b[39;49m\u001b[38;5;241;43m.\u001b[39;49m\u001b[43m_learn_invariants\u001b[49m\u001b[43m(\u001b[49m\n\u001b[1;32m    258\u001b[0m \u001b[43m    \u001b[49m\u001b[43mpositive_inputs\u001b[49m\u001b[43m,\u001b[49m\u001b[43m \u001b[49m\u001b[43mnegative_inputs\u001b[49m\u001b[43m,\u001b[49m\u001b[43m \u001b[49m\u001b[43mprecision_truth_table\u001b[49m\u001b[43m,\u001b[49m\u001b[43m \u001b[49m\u001b[43mrecall_truth_table\u001b[49m\n\u001b[1;32m    259\u001b[0m \u001b[43m\u001b[49m\u001b[43m)\u001b[49m\n",
      "File \u001b[0;32m~/ba/avicenna/src/avicenna/pattern_learner.py:287\u001b[0m, in \u001b[0;36mAviIslearn._learn_invariants\u001b[0;34m(self, positive_inputs, negative_inputs, precision_truth_table, recall_truth_table)\u001b[0m\n\u001b[1;32m    285\u001b[0m \u001b[38;5;28mself\u001b[39m\u001b[38;5;241m.\u001b[39mevaluate_recall(candidates, recall_truth_table, positive_inputs)\n\u001b[1;32m    286\u001b[0m \u001b[38;5;28mself\u001b[39m\u001b[38;5;241m.\u001b[39mfilter_candidates(precision_truth_table, recall_truth_table)\n\u001b[0;32m--> 287\u001b[0m \u001b[38;5;28;43mself\u001b[39;49m\u001b[38;5;241;43m.\u001b[39;49m\u001b[43mevaluate_precision\u001b[49m\u001b[43m(\u001b[49m\n\u001b[1;32m    288\u001b[0m \u001b[43m    \u001b[49m\u001b[43mprecision_truth_table\u001b[49m\u001b[43m,\u001b[49m\u001b[43m \u001b[49m\u001b[43mrecall_truth_table\u001b[49m\u001b[43m,\u001b[49m\u001b[43m \u001b[49m\u001b[43mnegative_inputs\u001b[49m\n\u001b[1;32m    289\u001b[0m \u001b[43m\u001b[49m\u001b[43m)\u001b[49m\n\u001b[1;32m    291\u001b[0m \u001b[38;5;28mself\u001b[39m\u001b[38;5;241m.\u001b[39mget_disjunctions()\n\u001b[1;32m    292\u001b[0m \u001b[38;5;28mself\u001b[39m\u001b[38;5;241m.\u001b[39mget_conjunctions(precision_truth_table, recall_truth_table)\n",
      "File \u001b[0;32m~/ba/avicenna/src/avicenna/pattern_learner.py:375\u001b[0m, in \u001b[0;36mAviIslearn.evaluate_precision\u001b[0;34m(self, precision_truth_table, recall_truth_table, negative_inputs)\u001b[0m\n\u001b[1;32m    373\u001b[0m \u001b[38;5;28;01mfor\u001b[39;00m row \u001b[38;5;129;01min\u001b[39;00m recall_truth_table:\n\u001b[1;32m    374\u001b[0m     \u001b[38;5;28;01mif\u001b[39;00m \u001b[38;5;28mlen\u001b[39m(recall_truth_table) \u001b[38;5;241m>\u001b[39m \u001b[38;5;241m0\u001b[39m \u001b[38;5;129;01mand\u001b[39;00m row \u001b[38;5;129;01min\u001b[39;00m precision_truth_table:\n\u001b[0;32m--> 375\u001b[0m         \u001b[43mprecision_truth_table\u001b[49m\u001b[43m[\u001b[49m\u001b[43mrow\u001b[49m\u001b[38;5;241;43m.\u001b[39;49m\u001b[43mformula\u001b[49m\u001b[43m]\u001b[49m\u001b[38;5;241;43m.\u001b[39;49m\u001b[43mevaluate\u001b[49m\u001b[43m(\u001b[49m\u001b[43mnegative_inputs\u001b[49m\u001b[43m,\u001b[49m\u001b[43m \u001b[49m\u001b[38;5;28;43mself\u001b[39;49m\u001b[38;5;241;43m.\u001b[39;49m\u001b[43mgraph\u001b[49m\u001b[43m)\u001b[49m\n\u001b[1;32m    376\u001b[0m     \u001b[38;5;28;01melse\u001b[39;00m:\n\u001b[1;32m    377\u001b[0m         \u001b[38;5;66;03m# print(\"Complete Eval Precision\")\u001b[39;00m\n\u001b[1;32m    378\u001b[0m         new_row \u001b[38;5;241m=\u001b[39m AvicennaTruthTableRow(row\u001b[38;5;241m.\u001b[39mformula)\n",
      "File \u001b[0;32m~/ba/avicenna/src/avicenna/pattern_learner.py:50\u001b[0m, in \u001b[0;36mAvicennaTruthTableRow.evaluate\u001b[0;34m(self, test_inputs, graph)\u001b[0m\n\u001b[1;32m     47\u001b[0m new_inputs \u001b[38;5;241m=\u001b[39m test_inputs \u001b[38;5;241m-\u001b[39m \u001b[38;5;28mself\u001b[39m\u001b[38;5;241m.\u001b[39minputs\n\u001b[1;32m     49\u001b[0m \u001b[38;5;28;01mfor\u001b[39;00m inp \u001b[38;5;129;01min\u001b[39;00m new_inputs:\n\u001b[0;32m---> 50\u001b[0m     eval_result \u001b[38;5;241m=\u001b[39m \u001b[43mevaluate\u001b[49m\u001b[43m(\u001b[49m\n\u001b[1;32m     51\u001b[0m \u001b[43m        \u001b[49m\u001b[38;5;28;43mself\u001b[39;49m\u001b[38;5;241;43m.\u001b[39;49m\u001b[43mformula\u001b[49m\u001b[43m,\u001b[49m\u001b[43m \u001b[49m\u001b[43minp\u001b[49m\u001b[38;5;241;43m.\u001b[39;49m\u001b[43mtree\u001b[49m\u001b[43m,\u001b[49m\u001b[43m \u001b[49m\u001b[43mgraph\u001b[49m\u001b[38;5;241;43m.\u001b[39;49m\u001b[43mgrammar\u001b[49m\u001b[43m,\u001b[49m\u001b[43m \u001b[49m\u001b[43mgraph\u001b[49m\u001b[38;5;241;43m=\u001b[39;49m\u001b[43mgraph\u001b[49m\n\u001b[1;32m     52\u001b[0m \u001b[43m    \u001b[49m\u001b[43m)\u001b[49m\u001b[38;5;241m.\u001b[39mis_true()\n\u001b[1;32m     53\u001b[0m     \u001b[38;5;28mself\u001b[39m\u001b[38;5;241m.\u001b[39mupdate_eval_results_and_combination(eval_result, inp)\n\u001b[1;32m     55\u001b[0m \u001b[38;5;28mself\u001b[39m\u001b[38;5;241m.\u001b[39minputs\u001b[38;5;241m.\u001b[39mupdate(new_inputs)\n",
      "File \u001b[0;32m~/.pyenv/versions/3.10.14/lib/python3.10/site-packages/isla/evaluator.py:144\u001b[0m, in \u001b[0;36mevaluate\u001b[0;34m(formula, reference_tree, grammar, structural_predicates, semantic_predicates, assumptions, subtrees_trie, graph)\u001b[0m\n\u001b[1;32m    131\u001b[0m \u001b[38;5;66;03m# NOTE: Deactivated, might be too strict for evaluation (though maybe\u001b[39;00m\n\u001b[1;32m    132\u001b[0m \u001b[38;5;66;03m#       necessary for solving). See comment in well_formed.\u001b[39;00m\n\u001b[1;32m    133\u001b[0m \u001b[38;5;66;03m# if assertions_activated():\u001b[39;00m\n\u001b[1;32m    134\u001b[0m \u001b[38;5;66;03m#     res, msg = well_formed(formula, grammar)\u001b[39;00m\n\u001b[1;32m    135\u001b[0m \u001b[38;5;66;03m#     assert res, msg\u001b[39;00m\n\u001b[1;32m    137\u001b[0m \u001b[38;5;28;01mif\u001b[39;00m \u001b[38;5;129;01mnot\u001b[39;00m assumptions \u001b[38;5;129;01mand\u001b[39;00m \u001b[38;5;129;01mnot\u001b[39;00m FilterVisitor(\n\u001b[1;32m    138\u001b[0m     \u001b[38;5;28;01mlambda\u001b[39;00m f: \u001b[38;5;28misinstance\u001b[39m(f, NumericQuantifiedFormula)\n\u001b[1;32m    139\u001b[0m )\u001b[38;5;241m.\u001b[39mcollect(formula):\n\u001b[0;32m   (...)\u001b[0m\n\u001b[1;32m    142\u001b[0m     \u001b[38;5;66;03m# assumptions, but the implemented method works and we would rather not invest\u001b[39;00m\n\u001b[1;32m    143\u001b[0m     \u001b[38;5;66;03m# that work to gain some seconds of performance.\u001b[39;00m\n\u001b[0;32m--> 144\u001b[0m     \u001b[38;5;28;01mreturn\u001b[39;00m \u001b[43mevaluate_legacy\u001b[49m\u001b[43m(\u001b[49m\n\u001b[1;32m    145\u001b[0m \u001b[43m        \u001b[49m\u001b[43mformula\u001b[49m\u001b[43m,\u001b[49m\u001b[43m \u001b[49m\u001b[43mgrammar\u001b[49m\u001b[43m,\u001b[49m\u001b[43m \u001b[49m\u001b[43m{\u001b[49m\u001b[43m}\u001b[49m\u001b[43m,\u001b[49m\u001b[43m \u001b[49m\u001b[43mreference_tree\u001b[49m\u001b[43m,\u001b[49m\u001b[43m \u001b[49m\u001b[43mtrie\u001b[49m\u001b[38;5;241;43m=\u001b[39;49m\u001b[43msubtrees_trie\u001b[49m\u001b[43m,\u001b[49m\u001b[43m \u001b[49m\u001b[43mgraph\u001b[49m\u001b[38;5;241;43m=\u001b[39;49m\u001b[43mgraph\u001b[49m\n\u001b[1;32m    146\u001b[0m \u001b[43m    \u001b[49m\u001b[43m)\u001b[49m\n\u001b[1;32m    148\u001b[0m qfr_free: Formula \u001b[38;5;241m=\u001b[39m eliminate_quantifiers(\n\u001b[1;32m    149\u001b[0m     formula,\n\u001b[1;32m    150\u001b[0m     grammar\u001b[38;5;241m=\u001b[39mgrammar,\n\u001b[0;32m   (...)\u001b[0m\n\u001b[1;32m    156\u001b[0m     },\n\u001b[1;32m    157\u001b[0m )\n\u001b[1;32m    159\u001b[0m \u001b[38;5;66;03m# Substitute assumptions\u001b[39;00m\n\u001b[1;32m    160\u001b[0m \n\u001b[1;32m    161\u001b[0m \u001b[38;5;66;03m# First, eliminate quantifiers in assumptions. We don't supply any numeric constants\u001b[39;00m\n\u001b[1;32m    162\u001b[0m \u001b[38;5;66;03m# here, as this would be unsound in assumptions: We know that the core holds for any\u001b[39;00m\n\u001b[1;32m    163\u001b[0m \u001b[38;5;66;03m# int, but not for which one.\u001b[39;00m\n",
      "File \u001b[0;32m~/.pyenv/versions/3.10.14/lib/python3.10/site-packages/isla/evaluator.py:643\u001b[0m, in \u001b[0;36mevaluate_legacy\u001b[0;34m(formula, grammar, assignments, reference_tree, trie, graph)\u001b[0m\n\u001b[1;32m    636\u001b[0m \u001b[38;5;28;01mdef\u001b[39;00m \u001b[38;5;21mraise_not_implemented_error\u001b[39m(\n\u001b[1;32m    637\u001b[0m     f: Formula,\n\u001b[1;32m    638\u001b[0m ) \u001b[38;5;241m-\u001b[39m\u001b[38;5;241m>\u001b[39m Maybe[ThreeValuedTruth]:\n\u001b[1;32m    639\u001b[0m     \u001b[38;5;28;01mraise\u001b[39;00m \u001b[38;5;167;01mNotImplementedError\u001b[39;00m(\n\u001b[1;32m    640\u001b[0m         \u001b[38;5;124mf\u001b[39m\u001b[38;5;124m\"\u001b[39m\u001b[38;5;124mDon\u001b[39m\u001b[38;5;124m'\u001b[39m\u001b[38;5;124mt know how to evaluate the formula \u001b[39m\u001b[38;5;132;01m{\u001b[39;00munparse_isla(f)\u001b[38;5;132;01m}\u001b[39;00m\u001b[38;5;124m\"\u001b[39m\n\u001b[1;32m    641\u001b[0m     )\n\u001b[0;32m--> 643\u001b[0m \u001b[38;5;28;01mreturn\u001b[39;00m \u001b[43mflow\u001b[49m\u001b[43m(\u001b[49m\n\u001b[1;32m    644\u001b[0m \u001b[43m    \u001b[49m\u001b[43mNothing\u001b[49m\u001b[43m,\u001b[49m\n\u001b[1;32m    645\u001b[0m \u001b[43m    \u001b[49m\u001b[38;5;241;43m*\u001b[39;49m\u001b[38;5;28;43mmap\u001b[39;49m\u001b[43m(\u001b[49m\n\u001b[1;32m    646\u001b[0m \u001b[43m        \u001b[49m\u001b[43mcompose\u001b[49m\u001b[43m(\u001b[49m\n\u001b[1;32m    647\u001b[0m \u001b[43m            \u001b[49m\u001b[38;5;28;43;01mlambda\u001b[39;49;00m\u001b[43m \u001b[49m\u001b[43mf\u001b[49m\u001b[43m:\u001b[49m\u001b[43m \u001b[49m\u001b[43m(\u001b[49m\n\u001b[1;32m    648\u001b[0m \u001b[43m                \u001b[49m\u001b[38;5;28;43;01mlambda\u001b[39;49;00m\u001b[43m \u001b[49m\u001b[43m_\u001b[49m\u001b[43m:\u001b[49m\u001b[43m \u001b[49m\u001b[43mf\u001b[49m\u001b[43m(\u001b[49m\n\u001b[1;32m    649\u001b[0m \u001b[43m                    \u001b[49m\u001b[43mformula\u001b[49m\u001b[43m,\u001b[49m\u001b[43m \u001b[49m\u001b[43massignments\u001b[49m\u001b[43m,\u001b[49m\u001b[43m \u001b[49m\u001b[43mreference_tree\u001b[49m\u001b[43m,\u001b[49m\u001b[43m \u001b[49m\u001b[43mgraph\u001b[49m\u001b[43m,\u001b[49m\u001b[43m \u001b[49m\u001b[43mgrammar\u001b[49m\u001b[43m,\u001b[49m\u001b[43m \u001b[49m\u001b[43mtrie\u001b[49m\n\u001b[1;32m    650\u001b[0m \u001b[43m                \u001b[49m\u001b[43m)\u001b[49m\n\u001b[1;32m    651\u001b[0m \u001b[43m            \u001b[49m\u001b[43m)\u001b[49m\u001b[43m,\u001b[49m\n\u001b[1;32m    652\u001b[0m \u001b[43m            \u001b[49m\u001b[43mlash\u001b[49m\u001b[43m,\u001b[49m\n\u001b[1;32m    653\u001b[0m \u001b[43m        \u001b[49m\u001b[43m)\u001b[49m\u001b[43m,\u001b[49m\n\u001b[1;32m    654\u001b[0m \u001b[43m        \u001b[49m\u001b[43m[\u001b[49m\n\u001b[1;32m    655\u001b[0m \u001b[43m            \u001b[49m\u001b[43mevaluate_exists_int_formula\u001b[49m\u001b[43m,\u001b[49m\n\u001b[1;32m    656\u001b[0m \u001b[43m            \u001b[49m\u001b[43mevaluate_smt_formula\u001b[49m\u001b[43m,\u001b[49m\n\u001b[1;32m    657\u001b[0m \u001b[43m            \u001b[49m\u001b[43mevaluate_quantified_formula\u001b[49m\u001b[43m,\u001b[49m\n\u001b[1;32m    658\u001b[0m \u001b[43m            \u001b[49m\u001b[43mevaluate_structural_predicate_formula\u001b[49m\u001b[43m,\u001b[49m\n\u001b[1;32m    659\u001b[0m \u001b[43m            \u001b[49m\u001b[43mevaluate_semantic_predicate_formula\u001b[49m\u001b[43m,\u001b[49m\n\u001b[1;32m    660\u001b[0m \u001b[43m            \u001b[49m\u001b[43mevaluate_negated_formula_formula\u001b[49m\u001b[43m,\u001b[49m\n\u001b[1;32m    661\u001b[0m \u001b[43m            \u001b[49m\u001b[43mevaluate_conjunctive_formula_formula\u001b[49m\u001b[43m,\u001b[49m\n\u001b[1;32m    662\u001b[0m \u001b[43m            \u001b[49m\u001b[43mevaluate_disjunctive_formula\u001b[49m\u001b[43m,\u001b[49m\n\u001b[1;32m    663\u001b[0m \u001b[43m            \u001b[49m\u001b[43mraise_not_implemented_error\u001b[49m\u001b[43m,\u001b[49m\n\u001b[1;32m    664\u001b[0m \u001b[43m        \u001b[49m\u001b[43m]\u001b[49m\u001b[43m,\u001b[49m\n\u001b[1;32m    665\u001b[0m \u001b[43m    \u001b[49m\u001b[43m)\u001b[49m\u001b[43m,\u001b[49m\n\u001b[1;32m    666\u001b[0m \u001b[43m\u001b[49m\u001b[43m)\u001b[49m\u001b[38;5;241m.\u001b[39munwrap()\n",
      "File \u001b[0;32m~/.pyenv/versions/3.10.14/lib/python3.10/site-packages/returns/_internal/pipeline/flow.py:50\u001b[0m, in \u001b[0;36mflow\u001b[0;34m(instance, *functions)\u001b[0m\n\u001b[1;32m      9\u001b[0m \u001b[38;5;28;01mdef\u001b[39;00m \u001b[38;5;21mflow\u001b[39m(\n\u001b[1;32m     10\u001b[0m     instance: _InstanceType,\n\u001b[1;32m     11\u001b[0m     \u001b[38;5;241m*\u001b[39mfunctions: _PipelineStepType,\n\u001b[1;32m     12\u001b[0m ) \u001b[38;5;241m-\u001b[39m\u001b[38;5;241m>\u001b[39m _ReturnType:  \u001b[38;5;66;03m# type: ignore[type-var]\u001b[39;00m\n\u001b[1;32m     13\u001b[0m \u001b[38;5;250m    \u001b[39m\u001b[38;5;124;03m\"\"\"\u001b[39;00m\n\u001b[1;32m     14\u001b[0m \u001b[38;5;124;03m    Allows to compose a value and up to multiple functions that use this value.\u001b[39;00m\n\u001b[1;32m     15\u001b[0m \n\u001b[0;32m   (...)\u001b[0m\n\u001b[1;32m     48\u001b[0m \u001b[38;5;124;03m    Requires our :ref:`mypy plugin <mypy-plugins>`.\u001b[39;00m\n\u001b[1;32m     49\u001b[0m \u001b[38;5;124;03m    \"\"\"\u001b[39;00m\n\u001b[0;32m---> 50\u001b[0m     \u001b[38;5;28;01mreturn\u001b[39;00m \u001b[43mreduce\u001b[49m\u001b[43m(\u001b[49m\u001b[43m  \u001b[49m\u001b[38;5;66;43;03m# type: ignore\u001b[39;49;00m\n\u001b[1;32m     51\u001b[0m \u001b[43m        \u001b[49m\u001b[38;5;28;43;01mlambda\u001b[39;49;00m\u001b[43m \u001b[49m\u001b[43mcomposed\u001b[49m\u001b[43m,\u001b[49m\u001b[43m \u001b[49m\u001b[43mfunction\u001b[49m\u001b[43m:\u001b[49m\u001b[43m \u001b[49m\u001b[43mfunction\u001b[49m\u001b[43m(\u001b[49m\u001b[43mcomposed\u001b[49m\u001b[43m)\u001b[49m\u001b[43m,\u001b[49m\u001b[43m  \u001b[49m\u001b[38;5;66;43;03m# type: ignore\u001b[39;49;00m\n\u001b[1;32m     52\u001b[0m \u001b[43m        \u001b[49m\u001b[43mfunctions\u001b[49m\u001b[43m,\u001b[49m\n\u001b[1;32m     53\u001b[0m \u001b[43m        \u001b[49m\u001b[43minstance\u001b[49m\u001b[43m,\u001b[49m\n\u001b[1;32m     54\u001b[0m \u001b[43m    \u001b[49m\u001b[43m)\u001b[49m\n",
      "File \u001b[0;32m~/.pyenv/versions/3.10.14/lib/python3.10/site-packages/returns/_internal/pipeline/flow.py:51\u001b[0m, in \u001b[0;36mflow.<locals>.<lambda>\u001b[0;34m(composed, function)\u001b[0m\n\u001b[1;32m      9\u001b[0m \u001b[38;5;28;01mdef\u001b[39;00m \u001b[38;5;21mflow\u001b[39m(\n\u001b[1;32m     10\u001b[0m     instance: _InstanceType,\n\u001b[1;32m     11\u001b[0m     \u001b[38;5;241m*\u001b[39mfunctions: _PipelineStepType,\n\u001b[1;32m     12\u001b[0m ) \u001b[38;5;241m-\u001b[39m\u001b[38;5;241m>\u001b[39m _ReturnType:  \u001b[38;5;66;03m# type: ignore[type-var]\u001b[39;00m\n\u001b[1;32m     13\u001b[0m \u001b[38;5;250m    \u001b[39m\u001b[38;5;124;03m\"\"\"\u001b[39;00m\n\u001b[1;32m     14\u001b[0m \u001b[38;5;124;03m    Allows to compose a value and up to multiple functions that use this value.\u001b[39;00m\n\u001b[1;32m     15\u001b[0m \n\u001b[0;32m   (...)\u001b[0m\n\u001b[1;32m     48\u001b[0m \u001b[38;5;124;03m    Requires our :ref:`mypy plugin <mypy-plugins>`.\u001b[39;00m\n\u001b[1;32m     49\u001b[0m \u001b[38;5;124;03m    \"\"\"\u001b[39;00m\n\u001b[1;32m     50\u001b[0m     \u001b[38;5;28;01mreturn\u001b[39;00m reduce(  \u001b[38;5;66;03m# type: ignore\u001b[39;00m\n\u001b[0;32m---> 51\u001b[0m         \u001b[38;5;28;01mlambda\u001b[39;00m composed, function: \u001b[43mfunction\u001b[49m\u001b[43m(\u001b[49m\u001b[43mcomposed\u001b[49m\u001b[43m)\u001b[49m,  \u001b[38;5;66;03m# type: ignore\u001b[39;00m\n\u001b[1;32m     52\u001b[0m         functions,\n\u001b[1;32m     53\u001b[0m         instance,\n\u001b[1;32m     54\u001b[0m     )\n",
      "File \u001b[0;32m~/.pyenv/versions/3.10.14/lib/python3.10/site-packages/returns/pointfree/lash.py:55\u001b[0m, in \u001b[0;36mlash.<locals>.factory\u001b[0;34m(container)\u001b[0m\n\u001b[1;32m     51\u001b[0m \u001b[38;5;129m@kinded\u001b[39m\n\u001b[1;32m     52\u001b[0m \u001b[38;5;28;01mdef\u001b[39;00m \u001b[38;5;21mfactory\u001b[39m(\n\u001b[1;32m     53\u001b[0m     container: KindN[_LashableKind, _FirstType, _SecondType, _ThirdType],\n\u001b[1;32m     54\u001b[0m ) \u001b[38;5;241m-\u001b[39m\u001b[38;5;241m>\u001b[39m KindN[_LashableKind, _FirstType, _UpdatedType, _ThirdType]:\n\u001b[0;32m---> 55\u001b[0m     \u001b[38;5;28;01mreturn\u001b[39;00m \u001b[43mcontainer\u001b[49m\u001b[38;5;241;43m.\u001b[39;49m\u001b[43mlash\u001b[49m\u001b[43m(\u001b[49m\u001b[43mfunction\u001b[49m\u001b[43m)\u001b[49m\n",
      "File \u001b[0;32m~/.pyenv/versions/3.10.14/lib/python3.10/site-packages/returns/maybe.py:380\u001b[0m, in \u001b[0;36m_Nothing.lash\u001b[0;34m(self, function)\u001b[0m\n\u001b[1;32m    378\u001b[0m \u001b[38;5;28;01mdef\u001b[39;00m \u001b[38;5;21mlash\u001b[39m(\u001b[38;5;28mself\u001b[39m, function):\n\u001b[1;32m    379\u001b[0m \u001b[38;5;250m    \u001b[39m\u001b[38;5;124;03m\"\"\"Composes this container with a function returning container.\"\"\"\u001b[39;00m\n\u001b[0;32m--> 380\u001b[0m     \u001b[38;5;28;01mreturn\u001b[39;00m \u001b[43mfunction\u001b[49m\u001b[43m(\u001b[49m\u001b[38;5;28;43;01mNone\u001b[39;49;00m\u001b[43m)\u001b[49m\n",
      "File \u001b[0;32m~/.pyenv/versions/3.10.14/lib/python3.10/site-packages/isla/evaluator.py:648\u001b[0m, in \u001b[0;36mevaluate_legacy.<locals>.<lambda>.<locals>.<lambda>\u001b[0;34m(_)\u001b[0m\n\u001b[1;32m    636\u001b[0m \u001b[38;5;28;01mdef\u001b[39;00m \u001b[38;5;21mraise_not_implemented_error\u001b[39m(\n\u001b[1;32m    637\u001b[0m     f: Formula,\n\u001b[1;32m    638\u001b[0m ) \u001b[38;5;241m-\u001b[39m\u001b[38;5;241m>\u001b[39m Maybe[ThreeValuedTruth]:\n\u001b[1;32m    639\u001b[0m     \u001b[38;5;28;01mraise\u001b[39;00m \u001b[38;5;167;01mNotImplementedError\u001b[39;00m(\n\u001b[1;32m    640\u001b[0m         \u001b[38;5;124mf\u001b[39m\u001b[38;5;124m\"\u001b[39m\u001b[38;5;124mDon\u001b[39m\u001b[38;5;124m'\u001b[39m\u001b[38;5;124mt know how to evaluate the formula \u001b[39m\u001b[38;5;132;01m{\u001b[39;00munparse_isla(f)\u001b[38;5;132;01m}\u001b[39;00m\u001b[38;5;124m\"\u001b[39m\n\u001b[1;32m    641\u001b[0m     )\n\u001b[1;32m    643\u001b[0m \u001b[38;5;28;01mreturn\u001b[39;00m flow(\n\u001b[1;32m    644\u001b[0m     Nothing,\n\u001b[1;32m    645\u001b[0m     \u001b[38;5;241m*\u001b[39m\u001b[38;5;28mmap\u001b[39m(\n\u001b[1;32m    646\u001b[0m         compose(\n\u001b[1;32m    647\u001b[0m             \u001b[38;5;28;01mlambda\u001b[39;00m f: (\n\u001b[0;32m--> 648\u001b[0m                 \u001b[38;5;28;01mlambda\u001b[39;00m _: \u001b[43mf\u001b[49m\u001b[43m(\u001b[49m\n\u001b[1;32m    649\u001b[0m \u001b[43m                    \u001b[49m\u001b[43mformula\u001b[49m\u001b[43m,\u001b[49m\u001b[43m \u001b[49m\u001b[43massignments\u001b[49m\u001b[43m,\u001b[49m\u001b[43m \u001b[49m\u001b[43mreference_tree\u001b[49m\u001b[43m,\u001b[49m\u001b[43m \u001b[49m\u001b[43mgraph\u001b[49m\u001b[43m,\u001b[49m\u001b[43m \u001b[49m\u001b[43mgrammar\u001b[49m\u001b[43m,\u001b[49m\u001b[43m \u001b[49m\u001b[43mtrie\u001b[49m\n\u001b[1;32m    650\u001b[0m \u001b[43m                \u001b[49m\u001b[43m)\u001b[49m\n\u001b[1;32m    651\u001b[0m             ),\n\u001b[1;32m    652\u001b[0m             lash,\n\u001b[1;32m    653\u001b[0m         ),\n\u001b[1;32m    654\u001b[0m         [\n\u001b[1;32m    655\u001b[0m             evaluate_exists_int_formula,\n\u001b[1;32m    656\u001b[0m             evaluate_smt_formula,\n\u001b[1;32m    657\u001b[0m             evaluate_quantified_formula,\n\u001b[1;32m    658\u001b[0m             evaluate_structural_predicate_formula,\n\u001b[1;32m    659\u001b[0m             evaluate_semantic_predicate_formula,\n\u001b[1;32m    660\u001b[0m             evaluate_negated_formula_formula,\n\u001b[1;32m    661\u001b[0m             evaluate_conjunctive_formula_formula,\n\u001b[1;32m    662\u001b[0m             evaluate_disjunctive_formula,\n\u001b[1;32m    663\u001b[0m             raise_not_implemented_error,\n\u001b[1;32m    664\u001b[0m         ],\n\u001b[1;32m    665\u001b[0m     ),\n\u001b[1;32m    666\u001b[0m )\u001b[38;5;241m.\u001b[39munwrap()\n",
      "File \u001b[0;32m~/.pyenv/versions/3.10.14/lib/python3.10/site-packages/isla/evaluator.py:846\u001b[0m, in \u001b[0;36mevaluate_quantified_formula\u001b[0;34m(formula, assignments, reference_tree, graph, grammar, trie)\u001b[0m\n\u001b[1;32m    832\u001b[0m     \u001b[38;5;28;01mreturn\u001b[39;00m Some(\n\u001b[1;32m    833\u001b[0m         ThreeValuedTruth\u001b[38;5;241m.\u001b[39mall(\n\u001b[1;32m    834\u001b[0m             evaluate_legacy(\n\u001b[0;32m   (...)\u001b[0m\n\u001b[1;32m    843\u001b[0m         )\n\u001b[1;32m    844\u001b[0m     )\n\u001b[1;32m    845\u001b[0m \u001b[38;5;28;01melif\u001b[39;00m \u001b[38;5;28misinstance\u001b[39m(formula, ExistsFormula):\n\u001b[0;32m--> 846\u001b[0m     result \u001b[38;5;241m=\u001b[39m \u001b[43mThreeValuedTruth\u001b[49m\u001b[38;5;241;43m.\u001b[39;49m\u001b[43many\u001b[49m\u001b[43m(\u001b[49m\n\u001b[1;32m    847\u001b[0m \u001b[43m        \u001b[49m\u001b[43mevaluate_legacy\u001b[49m\u001b[43m(\u001b[49m\n\u001b[1;32m    848\u001b[0m \u001b[43m            \u001b[49m\u001b[43mformula\u001b[49m\u001b[38;5;241;43m.\u001b[39;49m\u001b[43minner_formula\u001b[49m\u001b[43m,\u001b[49m\n\u001b[1;32m    849\u001b[0m \u001b[43m            \u001b[49m\u001b[43mgrammar\u001b[49m\u001b[43m,\u001b[49m\n\u001b[1;32m    850\u001b[0m \u001b[43m            \u001b[49m\u001b[43mnew_assignment\u001b[49m\u001b[43m,\u001b[49m\n\u001b[1;32m    851\u001b[0m \u001b[43m            \u001b[49m\u001b[43mreference_tree\u001b[49m\u001b[43m,\u001b[49m\n\u001b[1;32m    852\u001b[0m \u001b[43m            \u001b[49m\u001b[43mtrie\u001b[49m\u001b[43m,\u001b[49m\n\u001b[1;32m    853\u001b[0m \u001b[43m            \u001b[49m\u001b[43mgraph\u001b[49m\u001b[38;5;241;43m=\u001b[39;49m\u001b[43mgraph\u001b[49m\u001b[43m,\u001b[49m\n\u001b[1;32m    854\u001b[0m \u001b[43m        \u001b[49m\u001b[43m)\u001b[49m\n\u001b[1;32m    855\u001b[0m \u001b[43m        \u001b[49m\u001b[38;5;28;43;01mfor\u001b[39;49;00m\u001b[43m \u001b[49m\u001b[43mnew_assignment\u001b[49m\u001b[43m \u001b[49m\u001b[38;5;129;43;01min\u001b[39;49;00m\u001b[43m \u001b[49m\u001b[43mnew_assignments\u001b[49m\n\u001b[1;32m    856\u001b[0m \u001b[43m    \u001b[49m\u001b[43m)\u001b[49m\n\u001b[1;32m    858\u001b[0m     \u001b[38;5;28;01mreturn\u001b[39;00m Some(\n\u001b[1;32m    859\u001b[0m         ThreeValuedTruth\u001b[38;5;241m.\u001b[39munknown()\n\u001b[1;32m    860\u001b[0m         \u001b[38;5;28;01mif\u001b[39;00m \u001b[38;5;129;01mnot\u001b[39;00m result\u001b[38;5;241m.\u001b[39mis_true() \u001b[38;5;129;01mand\u001b[39;00m has_potential_matches\n\u001b[1;32m    861\u001b[0m         \u001b[38;5;28;01melse\u001b[39;00m result\n\u001b[1;32m    862\u001b[0m     )\n",
      "File \u001b[0;32m~/.pyenv/versions/3.10.14/lib/python3.10/site-packages/isla/three_valued_truth.py:62\u001b[0m, in \u001b[0;36mThreeValuedTruth.any\u001b[0;34m(args)\u001b[0m\n\u001b[1;32m     60\u001b[0m \u001b[38;5;129m@staticmethod\u001b[39m\n\u001b[1;32m     61\u001b[0m \u001b[38;5;28;01mdef\u001b[39;00m \u001b[38;5;21many\u001b[39m(args: Iterable[\u001b[38;5;124m\"\u001b[39m\u001b[38;5;124mThreeValuedTruth\u001b[39m\u001b[38;5;124m\"\u001b[39m]) \u001b[38;5;241m-\u001b[39m\u001b[38;5;241m>\u001b[39m \u001b[38;5;124m\"\u001b[39m\u001b[38;5;124mThreeValuedTruth\u001b[39m\u001b[38;5;124m\"\u001b[39m:\n\u001b[0;32m---> 62\u001b[0m     args \u001b[38;5;241m=\u001b[39m \u001b[38;5;28;43mlist\u001b[39;49m\u001b[43m(\u001b[49m\u001b[43margs\u001b[49m\u001b[43m)\u001b[49m\n\u001b[1;32m     63\u001b[0m     \u001b[38;5;28;01mif\u001b[39;00m \u001b[38;5;28many\u001b[39m(elem\u001b[38;5;241m.\u001b[39mis_true() \u001b[38;5;28;01mfor\u001b[39;00m elem \u001b[38;5;129;01min\u001b[39;00m args):\n\u001b[1;32m     64\u001b[0m         \u001b[38;5;28;01mreturn\u001b[39;00m ThreeValuedTruth\u001b[38;5;241m.\u001b[39mtrue()\n",
      "File \u001b[0;32m~/.pyenv/versions/3.10.14/lib/python3.10/site-packages/isla/evaluator.py:847\u001b[0m, in \u001b[0;36m<genexpr>\u001b[0;34m(.0)\u001b[0m\n\u001b[1;32m    832\u001b[0m     \u001b[38;5;28;01mreturn\u001b[39;00m Some(\n\u001b[1;32m    833\u001b[0m         ThreeValuedTruth\u001b[38;5;241m.\u001b[39mall(\n\u001b[1;32m    834\u001b[0m             evaluate_legacy(\n\u001b[0;32m   (...)\u001b[0m\n\u001b[1;32m    843\u001b[0m         )\n\u001b[1;32m    844\u001b[0m     )\n\u001b[1;32m    845\u001b[0m \u001b[38;5;28;01melif\u001b[39;00m \u001b[38;5;28misinstance\u001b[39m(formula, ExistsFormula):\n\u001b[1;32m    846\u001b[0m     result \u001b[38;5;241m=\u001b[39m ThreeValuedTruth\u001b[38;5;241m.\u001b[39many(\n\u001b[0;32m--> 847\u001b[0m         \u001b[43mevaluate_legacy\u001b[49m\u001b[43m(\u001b[49m\n\u001b[1;32m    848\u001b[0m \u001b[43m            \u001b[49m\u001b[43mformula\u001b[49m\u001b[38;5;241;43m.\u001b[39;49m\u001b[43minner_formula\u001b[49m\u001b[43m,\u001b[49m\n\u001b[1;32m    849\u001b[0m \u001b[43m            \u001b[49m\u001b[43mgrammar\u001b[49m\u001b[43m,\u001b[49m\n\u001b[1;32m    850\u001b[0m \u001b[43m            \u001b[49m\u001b[43mnew_assignment\u001b[49m\u001b[43m,\u001b[49m\n\u001b[1;32m    851\u001b[0m \u001b[43m            \u001b[49m\u001b[43mreference_tree\u001b[49m\u001b[43m,\u001b[49m\n\u001b[1;32m    852\u001b[0m \u001b[43m            \u001b[49m\u001b[43mtrie\u001b[49m\u001b[43m,\u001b[49m\n\u001b[1;32m    853\u001b[0m \u001b[43m            \u001b[49m\u001b[43mgraph\u001b[49m\u001b[38;5;241;43m=\u001b[39;49m\u001b[43mgraph\u001b[49m\u001b[43m,\u001b[49m\n\u001b[1;32m    854\u001b[0m \u001b[43m        \u001b[49m\u001b[43m)\u001b[49m\n\u001b[1;32m    855\u001b[0m         \u001b[38;5;28;01mfor\u001b[39;00m new_assignment \u001b[38;5;129;01min\u001b[39;00m new_assignments\n\u001b[1;32m    856\u001b[0m     )\n\u001b[1;32m    858\u001b[0m     \u001b[38;5;28;01mreturn\u001b[39;00m Some(\n\u001b[1;32m    859\u001b[0m         ThreeValuedTruth\u001b[38;5;241m.\u001b[39munknown()\n\u001b[1;32m    860\u001b[0m         \u001b[38;5;28;01mif\u001b[39;00m \u001b[38;5;129;01mnot\u001b[39;00m result\u001b[38;5;241m.\u001b[39mis_true() \u001b[38;5;129;01mand\u001b[39;00m has_potential_matches\n\u001b[1;32m    861\u001b[0m         \u001b[38;5;28;01melse\u001b[39;00m result\n\u001b[1;32m    862\u001b[0m     )\n",
      "File \u001b[0;32m~/.pyenv/versions/3.10.14/lib/python3.10/site-packages/isla/evaluator.py:643\u001b[0m, in \u001b[0;36mevaluate_legacy\u001b[0;34m(formula, grammar, assignments, reference_tree, trie, graph)\u001b[0m\n\u001b[1;32m    636\u001b[0m \u001b[38;5;28;01mdef\u001b[39;00m \u001b[38;5;21mraise_not_implemented_error\u001b[39m(\n\u001b[1;32m    637\u001b[0m     f: Formula,\n\u001b[1;32m    638\u001b[0m ) \u001b[38;5;241m-\u001b[39m\u001b[38;5;241m>\u001b[39m Maybe[ThreeValuedTruth]:\n\u001b[1;32m    639\u001b[0m     \u001b[38;5;28;01mraise\u001b[39;00m \u001b[38;5;167;01mNotImplementedError\u001b[39;00m(\n\u001b[1;32m    640\u001b[0m         \u001b[38;5;124mf\u001b[39m\u001b[38;5;124m\"\u001b[39m\u001b[38;5;124mDon\u001b[39m\u001b[38;5;124m'\u001b[39m\u001b[38;5;124mt know how to evaluate the formula \u001b[39m\u001b[38;5;132;01m{\u001b[39;00munparse_isla(f)\u001b[38;5;132;01m}\u001b[39;00m\u001b[38;5;124m\"\u001b[39m\n\u001b[1;32m    641\u001b[0m     )\n\u001b[0;32m--> 643\u001b[0m \u001b[38;5;28;01mreturn\u001b[39;00m \u001b[43mflow\u001b[49m\u001b[43m(\u001b[49m\n\u001b[1;32m    644\u001b[0m \u001b[43m    \u001b[49m\u001b[43mNothing\u001b[49m\u001b[43m,\u001b[49m\n\u001b[1;32m    645\u001b[0m \u001b[43m    \u001b[49m\u001b[38;5;241;43m*\u001b[39;49m\u001b[38;5;28;43mmap\u001b[39;49m\u001b[43m(\u001b[49m\n\u001b[1;32m    646\u001b[0m \u001b[43m        \u001b[49m\u001b[43mcompose\u001b[49m\u001b[43m(\u001b[49m\n\u001b[1;32m    647\u001b[0m \u001b[43m            \u001b[49m\u001b[38;5;28;43;01mlambda\u001b[39;49;00m\u001b[43m \u001b[49m\u001b[43mf\u001b[49m\u001b[43m:\u001b[49m\u001b[43m \u001b[49m\u001b[43m(\u001b[49m\n\u001b[1;32m    648\u001b[0m \u001b[43m                \u001b[49m\u001b[38;5;28;43;01mlambda\u001b[39;49;00m\u001b[43m \u001b[49m\u001b[43m_\u001b[49m\u001b[43m:\u001b[49m\u001b[43m \u001b[49m\u001b[43mf\u001b[49m\u001b[43m(\u001b[49m\n\u001b[1;32m    649\u001b[0m \u001b[43m                    \u001b[49m\u001b[43mformula\u001b[49m\u001b[43m,\u001b[49m\u001b[43m \u001b[49m\u001b[43massignments\u001b[49m\u001b[43m,\u001b[49m\u001b[43m \u001b[49m\u001b[43mreference_tree\u001b[49m\u001b[43m,\u001b[49m\u001b[43m \u001b[49m\u001b[43mgraph\u001b[49m\u001b[43m,\u001b[49m\u001b[43m \u001b[49m\u001b[43mgrammar\u001b[49m\u001b[43m,\u001b[49m\u001b[43m \u001b[49m\u001b[43mtrie\u001b[49m\n\u001b[1;32m    650\u001b[0m \u001b[43m                \u001b[49m\u001b[43m)\u001b[49m\n\u001b[1;32m    651\u001b[0m \u001b[43m            \u001b[49m\u001b[43m)\u001b[49m\u001b[43m,\u001b[49m\n\u001b[1;32m    652\u001b[0m \u001b[43m            \u001b[49m\u001b[43mlash\u001b[49m\u001b[43m,\u001b[49m\n\u001b[1;32m    653\u001b[0m \u001b[43m        \u001b[49m\u001b[43m)\u001b[49m\u001b[43m,\u001b[49m\n\u001b[1;32m    654\u001b[0m \u001b[43m        \u001b[49m\u001b[43m[\u001b[49m\n\u001b[1;32m    655\u001b[0m \u001b[43m            \u001b[49m\u001b[43mevaluate_exists_int_formula\u001b[49m\u001b[43m,\u001b[49m\n\u001b[1;32m    656\u001b[0m \u001b[43m            \u001b[49m\u001b[43mevaluate_smt_formula\u001b[49m\u001b[43m,\u001b[49m\n\u001b[1;32m    657\u001b[0m \u001b[43m            \u001b[49m\u001b[43mevaluate_quantified_formula\u001b[49m\u001b[43m,\u001b[49m\n\u001b[1;32m    658\u001b[0m \u001b[43m            \u001b[49m\u001b[43mevaluate_structural_predicate_formula\u001b[49m\u001b[43m,\u001b[49m\n\u001b[1;32m    659\u001b[0m \u001b[43m            \u001b[49m\u001b[43mevaluate_semantic_predicate_formula\u001b[49m\u001b[43m,\u001b[49m\n\u001b[1;32m    660\u001b[0m \u001b[43m            \u001b[49m\u001b[43mevaluate_negated_formula_formula\u001b[49m\u001b[43m,\u001b[49m\n\u001b[1;32m    661\u001b[0m \u001b[43m            \u001b[49m\u001b[43mevaluate_conjunctive_formula_formula\u001b[49m\u001b[43m,\u001b[49m\n\u001b[1;32m    662\u001b[0m \u001b[43m            \u001b[49m\u001b[43mevaluate_disjunctive_formula\u001b[49m\u001b[43m,\u001b[49m\n\u001b[1;32m    663\u001b[0m \u001b[43m            \u001b[49m\u001b[43mraise_not_implemented_error\u001b[49m\u001b[43m,\u001b[49m\n\u001b[1;32m    664\u001b[0m \u001b[43m        \u001b[49m\u001b[43m]\u001b[49m\u001b[43m,\u001b[49m\n\u001b[1;32m    665\u001b[0m \u001b[43m    \u001b[49m\u001b[43m)\u001b[49m\u001b[43m,\u001b[49m\n\u001b[1;32m    666\u001b[0m \u001b[43m\u001b[49m\u001b[43m)\u001b[49m\u001b[38;5;241m.\u001b[39munwrap()\n",
      "File \u001b[0;32m~/.pyenv/versions/3.10.14/lib/python3.10/site-packages/returns/_internal/pipeline/flow.py:50\u001b[0m, in \u001b[0;36mflow\u001b[0;34m(instance, *functions)\u001b[0m\n\u001b[1;32m      9\u001b[0m \u001b[38;5;28;01mdef\u001b[39;00m \u001b[38;5;21mflow\u001b[39m(\n\u001b[1;32m     10\u001b[0m     instance: _InstanceType,\n\u001b[1;32m     11\u001b[0m     \u001b[38;5;241m*\u001b[39mfunctions: _PipelineStepType,\n\u001b[1;32m     12\u001b[0m ) \u001b[38;5;241m-\u001b[39m\u001b[38;5;241m>\u001b[39m _ReturnType:  \u001b[38;5;66;03m# type: ignore[type-var]\u001b[39;00m\n\u001b[1;32m     13\u001b[0m \u001b[38;5;250m    \u001b[39m\u001b[38;5;124;03m\"\"\"\u001b[39;00m\n\u001b[1;32m     14\u001b[0m \u001b[38;5;124;03m    Allows to compose a value and up to multiple functions that use this value.\u001b[39;00m\n\u001b[1;32m     15\u001b[0m \n\u001b[0;32m   (...)\u001b[0m\n\u001b[1;32m     48\u001b[0m \u001b[38;5;124;03m    Requires our :ref:`mypy plugin <mypy-plugins>`.\u001b[39;00m\n\u001b[1;32m     49\u001b[0m \u001b[38;5;124;03m    \"\"\"\u001b[39;00m\n\u001b[0;32m---> 50\u001b[0m     \u001b[38;5;28;01mreturn\u001b[39;00m \u001b[43mreduce\u001b[49m\u001b[43m(\u001b[49m\u001b[43m  \u001b[49m\u001b[38;5;66;43;03m# type: ignore\u001b[39;49;00m\n\u001b[1;32m     51\u001b[0m \u001b[43m        \u001b[49m\u001b[38;5;28;43;01mlambda\u001b[39;49;00m\u001b[43m \u001b[49m\u001b[43mcomposed\u001b[49m\u001b[43m,\u001b[49m\u001b[43m \u001b[49m\u001b[43mfunction\u001b[49m\u001b[43m:\u001b[49m\u001b[43m \u001b[49m\u001b[43mfunction\u001b[49m\u001b[43m(\u001b[49m\u001b[43mcomposed\u001b[49m\u001b[43m)\u001b[49m\u001b[43m,\u001b[49m\u001b[43m  \u001b[49m\u001b[38;5;66;43;03m# type: ignore\u001b[39;49;00m\n\u001b[1;32m     52\u001b[0m \u001b[43m        \u001b[49m\u001b[43mfunctions\u001b[49m\u001b[43m,\u001b[49m\n\u001b[1;32m     53\u001b[0m \u001b[43m        \u001b[49m\u001b[43minstance\u001b[49m\u001b[43m,\u001b[49m\n\u001b[1;32m     54\u001b[0m \u001b[43m    \u001b[49m\u001b[43m)\u001b[49m\n",
      "File \u001b[0;32m~/.pyenv/versions/3.10.14/lib/python3.10/site-packages/returns/_internal/pipeline/flow.py:51\u001b[0m, in \u001b[0;36mflow.<locals>.<lambda>\u001b[0;34m(composed, function)\u001b[0m\n\u001b[1;32m      9\u001b[0m \u001b[38;5;28;01mdef\u001b[39;00m \u001b[38;5;21mflow\u001b[39m(\n\u001b[1;32m     10\u001b[0m     instance: _InstanceType,\n\u001b[1;32m     11\u001b[0m     \u001b[38;5;241m*\u001b[39mfunctions: _PipelineStepType,\n\u001b[1;32m     12\u001b[0m ) \u001b[38;5;241m-\u001b[39m\u001b[38;5;241m>\u001b[39m _ReturnType:  \u001b[38;5;66;03m# type: ignore[type-var]\u001b[39;00m\n\u001b[1;32m     13\u001b[0m \u001b[38;5;250m    \u001b[39m\u001b[38;5;124;03m\"\"\"\u001b[39;00m\n\u001b[1;32m     14\u001b[0m \u001b[38;5;124;03m    Allows to compose a value and up to multiple functions that use this value.\u001b[39;00m\n\u001b[1;32m     15\u001b[0m \n\u001b[0;32m   (...)\u001b[0m\n\u001b[1;32m     48\u001b[0m \u001b[38;5;124;03m    Requires our :ref:`mypy plugin <mypy-plugins>`.\u001b[39;00m\n\u001b[1;32m     49\u001b[0m \u001b[38;5;124;03m    \"\"\"\u001b[39;00m\n\u001b[1;32m     50\u001b[0m     \u001b[38;5;28;01mreturn\u001b[39;00m reduce(  \u001b[38;5;66;03m# type: ignore\u001b[39;00m\n\u001b[0;32m---> 51\u001b[0m         \u001b[38;5;28;01mlambda\u001b[39;00m composed, function: \u001b[43mfunction\u001b[49m\u001b[43m(\u001b[49m\u001b[43mcomposed\u001b[49m\u001b[43m)\u001b[49m,  \u001b[38;5;66;03m# type: ignore\u001b[39;00m\n\u001b[1;32m     52\u001b[0m         functions,\n\u001b[1;32m     53\u001b[0m         instance,\n\u001b[1;32m     54\u001b[0m     )\n",
      "File \u001b[0;32m~/.pyenv/versions/3.10.14/lib/python3.10/site-packages/returns/pointfree/lash.py:55\u001b[0m, in \u001b[0;36mlash.<locals>.factory\u001b[0;34m(container)\u001b[0m\n\u001b[1;32m     51\u001b[0m \u001b[38;5;129m@kinded\u001b[39m\n\u001b[1;32m     52\u001b[0m \u001b[38;5;28;01mdef\u001b[39;00m \u001b[38;5;21mfactory\u001b[39m(\n\u001b[1;32m     53\u001b[0m     container: KindN[_LashableKind, _FirstType, _SecondType, _ThirdType],\n\u001b[1;32m     54\u001b[0m ) \u001b[38;5;241m-\u001b[39m\u001b[38;5;241m>\u001b[39m KindN[_LashableKind, _FirstType, _UpdatedType, _ThirdType]:\n\u001b[0;32m---> 55\u001b[0m     \u001b[38;5;28;01mreturn\u001b[39;00m \u001b[43mcontainer\u001b[49m\u001b[38;5;241;43m.\u001b[39;49m\u001b[43mlash\u001b[49m\u001b[43m(\u001b[49m\u001b[43mfunction\u001b[49m\u001b[43m)\u001b[49m\n",
      "File \u001b[0;32m~/.pyenv/versions/3.10.14/lib/python3.10/site-packages/returns/maybe.py:380\u001b[0m, in \u001b[0;36m_Nothing.lash\u001b[0;34m(self, function)\u001b[0m\n\u001b[1;32m    378\u001b[0m \u001b[38;5;28;01mdef\u001b[39;00m \u001b[38;5;21mlash\u001b[39m(\u001b[38;5;28mself\u001b[39m, function):\n\u001b[1;32m    379\u001b[0m \u001b[38;5;250m    \u001b[39m\u001b[38;5;124;03m\"\"\"Composes this container with a function returning container.\"\"\"\u001b[39;00m\n\u001b[0;32m--> 380\u001b[0m     \u001b[38;5;28;01mreturn\u001b[39;00m \u001b[43mfunction\u001b[49m\u001b[43m(\u001b[49m\u001b[38;5;28;43;01mNone\u001b[39;49;00m\u001b[43m)\u001b[49m\n",
      "File \u001b[0;32m~/.pyenv/versions/3.10.14/lib/python3.10/site-packages/isla/evaluator.py:648\u001b[0m, in \u001b[0;36mevaluate_legacy.<locals>.<lambda>.<locals>.<lambda>\u001b[0;34m(_)\u001b[0m\n\u001b[1;32m    636\u001b[0m \u001b[38;5;28;01mdef\u001b[39;00m \u001b[38;5;21mraise_not_implemented_error\u001b[39m(\n\u001b[1;32m    637\u001b[0m     f: Formula,\n\u001b[1;32m    638\u001b[0m ) \u001b[38;5;241m-\u001b[39m\u001b[38;5;241m>\u001b[39m Maybe[ThreeValuedTruth]:\n\u001b[1;32m    639\u001b[0m     \u001b[38;5;28;01mraise\u001b[39;00m \u001b[38;5;167;01mNotImplementedError\u001b[39;00m(\n\u001b[1;32m    640\u001b[0m         \u001b[38;5;124mf\u001b[39m\u001b[38;5;124m\"\u001b[39m\u001b[38;5;124mDon\u001b[39m\u001b[38;5;124m'\u001b[39m\u001b[38;5;124mt know how to evaluate the formula \u001b[39m\u001b[38;5;132;01m{\u001b[39;00munparse_isla(f)\u001b[38;5;132;01m}\u001b[39;00m\u001b[38;5;124m\"\u001b[39m\n\u001b[1;32m    641\u001b[0m     )\n\u001b[1;32m    643\u001b[0m \u001b[38;5;28;01mreturn\u001b[39;00m flow(\n\u001b[1;32m    644\u001b[0m     Nothing,\n\u001b[1;32m    645\u001b[0m     \u001b[38;5;241m*\u001b[39m\u001b[38;5;28mmap\u001b[39m(\n\u001b[1;32m    646\u001b[0m         compose(\n\u001b[1;32m    647\u001b[0m             \u001b[38;5;28;01mlambda\u001b[39;00m f: (\n\u001b[0;32m--> 648\u001b[0m                 \u001b[38;5;28;01mlambda\u001b[39;00m _: \u001b[43mf\u001b[49m\u001b[43m(\u001b[49m\n\u001b[1;32m    649\u001b[0m \u001b[43m                    \u001b[49m\u001b[43mformula\u001b[49m\u001b[43m,\u001b[49m\u001b[43m \u001b[49m\u001b[43massignments\u001b[49m\u001b[43m,\u001b[49m\u001b[43m \u001b[49m\u001b[43mreference_tree\u001b[49m\u001b[43m,\u001b[49m\u001b[43m \u001b[49m\u001b[43mgraph\u001b[49m\u001b[43m,\u001b[49m\u001b[43m \u001b[49m\u001b[43mgrammar\u001b[49m\u001b[43m,\u001b[49m\u001b[43m \u001b[49m\u001b[43mtrie\u001b[49m\n\u001b[1;32m    650\u001b[0m \u001b[43m                \u001b[49m\u001b[43m)\u001b[49m\n\u001b[1;32m    651\u001b[0m             ),\n\u001b[1;32m    652\u001b[0m             lash,\n\u001b[1;32m    653\u001b[0m         ),\n\u001b[1;32m    654\u001b[0m         [\n\u001b[1;32m    655\u001b[0m             evaluate_exists_int_formula,\n\u001b[1;32m    656\u001b[0m             evaluate_smt_formula,\n\u001b[1;32m    657\u001b[0m             evaluate_quantified_formula,\n\u001b[1;32m    658\u001b[0m             evaluate_structural_predicate_formula,\n\u001b[1;32m    659\u001b[0m             evaluate_semantic_predicate_formula,\n\u001b[1;32m    660\u001b[0m             evaluate_negated_formula_formula,\n\u001b[1;32m    661\u001b[0m             evaluate_conjunctive_formula_formula,\n\u001b[1;32m    662\u001b[0m             evaluate_disjunctive_formula,\n\u001b[1;32m    663\u001b[0m             raise_not_implemented_error,\n\u001b[1;32m    664\u001b[0m         ],\n\u001b[1;32m    665\u001b[0m     ),\n\u001b[1;32m    666\u001b[0m )\u001b[38;5;241m.\u001b[39munwrap()\n",
      "File \u001b[0;32m~/.pyenv/versions/3.10.14/lib/python3.10/site-packages/isla/evaluator.py:846\u001b[0m, in \u001b[0;36mevaluate_quantified_formula\u001b[0;34m(formula, assignments, reference_tree, graph, grammar, trie)\u001b[0m\n\u001b[1;32m    832\u001b[0m     \u001b[38;5;28;01mreturn\u001b[39;00m Some(\n\u001b[1;32m    833\u001b[0m         ThreeValuedTruth\u001b[38;5;241m.\u001b[39mall(\n\u001b[1;32m    834\u001b[0m             evaluate_legacy(\n\u001b[0;32m   (...)\u001b[0m\n\u001b[1;32m    843\u001b[0m         )\n\u001b[1;32m    844\u001b[0m     )\n\u001b[1;32m    845\u001b[0m \u001b[38;5;28;01melif\u001b[39;00m \u001b[38;5;28misinstance\u001b[39m(formula, ExistsFormula):\n\u001b[0;32m--> 846\u001b[0m     result \u001b[38;5;241m=\u001b[39m \u001b[43mThreeValuedTruth\u001b[49m\u001b[38;5;241;43m.\u001b[39;49m\u001b[43many\u001b[49m\u001b[43m(\u001b[49m\n\u001b[1;32m    847\u001b[0m \u001b[43m        \u001b[49m\u001b[43mevaluate_legacy\u001b[49m\u001b[43m(\u001b[49m\n\u001b[1;32m    848\u001b[0m \u001b[43m            \u001b[49m\u001b[43mformula\u001b[49m\u001b[38;5;241;43m.\u001b[39;49m\u001b[43minner_formula\u001b[49m\u001b[43m,\u001b[49m\n\u001b[1;32m    849\u001b[0m \u001b[43m            \u001b[49m\u001b[43mgrammar\u001b[49m\u001b[43m,\u001b[49m\n\u001b[1;32m    850\u001b[0m \u001b[43m            \u001b[49m\u001b[43mnew_assignment\u001b[49m\u001b[43m,\u001b[49m\n\u001b[1;32m    851\u001b[0m \u001b[43m            \u001b[49m\u001b[43mreference_tree\u001b[49m\u001b[43m,\u001b[49m\n\u001b[1;32m    852\u001b[0m \u001b[43m            \u001b[49m\u001b[43mtrie\u001b[49m\u001b[43m,\u001b[49m\n\u001b[1;32m    853\u001b[0m \u001b[43m            \u001b[49m\u001b[43mgraph\u001b[49m\u001b[38;5;241;43m=\u001b[39;49m\u001b[43mgraph\u001b[49m\u001b[43m,\u001b[49m\n\u001b[1;32m    854\u001b[0m \u001b[43m        \u001b[49m\u001b[43m)\u001b[49m\n\u001b[1;32m    855\u001b[0m \u001b[43m        \u001b[49m\u001b[38;5;28;43;01mfor\u001b[39;49;00m\u001b[43m \u001b[49m\u001b[43mnew_assignment\u001b[49m\u001b[43m \u001b[49m\u001b[38;5;129;43;01min\u001b[39;49;00m\u001b[43m \u001b[49m\u001b[43mnew_assignments\u001b[49m\n\u001b[1;32m    856\u001b[0m \u001b[43m    \u001b[49m\u001b[43m)\u001b[49m\n\u001b[1;32m    858\u001b[0m     \u001b[38;5;28;01mreturn\u001b[39;00m Some(\n\u001b[1;32m    859\u001b[0m         ThreeValuedTruth\u001b[38;5;241m.\u001b[39munknown()\n\u001b[1;32m    860\u001b[0m         \u001b[38;5;28;01mif\u001b[39;00m \u001b[38;5;129;01mnot\u001b[39;00m result\u001b[38;5;241m.\u001b[39mis_true() \u001b[38;5;129;01mand\u001b[39;00m has_potential_matches\n\u001b[1;32m    861\u001b[0m         \u001b[38;5;28;01melse\u001b[39;00m result\n\u001b[1;32m    862\u001b[0m     )\n",
      "File \u001b[0;32m~/.pyenv/versions/3.10.14/lib/python3.10/site-packages/isla/three_valued_truth.py:62\u001b[0m, in \u001b[0;36mThreeValuedTruth.any\u001b[0;34m(args)\u001b[0m\n\u001b[1;32m     60\u001b[0m \u001b[38;5;129m@staticmethod\u001b[39m\n\u001b[1;32m     61\u001b[0m \u001b[38;5;28;01mdef\u001b[39;00m \u001b[38;5;21many\u001b[39m(args: Iterable[\u001b[38;5;124m\"\u001b[39m\u001b[38;5;124mThreeValuedTruth\u001b[39m\u001b[38;5;124m\"\u001b[39m]) \u001b[38;5;241m-\u001b[39m\u001b[38;5;241m>\u001b[39m \u001b[38;5;124m\"\u001b[39m\u001b[38;5;124mThreeValuedTruth\u001b[39m\u001b[38;5;124m\"\u001b[39m:\n\u001b[0;32m---> 62\u001b[0m     args \u001b[38;5;241m=\u001b[39m \u001b[38;5;28;43mlist\u001b[39;49m\u001b[43m(\u001b[49m\u001b[43margs\u001b[49m\u001b[43m)\u001b[49m\n\u001b[1;32m     63\u001b[0m     \u001b[38;5;28;01mif\u001b[39;00m \u001b[38;5;28many\u001b[39m(elem\u001b[38;5;241m.\u001b[39mis_true() \u001b[38;5;28;01mfor\u001b[39;00m elem \u001b[38;5;129;01min\u001b[39;00m args):\n\u001b[1;32m     64\u001b[0m         \u001b[38;5;28;01mreturn\u001b[39;00m ThreeValuedTruth\u001b[38;5;241m.\u001b[39mtrue()\n",
      "File \u001b[0;32m~/.pyenv/versions/3.10.14/lib/python3.10/site-packages/isla/evaluator.py:847\u001b[0m, in \u001b[0;36m<genexpr>\u001b[0;34m(.0)\u001b[0m\n\u001b[1;32m    832\u001b[0m     \u001b[38;5;28;01mreturn\u001b[39;00m Some(\n\u001b[1;32m    833\u001b[0m         ThreeValuedTruth\u001b[38;5;241m.\u001b[39mall(\n\u001b[1;32m    834\u001b[0m             evaluate_legacy(\n\u001b[0;32m   (...)\u001b[0m\n\u001b[1;32m    843\u001b[0m         )\n\u001b[1;32m    844\u001b[0m     )\n\u001b[1;32m    845\u001b[0m \u001b[38;5;28;01melif\u001b[39;00m \u001b[38;5;28misinstance\u001b[39m(formula, ExistsFormula):\n\u001b[1;32m    846\u001b[0m     result \u001b[38;5;241m=\u001b[39m ThreeValuedTruth\u001b[38;5;241m.\u001b[39many(\n\u001b[0;32m--> 847\u001b[0m         \u001b[43mevaluate_legacy\u001b[49m\u001b[43m(\u001b[49m\n\u001b[1;32m    848\u001b[0m \u001b[43m            \u001b[49m\u001b[43mformula\u001b[49m\u001b[38;5;241;43m.\u001b[39;49m\u001b[43minner_formula\u001b[49m\u001b[43m,\u001b[49m\n\u001b[1;32m    849\u001b[0m \u001b[43m            \u001b[49m\u001b[43mgrammar\u001b[49m\u001b[43m,\u001b[49m\n\u001b[1;32m    850\u001b[0m \u001b[43m            \u001b[49m\u001b[43mnew_assignment\u001b[49m\u001b[43m,\u001b[49m\n\u001b[1;32m    851\u001b[0m \u001b[43m            \u001b[49m\u001b[43mreference_tree\u001b[49m\u001b[43m,\u001b[49m\n\u001b[1;32m    852\u001b[0m \u001b[43m            \u001b[49m\u001b[43mtrie\u001b[49m\u001b[43m,\u001b[49m\n\u001b[1;32m    853\u001b[0m \u001b[43m            \u001b[49m\u001b[43mgraph\u001b[49m\u001b[38;5;241;43m=\u001b[39;49m\u001b[43mgraph\u001b[49m\u001b[43m,\u001b[49m\n\u001b[1;32m    854\u001b[0m \u001b[43m        \u001b[49m\u001b[43m)\u001b[49m\n\u001b[1;32m    855\u001b[0m         \u001b[38;5;28;01mfor\u001b[39;00m new_assignment \u001b[38;5;129;01min\u001b[39;00m new_assignments\n\u001b[1;32m    856\u001b[0m     )\n\u001b[1;32m    858\u001b[0m     \u001b[38;5;28;01mreturn\u001b[39;00m Some(\n\u001b[1;32m    859\u001b[0m         ThreeValuedTruth\u001b[38;5;241m.\u001b[39munknown()\n\u001b[1;32m    860\u001b[0m         \u001b[38;5;28;01mif\u001b[39;00m \u001b[38;5;129;01mnot\u001b[39;00m result\u001b[38;5;241m.\u001b[39mis_true() \u001b[38;5;129;01mand\u001b[39;00m has_potential_matches\n\u001b[1;32m    861\u001b[0m         \u001b[38;5;28;01melse\u001b[39;00m result\n\u001b[1;32m    862\u001b[0m     )\n",
      "File \u001b[0;32m~/.pyenv/versions/3.10.14/lib/python3.10/site-packages/isla/evaluator.py:643\u001b[0m, in \u001b[0;36mevaluate_legacy\u001b[0;34m(formula, grammar, assignments, reference_tree, trie, graph)\u001b[0m\n\u001b[1;32m    636\u001b[0m \u001b[38;5;28;01mdef\u001b[39;00m \u001b[38;5;21mraise_not_implemented_error\u001b[39m(\n\u001b[1;32m    637\u001b[0m     f: Formula,\n\u001b[1;32m    638\u001b[0m ) \u001b[38;5;241m-\u001b[39m\u001b[38;5;241m>\u001b[39m Maybe[ThreeValuedTruth]:\n\u001b[1;32m    639\u001b[0m     \u001b[38;5;28;01mraise\u001b[39;00m \u001b[38;5;167;01mNotImplementedError\u001b[39;00m(\n\u001b[1;32m    640\u001b[0m         \u001b[38;5;124mf\u001b[39m\u001b[38;5;124m\"\u001b[39m\u001b[38;5;124mDon\u001b[39m\u001b[38;5;124m'\u001b[39m\u001b[38;5;124mt know how to evaluate the formula \u001b[39m\u001b[38;5;132;01m{\u001b[39;00munparse_isla(f)\u001b[38;5;132;01m}\u001b[39;00m\u001b[38;5;124m\"\u001b[39m\n\u001b[1;32m    641\u001b[0m     )\n\u001b[0;32m--> 643\u001b[0m \u001b[38;5;28;01mreturn\u001b[39;00m \u001b[43mflow\u001b[49m\u001b[43m(\u001b[49m\n\u001b[1;32m    644\u001b[0m \u001b[43m    \u001b[49m\u001b[43mNothing\u001b[49m\u001b[43m,\u001b[49m\n\u001b[1;32m    645\u001b[0m \u001b[43m    \u001b[49m\u001b[38;5;241;43m*\u001b[39;49m\u001b[38;5;28;43mmap\u001b[39;49m\u001b[43m(\u001b[49m\n\u001b[1;32m    646\u001b[0m \u001b[43m        \u001b[49m\u001b[43mcompose\u001b[49m\u001b[43m(\u001b[49m\n\u001b[1;32m    647\u001b[0m \u001b[43m            \u001b[49m\u001b[38;5;28;43;01mlambda\u001b[39;49;00m\u001b[43m \u001b[49m\u001b[43mf\u001b[49m\u001b[43m:\u001b[49m\u001b[43m \u001b[49m\u001b[43m(\u001b[49m\n\u001b[1;32m    648\u001b[0m \u001b[43m                \u001b[49m\u001b[38;5;28;43;01mlambda\u001b[39;49;00m\u001b[43m \u001b[49m\u001b[43m_\u001b[49m\u001b[43m:\u001b[49m\u001b[43m \u001b[49m\u001b[43mf\u001b[49m\u001b[43m(\u001b[49m\n\u001b[1;32m    649\u001b[0m \u001b[43m                    \u001b[49m\u001b[43mformula\u001b[49m\u001b[43m,\u001b[49m\u001b[43m \u001b[49m\u001b[43massignments\u001b[49m\u001b[43m,\u001b[49m\u001b[43m \u001b[49m\u001b[43mreference_tree\u001b[49m\u001b[43m,\u001b[49m\u001b[43m \u001b[49m\u001b[43mgraph\u001b[49m\u001b[43m,\u001b[49m\u001b[43m \u001b[49m\u001b[43mgrammar\u001b[49m\u001b[43m,\u001b[49m\u001b[43m \u001b[49m\u001b[43mtrie\u001b[49m\n\u001b[1;32m    650\u001b[0m \u001b[43m                \u001b[49m\u001b[43m)\u001b[49m\n\u001b[1;32m    651\u001b[0m \u001b[43m            \u001b[49m\u001b[43m)\u001b[49m\u001b[43m,\u001b[49m\n\u001b[1;32m    652\u001b[0m \u001b[43m            \u001b[49m\u001b[43mlash\u001b[49m\u001b[43m,\u001b[49m\n\u001b[1;32m    653\u001b[0m \u001b[43m        \u001b[49m\u001b[43m)\u001b[49m\u001b[43m,\u001b[49m\n\u001b[1;32m    654\u001b[0m \u001b[43m        \u001b[49m\u001b[43m[\u001b[49m\n\u001b[1;32m    655\u001b[0m \u001b[43m            \u001b[49m\u001b[43mevaluate_exists_int_formula\u001b[49m\u001b[43m,\u001b[49m\n\u001b[1;32m    656\u001b[0m \u001b[43m            \u001b[49m\u001b[43mevaluate_smt_formula\u001b[49m\u001b[43m,\u001b[49m\n\u001b[1;32m    657\u001b[0m \u001b[43m            \u001b[49m\u001b[43mevaluate_quantified_formula\u001b[49m\u001b[43m,\u001b[49m\n\u001b[1;32m    658\u001b[0m \u001b[43m            \u001b[49m\u001b[43mevaluate_structural_predicate_formula\u001b[49m\u001b[43m,\u001b[49m\n\u001b[1;32m    659\u001b[0m \u001b[43m            \u001b[49m\u001b[43mevaluate_semantic_predicate_formula\u001b[49m\u001b[43m,\u001b[49m\n\u001b[1;32m    660\u001b[0m \u001b[43m            \u001b[49m\u001b[43mevaluate_negated_formula_formula\u001b[49m\u001b[43m,\u001b[49m\n\u001b[1;32m    661\u001b[0m \u001b[43m            \u001b[49m\u001b[43mevaluate_conjunctive_formula_formula\u001b[49m\u001b[43m,\u001b[49m\n\u001b[1;32m    662\u001b[0m \u001b[43m            \u001b[49m\u001b[43mevaluate_disjunctive_formula\u001b[49m\u001b[43m,\u001b[49m\n\u001b[1;32m    663\u001b[0m \u001b[43m            \u001b[49m\u001b[43mraise_not_implemented_error\u001b[49m\u001b[43m,\u001b[49m\n\u001b[1;32m    664\u001b[0m \u001b[43m        \u001b[49m\u001b[43m]\u001b[49m\u001b[43m,\u001b[49m\n\u001b[1;32m    665\u001b[0m \u001b[43m    \u001b[49m\u001b[43m)\u001b[49m\u001b[43m,\u001b[49m\n\u001b[1;32m    666\u001b[0m \u001b[43m\u001b[49m\u001b[43m)\u001b[49m\u001b[38;5;241m.\u001b[39munwrap()\n",
      "File \u001b[0;32m~/.pyenv/versions/3.10.14/lib/python3.10/site-packages/returns/_internal/pipeline/flow.py:50\u001b[0m, in \u001b[0;36mflow\u001b[0;34m(instance, *functions)\u001b[0m\n\u001b[1;32m      9\u001b[0m \u001b[38;5;28;01mdef\u001b[39;00m \u001b[38;5;21mflow\u001b[39m(\n\u001b[1;32m     10\u001b[0m     instance: _InstanceType,\n\u001b[1;32m     11\u001b[0m     \u001b[38;5;241m*\u001b[39mfunctions: _PipelineStepType,\n\u001b[1;32m     12\u001b[0m ) \u001b[38;5;241m-\u001b[39m\u001b[38;5;241m>\u001b[39m _ReturnType:  \u001b[38;5;66;03m# type: ignore[type-var]\u001b[39;00m\n\u001b[1;32m     13\u001b[0m \u001b[38;5;250m    \u001b[39m\u001b[38;5;124;03m\"\"\"\u001b[39;00m\n\u001b[1;32m     14\u001b[0m \u001b[38;5;124;03m    Allows to compose a value and up to multiple functions that use this value.\u001b[39;00m\n\u001b[1;32m     15\u001b[0m \n\u001b[0;32m   (...)\u001b[0m\n\u001b[1;32m     48\u001b[0m \u001b[38;5;124;03m    Requires our :ref:`mypy plugin <mypy-plugins>`.\u001b[39;00m\n\u001b[1;32m     49\u001b[0m \u001b[38;5;124;03m    \"\"\"\u001b[39;00m\n\u001b[0;32m---> 50\u001b[0m     \u001b[38;5;28;01mreturn\u001b[39;00m \u001b[43mreduce\u001b[49m\u001b[43m(\u001b[49m\u001b[43m  \u001b[49m\u001b[38;5;66;43;03m# type: ignore\u001b[39;49;00m\n\u001b[1;32m     51\u001b[0m \u001b[43m        \u001b[49m\u001b[38;5;28;43;01mlambda\u001b[39;49;00m\u001b[43m \u001b[49m\u001b[43mcomposed\u001b[49m\u001b[43m,\u001b[49m\u001b[43m \u001b[49m\u001b[43mfunction\u001b[49m\u001b[43m:\u001b[49m\u001b[43m \u001b[49m\u001b[43mfunction\u001b[49m\u001b[43m(\u001b[49m\u001b[43mcomposed\u001b[49m\u001b[43m)\u001b[49m\u001b[43m,\u001b[49m\u001b[43m  \u001b[49m\u001b[38;5;66;43;03m# type: ignore\u001b[39;49;00m\n\u001b[1;32m     52\u001b[0m \u001b[43m        \u001b[49m\u001b[43mfunctions\u001b[49m\u001b[43m,\u001b[49m\n\u001b[1;32m     53\u001b[0m \u001b[43m        \u001b[49m\u001b[43minstance\u001b[49m\u001b[43m,\u001b[49m\n\u001b[1;32m     54\u001b[0m \u001b[43m    \u001b[49m\u001b[43m)\u001b[49m\n",
      "File \u001b[0;32m~/.pyenv/versions/3.10.14/lib/python3.10/site-packages/returns/_internal/pipeline/flow.py:51\u001b[0m, in \u001b[0;36mflow.<locals>.<lambda>\u001b[0;34m(composed, function)\u001b[0m\n\u001b[1;32m      9\u001b[0m \u001b[38;5;28;01mdef\u001b[39;00m \u001b[38;5;21mflow\u001b[39m(\n\u001b[1;32m     10\u001b[0m     instance: _InstanceType,\n\u001b[1;32m     11\u001b[0m     \u001b[38;5;241m*\u001b[39mfunctions: _PipelineStepType,\n\u001b[1;32m     12\u001b[0m ) \u001b[38;5;241m-\u001b[39m\u001b[38;5;241m>\u001b[39m _ReturnType:  \u001b[38;5;66;03m# type: ignore[type-var]\u001b[39;00m\n\u001b[1;32m     13\u001b[0m \u001b[38;5;250m    \u001b[39m\u001b[38;5;124;03m\"\"\"\u001b[39;00m\n\u001b[1;32m     14\u001b[0m \u001b[38;5;124;03m    Allows to compose a value and up to multiple functions that use this value.\u001b[39;00m\n\u001b[1;32m     15\u001b[0m \n\u001b[0;32m   (...)\u001b[0m\n\u001b[1;32m     48\u001b[0m \u001b[38;5;124;03m    Requires our :ref:`mypy plugin <mypy-plugins>`.\u001b[39;00m\n\u001b[1;32m     49\u001b[0m \u001b[38;5;124;03m    \"\"\"\u001b[39;00m\n\u001b[1;32m     50\u001b[0m     \u001b[38;5;28;01mreturn\u001b[39;00m reduce(  \u001b[38;5;66;03m# type: ignore\u001b[39;00m\n\u001b[0;32m---> 51\u001b[0m         \u001b[38;5;28;01mlambda\u001b[39;00m composed, function: \u001b[43mfunction\u001b[49m\u001b[43m(\u001b[49m\u001b[43mcomposed\u001b[49m\u001b[43m)\u001b[49m,  \u001b[38;5;66;03m# type: ignore\u001b[39;00m\n\u001b[1;32m     52\u001b[0m         functions,\n\u001b[1;32m     53\u001b[0m         instance,\n\u001b[1;32m     54\u001b[0m     )\n",
      "File \u001b[0;32m~/.pyenv/versions/3.10.14/lib/python3.10/site-packages/returns/pointfree/lash.py:55\u001b[0m, in \u001b[0;36mlash.<locals>.factory\u001b[0;34m(container)\u001b[0m\n\u001b[1;32m     51\u001b[0m \u001b[38;5;129m@kinded\u001b[39m\n\u001b[1;32m     52\u001b[0m \u001b[38;5;28;01mdef\u001b[39;00m \u001b[38;5;21mfactory\u001b[39m(\n\u001b[1;32m     53\u001b[0m     container: KindN[_LashableKind, _FirstType, _SecondType, _ThirdType],\n\u001b[1;32m     54\u001b[0m ) \u001b[38;5;241m-\u001b[39m\u001b[38;5;241m>\u001b[39m KindN[_LashableKind, _FirstType, _UpdatedType, _ThirdType]:\n\u001b[0;32m---> 55\u001b[0m     \u001b[38;5;28;01mreturn\u001b[39;00m \u001b[43mcontainer\u001b[49m\u001b[38;5;241;43m.\u001b[39;49m\u001b[43mlash\u001b[49m\u001b[43m(\u001b[49m\u001b[43mfunction\u001b[49m\u001b[43m)\u001b[49m\n",
      "File \u001b[0;32m~/.pyenv/versions/3.10.14/lib/python3.10/site-packages/returns/maybe.py:380\u001b[0m, in \u001b[0;36m_Nothing.lash\u001b[0;34m(self, function)\u001b[0m\n\u001b[1;32m    378\u001b[0m \u001b[38;5;28;01mdef\u001b[39;00m \u001b[38;5;21mlash\u001b[39m(\u001b[38;5;28mself\u001b[39m, function):\n\u001b[1;32m    379\u001b[0m \u001b[38;5;250m    \u001b[39m\u001b[38;5;124;03m\"\"\"Composes this container with a function returning container.\"\"\"\u001b[39;00m\n\u001b[0;32m--> 380\u001b[0m     \u001b[38;5;28;01mreturn\u001b[39;00m \u001b[43mfunction\u001b[49m\u001b[43m(\u001b[49m\u001b[38;5;28;43;01mNone\u001b[39;49;00m\u001b[43m)\u001b[49m\n",
      "File \u001b[0;32m~/.pyenv/versions/3.10.14/lib/python3.10/site-packages/isla/evaluator.py:648\u001b[0m, in \u001b[0;36mevaluate_legacy.<locals>.<lambda>.<locals>.<lambda>\u001b[0;34m(_)\u001b[0m\n\u001b[1;32m    636\u001b[0m \u001b[38;5;28;01mdef\u001b[39;00m \u001b[38;5;21mraise_not_implemented_error\u001b[39m(\n\u001b[1;32m    637\u001b[0m     f: Formula,\n\u001b[1;32m    638\u001b[0m ) \u001b[38;5;241m-\u001b[39m\u001b[38;5;241m>\u001b[39m Maybe[ThreeValuedTruth]:\n\u001b[1;32m    639\u001b[0m     \u001b[38;5;28;01mraise\u001b[39;00m \u001b[38;5;167;01mNotImplementedError\u001b[39;00m(\n\u001b[1;32m    640\u001b[0m         \u001b[38;5;124mf\u001b[39m\u001b[38;5;124m\"\u001b[39m\u001b[38;5;124mDon\u001b[39m\u001b[38;5;124m'\u001b[39m\u001b[38;5;124mt know how to evaluate the formula \u001b[39m\u001b[38;5;132;01m{\u001b[39;00munparse_isla(f)\u001b[38;5;132;01m}\u001b[39;00m\u001b[38;5;124m\"\u001b[39m\n\u001b[1;32m    641\u001b[0m     )\n\u001b[1;32m    643\u001b[0m \u001b[38;5;28;01mreturn\u001b[39;00m flow(\n\u001b[1;32m    644\u001b[0m     Nothing,\n\u001b[1;32m    645\u001b[0m     \u001b[38;5;241m*\u001b[39m\u001b[38;5;28mmap\u001b[39m(\n\u001b[1;32m    646\u001b[0m         compose(\n\u001b[1;32m    647\u001b[0m             \u001b[38;5;28;01mlambda\u001b[39;00m f: (\n\u001b[0;32m--> 648\u001b[0m                 \u001b[38;5;28;01mlambda\u001b[39;00m _: \u001b[43mf\u001b[49m\u001b[43m(\u001b[49m\n\u001b[1;32m    649\u001b[0m \u001b[43m                    \u001b[49m\u001b[43mformula\u001b[49m\u001b[43m,\u001b[49m\u001b[43m \u001b[49m\u001b[43massignments\u001b[49m\u001b[43m,\u001b[49m\u001b[43m \u001b[49m\u001b[43mreference_tree\u001b[49m\u001b[43m,\u001b[49m\u001b[43m \u001b[49m\u001b[43mgraph\u001b[49m\u001b[43m,\u001b[49m\u001b[43m \u001b[49m\u001b[43mgrammar\u001b[49m\u001b[43m,\u001b[49m\u001b[43m \u001b[49m\u001b[43mtrie\u001b[49m\n\u001b[1;32m    650\u001b[0m \u001b[43m                \u001b[49m\u001b[43m)\u001b[49m\n\u001b[1;32m    651\u001b[0m             ),\n\u001b[1;32m    652\u001b[0m             lash,\n\u001b[1;32m    653\u001b[0m         ),\n\u001b[1;32m    654\u001b[0m         [\n\u001b[1;32m    655\u001b[0m             evaluate_exists_int_formula,\n\u001b[1;32m    656\u001b[0m             evaluate_smt_formula,\n\u001b[1;32m    657\u001b[0m             evaluate_quantified_formula,\n\u001b[1;32m    658\u001b[0m             evaluate_structural_predicate_formula,\n\u001b[1;32m    659\u001b[0m             evaluate_semantic_predicate_formula,\n\u001b[1;32m    660\u001b[0m             evaluate_negated_formula_formula,\n\u001b[1;32m    661\u001b[0m             evaluate_conjunctive_formula_formula,\n\u001b[1;32m    662\u001b[0m             evaluate_disjunctive_formula,\n\u001b[1;32m    663\u001b[0m             raise_not_implemented_error,\n\u001b[1;32m    664\u001b[0m         ],\n\u001b[1;32m    665\u001b[0m     ),\n\u001b[1;32m    666\u001b[0m )\u001b[38;5;241m.\u001b[39munwrap()\n",
      "File \u001b[0;32m~/.pyenv/versions/3.10.14/lib/python3.10/site-packages/isla/evaluator.py:748\u001b[0m, in \u001b[0;36mevaluate_smt_formula\u001b[0;34m(formula, assignments, _1, _2, _3, _4)\u001b[0m\n\u001b[1;32m    729\u001b[0m \u001b[38;5;28;01mdef\u001b[39;00m \u001b[38;5;21mfallback\u001b[39m(_) \u001b[38;5;241m-\u001b[39m\u001b[38;5;241m>\u001b[39m Maybe[ThreeValuedTruth]:\n\u001b[1;32m    730\u001b[0m     \u001b[38;5;28;01mreturn\u001b[39;00m Some(\n\u001b[1;32m    731\u001b[0m         is_valid(\n\u001b[1;32m    732\u001b[0m             z3\u001b[38;5;241m.\u001b[39msubstitute(\n\u001b[0;32m   (...)\u001b[0m\n\u001b[1;32m    743\u001b[0m         )\n\u001b[1;32m    744\u001b[0m     )\n\u001b[1;32m    746\u001b[0m \u001b[38;5;28;01mreturn\u001b[39;00m (\n\u001b[1;32m    747\u001b[0m     \u001b[43mevaluate_z3_expression\u001b[49m\u001b[43m(\u001b[49m\u001b[43mz3_formula\u001b[49m\u001b[43m)\u001b[49m\n\u001b[0;32m--> 748\u001b[0m \u001b[43m    \u001b[49m\u001b[38;5;241;43m.\u001b[39;49m\u001b[43mmap\u001b[49m\u001b[43m(\u001b[49m\u001b[43mprocess_translation\u001b[49m\u001b[43m)\u001b[49m\n\u001b[1;32m    749\u001b[0m     \u001b[38;5;241m.\u001b[39mlash(compose(fallback, Success))\n\u001b[1;32m    750\u001b[0m     \u001b[38;5;241m.\u001b[39munwrap()\n\u001b[1;32m    751\u001b[0m )\n",
      "File \u001b[0;32m~/.pyenv/versions/3.10.14/lib/python3.10/site-packages/returns/result.py:441\u001b[0m, in \u001b[0;36mSuccess.map\u001b[0;34m(self, function)\u001b[0m\n\u001b[1;32m    439\u001b[0m \u001b[38;5;28;01mdef\u001b[39;00m \u001b[38;5;21mmap\u001b[39m(\u001b[38;5;28mself\u001b[39m, function):\n\u001b[1;32m    440\u001b[0m \u001b[38;5;250m    \u001b[39m\u001b[38;5;124;03m\"\"\"Composes current container with a pure function.\"\"\"\u001b[39;00m\n\u001b[0;32m--> 441\u001b[0m     \u001b[38;5;28;01mreturn\u001b[39;00m Success(\u001b[43mfunction\u001b[49m\u001b[43m(\u001b[49m\u001b[38;5;28;43mself\u001b[39;49m\u001b[38;5;241;43m.\u001b[39;49m\u001b[43m_inner_value\u001b[49m\u001b[43m)\u001b[49m)\n",
      "File \u001b[0;32m~/.pyenv/versions/3.10.14/lib/python3.10/site-packages/isla/evaluator.py:711\u001b[0m, in \u001b[0;36mevaluate_smt_formula.<locals>.process_translation\u001b[0;34m(translation)\u001b[0m\n\u001b[1;32m    708\u001b[0m \u001b[38;5;28;01mdef\u001b[39;00m \u001b[38;5;21mprocess_translation\u001b[39m(translation: Z3EvalResult) \u001b[38;5;241m-\u001b[39m\u001b[38;5;241m>\u001b[39m Maybe[ThreeValuedTruth]:\n\u001b[1;32m    709\u001b[0m     var_map: Dict[\u001b[38;5;28mstr\u001b[39m, Variable] \u001b[38;5;241m=\u001b[39m {var\u001b[38;5;241m.\u001b[39mname: var \u001b[38;5;28;01mfor\u001b[39;00m var \u001b[38;5;129;01min\u001b[39;00m assignments}\n\u001b[0;32m--> 711\u001b[0m     args_instantiation \u001b[38;5;241m=\u001b[39m [assignments[var_map[arg]][\u001b[38;5;241m1\u001b[39m] \u001b[38;5;28;01mfor\u001b[39;00m arg \u001b[38;5;129;01min\u001b[39;00m translation[\u001b[38;5;241m0\u001b[39m]]\n\u001b[1;32m    713\u001b[0m     \u001b[38;5;28;01mif\u001b[39;00m \u001b[38;5;28many\u001b[39m(inst\u001b[38;5;241m.\u001b[39mis_open() \u001b[38;5;28;01mfor\u001b[39;00m inst \u001b[38;5;129;01min\u001b[39;00m args_instantiation):\n\u001b[1;32m    714\u001b[0m         \u001b[38;5;28;01mreturn\u001b[39;00m Some(ThreeValuedTruth\u001b[38;5;241m.\u001b[39munknown())\n",
      "\u001b[0;31mKeyboardInterrupt\u001b[0m: "
     ]
    }
   ],
   "source": [
    "logging.basicConfig(filename='avicenna.log', filemode='w', encoding='utf-8', level=logging.INFO, force=True)\n",
    "# only 2 constraints used in the end why\n",
    "best_invariant = avicenna.explain() # unparse with islaunparse for further use\n"
   ]
  },
  {
   "cell_type": "code",
   "execution_count": null,
   "id": "18c1892f",
   "metadata": {},
   "outputs": [
    {
     "name": "stdout",
     "output_type": "stream",
     "text": [
      "{}\n",
      "[(ConjunctiveFormula(ForallFormula(BoundVariable(\"elem_1\", \"<x>\"), Constant(\"start\", \"<start>\"), ExistsFormula(BoundVariable(\"elem_2\", \"<y>\"), Constant(\"start\", \"<start>\"), SMTFormula('(> (str.to_int elem_1) (str.to_int elem_2))', BoundVariable(\"elem_1\", \"<x>\"), BoundVariable(\"elem_2\", \"<y>\"), ))), ForallFormula(BoundVariable(\"elem_0\", \"<z>\"), Constant(\"start\", \"<start>\"), ExistsFormula(BoundVariable(\"elem_3\", \"<x>\"), Constant(\"start\", \"<start>\"), SMTFormula('(> (str.to_int elem_0) (str.to_int elem_3))', BoundVariable(\"elem_0\", \"<z>\"), BoundVariable(\"elem_3\", \"<x>\"), )))), 1.0, 1.0), (ConjunctiveFormula(ForallFormula(BoundVariable(\"elem_1\", \"<x>\"), Constant(\"start\", \"<start>\"), ExistsFormula(BoundVariable(\"elem_2\", \"<y>\"), Constant(\"start\", \"<start>\"), SMTFormula('(> (str.to_int elem_1) (str.to_int elem_2))', BoundVariable(\"elem_1\", \"<x>\"), BoundVariable(\"elem_2\", \"<y>\"), ))), ForallFormula(BoundVariable(\"elem_0\", \"<z>\"), Constant(\"start\", \"<start>\"), ExistsFormula(BoundVariable(\"elem_3\", \"<y>\"), Constant(\"start\", \"<start>\"), SMTFormula('(> (str.to_int elem_0) (str.to_int elem_3))', BoundVariable(\"elem_0\", \"<z>\"), BoundVariable(\"elem_3\", \"<y>\"), )))), 0.8254237288135593, 1.0), (ConjunctiveFormula(ForallFormula(BoundVariable(\"elem_1\", \"<z>\"), Constant(\"start\", \"<start>\"), ExistsFormula(BoundVariable(\"elem_2\", \"<x>\"), Constant(\"start\", \"<start>\"), SMTFormula('(> (str.to_int elem_1) (str.to_int elem_2))', BoundVariable(\"elem_1\", \"<z>\"), BoundVariable(\"elem_2\", \"<x>\"), ))), ForallFormula(BoundVariable(\"elem_0\", \"<z>\"), Constant(\"start\", \"<start>\"), ExistsFormula(BoundVariable(\"elem_3\", \"<y>\"), Constant(\"start\", \"<start>\"), SMTFormula('(> (str.to_int elem_0) (str.to_int elem_3))', BoundVariable(\"elem_0\", \"<z>\"), BoundVariable(\"elem_3\", \"<y>\"), )))), 0.7677966101694915, 1.0), (ConjunctiveFormula(ForallFormula(BoundVariable(\"elem_1\", \"<z>\"), Constant(\"start\", \"<start>\"), ExistsFormula(BoundVariable(\"elem_2\", \"<x>\"), Constant(\"start\", \"<start>\"), SMTFormula('(> (str.to_int elem_1) (str.to_int elem_2))', BoundVariable(\"elem_1\", \"<z>\"), BoundVariable(\"elem_2\", \"<x>\"), ))), ForallFormula(BoundVariable(\"elem_0\", \"<x>\"), Constant(\"start\", \"<start>\"), ExistsFormula(BoundVariable(\"elem_3\", \"<integer>\"), Constant(\"start\", \"<start>\"), SMTFormula('(> (str.to_int elem_0) (str.to_int elem_3))', BoundVariable(\"elem_0\", \"<x>\"), BoundVariable(\"elem_3\", \"<integer>\"), )))), 0.7338983050847457, 1.0), (ConjunctiveFormula(ForallFormula(BoundVariable(\"elem_1\", \"<z>\"), Constant(\"start\", \"<start>\"), ExistsFormula(BoundVariable(\"elem_2\", \"<integer>\"), Constant(\"start\", \"<start>\"), SMTFormula('(> (str.to_int elem_1) (str.to_int elem_2))', BoundVariable(\"elem_1\", \"<z>\"), BoundVariable(\"elem_2\", \"<integer>\"), ))), ForallFormula(BoundVariable(\"elem_0\", \"<x>\"), Constant(\"start\", \"<start>\"), ExistsFormula(BoundVariable(\"elem_3\", \"<y>\"), Constant(\"start\", \"<start>\"), SMTFormula('(> (str.to_int elem_0) (str.to_int elem_3))', BoundVariable(\"elem_0\", \"<x>\"), BoundVariable(\"elem_3\", \"<y>\"), )))), 0.7050847457627119, 1.0), (ConjunctiveFormula(ForallFormula(BoundVariable(\"elem_1\", \"<x>\"), Constant(\"start\", \"<start>\"), ExistsFormula(BoundVariable(\"elem_2\", \"<y>\"), Constant(\"start\", \"<start>\"), SMTFormula('(> (str.to_int elem_1) (str.to_int elem_2))', BoundVariable(\"elem_1\", \"<x>\"), BoundVariable(\"elem_2\", \"<y>\"), ))), ExistsFormula(BoundVariable(\"container1\", \"<x>\"), Constant(\"start\", \"<start>\"), ExistsFormula(BoundVariable(\"length_field\", \"<z>\"), Constant(\"start\", \"<start>\"), SMTFormula('(< (str.len container1) (str.to_int length_field))', BoundVariable(\"length_field\", \"<z>\"), BoundVariable(\"container1\", \"<x>\"), )))), 0.7016949152542373, 1.0), (ConjunctiveFormula(ForallFormula(BoundVariable(\"elem_1\", \"<z>\"), Constant(\"start\", \"<start>\"), ExistsFormula(BoundVariable(\"elem_2\", \"<x>\"), Constant(\"start\", \"<start>\"), SMTFormula('(> (str.to_int elem_1) (str.to_int elem_2))', BoundVariable(\"elem_1\", \"<z>\"), BoundVariable(\"elem_2\", \"<x>\"), ))), ExistsFormula(BoundVariable(\"container1\", \"<y>\"), Constant(\"start\", \"<start>\"), ExistsFormula(BoundVariable(\"length_field\", \"<x>\"), Constant(\"start\", \"<start>\"), SMTFormula('(< (str.len container1) (str.to_int length_field))', BoundVariable(\"length_field\", \"<x>\"), BoundVariable(\"container1\", \"<y>\"), )))), 0.6966101694915254, 1.0), (ConjunctiveFormula(ExistsFormula(BoundVariable(\"container\", \"<x>\"), Constant(\"start\", \"<start>\"), ExistsFormula(BoundVariable(\"length_field\", \"<z>\"), Constant(\"start\", \"<start>\"), SMTFormula('(<= (str.len container) (str.to_int length_field))', BoundVariable(\"length_field\", \"<z>\"), BoundVariable(\"container\", \"<x>\"), ))), ForallFormula(BoundVariable(\"elem_1\", \"<x>\"), Constant(\"start\", \"<start>\"), ExistsFormula(BoundVariable(\"elem_2\", \"<y>\"), Constant(\"start\", \"<start>\"), SMTFormula('(> (str.to_int elem_1) (str.to_int elem_2))', BoundVariable(\"elem_1\", \"<x>\"), BoundVariable(\"elem_2\", \"<y>\"), )))), 0.6779661016949152, 1.0), (ConjunctiveFormula(ForallFormula(BoundVariable(\"elem_1\", \"<x>\"), Constant(\"start\", \"<start>\"), ExistsFormula(BoundVariable(\"elem_2\", \"<integer>\"), Constant(\"start\", \"<start>\"), SMTFormula('(> (str.to_int elem_1) (str.to_int elem_2))', BoundVariable(\"elem_1\", \"<x>\"), BoundVariable(\"elem_2\", \"<integer>\"), ))), ForallFormula(BoundVariable(\"elem_0\", \"<z>\"), Constant(\"start\", \"<start>\"), ExistsFormula(BoundVariable(\"elem_3\", \"<y>\"), Constant(\"start\", \"<start>\"), SMTFormula('(> (str.to_int elem_0) (str.to_int elem_3))', BoundVariable(\"elem_0\", \"<z>\"), BoundVariable(\"elem_3\", \"<y>\"), )))), 0.6711864406779662, 1.0), (ConjunctiveFormula(ExistsFormula(BoundVariable(\"container\", \"<y>\"), Constant(\"start\", \"<start>\"), ExistsFormula(BoundVariable(\"length_field\", \"<x>\"), Constant(\"start\", \"<start>\"), SMTFormula('(<= (str.len container) (str.to_int length_field))', BoundVariable(\"length_field\", \"<x>\"), BoundVariable(\"container\", \"<y>\"), ))), ForallFormula(BoundVariable(\"elem_1\", \"<z>\"), Constant(\"start\", \"<start>\"), ExistsFormula(BoundVariable(\"elem_2\", \"<x>\"), Constant(\"start\", \"<start>\"), SMTFormula('(> (str.to_int elem_1) (str.to_int elem_2))', BoundVariable(\"elem_1\", \"<z>\"), BoundVariable(\"elem_2\", \"<x>\"), )))), 0.6677966101694915, 1.0), (ConjunctiveFormula(ForallFormula(BoundVariable(\"elem\", \"<z>\"), Constant(\"start\", \"<start>\"), SMTFormula('(>= (str.to_int elem) (str.to_int \"3\"))', BoundVariable(\"elem\", \"<z>\"), )), ForallFormula(BoundVariable(\"elem_1\", \"<x>\"), Constant(\"start\", \"<start>\"), ExistsFormula(BoundVariable(\"elem_2\", \"<y>\"), Constant(\"start\", \"<start>\"), SMTFormula('(> (str.to_int elem_1) (str.to_int elem_2))', BoundVariable(\"elem_1\", \"<x>\"), BoundVariable(\"elem_2\", \"<y>\"), )))), 0.6627118644067796, 1.0), (ConjunctiveFormula(ForallFormula(BoundVariable(\"elem_1\", \"<x>\"), Constant(\"start\", \"<start>\"), ExistsFormula(BoundVariable(\"elem_2\", \"<y>\"), Constant(\"start\", \"<start>\"), SMTFormula('(> (str.to_int elem_1) (str.to_int elem_2))', BoundVariable(\"elem_1\", \"<x>\"), BoundVariable(\"elem_2\", \"<y>\"), ))), ExistsFormula(BoundVariable(\"container1\", \"<y>\"), Constant(\"start\", \"<start>\"), ExistsFormula(BoundVariable(\"length_field\", \"<z>\"), Constant(\"start\", \"<start>\"), SMTFormula('(< (str.len container1) (str.to_int length_field))', BoundVariable(\"length_field\", \"<z>\"), BoundVariable(\"container1\", \"<y>\"), )))), 0.6559322033898305, 1.0), (ConjunctiveFormula(ForallFormula(BoundVariable(\"elem\", \"<z>\"), Constant(\"start\", \"<start>\"), SMTFormula('(> (str.to_int elem) (str.to_int \"1\"))', BoundVariable(\"elem\", \"<z>\"), )), ForallFormula(BoundVariable(\"elem_1\", \"<x>\"), Constant(\"start\", \"<start>\"), ExistsFormula(BoundVariable(\"elem_2\", \"<y>\"), Constant(\"start\", \"<start>\"), SMTFormula('(> (str.to_int elem_1) (str.to_int elem_2))', BoundVariable(\"elem_1\", \"<x>\"), BoundVariable(\"elem_2\", \"<y>\"), )))), 0.6423728813559322, 1.0), (ConjunctiveFormula(ForallFormula(BoundVariable(\"elem_1\", \"<x>\"), Constant(\"start\", \"<start>\"), ExistsFormula(BoundVariable(\"elem_2\", \"<y>\"), Constant(\"start\", \"<start>\"), SMTFormula('(> (str.to_int elem_1) (str.to_int elem_2))', BoundVariable(\"elem_1\", \"<x>\"), BoundVariable(\"elem_2\", \"<y>\"), ))), ExistsFormula(BoundVariable(\"container1\", \"<integer>\"), Constant(\"start\", \"<start>\"), ExistsFormula(BoundVariable(\"length_field\", \"<z>\"), Constant(\"start\", \"<start>\"), SMTFormula('(< (str.len container1) (str.to_int length_field))', BoundVariable(\"length_field\", \"<z>\"), BoundVariable(\"container1\", \"<integer>\"), )))), 0.6423728813559322, 1.0), (ConjunctiveFormula(ForallFormula(BoundVariable(\"elem_1\", \"<x>\"), Constant(\"start\", \"<start>\"), ExistsFormula(BoundVariable(\"elem_2\", \"<y>\"), Constant(\"start\", \"<start>\"), SMTFormula('(> (str.to_int elem_1) (str.to_int elem_2))', BoundVariable(\"elem_1\", \"<x>\"), BoundVariable(\"elem_2\", \"<y>\"), ))), ExistsFormula(BoundVariable(\"container1\", \"<z>\"), Constant(\"start\", \"<start>\"), ExistsFormula(BoundVariable(\"length_field\", \"<z>\"), Constant(\"start\", \"<start>\"), SMTFormula('(< (str.len container1) (str.to_int length_field))', BoundVariable(\"length_field\", \"<z>\"), BoundVariable(\"container1\", \"<z>\"), )))), 0.6423728813559322, 1.0), (ConjunctiveFormula(ExistsFormula(BoundVariable(\"container1\", \"<integer>\"), Constant(\"start\", \"<start>\"), ExistsFormula(BoundVariable(\"length_field\", \"<x>\"), Constant(\"start\", \"<start>\"), SMTFormula('(< (str.len container1) (str.to_int length_field))', BoundVariable(\"length_field\", \"<x>\"), BoundVariable(\"container1\", \"<integer>\"), ))), ForallFormula(BoundVariable(\"elem_1\", \"<z>\"), Constant(\"start\", \"<start>\"), ExistsFormula(BoundVariable(\"elem_2\", \"<x>\"), Constant(\"start\", \"<start>\"), SMTFormula('(> (str.to_int elem_1) (str.to_int elem_2))', BoundVariable(\"elem_1\", \"<z>\"), BoundVariable(\"elem_2\", \"<x>\"), )))), 0.6338983050847458, 1.0), (ConjunctiveFormula(ExistsFormula(BoundVariable(\"container1\", \"<x>\"), Constant(\"start\", \"<start>\"), ExistsFormula(BoundVariable(\"length_field\", \"<x>\"), Constant(\"start\", \"<start>\"), SMTFormula('(< (str.len container1) (str.to_int length_field))', BoundVariable(\"length_field\", \"<x>\"), BoundVariable(\"container1\", \"<x>\"), ))), ForallFormula(BoundVariable(\"elem_1\", \"<z>\"), Constant(\"start\", \"<start>\"), ExistsFormula(BoundVariable(\"elem_2\", \"<x>\"), Constant(\"start\", \"<start>\"), SMTFormula('(> (str.to_int elem_1) (str.to_int elem_2))', BoundVariable(\"elem_1\", \"<z>\"), BoundVariable(\"elem_2\", \"<x>\"), )))), 0.6338983050847458, 1.0), (ConjunctiveFormula(ForallFormula(BoundVariable(\"elem\", \"<x>\"), Constant(\"start\", \"<start>\"), SMTFormula('(> (str.to_int elem) (str.to_int \"1\"))', BoundVariable(\"elem\", \"<x>\"), )), ForallFormula(BoundVariable(\"elem_1\", \"<z>\"), Constant(\"start\", \"<start>\"), ExistsFormula(BoundVariable(\"elem_2\", \"<x>\"), Constant(\"start\", \"<start>\"), SMTFormula('(> (str.to_int elem_1) (str.to_int elem_2))', BoundVariable(\"elem_1\", \"<z>\"), BoundVariable(\"elem_2\", \"<x>\"), )))), 0.6338983050847458, 1.0), (ConjunctiveFormula(ForallFormula(BoundVariable(\"elem\", \"<x>\"), Constant(\"start\", \"<start>\"), SMTFormula('(>= (str.to_int elem) (str.to_int \"2\"))', BoundVariable(\"elem\", \"<x>\"), )), ForallFormula(BoundVariable(\"elem_1\", \"<z>\"), Constant(\"start\", \"<start>\"), ExistsFormula(BoundVariable(\"elem_2\", \"<x>\"), Constant(\"start\", \"<start>\"), SMTFormula('(> (str.to_int elem_1) (str.to_int elem_2))', BoundVariable(\"elem_1\", \"<z>\"), BoundVariable(\"elem_2\", \"<x>\"), )))), 0.6338983050847458, 1.0), (ConjunctiveFormula(ForallFormula(BoundVariable(\"elem_1\", \"<z>\"), Constant(\"start\", \"<start>\"), ExistsFormula(BoundVariable(\"elem_2\", \"<y>\"), Constant(\"start\", \"<start>\"), SMTFormula('(> (str.to_int elem_1) (str.to_int elem_2))', BoundVariable(\"elem_1\", \"<z>\"), BoundVariable(\"elem_2\", \"<y>\"), ))), ExistsFormula(BoundVariable(\"container1\", \"<y>\"), Constant(\"start\", \"<start>\"), ExistsFormula(BoundVariable(\"length_field\", \"<x>\"), Constant(\"start\", \"<start>\"), SMTFormula('(< (str.len container1) (str.to_int length_field))', BoundVariable(\"length_field\", \"<x>\"), BoundVariable(\"container1\", \"<y>\"), )))), 0.6288135593220339, 1.0), (ConjunctiveFormula(ForallFormula(BoundVariable(\"elem_1\", \"<x>\"), Constant(\"start\", \"<start>\"), ExistsFormula(BoundVariable(\"elem_2\", \"<y>\"), Constant(\"start\", \"<start>\"), SMTFormula('(> (str.to_int elem_1) (str.to_int elem_2))', BoundVariable(\"elem_1\", \"<x>\"), BoundVariable(\"elem_2\", \"<y>\"), ))), ExistsFormula(BoundVariable(\"container\", \"<y>\"), Constant(\"start\", \"<start>\"), ExistsFormula(BoundVariable(\"length_field\", \"<z>\"), Constant(\"start\", \"<start>\"), SMTFormula('(<= (str.len container) (str.to_int length_field))', BoundVariable(\"length_field\", \"<z>\"), BoundVariable(\"container\", \"<y>\"), )))), 0.623728813559322, 1.0), (ConjunctiveFormula(ExistsFormula(BoundVariable(\"container\", \"<y>\"), Constant(\"start\", \"<start>\"), ExistsFormula(BoundVariable(\"length_field\", \"<x>\"), Constant(\"start\", \"<start>\"), SMTFormula('(<= (str.len container) (str.to_int length_field))', BoundVariable(\"length_field\", \"<x>\"), BoundVariable(\"container\", \"<y>\"), ))), ForallFormula(BoundVariable(\"elem_1\", \"<z>\"), Constant(\"start\", \"<start>\"), ExistsFormula(BoundVariable(\"elem_2\", \"<y>\"), Constant(\"start\", \"<start>\"), SMTFormula('(> (str.to_int elem_1) (str.to_int elem_2))', BoundVariable(\"elem_1\", \"<z>\"), BoundVariable(\"elem_2\", \"<y>\"), )))), 0.6169491525423729, 1.0), (ConjunctiveFormula(ExistsFormula(BoundVariable(\"container1\", \"<integer>\"), Constant(\"start\", \"<start>\"), ExistsFormula(BoundVariable(\"length_field\", \"<x>\"), Constant(\"start\", \"<start>\"), SMTFormula('(< (str.len container1) (str.to_int length_field))', BoundVariable(\"length_field\", \"<x>\"), BoundVariable(\"container1\", \"<integer>\"), ))), ForallFormula(BoundVariable(\"elem_1\", \"<z>\"), Constant(\"start\", \"<start>\"), ExistsFormula(BoundVariable(\"elem_2\", \"<y>\"), Constant(\"start\", \"<start>\"), SMTFormula('(> (str.to_int elem_1) (str.to_int elem_2))', BoundVariable(\"elem_1\", \"<z>\"), BoundVariable(\"elem_2\", \"<y>\"), )))), 0.6152542372881356, 1.0), (ConjunctiveFormula(ExistsFormula(BoundVariable(\"container1\", \"<x>\"), Constant(\"start\", \"<start>\"), ExistsFormula(BoundVariable(\"length_field\", \"<x>\"), Constant(\"start\", \"<start>\"), SMTFormula('(< (str.len container1) (str.to_int length_field))', BoundVariable(\"length_field\", \"<x>\"), BoundVariable(\"container1\", \"<x>\"), ))), ForallFormula(BoundVariable(\"elem_1\", \"<z>\"), Constant(\"start\", \"<start>\"), ExistsFormula(BoundVariable(\"elem_2\", \"<y>\"), Constant(\"start\", \"<start>\"), SMTFormula('(> (str.to_int elem_1) (str.to_int elem_2))', BoundVariable(\"elem_1\", \"<z>\"), BoundVariable(\"elem_2\", \"<y>\"), )))), 0.6152542372881356, 1.0), (ConjunctiveFormula(ForallFormula(BoundVariable(\"elem\", \"<x>\"), Constant(\"start\", \"<start>\"), SMTFormula('(> (str.to_int elem) (str.to_int \"1\"))', BoundVariable(\"elem\", \"<x>\"), )), ForallFormula(BoundVariable(\"elem_1\", \"<z>\"), Constant(\"start\", \"<start>\"), ExistsFormula(BoundVariable(\"elem_2\", \"<y>\"), Constant(\"start\", \"<start>\"), SMTFormula('(> (str.to_int elem_1) (str.to_int elem_2))', BoundVariable(\"elem_1\", \"<z>\"), BoundVariable(\"elem_2\", \"<y>\"), )))), 0.6152542372881356, 1.0), (ConjunctiveFormula(ForallFormula(BoundVariable(\"elem\", \"<x>\"), Constant(\"start\", \"<start>\"), SMTFormula('(>= (str.to_int elem) (str.to_int \"2\"))', BoundVariable(\"elem\", \"<x>\"), )), ForallFormula(BoundVariable(\"elem_1\", \"<z>\"), Constant(\"start\", \"<start>\"), ExistsFormula(BoundVariable(\"elem_2\", \"<y>\"), Constant(\"start\", \"<start>\"), SMTFormula('(> (str.to_int elem_1) (str.to_int elem_2))', BoundVariable(\"elem_1\", \"<z>\"), BoundVariable(\"elem_2\", \"<y>\"), )))), 0.6152542372881356, 1.0), (ForallFormula(BoundVariable(\"elem_1\", \"<x>\"), Constant(\"start\", \"<start>\"), ExistsFormula(BoundVariable(\"elem_2\", \"<y>\"), Constant(\"start\", \"<start>\"), SMTFormula('(> (str.to_int elem_1) (str.to_int elem_2))', BoundVariable(\"elem_1\", \"<x>\"), BoundVariable(\"elem_2\", \"<y>\"), ))), 0.6067796610169491, 1.0), (ConjunctiveFormula(ForallFormula(BoundVariable(\"elem_1\", \"<z>\"), Constant(\"start\", \"<start>\"), ExistsFormula(BoundVariable(\"elem_2\", \"<x>\"), Constant(\"start\", \"<start>\"), SMTFormula('(> (str.to_int elem_1) (str.to_int elem_2))', BoundVariable(\"elem_1\", \"<z>\"), BoundVariable(\"elem_2\", \"<x>\"), ))), ExistsFormula(BoundVariable(\"container1\", \"<y>\"), Constant(\"start\", \"<start>\"), ExistsFormula(BoundVariable(\"length_field\", \"<z>\"), Constant(\"start\", \"<start>\"), SMTFormula('(< (str.len container1) (str.to_int length_field))', BoundVariable(\"length_field\", \"<z>\"), BoundVariable(\"container1\", \"<y>\"), )))), 0.6, 1.0), (ConjunctiveFormula(ForallFormula(BoundVariable(\"elem_1\", \"<z>\"), Constant(\"start\", \"<start>\"), ExistsFormula(BoundVariable(\"elem_2\", \"<x>\"), Constant(\"start\", \"<start>\"), SMTFormula('(> (str.to_int elem_1) (str.to_int elem_2))', BoundVariable(\"elem_1\", \"<z>\"), BoundVariable(\"elem_2\", \"<x>\"), ))), ExistsFormula(BoundVariable(\"container\", \"<y>\"), Constant(\"start\", \"<start>\"), ExistsFormula(BoundVariable(\"length_field\", \"<z>\"), Constant(\"start\", \"<start>\"), SMTFormula('(<= (str.len container) (str.to_int length_field))', BoundVariable(\"length_field\", \"<z>\"), BoundVariable(\"container\", \"<y>\"), )))), 0.6, 1.0), (ConjunctiveFormula(ForallFormula(BoundVariable(\"elem_1\", \"<x>\"), Constant(\"start\", \"<start>\"), ExistsFormula(BoundVariable(\"elem_2\", \"<y>\"), Constant(\"start\", \"<start>\"), SMTFormula('(> (str.to_int elem_1) (str.to_int elem_2))', BoundVariable(\"elem_1\", \"<x>\"), BoundVariable(\"elem_2\", \"<y>\"), ))), ExistsFormula(BoundVariable(\"container1\", \"<stmt>\"), Constant(\"start\", \"<start>\"), ExistsFormula(BoundVariable(\"length_field\", \"<z>\"), Constant(\"start\", \"<start>\"), SMTFormula('(< (str.len container1) (str.to_int length_field))', BoundVariable(\"length_field\", \"<z>\"), BoundVariable(\"container1\", \"<stmt>\"), )))), 0.7932203389830509, 0.9919354838709677), (ConjunctiveFormula(ForallFormula(BoundVariable(\"elem_1\", \"<x>\"), Constant(\"start\", \"<start>\"), ExistsFormula(BoundVariable(\"elem_2\", \"<y>\"), Constant(\"start\", \"<start>\"), SMTFormula('(> (str.to_int elem_1) (str.to_int elem_2))', BoundVariable(\"elem_1\", \"<x>\"), BoundVariable(\"elem_2\", \"<y>\"), ))), ExistsFormula(BoundVariable(\"container\", \"<stmt>\"), Constant(\"start\", \"<start>\"), ExistsFormula(BoundVariable(\"length_field\", \"<z>\"), Constant(\"start\", \"<start>\"), SMTFormula('(<= (str.len container) (str.to_int length_field))', BoundVariable(\"length_field\", \"<z>\"), BoundVariable(\"container\", \"<stmt>\"), )))), 0.7762711864406779, 0.9919354838709677), (ConjunctiveFormula(ForallFormula(BoundVariable(\"elem\", \"<z>\"), Constant(\"start\", \"<start>\"), SMTFormula('(> (str.to_int elem) (str.to_int \"4\"))', BoundVariable(\"elem\", \"<z>\"), )), ForallFormula(BoundVariable(\"elem_1\", \"<x>\"), Constant(\"start\", \"<start>\"), ExistsFormula(BoundVariable(\"elem_2\", \"<y>\"), Constant(\"start\", \"<start>\"), SMTFormula('(> (str.to_int elem_1) (str.to_int elem_2))', BoundVariable(\"elem_1\", \"<x>\"), BoundVariable(\"elem_2\", \"<y>\"), )))), 0.7, 0.9919354838709677), (ConjunctiveFormula(ForallFormula(BoundVariable(\"elem\", \"<z>\"), Constant(\"start\", \"<start>\"), SMTFormula('(>= (str.to_int elem) (str.to_int \"4\"))', BoundVariable(\"elem\", \"<z>\"), )), ForallFormula(BoundVariable(\"elem_1\", \"<x>\"), Constant(\"start\", \"<start>\"), ExistsFormula(BoundVariable(\"elem_2\", \"<y>\"), Constant(\"start\", \"<start>\"), SMTFormula('(> (str.to_int elem_1) (str.to_int elem_2))', BoundVariable(\"elem_1\", \"<x>\"), BoundVariable(\"elem_2\", \"<y>\"), )))), 0.6796610169491526, 0.9919354838709677), (ConjunctiveFormula(ForallFormula(BoundVariable(\"elem\", \"<z>\"), Constant(\"start\", \"<start>\"), SMTFormula('(> (str.to_int elem) (str.to_int \"3\"))', BoundVariable(\"elem\", \"<z>\"), )), ForallFormula(BoundVariable(\"elem_1\", \"<x>\"), Constant(\"start\", \"<start>\"), ExistsFormula(BoundVariable(\"elem_2\", \"<y>\"), Constant(\"start\", \"<start>\"), SMTFormula('(> (str.to_int elem_1) (str.to_int elem_2))', BoundVariable(\"elem_1\", \"<x>\"), BoundVariable(\"elem_2\", \"<y>\"), )))), 0.6796610169491526, 0.9919354838709677), (ConjunctiveFormula(ForallFormula(BoundVariable(\"elem\", \"<x>\"), Constant(\"start\", \"<start>\"), SMTFormula('(> (str.to_int elem) (str.to_int \"2\"))', BoundVariable(\"elem\", \"<x>\"), )), ForallFormula(BoundVariable(\"elem_1\", \"<z>\"), Constant(\"start\", \"<start>\"), ExistsFormula(BoundVariable(\"elem_2\", \"<x>\"), Constant(\"start\", \"<start>\"), SMTFormula('(> (str.to_int elem_1) (str.to_int elem_2))', BoundVariable(\"elem_1\", \"<z>\"), BoundVariable(\"elem_2\", \"<x>\"), )))), 0.6694915254237288, 0.9919354838709677), (ConjunctiveFormula(ForallFormula(BoundVariable(\"elem\", \"<x>\"), Constant(\"start\", \"<start>\"), SMTFormula('(> (str.to_int elem) (str.to_int \"2\"))', BoundVariable(\"elem\", \"<x>\"), )), ForallFormula(BoundVariable(\"elem_1\", \"<z>\"), Constant(\"start\", \"<start>\"), ExistsFormula(BoundVariable(\"elem_2\", \"<y>\"), Constant(\"start\", \"<start>\"), SMTFormula('(> (str.to_int elem_1) (str.to_int elem_2))', BoundVariable(\"elem_1\", \"<z>\"), BoundVariable(\"elem_2\", \"<y>\"), )))), 0.6372881355932203, 0.9919354838709677), (ConjunctiveFormula(ExistsFormula(BoundVariable(\"container1\", \"<stmt>\"), Constant(\"start\", \"<start>\"), ExistsFormula(BoundVariable(\"length_field\", \"<z>\"), Constant(\"start\", \"<start>\"), SMTFormula('(< (str.len container1) (str.to_int length_field))', BoundVariable(\"length_field\", \"<z>\"), BoundVariable(\"container1\", \"<stmt>\"), ))), ForallFormula(BoundVariable(\"elem_1\", \"<z>\"), Constant(\"start\", \"<start>\"), ExistsFormula(BoundVariable(\"elem_2\", \"<y>\"), Constant(\"start\", \"<start>\"), SMTFormula('(> (str.to_int elem_1) (str.to_int elem_2))', BoundVariable(\"elem_1\", \"<z>\"), BoundVariable(\"elem_2\", \"<y>\"), )))), 0.6220338983050848, 0.9919354838709677), (ConjunctiveFormula(ExistsFormula(BoundVariable(\"container1\", \"<stmt>\"), Constant(\"start\", \"<start>\"), ExistsFormula(BoundVariable(\"length_field\", \"<z>\"), Constant(\"start\", \"<start>\"), SMTFormula('(< (str.len container1) (str.to_int length_field))', BoundVariable(\"length_field\", \"<z>\"), BoundVariable(\"container1\", \"<stmt>\"), ))), ForallFormula(BoundVariable(\"elem_1\", \"<z>\"), Constant(\"start\", \"<start>\"), ExistsFormula(BoundVariable(\"elem_2\", \"<x>\"), Constant(\"start\", \"<start>\"), SMTFormula('(> (str.to_int elem_1) (str.to_int elem_2))', BoundVariable(\"elem_1\", \"<z>\"), BoundVariable(\"elem_2\", \"<x>\"), )))), 0.6169491525423729, 0.9919354838709677), (ConjunctiveFormula(ExistsFormula(BoundVariable(\"container\", \"<stmt>\"), Constant(\"start\", \"<start>\"), ExistsFormula(BoundVariable(\"length_field\", \"<z>\"), Constant(\"start\", \"<start>\"), SMTFormula('(<= (str.len container) (str.to_int length_field))', BoundVariable(\"length_field\", \"<z>\"), BoundVariable(\"container\", \"<stmt>\"), ))), ForallFormula(BoundVariable(\"elem_1\", \"<z>\"), Constant(\"start\", \"<start>\"), ExistsFormula(BoundVariable(\"elem_2\", \"<y>\"), Constant(\"start\", \"<start>\"), SMTFormula('(> (str.to_int elem_1) (str.to_int elem_2))', BoundVariable(\"elem_1\", \"<z>\"), BoundVariable(\"elem_2\", \"<y>\"), )))), 0.6152542372881356, 0.9919354838709677), (ConjunctiveFormula(ForallFormula(BoundVariable(\"elem_1\", \"<x>\"), Constant(\"start\", \"<start>\"), ExistsFormula(BoundVariable(\"elem_2\", \"<y>\"), Constant(\"start\", \"<start>\"), SMTFormula('(> (str.to_int elem_1) (str.to_int elem_2))', BoundVariable(\"elem_1\", \"<x>\"), BoundVariable(\"elem_2\", \"<y>\"), ))), ExistsFormula(BoundVariable(\"container1\", \"<stmt>\"), Constant(\"start\", \"<start>\"), ExistsFormula(BoundVariable(\"length_field\", \"<integer>\"), Constant(\"start\", \"<start>\"), SMTFormula('(< (str.len container1) (str.to_int length_field))', BoundVariable(\"length_field\", \"<integer>\"), BoundVariable(\"container1\", \"<stmt>\"), )))), 0.611864406779661, 0.9919354838709677), (ConjunctiveFormula(ForallFormula(BoundVariable(\"elem_1\", \"<z>\"), Constant(\"start\", \"<start>\"), ExistsFormula(BoundVariable(\"elem_2\", \"<x>\"), Constant(\"start\", \"<start>\"), SMTFormula('(> (str.to_int elem_1) (str.to_int elem_2))', BoundVariable(\"elem_1\", \"<z>\"), BoundVariable(\"elem_2\", \"<x>\"), ))), ExistsFormula(BoundVariable(\"container\", \"<stmt>\"), Constant(\"start\", \"<start>\"), ExistsFormula(BoundVariable(\"length_field\", \"<z>\"), Constant(\"start\", \"<start>\"), SMTFormula('(<= (str.len container) (str.to_int length_field))', BoundVariable(\"length_field\", \"<z>\"), BoundVariable(\"container\", \"<stmt>\"), )))), 0.611864406779661, 0.9919354838709677), (ConjunctiveFormula(ForallFormula(BoundVariable(\"elem_1\", \"<x>\"), Constant(\"start\", \"<start>\"), ExistsFormula(BoundVariable(\"elem_2\", \"<y>\"), Constant(\"start\", \"<start>\"), SMTFormula('(> (str.to_int elem_1) (str.to_int elem_2))', BoundVariable(\"elem_1\", \"<x>\"), BoundVariable(\"elem_2\", \"<y>\"), ))), ExistsFormula(BoundVariable(\"container\", \"<stmt>\"), Constant(\"start\", \"<start>\"), ExistsFormula(BoundVariable(\"length_field\", \"<integer>\"), Constant(\"start\", \"<start>\"), SMTFormula('(<= (str.len container) (str.to_int length_field))', BoundVariable(\"length_field\", \"<integer>\"), BoundVariable(\"container\", \"<stmt>\"), )))), 0.6101694915254237, 0.9919354838709677), (ConjunctiveFormula(ForallFormula(BoundVariable(\"elem\", \"<z>\"), Constant(\"start\", \"<start>\"), SMTFormula('(> (str.to_int elem) (str.to_int \"4\"))', BoundVariable(\"elem\", \"<z>\"), )), ForallFormula(BoundVariable(\"elem_1\", \"<z>\"), Constant(\"start\", \"<start>\"), ExistsFormula(BoundVariable(\"elem_2\", \"<x>\"), Constant(\"start\", \"<start>\"), SMTFormula('(> (str.to_int elem_1) (str.to_int elem_2))', BoundVariable(\"elem_1\", \"<z>\"), BoundVariable(\"elem_2\", \"<x>\"), )))), 0.6016949152542372, 0.9919354838709677), (ConjunctiveFormula(ForallFormula(BoundVariable(\"elem\", \"<z>\"), Constant(\"start\", \"<start>\"), SMTFormula('(> (str.to_int elem) (str.to_int \"4\"))', BoundVariable(\"elem\", \"<z>\"), )), ForallFormula(BoundVariable(\"elem_1\", \"<z>\"), Constant(\"start\", \"<start>\"), ExistsFormula(BoundVariable(\"elem_2\", \"<y>\"), Constant(\"start\", \"<start>\"), SMTFormula('(> (str.to_int elem_1) (str.to_int elem_2))', BoundVariable(\"elem_1\", \"<z>\"), BoundVariable(\"elem_2\", \"<y>\"), )))), 0.6016949152542372, 0.9919354838709677), (ConjunctiveFormula(ForallFormula(BoundVariable(\"elem\", \"<z>\"), Constant(\"start\", \"<start>\"), SMTFormula('(>= (str.to_int elem) (str.to_int \"4\"))', BoundVariable(\"elem\", \"<z>\"), )), ForallFormula(BoundVariable(\"elem_1\", \"<z>\"), Constant(\"start\", \"<start>\"), ExistsFormula(BoundVariable(\"elem_2\", \"<x>\"), Constant(\"start\", \"<start>\"), SMTFormula('(> (str.to_int elem_1) (str.to_int elem_2))', BoundVariable(\"elem_1\", \"<z>\"), BoundVariable(\"elem_2\", \"<x>\"), )))), 0.6, 0.9919354838709677), (ConjunctiveFormula(ForallFormula(BoundVariable(\"elem\", \"<z>\"), Constant(\"start\", \"<start>\"), SMTFormula('(> (str.to_int elem) (str.to_int \"3\"))', BoundVariable(\"elem\", \"<z>\"), )), ForallFormula(BoundVariable(\"elem_1\", \"<z>\"), Constant(\"start\", \"<start>\"), ExistsFormula(BoundVariable(\"elem_2\", \"<x>\"), Constant(\"start\", \"<start>\"), SMTFormula('(> (str.to_int elem_1) (str.to_int elem_2))', BoundVariable(\"elem_1\", \"<z>\"), BoundVariable(\"elem_2\", \"<x>\"), )))), 0.6, 0.9919354838709677), (ConjunctiveFormula(ForallFormula(BoundVariable(\"elem\", \"<z>\"), Constant(\"start\", \"<start>\"), SMTFormula('(>= (str.to_int elem) (str.to_int \"8\"))', BoundVariable(\"elem\", \"<z>\"), )), ForallFormula(BoundVariable(\"elem_1\", \"<x>\"), Constant(\"start\", \"<start>\"), ExistsFormula(BoundVariable(\"elem_2\", \"<y>\"), Constant(\"start\", \"<start>\"), SMTFormula('(> (str.to_int elem_1) (str.to_int elem_2))', BoundVariable(\"elem_1\", \"<x>\"), BoundVariable(\"elem_2\", \"<y>\"), )))), 0.7830508474576271, 0.9838709677419355), (ConjunctiveFormula(ForallFormula(BoundVariable(\"elem\", \"<z>\"), Constant(\"start\", \"<start>\"), SMTFormula('(>= (str.to_int elem) (str.to_int \"8\"))', BoundVariable(\"elem\", \"<z>\"), )), ForallFormula(BoundVariable(\"elem_1\", \"<z>\"), Constant(\"start\", \"<start>\"), ExistsFormula(BoundVariable(\"elem_2\", \"<y>\"), Constant(\"start\", \"<start>\"), SMTFormula('(> (str.to_int elem_1) (str.to_int elem_2))', BoundVariable(\"elem_1\", \"<z>\"), BoundVariable(\"elem_2\", \"<y>\"), )))), 0.6203389830508474, 0.9838709677419355), (ConjunctiveFormula(ForallFormula(BoundVariable(\"elem\", \"<z>\"), Constant(\"start\", \"<start>\"), SMTFormula('(>= (str.to_int elem) (str.to_int \"8\"))', BoundVariable(\"elem\", \"<z>\"), )), ForallFormula(BoundVariable(\"elem_1\", \"<z>\"), Constant(\"start\", \"<start>\"), ExistsFormula(BoundVariable(\"elem_2\", \"<x>\"), Constant(\"start\", \"<start>\"), SMTFormula('(> (str.to_int elem_1) (str.to_int elem_2))', BoundVariable(\"elem_1\", \"<z>\"), BoundVariable(\"elem_2\", \"<x>\"), )))), 0.6169491525423729, 0.9838709677419355), (ConjunctiveFormula(ForallFormula(BoundVariable(\"elem_1\", \"<z>\"), Constant(\"start\", \"<start>\"), ExistsFormula(BoundVariable(\"elem_2\", \"<x>\"), Constant(\"start\", \"<start>\"), SMTFormula('(> (str.to_int elem_1) (str.to_int elem_2))', BoundVariable(\"elem_1\", \"<z>\"), BoundVariable(\"elem_2\", \"<x>\"), ))), ExistsFormula(BoundVariable(\"container\", \"<z>\"), Constant(\"start\", \"<start>\"), ExistsFormula(BoundVariable(\"length_field\", \"<x>\"), Constant(\"start\", \"<start>\"), SMTFormula('(<= (str.len container) (str.to_int length_field))', BoundVariable(\"length_field\", \"<x>\"), BoundVariable(\"container\", \"<z>\"), )))), 0.6796610169491526, 0.9758064516129032), (ConjunctiveFormula(ExistsFormula(BoundVariable(\"container\", \"<z>\"), Constant(\"start\", \"<start>\"), ExistsFormula(BoundVariable(\"length_field\", \"<x>\"), Constant(\"start\", \"<start>\"), SMTFormula('(<= (str.len container) (str.to_int length_field))', BoundVariable(\"length_field\", \"<x>\"), BoundVariable(\"container\", \"<z>\"), ))), ForallFormula(BoundVariable(\"elem_1\", \"<z>\"), Constant(\"start\", \"<start>\"), ExistsFormula(BoundVariable(\"elem_2\", \"<y>\"), Constant(\"start\", \"<start>\"), SMTFormula('(> (str.to_int elem_1) (str.to_int elem_2))', BoundVariable(\"elem_1\", \"<z>\"), BoundVariable(\"elem_2\", \"<y>\"), )))), 0.6610169491525424, 0.9758064516129032), (ConjunctiveFormula(ForallFormula(BoundVariable(\"elem_1\", \"<x>\"), Constant(\"start\", \"<start>\"), ExistsFormula(BoundVariable(\"elem_2\", \"<y>\"), Constant(\"start\", \"<start>\"), SMTFormula('(> (str.to_int elem_1) (str.to_int elem_2))', BoundVariable(\"elem_1\", \"<x>\"), BoundVariable(\"elem_2\", \"<y>\"), ))), ForallFormula(BoundVariable(\"elem\", \"<z>\"), Constant(\"start\", \"<start>\"), SMTFormula('(> (str.to_int elem) (str.to_int \"8\"))', BoundVariable(\"elem\", \"<z>\"), ))), 0.8033898305084746, 0.967741935483871), (ConjunctiveFormula(ForallFormula(BoundVariable(\"elem_1\", \"<z>\"), Constant(\"start\", \"<start>\"), ExistsFormula(BoundVariable(\"elem_2\", \"<y>\"), Constant(\"start\", \"<start>\"), SMTFormula('(> (str.to_int elem_1) (str.to_int elem_2))', BoundVariable(\"elem_1\", \"<z>\"), BoundVariable(\"elem_2\", \"<y>\"), ))), ForallFormula(BoundVariable(\"elem\", \"<z>\"), Constant(\"start\", \"<start>\"), SMTFormula('(> (str.to_int elem) (str.to_int \"8\"))', BoundVariable(\"elem\", \"<z>\"), ))), 0.6322033898305085, 0.967741935483871), (ConjunctiveFormula(ForallFormula(BoundVariable(\"elem_1\", \"<z>\"), Constant(\"start\", \"<start>\"), ExistsFormula(BoundVariable(\"elem_2\", \"<x>\"), Constant(\"start\", \"<start>\"), SMTFormula('(> (str.to_int elem_1) (str.to_int elem_2))', BoundVariable(\"elem_1\", \"<z>\"), BoundVariable(\"elem_2\", \"<x>\"), ))), ForallFormula(BoundVariable(\"elem\", \"<z>\"), Constant(\"start\", \"<start>\"), SMTFormula('(> (str.to_int elem) (str.to_int \"8\"))', BoundVariable(\"elem\", \"<z>\"), ))), 0.6271186440677966, 0.967741935483871), (ConjunctiveFormula(ExistsFormula(BoundVariable(\"container1\", \"<z>\"), Constant(\"start\", \"<start>\"), ExistsFormula(BoundVariable(\"length_field\", \"<x>\"), Constant(\"start\", \"<start>\"), SMTFormula('(< (str.len container1) (str.to_int length_field))', BoundVariable(\"length_field\", \"<x>\"), BoundVariable(\"container1\", \"<z>\"), ))), ForallFormula(BoundVariable(\"elem_1\", \"<z>\"), Constant(\"start\", \"<start>\"), ExistsFormula(BoundVariable(\"elem_2\", \"<x>\"), Constant(\"start\", \"<start>\"), SMTFormula('(> (str.to_int elem_1) (str.to_int elem_2))', BoundVariable(\"elem_1\", \"<z>\"), BoundVariable(\"elem_2\", \"<x>\"), )))), 0.7050847457627119, 0.9516129032258065), (ConjunctiveFormula(ExistsFormula(BoundVariable(\"container1\", \"<z>\"), Constant(\"start\", \"<start>\"), ExistsFormula(BoundVariable(\"length_field\", \"<x>\"), Constant(\"start\", \"<start>\"), SMTFormula('(< (str.len container1) (str.to_int length_field))', BoundVariable(\"length_field\", \"<x>\"), BoundVariable(\"container1\", \"<z>\"), ))), ForallFormula(BoundVariable(\"elem_1\", \"<z>\"), Constant(\"start\", \"<start>\"), ExistsFormula(BoundVariable(\"elem_2\", \"<y>\"), Constant(\"start\", \"<start>\"), SMTFormula('(> (str.to_int elem_1) (str.to_int elem_2))', BoundVariable(\"elem_1\", \"<z>\"), BoundVariable(\"elem_2\", \"<y>\"), )))), 0.6745762711864407, 0.9516129032258065), (ConjunctiveFormula(ForallFormula(BoundVariable(\"elem_1\", \"<z>\"), Constant(\"start\", \"<start>\"), ExistsFormula(BoundVariable(\"elem_2\", \"<x>\"), Constant(\"start\", \"<start>\"), SMTFormula('(> (str.to_int elem_1) (str.to_int elem_2))', BoundVariable(\"elem_1\", \"<z>\"), BoundVariable(\"elem_2\", \"<x>\"), ))), ForallFormula(BoundVariable(\"elem\", \"<x>\"), Constant(\"start\", \"<start>\"), SMTFormula('(>= (str.to_int elem) (str.to_int \"7\"))', BoundVariable(\"elem\", \"<x>\"), ))), 0.7796610169491526, 0.9435483870967742), (ConjunctiveFormula(ForallFormula(BoundVariable(\"elem_1\", \"<z>\"), Constant(\"start\", \"<start>\"), ExistsFormula(BoundVariable(\"elem_2\", \"<y>\"), Constant(\"start\", \"<start>\"), SMTFormula('(> (str.to_int elem_1) (str.to_int elem_2))', BoundVariable(\"elem_1\", \"<z>\"), BoundVariable(\"elem_2\", \"<y>\"), ))), ForallFormula(BoundVariable(\"elem\", \"<x>\"), Constant(\"start\", \"<start>\"), SMTFormula('(>= (str.to_int elem) (str.to_int \"7\"))', BoundVariable(\"elem\", \"<x>\"), ))), 0.7, 0.9435483870967742), (ConjunctiveFormula(ForallFormula(BoundVariable(\"elem_1\", \"<x>\"), Constant(\"start\", \"<start>\"), ExistsFormula(BoundVariable(\"elem_2\", \"<y>\"), Constant(\"start\", \"<start>\"), SMTFormula('(> (str.to_int elem_1) (str.to_int elem_2))', BoundVariable(\"elem_1\", \"<x>\"), BoundVariable(\"elem_2\", \"<y>\"), ))), ForallFormula(BoundVariable(\"elem\", \"<y>\"), Constant(\"start\", \"<start>\"), SMTFormula('(>= (str.to_int elem) (str.to_int \"2\"))', BoundVariable(\"elem\", \"<y>\"), ))), 0.6254237288135593, 0.9435483870967742), (ConjunctiveFormula(ForallFormula(BoundVariable(\"elem_1\", \"<x>\"), Constant(\"start\", \"<start>\"), ExistsFormula(BoundVariable(\"elem_2\", \"<y>\"), Constant(\"start\", \"<start>\"), SMTFormula('(> (str.to_int elem_1) (str.to_int elem_2))', BoundVariable(\"elem_1\", \"<x>\"), BoundVariable(\"elem_2\", \"<y>\"), ))), ExistsFormula(BoundVariable(\"container1\", \"<y>\"), Constant(\"start\", \"<start>\"), ExistsFormula(BoundVariable(\"length_field\", \"<y>\"), Constant(\"start\", \"<start>\"), SMTFormula('(< (str.len container1) (str.to_int length_field))', BoundVariable(\"length_field\", \"<y>\"), BoundVariable(\"container1\", \"<y>\"), )))), 0.6254237288135593, 0.9435483870967742), (ConjunctiveFormula(ForallFormula(BoundVariable(\"elem_1\", \"<x>\"), Constant(\"start\", \"<start>\"), ExistsFormula(BoundVariable(\"elem_2\", \"<y>\"), Constant(\"start\", \"<start>\"), SMTFormula('(> (str.to_int elem_1) (str.to_int elem_2))', BoundVariable(\"elem_1\", \"<x>\"), BoundVariable(\"elem_2\", \"<y>\"), ))), ForallFormula(BoundVariable(\"elem\", \"<y>\"), Constant(\"start\", \"<start>\"), SMTFormula('(> (str.to_int elem) (str.to_int \"1\"))', BoundVariable(\"elem\", \"<y>\"), ))), 0.6254237288135593, 0.9435483870967742), (ConjunctiveFormula(ForallFormula(BoundVariable(\"elem_1\", \"<x>\"), Constant(\"start\", \"<start>\"), ExistsFormula(BoundVariable(\"elem_2\", \"<y>\"), Constant(\"start\", \"<start>\"), SMTFormula('(> (str.to_int elem_1) (str.to_int elem_2))', BoundVariable(\"elem_1\", \"<x>\"), BoundVariable(\"elem_2\", \"<y>\"), ))), ForallFormula(BoundVariable(\"elem\", \"<x>\"), Constant(\"start\", \"<start>\"), SMTFormula('(>= (str.to_int elem) (str.to_int \"7\"))', BoundVariable(\"elem\", \"<x>\"), ))), 0.6135593220338983, 0.9435483870967742), (ConjunctiveFormula(ForallFormula(BoundVariable(\"elem_1\", \"<z>\"), Constant(\"start\", \"<start>\"), ExistsFormula(BoundVariable(\"elem_2\", \"<y>\"), Constant(\"start\", \"<start>\"), SMTFormula('(> (str.to_int elem_1) (str.to_int elem_2))', BoundVariable(\"elem_1\", \"<z>\"), BoundVariable(\"elem_2\", \"<y>\"), ))), ForallFormula(BoundVariable(\"elem\", \"<y>\"), Constant(\"start\", \"<start>\"), SMTFormula('(>= (str.to_int elem) (str.to_int \"2\"))', BoundVariable(\"elem\", \"<y>\"), ))), 0.6101694915254237, 0.9435483870967742), (ConjunctiveFormula(ForallFormula(BoundVariable(\"elem_1\", \"<z>\"), Constant(\"start\", \"<start>\"), ExistsFormula(BoundVariable(\"elem_2\", \"<y>\"), Constant(\"start\", \"<start>\"), SMTFormula('(> (str.to_int elem_1) (str.to_int elem_2))', BoundVariable(\"elem_1\", \"<z>\"), BoundVariable(\"elem_2\", \"<y>\"), ))), ExistsFormula(BoundVariable(\"container1\", \"<y>\"), Constant(\"start\", \"<start>\"), ExistsFormula(BoundVariable(\"length_field\", \"<y>\"), Constant(\"start\", \"<start>\"), SMTFormula('(< (str.len container1) (str.to_int length_field))', BoundVariable(\"length_field\", \"<y>\"), BoundVariable(\"container1\", \"<y>\"), )))), 0.6101694915254237, 0.9435483870967742), (ConjunctiveFormula(ForallFormula(BoundVariable(\"elem_1\", \"<z>\"), Constant(\"start\", \"<start>\"), ExistsFormula(BoundVariable(\"elem_2\", \"<y>\"), Constant(\"start\", \"<start>\"), SMTFormula('(> (str.to_int elem_1) (str.to_int elem_2))', BoundVariable(\"elem_1\", \"<z>\"), BoundVariable(\"elem_2\", \"<y>\"), ))), ForallFormula(BoundVariable(\"elem\", \"<y>\"), Constant(\"start\", \"<start>\"), SMTFormula('(> (str.to_int elem) (str.to_int \"1\"))', BoundVariable(\"elem\", \"<y>\"), ))), 0.6101694915254237, 0.9435483870967742), (ConjunctiveFormula(ForallFormula(BoundVariable(\"elem_1\", \"<x>\"), Constant(\"start\", \"<start>\"), ExistsFormula(BoundVariable(\"elem_2\", \"<y>\"), Constant(\"start\", \"<start>\"), SMTFormula('(> (str.to_int elem_1) (str.to_int elem_2))', BoundVariable(\"elem_1\", \"<x>\"), BoundVariable(\"elem_2\", \"<y>\"), ))), ExistsFormula(BoundVariable(\"container\", \"<x>\"), Constant(\"start\", \"<start>\"), ExistsFormula(BoundVariable(\"length_field\", \"<y>\"), Constant(\"start\", \"<start>\"), SMTFormula('(<= (str.len container) (str.to_int length_field))', BoundVariable(\"length_field\", \"<y>\"), BoundVariable(\"container\", \"<x>\"), )))), 0.6610169491525424, 0.9354838709677419), (ConjunctiveFormula(ExistsFormula(BoundVariable(\"container\", \"<x>\"), Constant(\"start\", \"<start>\"), ExistsFormula(BoundVariable(\"length_field\", \"<y>\"), Constant(\"start\", \"<start>\"), SMTFormula('(<= (str.len container) (str.to_int length_field))', BoundVariable(\"length_field\", \"<y>\"), BoundVariable(\"container\", \"<x>\"), ))), ForallFormula(BoundVariable(\"elem_1\", \"<z>\"), Constant(\"start\", \"<start>\"), ExistsFormula(BoundVariable(\"elem_2\", \"<y>\"), Constant(\"start\", \"<start>\"), SMTFormula('(> (str.to_int elem_1) (str.to_int elem_2))', BoundVariable(\"elem_1\", \"<z>\"), BoundVariable(\"elem_2\", \"<y>\"), )))), 0.6372881355932203, 0.9354838709677419)]\n",
      "top precision: 1.0 top recall: 1.0\n"
     ]
    }
   ],
   "source": [
    "another_invariant = avicenna2.explain() # unparse with islaunparse for further use"
   ]
  },
  {
   "cell_type": "code",
   "execution_count": null,
   "id": "370d134f",
   "metadata": {},
   "outputs": [
    {
     "name": "stdout",
     "output_type": "stream",
     "text": [
      "(ConjunctiveFormula(ForallFormula(BoundVariable(\"elem_1\", \"<x>\"), Constant(\"start\", \"<start>\"), ExistsFormula(BoundVariable(\"elem_2\", \"<y>\"), Constant(\"start\", \"<start>\"), SMTFormula('(> (str.to_int elem_1) (str.to_int elem_2))', BoundVariable(\"elem_1\", \"<x>\"), BoundVariable(\"elem_2\", \"<y>\"), ))), ForallFormula(BoundVariable(\"elem_0\", \"<z>\"), Constant(\"start\", \"<start>\"), ExistsFormula(BoundVariable(\"elem_3\", \"<x>\"), Constant(\"start\", \"<start>\"), SMTFormula('(> (str.to_int elem_0) (str.to_int elem_3))', BoundVariable(\"elem_0\", \"<z>\"), BoundVariable(\"elem_3\", \"<x>\"), )))), 1.0, 1.0)\n"
     ]
    }
   ],
   "source": [
    "print(another_invariant)"
   ]
  },
  {
   "cell_type": "code",
   "execution_count": null,
   "id": "4c4300d1",
   "metadata": {},
   "outputs": [
    {
     "name": "stdout",
     "output_type": "stream",
     "text": [
      "(ConjunctiveFormula(ForallFormula(BoundVariable(\"elem_1\", \"<z>\"), Constant(\"start\", \"<start>\"), ExistsFormula(BoundVariable(\"elem_2\", \"<y>\"), Constant(\"start\", \"<start>\"), SMTFormula('(> (str.to_int elem_1) (str.to_int elem_2))', BoundVariable(\"elem_1\", \"<z>\"), BoundVariable(\"elem_2\", \"<y>\"), ))), ForallFormula(BoundVariable(\"elem_0\", \"<z>\"), Constant(\"start\", \"<start>\"), ExistsFormula(BoundVariable(\"elem_3\", \"<x>\"), Constant(\"start\", \"<start>\"), SMTFormula('(> (str.to_int elem_0) (str.to_int elem_3))', BoundVariable(\"elem_0\", \"<z>\"), BoundVariable(\"elem_3\", \"<x>\"), )))), 0.8269581056466302, 1.0)\n",
      "0.8269581056466302\n"
     ]
    }
   ],
   "source": [
    "print(best_invariant)\n",
    "print(best_invariant[1])"
   ]
  },
  {
   "cell_type": "code",
   "execution_count": null,
   "id": "186549fa",
   "metadata": {},
   "outputs": [
    {
     "name": "stdout",
     "output_type": "stream",
     "text": [
      "stop\n"
     ]
    }
   ],
   "source": [
    "solver1 = ISLaSolver(\n",
    "    grammar=middle_grammar,\n",
    "    formula=another_invariant[0],\n",
    "    enable_optimized_z3_queries=False,\n",
    ")\n",
    "\n",
    "solver2 = ISLaSolver(\n",
    "    grammar=middle_grammar,\n",
    "    formula=best_invariant[0],\n",
    "    enable_optimized_z3_queries=False,\n",
    ")\n",
    "\n",
    "results1 = []\n",
    "results2 = []\n",
    "\n",
    "# print(best_invariant[0])\n",
    "# print(another_invariant[0])\n",
    "for _ in range(1,10):\n",
    "    results1.append(solver1.solve())\n",
    "    \n",
    "print(\"stop\")\n",
    "#    avix_oracle()\n",
    "for _ in range(1,10):\n",
    "    results2.append(solver2.solve())"
   ]
  },
  {
   "cell_type": "code",
   "execution_count": null,
   "id": "3aed1e73",
   "metadata": {},
   "outputs": [
    {
     "name": "stdout",
     "output_type": "stream",
     "text": [
      "3,1,8\n",
      "FAILING\n",
      "3,1,9\n",
      "FAILING\n",
      "3,1,4\n",
      "FAILING\n",
      "3,1,5\n",
      "FAILING\n",
      "3,1,6\n",
      "FAILING\n",
      "3,1,7\n",
      "FAILING\n",
      "3,1,18\n",
      "FAILING\n",
      "3,1,14\n",
      "FAILING\n",
      "3,1,11\n",
      "FAILING\n"
     ]
    }
   ],
   "source": [
    "for input in results1:\n",
    "    if avix_oracle(input) == OracleResult.FAILING:\n",
    "        print(input)\n",
    "        print(avix_oracle(input))"
   ]
  },
  {
   "cell_type": "code",
   "execution_count": null,
   "id": "188ad42d",
   "metadata": {},
   "outputs": [
    {
     "name": "stdout",
     "output_type": "stream",
     "text": [
      "2,2,3\n",
      "FAILING\n",
      "1,1,2\n",
      "FAILING\n",
      "4,4,7\n",
      "FAILING\n",
      "6,4,7\n",
      "FAILING\n",
      "5,4,7\n",
      "FAILING\n",
      "1,2,3\n",
      "2,2,3\n",
      "1,1,2\n",
      "2,4,7\n",
      "4,4,7\n",
      "1,4,7\n",
      "6,4,7\n",
      "3,4,7\n",
      "5,4,7\n"
     ]
    }
   ],
   "source": [
    "for input in results2:\n",
    "    if avix_oracle(input) == OracleResult.FAILING:\n",
    "        print(input)\n",
    "        print(avix_oracle(input))\n",
    "for input in results2:\n",
    "    print(input)"
   ]
  },
  {
   "cell_type": "code",
   "execution_count": null,
   "id": "effa0a08",
   "metadata": {},
   "outputs": [
    {
     "name": "stdout",
     "output_type": "stream",
     "text": [
      "4,1,5\n",
      "2,1,5\n",
      "1,1,5\n",
      "3,1,5\n",
      "4,1,6\n",
      "2,1,6\n",
      "3,1,6\n",
      "5,1,6\n",
      "1,1,6\n"
     ]
    }
   ],
   "source": [
    "solver = ISLaSolver(\n",
    "    grammar=middle_grammar,\n",
    "    formula=best_invariant[0],\n",
    "    enable_optimized_z3_queries=False,\n",
    ")\n",
    "\n",
    "# this isnt working rn why not raaaaaaaaaaaaaaaaaaaaaaa\n",
    "# should be inputs of type 2, 3, 1\n",
    "for _ in range(1,10):\n",
    "    print(solver.solve())\n"
   ]
  },
  {
   "cell_type": "code",
   "execution_count": null,
   "id": "1270c1ba",
   "metadata": {},
   "outputs": [],
   "source": [
    "# call func for middle, converts string input to usable integer values\n",
    "\n",
    "def call_func_middle(inp: str):\n",
    "    \n",
    "    inp = inp.__str__()\n",
    "    \n",
    "    middle_input = inp.split(',')\n",
    "    converted_inp =  [int(middle_input[0]), int(middle_input[1]), int(middle_input[2])]\n",
    "    return converted_inp"
   ]
  },
  {
   "cell_type": "code",
   "execution_count": null,
   "id": "d208b26e",
   "metadata": {},
   "outputs": [
    {
     "name": "stdout",
     "output_type": "stream",
     "text": [
      "True\n"
     ]
    }
   ],
   "source": [
    "test_path = Path('rsc/')\n",
    "print(Path.exists(test_path))\n"
   ]
  },
  {
   "cell_type": "code",
   "execution_count": null,
   "id": "c6757172",
   "metadata": {},
   "outputs": [],
   "source": [
    "from avicenna.avix import *\n",
    "from avicenna.oracle_construction import * "
   ]
  },
  {
   "cell_type": "code",
   "execution_count": null,
   "id": "39a153fb",
   "metadata": {},
   "outputs": [],
   "source": [
    "def middle_inp_conv(inp):\n",
    "    inp = inp.__str__()\n",
    "    middle_input = inp.split(',')\n",
    "    \n",
    "    converted_inp = [\n",
    "        int(middle_input[0]),\n",
    "        int(middle_input[1]),\n",
    "        int(middle_input[2])\n",
    "    ]\n",
    "    \n",
    "    return converted_inp"
   ]
  },
  {
   "cell_type": "code",
   "execution_count": null,
   "id": "54b33f10",
   "metadata": {},
   "outputs": [],
   "source": [
    "import tmp\n",
    "importlib.reload(tmp)\n",
    "tmp.sflkitlib.lib.reset()\n",
    "avix_oracle = construct_oracle(\n",
    "                            program_under_test='middle',\n",
    "                            inp_converter=middle_inp_conv,\n",
    "                            timeout=10,\n",
    "                            line = 7,\n",
    "                            resource_path='rsc/',\n",
    "                            program_oracle= None)\n"
   ]
  },
  {
   "cell_type": "code",
   "execution_count": null,
   "id": "3f8f2c41",
   "metadata": {},
   "outputs": [
    {
     "data": {
      "text/plain": [
       "<OracleResult.FAILING: 'FAILING'>"
      ]
     },
     "execution_count": 51,
     "metadata": {},
     "output_type": "execute_result"
    }
   ],
   "source": [
    "avix_oracle(\"6,3,7\")"
   ]
  },
  {
   "cell_type": "code",
   "execution_count": null,
   "id": "11969097",
   "metadata": {},
   "outputs": [],
   "source": [
    "# # double check if this works\n",
    "\n",
    "# AviX.create_event_file(instrumented_function='middle',\n",
    "#                        #instr_path='tmp',\n",
    "#                        inp = '2,1,3',\n",
    "#                        conversion_func=middle_inp_conv,\n",
    "#                        event_path='rsc/event_file'\n",
    "#                        )"
   ]
  },
  {
   "cell_type": "code",
   "execution_count": null,
   "id": "942d3017",
   "metadata": {},
   "outputs": [],
   "source": [
    "avix = AviX(grammar=middle_grammar,\n",
    "            initial_inputs=middle_inputs,\n",
    "            oracle=avix_oracle,\n",
    "            max_iterations=10,\n",
    "            desired_line=7,\n",
    "            put_path='middle.py',\n",
    "            #instr_path='instrumented.py',\n",
    "            min_precision = 0.7,)"
   ]
  },
  {
   "cell_type": "code",
   "execution_count": null,
   "id": "9a44d30e",
   "metadata": {},
   "outputs": [
    {
     "name": "stdout",
     "output_type": "stream",
     "text": [
      "14,977,74\n",
      "9,1,1\n",
      "86,87619,98\n",
      "75,88,2\n",
      "4,3,7\n",
      "4,8,74\n",
      "67,11,97\n",
      "6,25,182\n",
      "7958,6,82\n",
      "5,46,2\n"
     ]
    }
   ],
   "source": [
    "from fuzzingbook.GrammarFuzzer import GrammarFuzzer, DerivationTree\n",
    "\n",
    "middle_grammar_converted = {\n",
    "    \"<start>\": [\"<stmt>\"],\n",
    "    \"<stmt>\": [\"str.to.int(<x>),str.to.int(<y>),str.to.int(<z>)\"],\n",
    "    \"<x>\": [\"<integer>\"],\n",
    "    \"<y>\": [\"<integer>\"],\n",
    "    \"<z>\": [\"<integer>\"],\n",
    "    \"<integer>\": [\"<digit>\", \"<digit><integer>\"],\n",
    "    \"<digit>\": [str(num) for num in range(1, 10)]\n",
    "}\n",
    "\n",
    "fuzzer = GrammarFuzzer(middle_grammar)\n",
    "\n",
    "for i in range(10):\n",
    "    print(fuzzer.fuzz())"
   ]
  },
  {
   "cell_type": "code",
   "execution_count": null,
   "id": "4a9846ed",
   "metadata": {},
   "outputs": [],
   "source": []
  },
  {
   "cell_type": "markdown",
   "id": "501b70f5-3276-45e8-9e48-7331964004d7",
   "metadata": {},
   "source": [
    "https://github.com/uds-se/sflkit\n",
    "\n",
    "<img src=\"qrcode.png\" style=\"width:500px\">"
   ]
  },
  {
   "cell_type": "markdown",
   "id": "d99da91b",
   "metadata": {},
   "source": []
  },
  {
   "cell_type": "markdown",
   "id": "a3e651cb",
   "metadata": {},
   "source": []
  }
 ],
 "metadata": {
  "kernelspec": {
   "display_name": "Python 3 (ipykernel)",
   "language": "python",
   "name": "python3"
  },
  "language_info": {
   "codemirror_mode": {
    "name": "ipython",
    "version": 3
   },
   "file_extension": ".py",
   "mimetype": "text/x-python",
   "name": "python",
   "nbconvert_exporter": "python",
   "pygments_lexer": "ipython3",
   "version": "3.10.14"
  }
 },
 "nbformat": 4,
 "nbformat_minor": 5
}
