{
 "cells": [
  {
   "cell_type": "code",
   "execution_count": 1,
   "id": "e8333c71-28ed-44ba-8e4e-52a72f8f96e8",
   "metadata": {},
   "outputs": [],
   "source": [
    "import enum\n",
    "import importlib\n",
    "import inspect\n",
    "import os\n",
    "import shutil\n",
    "\n",
    "from typing import List\n",
    "from IPython.display import HTML\n",
    "from sflkit.analysis.spectra import Line\n",
    "\n",
    "from sflkit.analysis import analysis_type, factory\n",
    "from sflkit import *\n",
    "from sflkit.color import ColorCode\n",
    "from sflkit import instrument_config, analyze_config\n",
    "from sflkit.config import Config\n",
    "\n",
    "from avicenna import *"
   ]
  },
  {
   "cell_type": "markdown",
   "id": "7be07d73-70af-4d38-9bc9-2d2f027987f0",
   "metadata": {},
   "source": [
    "## A faulty Program"
   ]
  },
  {
   "cell_type": "markdown",
   "id": "742bbc76-5fd4-46a9-ac78-f132118ec072",
   "metadata": {},
   "source": [
    "First, we need a faulty program. We chose an implementation of the `middle(x, y, z)` function that returns the *middle* number of its three arguments. For example, `middle(1, 3, 2)` should return 2 because `1 < 2` and `2 < 3`. We introduced a fault in this implementation of `middle` that occurs in line 7 `m = y`. "
   ]
  },
  {
   "cell_type": "code",
   "execution_count": 2,
   "id": "97ceacc2-3d6f-4d8f-95b4-11d45e805760",
   "metadata": {},
   "outputs": [],
   "source": [
    "from typing import List\n",
    "\n",
    "class Term:\n",
    "    def evaluate(self) -> float | int:\n",
    "        pass\n",
    "\n",
    "\n",
    "class Binary(Term):\n",
    "    def __init__(self, left: Term, right: Term):\n",
    "        self.left = left\n",
    "        self.right = right\n",
    "\n",
    "\n",
    "class Add(Binary):\n",
    "    def evaluate(self):\n",
    "        l, r = self.left.evaluate(), self.right.evaluate()\n",
    "        return l + r\n",
    "\n",
    "\n",
    "class Sub(Binary):\n",
    "    def evaluate(self):\n",
    "        l, r = self.left.evaluate(), self.right.evaluate()\n",
    "        return l - r\n",
    "\n",
    "\n",
    "class Mul(Binary):\n",
    "    def evaluate(self):\n",
    "        l, r = self.left.evaluate(), self.right.evaluate()\n",
    "        return l * r\n",
    "\n",
    "\n",
    "class Div(Binary):\n",
    "    def evaluate(self):\n",
    "        l, r = self.left.evaluate(), self.right.evaluate()\n",
    "        return l / r\n",
    "\n",
    "\n",
    "class Neg(Term):\n",
    "    def __init__(self, term: Term):\n",
    "        self.term = term\n",
    "\n",
    "    def evaluate(self) -> float | int:\n",
    "        t = self.term.evaluate()\n",
    "        return -t\n",
    "\n",
    "\n",
    "class Constant(Term):\n",
    "    def __init__(self, value: int):\n",
    "        self.value = value\n",
    "\n",
    "    def evaluate(self) -> float | int:\n",
    "        return self.value\n",
    "    \n",
    "    \n",
    "    from typing import List\n",
    "\n",
    "\n",
    "\n",
    "def parse(s: str):\n",
    "    s = s.replace(\"(\", \" ( \")\n",
    "    s = s.replace(\")\", \" ) \")\n",
    "    while \"  \" in s:\n",
    "        s = s.replace(\"  \", \" \")\n",
    "    s = s.strip()\n",
    "    tokens = list(reversed(s.split(\" \")))\n",
    "    assert tokens\n",
    "    term = parse_add_sub(tokens)\n",
    "    assert not tokens\n",
    "    return term\n",
    "\n",
    "\n",
    "def parse_terminal(tokens) -> Term:\n",
    "    token = tokens.pop(0)\n",
    "    if token.isnumeric():\n",
    "        return Constant(int(token))\n",
    "    elif token == \")\":\n",
    "        term = parse_add_sub(tokens)\n",
    "        token = tokens.pop(0)\n",
    "        assert token == \"(\"\n",
    "        return term\n",
    "    else:\n",
    "        assert False\n",
    "\n",
    "\n",
    "def parse_neg(tokens) -> Term:\n",
    "    term = parse_terminal(tokens)\n",
    "    if tokens and tokens[0] in \"~\":\n",
    "        tokens.pop(0)\n",
    "        return Neg(term)\n",
    "    else:\n",
    "        return term\n",
    "\n",
    "\n",
    "def parse_mul_div(tokens: List[str]) -> Term:\n",
    "    term = parse_neg(tokens)\n",
    "    if tokens and tokens[0] in \"*/\":\n",
    "        token = tokens.pop(0)\n",
    "        if token == \"*\":\n",
    "            return Mul(parse_mul_div(tokens), term)\n",
    "        else:\n",
    "            return Div(parse_mul_div(tokens), term)\n",
    "    else:\n",
    "        return term\n",
    "\n",
    "\n",
    "def parse_add_sub(tokens: List[str]) -> Term:\n",
    "    term = parse_mul_div(tokens)\n",
    "    if tokens and tokens[0] in \"+-\":\n",
    "        token = tokens.pop(0)\n",
    "        if token == \"+\":\n",
    "            return Add(parse_add_sub(tokens), term)\n",
    "        else:\n",
    "            return Sub(parse_add_sub(tokens), term)\n",
    "    else:\n",
    "        return term"
   ]
  },
  {
   "cell_type": "code",
   "execution_count": 3,
   "id": "75bf1f7d",
   "metadata": {},
   "outputs": [],
   "source": [
    "result = parse('(3 - 5) * ~ 5') # bug\n"
   ]
  },
  {
   "cell_type": "code",
   "execution_count": 4,
   "id": "462ab341",
   "metadata": {},
   "outputs": [],
   "source": [
    "result1 = parse('152 + 730')"
   ]
  },
  {
   "cell_type": "code",
   "execution_count": 5,
   "id": "738e0c03",
   "metadata": {},
   "outputs": [
    {
     "data": {
      "text/plain": [
       "882"
      ]
     },
     "execution_count": 5,
     "metadata": {},
     "output_type": "execute_result"
    }
   ],
   "source": [
    "result1.evaluate()"
   ]
  },
  {
   "cell_type": "code",
   "execution_count": 6,
   "id": "47f08bc5",
   "metadata": {},
   "outputs": [],
   "source": [
    "import string\n",
    "from typing import List\n",
    "\n",
    "grammar_expression = {\n",
    "            \"<start>\": [\"<arith_expr>\"],\n",
    "            \"<arith_expr>\": [\n",
    "                \"<arith_expr><operator><arith_expr>\",\n",
    "                \"<number>\",\n",
    "                \"(<arith_expr>)\",\n",
    "            ],\n",
    "            \"<operator>\": [\" + \", \" - \", \" * \", \" / \"],\n",
    "            \"<number>\": [\"<maybe_minus><non_zero_digit><maybe_digits>\", \"0\"],\n",
    "            \"<maybe_minus>\": [\"\", \"~ \"],\n",
    "            \"<non_zero_digit>\": [\n",
    "                str(num) for num in range(1, 10)\n",
    "            ],  # Exclude 0 from starting digits\n",
    "            \"<digit>\": list(string.digits),\n",
    "            \"<maybe_digits>\": [\"\", \"<digits>\"],\n",
    "            \"<digits>\": [\"<digit>\", \"<digit><digits>\"],\n",
    "}"
   ]
  },
  {
   "cell_type": "code",
   "execution_count": 7,
   "id": "d189831c",
   "metadata": {},
   "outputs": [],
   "source": [
    "# from avicenna.avix import *\n",
    "\n",
    "# AviX.create_event_file(inp='sqrt(9)',\n",
    "#                        instrumented_function='main',\n",
    "#                        conversion_func=None,\n",
    "#                        event_path='rsc/event_file'\n",
    "#                        )\n",
    "\n"
   ]
  },
  {
   "cell_type": "code",
   "execution_count": 8,
   "id": "5adee8c4",
   "metadata": {},
   "outputs": [],
   "source": [
    "put = 'expression.py'\n",
    "tmp_py = 'rsc/instrumented.py'\n",
    "language='python'\n",
    "predicates='line'\n",
    "metrics='Tarantula'\n",
    "#passing='event-files/0,event-files/1'\n",
    "failing='event-files/ev_file'\n",
    "def get_config():\n",
    "    return Config.create(path=put,\n",
    "                         working=tmp_py,\n",
    "                         language=language,\n",
    "                         predicates=predicates,\n",
    "                         metrics=metrics,\n",
    "                         failing=failing\n",
    "                         )\n",
    "    \n",
    "def instrument(out=True):\n",
    "    instrument_config(get_config())\n",
    "    if out:\n",
    "        with open(tmp_py, 'r') as fp:\n",
    "            print(fp.read())"
   ]
  },
  {
   "cell_type": "code",
   "execution_count": 9,
   "id": "8667ab66",
   "metadata": {},
   "outputs": [
    {
     "name": "stderr",
     "output_type": "stream",
     "text": [
      "sflkit :: INFO     :: I found 56 events in expression.py.\n",
      "sflkit :: INFO     :: I found 56 events in expression.py.\n"
     ]
    },
    {
     "name": "stdout",
     "output_type": "stream",
     "text": [
      "import sflkitlib.lib\n",
      "sflkitlib.lib.add_line_event(0)\n",
      "from typing import List\n",
      "\n",
      "class Term:\n",
      "\n",
      "    def evaluate(self) -> float | int:\n",
      "        sflkitlib.lib.add_line_event(1)\n",
      "        pass\n",
      "\n",
      "class Binary(Term):\n",
      "\n",
      "    def __init__(self, left: Term, right: Term):\n",
      "        sflkitlib.lib.add_line_event(2)\n",
      "        self.left = left\n",
      "        sflkitlib.lib.add_line_event(3)\n",
      "        self.right = right\n",
      "\n",
      "class Add(Binary):\n",
      "\n",
      "    def evaluate(self):\n",
      "        sflkitlib.lib.add_line_event(4)\n",
      "        (l, r) = (self.left.evaluate(), self.right.evaluate())\n",
      "        sflkitlib.lib.add_line_event(5)\n",
      "        return l + r\n",
      "\n",
      "class Sub(Binary):\n",
      "\n",
      "    def evaluate(self):\n",
      "        sflkitlib.lib.add_line_event(6)\n",
      "        (l, r) = (self.left.evaluate(), self.right.evaluate())\n",
      "        sflkitlib.lib.add_line_event(7)\n",
      "        return l - r\n",
      "\n",
      "class Mul(Binary):\n",
      "\n",
      "    def evaluate(self):\n",
      "        sflkitlib.lib.add_line_event(8)\n",
      "        (l, r) = (self.left.evaluate(), self.right.evaluate())\n",
      "        sflkitlib.lib.add_line_event(9)\n",
      "        return l * r\n",
      "\n",
      "class Div(Binary):\n",
      "\n",
      "    def evaluate(self):\n",
      "        sflkitlib.lib.add_line_event(10)\n",
      "        (l, r) = (self.left.evaluate(), self.right.evaluate())\n",
      "        sflkitlib.lib.add_line_event(11)\n",
      "        return l / r\n",
      "\n",
      "class Neg(Term):\n",
      "\n",
      "    def __init__(self, term: Term):\n",
      "        sflkitlib.lib.add_line_event(12)\n",
      "        self.term = term\n",
      "\n",
      "    def evaluate(self) -> float | int:\n",
      "        sflkitlib.lib.add_line_event(13)\n",
      "        t = self.term.evaluate()\n",
      "        sflkitlib.lib.add_line_event(14)\n",
      "        return -t\n",
      "\n",
      "class Constant(Term):\n",
      "\n",
      "    def __init__(self, value: int):\n",
      "        sflkitlib.lib.add_line_event(15)\n",
      "        self.value = value\n",
      "\n",
      "    def evaluate(self) -> float | int:\n",
      "        sflkitlib.lib.add_line_event(16)\n",
      "        return self.value\n",
      "    sflkitlib.lib.add_line_event(17)\n",
      "    from typing import List\n",
      "\n",
      "def parse(s: str):\n",
      "    sflkitlib.lib.add_line_event(18)\n",
      "    s = s.replace('(', ' ( ')\n",
      "    sflkitlib.lib.add_line_event(19)\n",
      "    s = s.replace(')', ' ) ')\n",
      "    sflkitlib.lib.add_line_event(20)\n",
      "    while '  ' in s:\n",
      "        sflkitlib.lib.add_line_event(21)\n",
      "        s = s.replace('  ', ' ')\n",
      "    sflkitlib.lib.add_line_event(22)\n",
      "    s = s.strip()\n",
      "    sflkitlib.lib.add_line_event(23)\n",
      "    tokens = list(reversed(s.split(' ')))\n",
      "    sflkitlib.lib.add_line_event(24)\n",
      "    assert tokens\n",
      "    sflkitlib.lib.add_line_event(25)\n",
      "    term = parse_add_sub(tokens)\n",
      "    sflkitlib.lib.add_line_event(26)\n",
      "    assert not tokens\n",
      "    sflkitlib.lib.add_line_event(27)\n",
      "    return term\n",
      "\n",
      "def parse_terminal(tokens) -> Term:\n",
      "    sflkitlib.lib.add_line_event(28)\n",
      "    token = tokens.pop(0)\n",
      "    sflkitlib.lib.add_line_event(29)\n",
      "    if token.isnumeric():\n",
      "        sflkitlib.lib.add_line_event(30)\n",
      "        return Constant(int(token))\n",
      "    else:\n",
      "        sflkitlib.lib.add_line_event(31)\n",
      "        if token == ')':\n",
      "            sflkitlib.lib.add_line_event(32)\n",
      "            term = parse_add_sub(tokens)\n",
      "            sflkitlib.lib.add_line_event(33)\n",
      "            token = tokens.pop(0)\n",
      "            sflkitlib.lib.add_line_event(34)\n",
      "            assert token == '('\n",
      "            sflkitlib.lib.add_line_event(35)\n",
      "            return term\n",
      "        else:\n",
      "            sflkitlib.lib.add_line_event(36)\n",
      "            assert False\n",
      "\n",
      "def parse_neg(tokens) -> Term:\n",
      "    sflkitlib.lib.add_line_event(37)\n",
      "    term = parse_terminal(tokens)\n",
      "    sflkitlib.lib.add_line_event(38)\n",
      "    if tokens and tokens[0] in '~':\n",
      "        sflkitlib.lib.add_line_event(39)\n",
      "        tokens.pop(0)\n",
      "        sflkitlib.lib.add_line_event(40)\n",
      "        return Neg(term)\n",
      "    else:\n",
      "        sflkitlib.lib.add_line_event(41)\n",
      "        return term\n",
      "\n",
      "def parse_mul_div(tokens: List[str]) -> Term:\n",
      "    sflkitlib.lib.add_line_event(42)\n",
      "    term = parse_neg(tokens)\n",
      "    sflkitlib.lib.add_line_event(43)\n",
      "    if tokens and tokens[0] in '*/':\n",
      "        sflkitlib.lib.add_line_event(44)\n",
      "        token = tokens.pop(0)\n",
      "        sflkitlib.lib.add_line_event(45)\n",
      "        if token == '*':\n",
      "            sflkitlib.lib.add_line_event(46)\n",
      "            return Mul(parse_mul_div(tokens), term)\n",
      "        else:\n",
      "            sflkitlib.lib.add_line_event(47)\n",
      "            return Div(parse_mul_div(tokens), term)\n",
      "    else:\n",
      "        sflkitlib.lib.add_line_event(48)\n",
      "        return term\n",
      "\n",
      "def parse_add_sub(tokens: List[str]) -> Term:\n",
      "    sflkitlib.lib.add_line_event(49)\n",
      "    term = parse_mul_div(tokens)\n",
      "    sflkitlib.lib.add_line_event(50)\n",
      "    if tokens and tokens[0] in '+-':\n",
      "        sflkitlib.lib.add_line_event(51)\n",
      "        token = tokens.pop(0)\n",
      "        sflkitlib.lib.add_line_event(52)\n",
      "        if token == '+':\n",
      "            sflkitlib.lib.add_line_event(53)\n",
      "            return Add(parse_add_sub(tokens), term)\n",
      "        else:\n",
      "            sflkitlib.lib.add_line_event(54)\n",
      "            return Sub(parse_add_sub(tokens), term)\n",
      "    else:\n",
      "        sflkitlib.lib.add_line_event(55)\n",
      "        return term\n"
     ]
    }
   ],
   "source": [
    "instrument()"
   ]
  },
  {
   "cell_type": "code",
   "execution_count": 10,
   "id": "f4f3bee1",
   "metadata": {},
   "outputs": [],
   "source": [
    "def analyzer_conf(conf: Config, factory):\n",
    "    analyzer = Analyzer(irrelevant_event_files=conf.failing, \n",
    "                        relevant_event_files=conf.passing,\n",
    "                        factory=factory)\n",
    "    return analyzer"
   ]
  },
  {
   "cell_type": "code",
   "execution_count": 11,
   "id": "4b07897a",
   "metadata": {},
   "outputs": [
    {
     "data": {
      "text/plain": [
       "LINE"
      ]
     },
     "execution_count": 11,
     "metadata": {},
     "output_type": "execute_result"
    }
   ],
   "source": [
    "factory = factory.LineFactory()\n",
    "line_event = analysis_type.AnalysisType(0)\n",
    "line_event"
   ]
  },
  {
   "cell_type": "code",
   "execution_count": 12,
   "id": "d1e4df3e",
   "metadata": {},
   "outputs": [],
   "source": [
    "analyzer = analyzer_conf(get_config(), factory=factory)"
   ]
  },
  {
   "cell_type": "code",
   "execution_count": 13,
   "id": "eecbf218",
   "metadata": {},
   "outputs": [],
   "source": [
    "# results = analyzer.analyze()\n",
    "# results\n",
    "\n",
    "# analyzer needs event files \n",
    "analyzer.analyze()"
   ]
  },
  {
   "cell_type": "code",
   "execution_count": 14,
   "id": "d743121d",
   "metadata": {},
   "outputs": [
    {
     "name": "stdout",
     "output_type": "stream",
     "text": [
      "{49, 60, 61, 62, 64, 65, 66, 67, 68, 69, 73, 74, 75, 76, 77, 78, 79, 80, 86, 87, 91, 95, 96, 103, 107, 108, 115}\n"
     ]
    }
   ],
   "source": [
    "coverage: List[Line] = analyzer.get_coverage()\n",
    "coverage = {line.line for line in coverage}\n",
    "print(coverage)"
   ]
  },
  {
   "cell_type": "code",
   "execution_count": 15,
   "id": "190c5287",
   "metadata": {},
   "outputs": [],
   "source": [
    "def middle_inp_conv(inp):\n",
    "    inp = inp.__str__()\n",
    "    middle_input = inp.split(',')\n",
    "    \n",
    "    converted_inp = [\n",
    "        int(middle_input[0]),\n",
    "        int(middle_input[1]),\n",
    "        int(middle_input[2])\n",
    "    ]\n",
    "    \n",
    "    return converted_inp"
   ]
  },
  {
   "cell_type": "code",
   "execution_count": 16,
   "id": "e550b853",
   "metadata": {},
   "outputs": [],
   "source": [
    "# from avicenna.avix import AviX\n",
    "# AviX.create_event_file( instrumented_function='main',\n",
    "#                         #instr_path=instrumented_file_path,\n",
    "#                         inp='sqrt(9)', \n",
    "#                         conversion_func=None, \n",
    "#                         event_path='rsc/event_file',\n",
    "# )"
   ]
  },
  {
   "cell_type": "code",
   "execution_count": 17,
   "id": "025672c0",
   "metadata": {},
   "outputs": [],
   "source": [
    "# from typing import List\n",
    "\n",
    "# from sflkit.analysis.analysis_type import AnalysisType\n",
    "# from sflkit.analysis.spectra import Line\n",
    "\n",
    "# analyzer2 = analyzer.analyze()\n",
    "# print(\"hi\")\n",
    "# coverage: List[Line] = analyzer2.get_coverage(AnalysisType.LINE)\n",
    "# coverage = {line.line for line in coverage}\n",
    "# print(coverage)\n",
    "from avicenna.avix import *\n",
    "from avicenna.oracle_construction import * \n",
    "avix_oracle = construct_oracle(\n",
    "                            program_under_test='parse',\n",
    "                            # inp_converter=None,\n",
    "                            # timeout=10,\n",
    "                            line = 77,\n",
    "                            put_path='expression.py'\n",
    "                            # resource_path='rsc/',\n",
    "                            # program_oracle= None,\n",
    "                            )\n"
   ]
  },
  {
   "cell_type": "code",
   "execution_count": 18,
   "id": "668dc3dc",
   "metadata": {},
   "outputs": [
    {
     "data": {
      "text/plain": [
       "<OracleResult.PASSING: 'PASSING'>"
      ]
     },
     "execution_count": 18,
     "metadata": {},
     "output_type": "execute_result"
    }
   ],
   "source": [
    "avix_oracle('3 + 5')\n"
   ]
  },
  {
   "cell_type": "code",
   "execution_count": 19,
   "id": "8772d57a",
   "metadata": {},
   "outputs": [
    {
     "data": {
      "text/plain": [
       "<OracleResult.FAILING: 'FAILING'>"
      ]
     },
     "execution_count": 19,
     "metadata": {},
     "output_type": "execute_result"
    }
   ],
   "source": [
    "avix_oracle('(6 / 2)')"
   ]
  },
  {
   "cell_type": "code",
   "execution_count": 20,
   "id": "548623aa",
   "metadata": {},
   "outputs": [],
   "source": [
    "def calc_oracle(inp):\n",
    "    # convert inputs\n",
    "    \n",
    "    return eval(inp)\n",
    "    \n",
    "    inputs = input.split()\n",
    "    result_list = [x, y, z]\n",
    "    result_list.sort()\n",
    "    return result_list[1]"
   ]
  },
  {
   "cell_type": "code",
   "execution_count": 21,
   "id": "70c8de77",
   "metadata": {},
   "outputs": [
    {
     "data": {
      "text/plain": [
       "3.0"
      ]
     },
     "execution_count": 21,
     "metadata": {},
     "output_type": "execute_result"
    }
   ],
   "source": [
    "import math\n",
    "calc_oracle('math.sqrt(9)')"
   ]
  },
  {
   "cell_type": "code",
   "execution_count": 22,
   "id": "e5131eff",
   "metadata": {},
   "outputs": [],
   "source": [
    "regular_oracle = construct_oracle(\n",
    "                            program_under_test=parse,\n",
    "                            timeout=10,\n",
    "                            program_oracle=calc_oracle,\n",
    "                            default_oracle_result=OracleResult.PASSING)\n",
    "\n"
   ]
  },
  {
   "cell_type": "code",
   "execution_count": 23,
   "id": "64704837",
   "metadata": {},
   "outputs": [],
   "source": [
    "inputs_expression = [\n",
    "            '(9 - 5)', '16 - 5', '0 - (2 - 3)', '(7 - 2) - 3', # all -\n",
    "            '(9 + 5)', '16 + 5', '0 + (2 + 3)', '(7 + 2) + 3', # all +\n",
    "            '(9 * 5)', '16 * 5', '0 * (2 * 3)', '(7 * 2) * 3', # all *\n",
    "            '(9 / 5)', '16 / 5', '0 / (2 / 3)', '(7 / 2) / 3', # all /\n",
    "            '(9 / 5) + 8', '16 / 5 - 5', '0 / (2 * 0)', '7 / 2 / 0',   # div by 0\n",
    "            '9 + 8', \n",
    "        ]"
   ]
  },
  {
   "cell_type": "code",
   "execution_count": 24,
   "id": "0b6ee533",
   "metadata": {},
   "outputs": [
    {
     "data": {
      "text/plain": [
       "<OracleResult.FAILING: 'FAILING'>"
      ]
     },
     "execution_count": 24,
     "metadata": {},
     "output_type": "execute_result"
    }
   ],
   "source": [
    "avix_oracle(inputs_expression[0])"
   ]
  },
  {
   "cell_type": "code",
   "execution_count": 25,
   "id": "1b0fef36",
   "metadata": {},
   "outputs": [],
   "source": [
    "# avicenna = Avicenna(\n",
    "#     grammar=grammar_calc,\n",
    "#     initial_inputs=inputs_calc,\n",
    "#     oracle=avix_oracle,\n",
    "#     max_iterations=10,\n",
    "#     top_n_relevant_features=3,\n",
    "# )"
   ]
  },
  {
   "cell_type": "code",
   "execution_count": 26,
   "id": "639abe3d",
   "metadata": {},
   "outputs": [
    {
     "name": "stderr",
     "output_type": "stream",
     "text": [
      "sflkit :: INFO     :: I found 56 events in expression.py.\n",
      "sflkit :: INFO     :: I found 56 events in expression.py.\n"
     ]
    }
   ],
   "source": [
    "avix = AviX(\n",
    "    grammar=grammar_expression,\n",
    "    initial_inputs=inputs_expression,\n",
    "    oracle=avix_oracle,\n",
    "    max_iterations=10,\n",
    "    top_n_relevant_features=3,\n",
    "    put_path='expression.py',    \n",
    ")"
   ]
  },
  {
   "cell_type": "code",
   "execution_count": 27,
   "id": "5465c93e",
   "metadata": {},
   "outputs": [],
   "source": [
    "# avicenna2 = Avicenna(\n",
    "#     grammar=middle_grammar,\n",
    "#     initial_inputs=middle_inputs,\n",
    "#     oracle=regular_oracle,\n",
    "#     max_iterations=10,\n",
    "#     top_n_relevant_features=3, \n",
    "# )"
   ]
  },
  {
   "cell_type": "code",
   "execution_count": 28,
   "id": "95b78629",
   "metadata": {},
   "outputs": [],
   "source": [
    "import warnings\n",
    "\n",
    "import logging\n",
    "# Suppress the specific SHAP warning\n",
    "warnings.filterwarnings(\n",
    "    \"ignore\",\n",
    "    message=\"LightGBM binary classifier with TreeExplainer shap values output has changed to a list of ndarray\",\n",
    ")\n",
    "warnings.filterwarnings(\n",
    "    \"ignore\", \n",
    "    message=\"No further splits with positive gain, best gain: -inf\"\n",
    ")"
   ]
  },
  {
   "cell_type": "code",
   "execution_count": 29,
   "id": "1fb1d396",
   "metadata": {},
   "outputs": [
    {
     "ename": "TypeError",
     "evalue": "evaluate_z3_expression.<locals>.not_implemented_failure() takes from 0 to 1 positional arguments but 2 were given",
     "output_type": "error",
     "traceback": [
      "\u001b[0;31m---------------------------------------------------------------------------\u001b[0m",
      "\u001b[0;31mTypeError\u001b[0m                                 Traceback (most recent call last)",
      "Cell \u001b[0;32mIn[29], line 3\u001b[0m\n\u001b[1;32m      1\u001b[0m logging\u001b[38;5;241m.\u001b[39mbasicConfig(filename\u001b[38;5;241m=\u001b[39m\u001b[38;5;124m'\u001b[39m\u001b[38;5;124mavicenna.log\u001b[39m\u001b[38;5;124m'\u001b[39m, filemode\u001b[38;5;241m=\u001b[39m\u001b[38;5;124m'\u001b[39m\u001b[38;5;124mw\u001b[39m\u001b[38;5;124m'\u001b[39m, encoding\u001b[38;5;241m=\u001b[39m\u001b[38;5;124m'\u001b[39m\u001b[38;5;124mutf-8\u001b[39m\u001b[38;5;124m'\u001b[39m, level\u001b[38;5;241m=\u001b[39mlogging\u001b[38;5;241m.\u001b[39mINFO, force\u001b[38;5;241m=\u001b[39m\u001b[38;5;28;01mTrue\u001b[39;00m)\n\u001b[1;32m      2\u001b[0m \u001b[38;5;66;03m# only 2 constraints used in the end why\u001b[39;00m\n\u001b[0;32m----> 3\u001b[0m best_invariant \u001b[38;5;241m=\u001b[39m \u001b[43mavix\u001b[49m\u001b[38;5;241;43m.\u001b[39;49m\u001b[43mexplain\u001b[49m\u001b[43m(\u001b[49m\u001b[43m)\u001b[49m \u001b[38;5;66;03m# unparse with islaunparse for further use\u001b[39;00m\n",
      "File \u001b[0;32m~/ba/avicenna/src/avicenna/avicenna.py:253\u001b[0m, in \u001b[0;36mAvicenna.explain\u001b[0;34m(self)\u001b[0m\n\u001b[1;32m    250\u001b[0m             LOGGER\u001b[38;5;241m.\u001b[39minfo(\u001b[38;5;124m\"\u001b[39m\u001b[38;5;124mTIMEOUT\u001b[39m\u001b[38;5;124m\"\u001b[39m)\n\u001b[1;32m    251\u001b[0m             \u001b[38;5;28;01mraise\u001b[39;00m \u001b[38;5;167;01mTimeoutError\u001b[39;00m(\u001b[38;5;28mself\u001b[39m\u001b[38;5;241m.\u001b[39mtimeout_seconds)\n\u001b[0;32m--> 253\u001b[0m     new_inputs \u001b[38;5;241m=\u001b[39m \u001b[38;5;28;43mself\u001b[39;49m\u001b[38;5;241;43m.\u001b[39;49m\u001b[43m_loop\u001b[49m\u001b[43m(\u001b[49m\u001b[43mnew_inputs\u001b[49m\u001b[43m)\u001b[49m\n\u001b[1;32m    255\u001b[0m \u001b[38;5;28;01mreturn\u001b[39;00m \u001b[38;5;28mself\u001b[39m\u001b[38;5;241m.\u001b[39mfinalize()\n",
      "File \u001b[0;32m~/ba/avicenna/src/avicenna/avicenna.py:304\u001b[0m, in \u001b[0;36mAvicenna._loop\u001b[0;34m(self, test_inputs)\u001b[0m\n\u001b[1;32m    301\u001b[0m test_inputs \u001b[38;5;241m=\u001b[39m \u001b[38;5;28mself\u001b[39m\u001b[38;5;241m.\u001b[39mconstruct_inputs(test_inputs)\n\u001b[1;32m    302\u001b[0m exclusion_non_terminals \u001b[38;5;241m=\u001b[39m \u001b[38;5;28mself\u001b[39m\u001b[38;5;241m.\u001b[39mlearn_relevant_features()\n\u001b[0;32m--> 304\u001b[0m new_candidates \u001b[38;5;241m=\u001b[39m \u001b[38;5;28;43mself\u001b[39;49m\u001b[38;5;241;43m.\u001b[39;49m\u001b[43mpattern_learner\u001b[49m\u001b[38;5;241;43m.\u001b[39;49m\u001b[43mlearn_failure_invariants\u001b[49m\u001b[43m(\u001b[49m\n\u001b[1;32m    305\u001b[0m \u001b[43m    \u001b[49m\u001b[43mtest_inputs\u001b[49m\u001b[43m,\u001b[49m\n\u001b[1;32m    306\u001b[0m \u001b[43m    \u001b[49m\u001b[38;5;28;43mself\u001b[39;49m\u001b[38;5;241;43m.\u001b[39;49m\u001b[43mprecision_truth_table\u001b[49m\u001b[43m,\u001b[49m\n\u001b[1;32m    307\u001b[0m \u001b[43m    \u001b[49m\u001b[38;5;28;43mself\u001b[39;49m\u001b[38;5;241;43m.\u001b[39;49m\u001b[43mrecall_truth_table\u001b[49m\u001b[43m,\u001b[49m\n\u001b[1;32m    308\u001b[0m \u001b[43m    \u001b[49m\u001b[43mexclusion_non_terminals\u001b[49m\u001b[43m,\u001b[49m\n\u001b[1;32m    309\u001b[0m \u001b[43m\u001b[49m\u001b[43m)\u001b[49m\n\u001b[1;32m    310\u001b[0m new_candidates \u001b[38;5;241m=\u001b[39m \u001b[38;5;28mset\u001b[39m([x[\u001b[38;5;241m0\u001b[39m] \u001b[38;5;28;01mfor\u001b[39;00m x \u001b[38;5;129;01min\u001b[39;00m new_candidates[:\u001b[38;5;241m20\u001b[39m]])\n\u001b[1;32m    312\u001b[0m \u001b[38;5;28mself\u001b[39m\u001b[38;5;241m.\u001b[39mbest_candidates \u001b[38;5;241m=\u001b[39m new_candidates\n",
      "File \u001b[0;32m~/ba/avicenna/src/avicenna/pattern_learner.py:259\u001b[0m, in \u001b[0;36mAviIslearn.learn_failure_invariants\u001b[0;34m(self, test_inputs, precision_truth_table, recall_truth_table, exclude_nonterminals)\u001b[0m\n\u001b[1;32m    256\u001b[0m \u001b[38;5;28mself\u001b[39m\u001b[38;5;241m.\u001b[39mupdate_inputs(positive_inputs, negative_inputs)\n\u001b[1;32m    257\u001b[0m \u001b[38;5;28mself\u001b[39m\u001b[38;5;241m.\u001b[39mexclude_nonterminals \u001b[38;5;241m=\u001b[39m exclude_nonterminals \u001b[38;5;129;01mor\u001b[39;00m \u001b[38;5;28mset\u001b[39m()\n\u001b[0;32m--> 259\u001b[0m \u001b[38;5;28;01mreturn\u001b[39;00m \u001b[38;5;28;43mself\u001b[39;49m\u001b[38;5;241;43m.\u001b[39;49m\u001b[43m_learn_invariants\u001b[49m\u001b[43m(\u001b[49m\n\u001b[1;32m    260\u001b[0m \u001b[43m    \u001b[49m\u001b[43mpositive_inputs\u001b[49m\u001b[43m,\u001b[49m\u001b[43m \u001b[49m\u001b[43mnegative_inputs\u001b[49m\u001b[43m,\u001b[49m\u001b[43m \u001b[49m\u001b[43mprecision_truth_table\u001b[49m\u001b[43m,\u001b[49m\u001b[43m \u001b[49m\u001b[43mrecall_truth_table\u001b[49m\n\u001b[1;32m    261\u001b[0m \u001b[43m\u001b[49m\u001b[43m)\u001b[49m\n",
      "File \u001b[0;32m~/ba/avicenna/src/avicenna/pattern_learner.py:285\u001b[0m, in \u001b[0;36mAviIslearn._learn_invariants\u001b[0;34m(self, positive_inputs, negative_inputs, precision_truth_table, recall_truth_table)\u001b[0m\n\u001b[1;32m    277\u001b[0m \u001b[38;5;28;01mdef\u001b[39;00m \u001b[38;5;21m_learn_invariants\u001b[39m(\n\u001b[1;32m    278\u001b[0m     \u001b[38;5;28mself\u001b[39m,\n\u001b[1;32m    279\u001b[0m     positive_inputs: Set[Input],\n\u001b[0;32m   (...)\u001b[0m\n\u001b[1;32m    282\u001b[0m     recall_truth_table: AvicennaTruthTable,\n\u001b[1;32m    283\u001b[0m ) \u001b[38;5;241m-\u001b[39m\u001b[38;5;241m>\u001b[39m List[Tuple[Formula, \u001b[38;5;28mfloat\u001b[39m, \u001b[38;5;28mfloat\u001b[39m]]:\n\u001b[1;32m    284\u001b[0m     sorted_positive_inputs \u001b[38;5;241m=\u001b[39m \u001b[38;5;28mself\u001b[39m\u001b[38;5;241m.\u001b[39msort_and_filter_inputs(\u001b[38;5;28mself\u001b[39m\u001b[38;5;241m.\u001b[39mall_positive_inputs)\n\u001b[0;32m--> 285\u001b[0m     candidates \u001b[38;5;241m=\u001b[39m \u001b[38;5;28;43mself\u001b[39;49m\u001b[38;5;241;43m.\u001b[39;49m\u001b[43mget_candidates\u001b[49m\u001b[43m(\u001b[49m\u001b[43msorted_positive_inputs\u001b[49m\u001b[43m)\u001b[49m\n\u001b[1;32m    287\u001b[0m     \u001b[38;5;28mself\u001b[39m\u001b[38;5;241m.\u001b[39mevaluate_recall(candidates, recall_truth_table, positive_inputs)\n\u001b[1;32m    289\u001b[0m     \u001b[38;5;28mself\u001b[39m\u001b[38;5;241m.\u001b[39mfilter_candidates(precision_truth_table, recall_truth_table)\n",
      "File \u001b[0;32m~/ba/avicenna/src/avicenna/pattern_learner.py:310\u001b[0m, in \u001b[0;36mAviIslearn.get_candidates\u001b[0;34m(self, sorted_positive_inputs)\u001b[0m\n\u001b[1;32m    309\u001b[0m \u001b[38;5;28;01mdef\u001b[39;00m \u001b[38;5;21mget_candidates\u001b[39m(\u001b[38;5;28mself\u001b[39m, sorted_positive_inputs):\n\u001b[0;32m--> 310\u001b[0m     candidates \u001b[38;5;241m=\u001b[39m \u001b[38;5;28;43mself\u001b[39;49m\u001b[38;5;241;43m.\u001b[39;49m\u001b[43mgenerate_candidates\u001b[49m\u001b[43m(\u001b[49m\n\u001b[1;32m    311\u001b[0m \u001b[43m        \u001b[49m\u001b[38;5;28;43mself\u001b[39;49m\u001b[38;5;241;43m.\u001b[39;49m\u001b[43mpatterns\u001b[49m\u001b[43m,\u001b[49m\u001b[43m \u001b[49m\u001b[43m[\u001b[49m\u001b[43minp\u001b[49m\u001b[38;5;241;43m.\u001b[39;49m\u001b[43mtree\u001b[49m\u001b[43m \u001b[49m\u001b[38;5;28;43;01mfor\u001b[39;49;00m\u001b[43m \u001b[49m\u001b[43minp\u001b[49m\u001b[43m \u001b[49m\u001b[38;5;129;43;01min\u001b[39;49;00m\u001b[43m \u001b[49m\u001b[43msorted_positive_inputs\u001b[49m\u001b[43m]\u001b[49m\n\u001b[1;32m    312\u001b[0m \u001b[43m    \u001b[49m\u001b[43m)\u001b[49m\n\u001b[1;32m    313\u001b[0m     logger\u001b[38;5;241m.\u001b[39minfo(\u001b[38;5;124m\"\u001b[39m\u001b[38;5;124mFound \u001b[39m\u001b[38;5;132;01m%d\u001b[39;00m\u001b[38;5;124m invariant candidates.\u001b[39m\u001b[38;5;124m\"\u001b[39m, \u001b[38;5;28mlen\u001b[39m(candidates))\n\u001b[1;32m    314\u001b[0m     \u001b[38;5;28;01mreturn\u001b[39;00m candidates\n",
      "File \u001b[0;32m~/.pyenv/versions/3.10.14/lib/python3.10/site-packages/islearn/learner.py:678\u001b[0m, in \u001b[0;36mInvariantLearner.generate_candidates\u001b[0;34m(self, patterns, inputs)\u001b[0m\n\u001b[1;32m    676\u001b[0m     pattern_insts_without_string_placeholders \u001b[38;5;241m=\u001b[39m pattern_insts_without_nonterminal_string_placeholders\n\u001b[1;32m    677\u001b[0m \u001b[38;5;28;01melse\u001b[39;00m:\n\u001b[0;32m--> 678\u001b[0m     pattern_insts_without_string_placeholders \u001b[38;5;241m=\u001b[39m \u001b[38;5;28;43mself\u001b[39;49m\u001b[38;5;241;43m.\u001b[39;49m\u001b[43m_instantiate_string_placeholders\u001b[49m\u001b[43m(\u001b[49m\n\u001b[1;32m    679\u001b[0m \u001b[43m        \u001b[49m\u001b[43mpattern_insts_without_nonterminal_string_placeholders\u001b[49m\u001b[43m,\u001b[49m\u001b[43m \u001b[49m\u001b[43mtries\u001b[49m\u001b[43m)\u001b[49m\n\u001b[1;32m    681\u001b[0m     logger\u001b[38;5;241m.\u001b[39mdebug(\u001b[38;5;124m\"\u001b[39m\u001b[38;5;124mFound \u001b[39m\u001b[38;5;132;01m%d\u001b[39;00m\u001b[38;5;124m instantiations of pattern after instantiating string placeholders\u001b[39m\u001b[38;5;124m\"\u001b[39m,\n\u001b[1;32m    682\u001b[0m                  \u001b[38;5;28mlen\u001b[39m(pattern_insts_without_string_placeholders))\n\u001b[1;32m    684\u001b[0m \u001b[38;5;28;01massert\u001b[39;00m \u001b[38;5;28mall\u001b[39m(\u001b[38;5;129;01mnot\u001b[39;00m get_placeholders(candidate)\n\u001b[1;32m    685\u001b[0m            \u001b[38;5;28;01mfor\u001b[39;00m candidate \u001b[38;5;129;01min\u001b[39;00m pattern_insts_without_string_placeholders)\n",
      "File \u001b[0;32m~/.pyenv/versions/3.10.14/lib/python3.10/site-packages/islearn/learner.py:1372\u001b[0m, in \u001b[0;36mInvariantLearner._instantiate_string_placeholders\u001b[0;34m(self, inst_patterns, tries)\u001b[0m\n\u001b[1;32m   1366\u001b[0m string_ph_insts: List[Dict[StringPlaceholderVariable, \u001b[38;5;28mstr\u001b[39m \u001b[38;5;241m|\u001b[39m Set[\u001b[38;5;28mstr\u001b[39m]]] \u001b[38;5;241m=\u001b[39m \\\n\u001b[1;32m   1367\u001b[0m     dict_of_lists_to_list_of_dicts(insts)\n\u001b[1;32m   1369\u001b[0m \u001b[38;5;28;01mfor\u001b[39;00m instantiation \u001b[38;5;129;01min\u001b[39;00m string_ph_insts:\n\u001b[1;32m   1370\u001b[0m     \u001b[38;5;66;03m# TODO: We have to account for sets in instantiations in the abstract\u001b[39;00m\n\u001b[1;32m   1371\u001b[0m     \u001b[38;5;66;03m#       evaluation, or expand the formula before. Probably try the former.\u001b[39;00m\n\u001b[0;32m-> 1372\u001b[0m     \u001b[38;5;28;01mif\u001b[39;00m \u001b[38;5;28;43many\u001b[39;49m\u001b[43m(\u001b[49m\n\u001b[1;32m   1373\u001b[0m \u001b[43m            \u001b[49m\u001b[38;5;129;43;01mnot\u001b[39;49;00m\u001b[43m \u001b[49m\u001b[43mapproximately_evaluate_abst_for\u001b[49m\u001b[43m(\u001b[49m\n\u001b[1;32m   1374\u001b[0m \u001b[43m                \u001b[49m\u001b[43mformula\u001b[49m\u001b[43m,\u001b[49m\n\u001b[1;32m   1375\u001b[0m \u001b[43m                \u001b[49m\u001b[38;5;28;43mself\u001b[39;49m\u001b[38;5;241;43m.\u001b[39;49m\u001b[43mgrammar\u001b[49m\u001b[43m,\u001b[49m\n\u001b[1;32m   1376\u001b[0m \u001b[43m                \u001b[49m\u001b[38;5;28;43mself\u001b[39;49m\u001b[38;5;241;43m.\u001b[39;49m\u001b[43mgraph\u001b[49m\u001b[43m,\u001b[49m\n\u001b[1;32m   1377\u001b[0m \u001b[43m                \u001b[49m\u001b[43m{\u001b[49m\u001b[43mlanguage\u001b[49m\u001b[38;5;241;43m.\u001b[39;49m\u001b[43mConstant\u001b[49m\u001b[43m(\u001b[49m\u001b[38;5;124;43m\"\u001b[39;49m\u001b[38;5;124;43mstart\u001b[39;49m\u001b[38;5;124;43m\"\u001b[39;49m\u001b[43m,\u001b[49m\u001b[43m \u001b[49m\u001b[38;5;124;43m\"\u001b[39;49m\u001b[38;5;124;43m<start>\u001b[39;49m\u001b[38;5;124;43m\"\u001b[39;49m\u001b[43m)\u001b[49m\u001b[43m:\u001b[49m\u001b[43m \u001b[49m\u001b[43mtrie\u001b[49m\u001b[43m[\u001b[49m\u001b[43mpath_to_trie_key\u001b[49m\u001b[43m(\u001b[49m\u001b[43m(\u001b[49m\u001b[43m)\u001b[49m\u001b[43m)\u001b[49m\u001b[43m]\u001b[49m\u001b[43m}\u001b[49m\u001b[43m \u001b[49m\u001b[38;5;241;43m|\u001b[39;49m\u001b[43m \u001b[49m\u001b[43minstantiation\u001b[49m\u001b[43m,\u001b[49m\n\u001b[1;32m   1378\u001b[0m \u001b[43m                \u001b[49m\u001b[43mtrie\u001b[49m\n\u001b[1;32m   1379\u001b[0m \u001b[43m            \u001b[49m\u001b[43m)\u001b[49m\u001b[38;5;241;43m.\u001b[39;49m\u001b[43mis_false\u001b[49m\u001b[43m(\u001b[49m\u001b[43m)\u001b[49m\n\u001b[1;32m   1380\u001b[0m \u001b[43m            \u001b[49m\u001b[38;5;28;43;01mfor\u001b[39;49;00m\u001b[43m \u001b[49m\u001b[43mtrie\u001b[49m\u001b[43m \u001b[49m\u001b[38;5;129;43;01min\u001b[39;49;00m\u001b[43m \u001b[49m\u001b[43mtries\u001b[49m\u001b[43m)\u001b[49m:\n\u001b[1;32m   1381\u001b[0m         instantiated_formula \u001b[38;5;241m=\u001b[39m formula\n\u001b[1;32m   1382\u001b[0m         \u001b[38;5;28;01mfor\u001b[39;00m ph, inst \u001b[38;5;129;01min\u001b[39;00m instantiation\u001b[38;5;241m.\u001b[39mitems():\n",
      "File \u001b[0;32m~/.pyenv/versions/3.10.14/lib/python3.10/site-packages/islearn/learner.py:1373\u001b[0m, in \u001b[0;36m<genexpr>\u001b[0;34m(.0)\u001b[0m\n\u001b[1;32m   1366\u001b[0m string_ph_insts: List[Dict[StringPlaceholderVariable, \u001b[38;5;28mstr\u001b[39m \u001b[38;5;241m|\u001b[39m Set[\u001b[38;5;28mstr\u001b[39m]]] \u001b[38;5;241m=\u001b[39m \\\n\u001b[1;32m   1367\u001b[0m     dict_of_lists_to_list_of_dicts(insts)\n\u001b[1;32m   1369\u001b[0m \u001b[38;5;28;01mfor\u001b[39;00m instantiation \u001b[38;5;129;01min\u001b[39;00m string_ph_insts:\n\u001b[1;32m   1370\u001b[0m     \u001b[38;5;66;03m# TODO: We have to account for sets in instantiations in the abstract\u001b[39;00m\n\u001b[1;32m   1371\u001b[0m     \u001b[38;5;66;03m#       evaluation, or expand the formula before. Probably try the former.\u001b[39;00m\n\u001b[1;32m   1372\u001b[0m     \u001b[38;5;28;01mif\u001b[39;00m \u001b[38;5;28many\u001b[39m(\n\u001b[0;32m-> 1373\u001b[0m             \u001b[38;5;129;01mnot\u001b[39;00m \u001b[43mapproximately_evaluate_abst_for\u001b[49m\u001b[43m(\u001b[49m\n\u001b[1;32m   1374\u001b[0m \u001b[43m                \u001b[49m\u001b[43mformula\u001b[49m\u001b[43m,\u001b[49m\n\u001b[1;32m   1375\u001b[0m \u001b[43m                \u001b[49m\u001b[38;5;28;43mself\u001b[39;49m\u001b[38;5;241;43m.\u001b[39;49m\u001b[43mgrammar\u001b[49m\u001b[43m,\u001b[49m\n\u001b[1;32m   1376\u001b[0m \u001b[43m                \u001b[49m\u001b[38;5;28;43mself\u001b[39;49m\u001b[38;5;241;43m.\u001b[39;49m\u001b[43mgraph\u001b[49m\u001b[43m,\u001b[49m\n\u001b[1;32m   1377\u001b[0m \u001b[43m                \u001b[49m\u001b[43m{\u001b[49m\u001b[43mlanguage\u001b[49m\u001b[38;5;241;43m.\u001b[39;49m\u001b[43mConstant\u001b[49m\u001b[43m(\u001b[49m\u001b[38;5;124;43m\"\u001b[39;49m\u001b[38;5;124;43mstart\u001b[39;49m\u001b[38;5;124;43m\"\u001b[39;49m\u001b[43m,\u001b[49m\u001b[43m \u001b[49m\u001b[38;5;124;43m\"\u001b[39;49m\u001b[38;5;124;43m<start>\u001b[39;49m\u001b[38;5;124;43m\"\u001b[39;49m\u001b[43m)\u001b[49m\u001b[43m:\u001b[49m\u001b[43m \u001b[49m\u001b[43mtrie\u001b[49m\u001b[43m[\u001b[49m\u001b[43mpath_to_trie_key\u001b[49m\u001b[43m(\u001b[49m\u001b[43m(\u001b[49m\u001b[43m)\u001b[49m\u001b[43m)\u001b[49m\u001b[43m]\u001b[49m\u001b[43m}\u001b[49m\u001b[43m \u001b[49m\u001b[38;5;241;43m|\u001b[39;49m\u001b[43m \u001b[49m\u001b[43minstantiation\u001b[49m\u001b[43m,\u001b[49m\n\u001b[1;32m   1378\u001b[0m \u001b[43m                \u001b[49m\u001b[43mtrie\u001b[49m\n\u001b[1;32m   1379\u001b[0m \u001b[43m            \u001b[49m\u001b[43m)\u001b[49m\u001b[38;5;241m.\u001b[39mis_false()\n\u001b[1;32m   1380\u001b[0m             \u001b[38;5;28;01mfor\u001b[39;00m trie \u001b[38;5;129;01min\u001b[39;00m tries):\n\u001b[1;32m   1381\u001b[0m         instantiated_formula \u001b[38;5;241m=\u001b[39m formula\n\u001b[1;32m   1382\u001b[0m         \u001b[38;5;28;01mfor\u001b[39;00m ph, inst \u001b[38;5;129;01min\u001b[39;00m instantiation\u001b[38;5;241m.\u001b[39mitems():\n",
      "File \u001b[0;32m~/.pyenv/versions/3.10.14/lib/python3.10/site-packages/islearn/learner.py:1666\u001b[0m, in \u001b[0;36mapproximately_evaluate_abst_for\u001b[0;34m(formula, grammar, graph, assignments, trie)\u001b[0m\n\u001b[1;32m   1661\u001b[0m         \u001b[38;5;28;01mreturn\u001b[39;00m ThreeValuedTruth\u001b[38;5;241m.\u001b[39mfrom_bool(\u001b[38;5;28many\u001b[39m(\n\u001b[1;32m   1662\u001b[0m             \u001b[38;5;129;01mnot\u001b[39;00m approximately_evaluate_abst_for(\n\u001b[1;32m   1663\u001b[0m                 formula\u001b[38;5;241m.\u001b[39minner_formula, grammar, graph, new_assignment, trie)\u001b[38;5;241m.\u001b[39mis_false()\n\u001b[1;32m   1664\u001b[0m             \u001b[38;5;28;01mfor\u001b[39;00m new_assignment \u001b[38;5;129;01min\u001b[39;00m new_assignments))\n\u001b[1;32m   1665\u001b[0m     \u001b[38;5;28;01melse\u001b[39;00m:\n\u001b[0;32m-> 1666\u001b[0m         \u001b[38;5;28;01mreturn\u001b[39;00m ThreeValuedTruth\u001b[38;5;241m.\u001b[39mfrom_bool(\u001b[38;5;28;43mall\u001b[39;49m\u001b[43m(\u001b[49m\n\u001b[1;32m   1667\u001b[0m \u001b[43m            \u001b[49m\u001b[38;5;129;43;01mnot\u001b[39;49;00m\u001b[43m \u001b[49m\u001b[43mapproximately_evaluate_abst_for\u001b[49m\u001b[43m(\u001b[49m\n\u001b[1;32m   1668\u001b[0m \u001b[43m                \u001b[49m\u001b[43mformula\u001b[49m\u001b[38;5;241;43m.\u001b[39;49m\u001b[43minner_formula\u001b[49m\u001b[43m,\u001b[49m\u001b[43m \u001b[49m\u001b[43mgrammar\u001b[49m\u001b[43m,\u001b[49m\u001b[43m \u001b[49m\u001b[43mgraph\u001b[49m\u001b[43m,\u001b[49m\u001b[43m \u001b[49m\u001b[43mnew_assignment\u001b[49m\u001b[43m,\u001b[49m\u001b[43m \u001b[49m\u001b[43mtrie\u001b[49m\u001b[43m)\u001b[49m\u001b[38;5;241;43m.\u001b[39;49m\u001b[43mis_false\u001b[49m\u001b[43m(\u001b[49m\u001b[43m)\u001b[49m\n\u001b[1;32m   1669\u001b[0m \u001b[43m            \u001b[49m\u001b[38;5;28;43;01mfor\u001b[39;49;00m\u001b[43m \u001b[49m\u001b[43mnew_assignment\u001b[49m\u001b[43m \u001b[49m\u001b[38;5;129;43;01min\u001b[39;49;00m\u001b[43m \u001b[49m\u001b[43mnew_assignments\u001b[49m\u001b[43m)\u001b[49m)\n\u001b[1;32m   1670\u001b[0m \u001b[38;5;28;01melif\u001b[39;00m \u001b[38;5;28misinstance\u001b[39m(formula, language\u001b[38;5;241m.\u001b[39mStructuralPredicateFormula):\n\u001b[1;32m   1671\u001b[0m     \u001b[38;5;28;01mif\u001b[39;00m \u001b[38;5;28many\u001b[39m(\u001b[38;5;28misinstance\u001b[39m(arg, PlaceholderVariable) \u001b[38;5;28;01mfor\u001b[39;00m arg \u001b[38;5;129;01min\u001b[39;00m formula\u001b[38;5;241m.\u001b[39margs):\n",
      "File \u001b[0;32m~/.pyenv/versions/3.10.14/lib/python3.10/site-packages/islearn/learner.py:1667\u001b[0m, in \u001b[0;36m<genexpr>\u001b[0;34m(.0)\u001b[0m\n\u001b[1;32m   1661\u001b[0m         \u001b[38;5;28;01mreturn\u001b[39;00m ThreeValuedTruth\u001b[38;5;241m.\u001b[39mfrom_bool(\u001b[38;5;28many\u001b[39m(\n\u001b[1;32m   1662\u001b[0m             \u001b[38;5;129;01mnot\u001b[39;00m approximately_evaluate_abst_for(\n\u001b[1;32m   1663\u001b[0m                 formula\u001b[38;5;241m.\u001b[39minner_formula, grammar, graph, new_assignment, trie)\u001b[38;5;241m.\u001b[39mis_false()\n\u001b[1;32m   1664\u001b[0m             \u001b[38;5;28;01mfor\u001b[39;00m new_assignment \u001b[38;5;129;01min\u001b[39;00m new_assignments))\n\u001b[1;32m   1665\u001b[0m     \u001b[38;5;28;01melse\u001b[39;00m:\n\u001b[1;32m   1666\u001b[0m         \u001b[38;5;28;01mreturn\u001b[39;00m ThreeValuedTruth\u001b[38;5;241m.\u001b[39mfrom_bool(\u001b[38;5;28mall\u001b[39m(\n\u001b[0;32m-> 1667\u001b[0m             \u001b[38;5;129;01mnot\u001b[39;00m \u001b[43mapproximately_evaluate_abst_for\u001b[49m\u001b[43m(\u001b[49m\n\u001b[1;32m   1668\u001b[0m \u001b[43m                \u001b[49m\u001b[43mformula\u001b[49m\u001b[38;5;241;43m.\u001b[39;49m\u001b[43minner_formula\u001b[49m\u001b[43m,\u001b[49m\u001b[43m \u001b[49m\u001b[43mgrammar\u001b[49m\u001b[43m,\u001b[49m\u001b[43m \u001b[49m\u001b[43mgraph\u001b[49m\u001b[43m,\u001b[49m\u001b[43m \u001b[49m\u001b[43mnew_assignment\u001b[49m\u001b[43m,\u001b[49m\u001b[43m \u001b[49m\u001b[43mtrie\u001b[49m\u001b[43m)\u001b[49m\u001b[38;5;241m.\u001b[39mis_false()\n\u001b[1;32m   1669\u001b[0m             \u001b[38;5;28;01mfor\u001b[39;00m new_assignment \u001b[38;5;129;01min\u001b[39;00m new_assignments))\n\u001b[1;32m   1670\u001b[0m \u001b[38;5;28;01melif\u001b[39;00m \u001b[38;5;28misinstance\u001b[39m(formula, language\u001b[38;5;241m.\u001b[39mStructuralPredicateFormula):\n\u001b[1;32m   1671\u001b[0m     \u001b[38;5;28;01mif\u001b[39;00m \u001b[38;5;28many\u001b[39m(\u001b[38;5;28misinstance\u001b[39m(arg, PlaceholderVariable) \u001b[38;5;28;01mfor\u001b[39;00m arg \u001b[38;5;129;01min\u001b[39;00m formula\u001b[38;5;241m.\u001b[39margs):\n",
      "File \u001b[0;32m~/.pyenv/versions/3.10.14/lib/python3.10/site-packages/islearn/learner.py:1525\u001b[0m, in \u001b[0;36mapproximately_evaluate_abst_for\u001b[0;34m(formula, grammar, graph, assignments, trie)\u001b[0m\n\u001b[1;32m   1522\u001b[0m     \u001b[38;5;28;01mreturn\u001b[39;00m ThreeValuedTruth\u001b[38;5;241m.\u001b[39munknown()\n\u001b[1;32m   1524\u001b[0m \u001b[38;5;28;01mtry\u001b[39;00m:\n\u001b[0;32m-> 1525\u001b[0m     \u001b[38;5;28;01mmatch\u001b[39;00m \u001b[43mevaluate_z3_expression\u001b[49m\u001b[43m(\u001b[49m\u001b[43mformula\u001b[49m\u001b[38;5;241;43m.\u001b[39;49m\u001b[43mformula\u001b[49m\u001b[43m)\u001b[49m:\n\u001b[1;32m   1526\u001b[0m         \u001b[38;5;28;01mcase\u001b[39;00m Success(value): translation \u001b[38;5;241m=\u001b[39m value\n\u001b[1;32m   1527\u001b[0m         \u001b[38;5;28;01mcase\u001b[39;00m Failure(error): \u001b[38;5;28;01mraise\u001b[39;00m error(error[\u001b[38;5;241m0\u001b[39m])\n",
      "File \u001b[0;32m~/.pyenv/versions/3.10.14/lib/python3.10/site-packages/isla/z3_helpers.py:91\u001b[0m, in \u001b[0;36mevaluate_z3_expression\u001b[0;34m(expr)\u001b[0m\n\u001b[1;32m     85\u001b[0m     logger\u001b[38;5;241m.\u001b[39mdebug(\u001b[38;5;124m\"\u001b[39m\u001b[38;5;124mEvaluation of expression \u001b[39m\u001b[38;5;132;01m%s\u001b[39;00m\u001b[38;5;124m not implemented.\u001b[39m\u001b[38;5;124m\"\u001b[39m, expr)\n\u001b[1;32m     86\u001b[0m     \u001b[38;5;28;01mreturn\u001b[39;00m Failure(\n\u001b[1;32m     87\u001b[0m         \u001b[38;5;167;01mNotImplementedError\u001b[39;00m(\u001b[38;5;124mf\u001b[39m\u001b[38;5;124m\"\u001b[39m\u001b[38;5;124mEvaluation of expression \u001b[39m\u001b[38;5;132;01m{\u001b[39;00mexpr\u001b[38;5;132;01m}\u001b[39;00m\u001b[38;5;124m not implemented.\u001b[39m\u001b[38;5;124m\"\u001b[39m)\n\u001b[1;32m     88\u001b[0m     )\n\u001b[1;32m     90\u001b[0m \u001b[38;5;28;01mreturn\u001b[39;00m (\n\u001b[0;32m---> 91\u001b[0m     \u001b[43mflow\u001b[49m\u001b[43m(\u001b[49m\n\u001b[1;32m     92\u001b[0m \u001b[43m        \u001b[49m\u001b[43mNothing\u001b[49m\u001b[43m,\u001b[49m\n\u001b[1;32m     93\u001b[0m \u001b[43m        \u001b[49m\u001b[38;5;241;43m*\u001b[39;49m\u001b[38;5;28;43mmap\u001b[39;49m\u001b[43m(\u001b[49m\n\u001b[1;32m     94\u001b[0m \u001b[43m            \u001b[49m\u001b[43mcompose\u001b[49m\u001b[43m(\u001b[49m\u001b[43m(\u001b[49m\u001b[38;5;28;43;01mlambda\u001b[39;49;00m\u001b[43m \u001b[49m\u001b[43mf\u001b[49m\u001b[43m:\u001b[49m\u001b[43m \u001b[49m\u001b[43m(\u001b[49m\u001b[38;5;28;43;01mlambda\u001b[39;49;00m\u001b[43m \u001b[49m\u001b[43m_\u001b[49m\u001b[43m:\u001b[49m\u001b[43m \u001b[49m\u001b[43mf\u001b[49m\u001b[43m(\u001b[49m\u001b[43mexpr\u001b[49m\u001b[43m,\u001b[49m\u001b[43m \u001b[49m\u001b[43mchildren_results\u001b[49m\u001b[43m)\u001b[49m\u001b[43m)\u001b[49m\u001b[43m)\u001b[49m\u001b[43m,\u001b[49m\u001b[43m \u001b[49m\u001b[43mlash\u001b[49m\u001b[43m)\u001b[49m\u001b[43m,\u001b[49m\n\u001b[1;32m     95\u001b[0m \u001b[43m            \u001b[49m\u001b[43m[\u001b[49m\n\u001b[1;32m     96\u001b[0m \u001b[43m                \u001b[49m\u001b[38;5;66;43;03m# Literals\u001b[39;49;00m\n\u001b[1;32m     97\u001b[0m \u001b[43m                \u001b[49m\u001b[43mevaluate_z3_string_value\u001b[49m\u001b[43m,\u001b[49m\n\u001b[1;32m     98\u001b[0m \u001b[43m                \u001b[49m\u001b[43mevaluate_z3_int_value\u001b[49m\u001b[43m,\u001b[49m\n\u001b[1;32m     99\u001b[0m \u001b[43m                \u001b[49m\u001b[43mevaluate_z3_rat_value\u001b[49m\u001b[43m,\u001b[49m\n\u001b[1;32m    100\u001b[0m \u001b[43m                \u001b[49m\u001b[43mevaluate_z3_str_to_int\u001b[49m\u001b[43m,\u001b[49m\n\u001b[1;32m    101\u001b[0m \u001b[43m                \u001b[49m\u001b[43mevaluate_z3_false_value\u001b[49m\u001b[43m,\u001b[49m\n\u001b[1;32m    102\u001b[0m \u001b[43m                \u001b[49m\u001b[43mevaluate_z3_true_value\u001b[49m\u001b[43m,\u001b[49m\n\u001b[1;32m    103\u001b[0m \u001b[43m                \u001b[49m\u001b[38;5;66;43;03m# Regular Expressions\u001b[39;49;00m\n\u001b[1;32m    104\u001b[0m \u001b[43m                \u001b[49m\u001b[43mevaluate_z3_re_range\u001b[49m\u001b[43m,\u001b[49m\n\u001b[1;32m    105\u001b[0m \u001b[43m                \u001b[49m\u001b[43mevaluate_z3_re_loop\u001b[49m\u001b[43m,\u001b[49m\n\u001b[1;32m    106\u001b[0m \u001b[43m                \u001b[49m\u001b[43mevaluate_z3_seq_to_re\u001b[49m\u001b[43m,\u001b[49m\n\u001b[1;32m    107\u001b[0m \u001b[43m                \u001b[49m\u001b[43mevaluate_z3_re_concat\u001b[49m\u001b[43m,\u001b[49m\n\u001b[1;32m    108\u001b[0m \u001b[43m                \u001b[49m\u001b[43mevaluate_z3_seq_in_re\u001b[49m\u001b[43m,\u001b[49m\n\u001b[1;32m    109\u001b[0m \u001b[43m                \u001b[49m\u001b[43mevaluate_z3_re_star\u001b[49m\u001b[43m,\u001b[49m\n\u001b[1;32m    110\u001b[0m \u001b[43m                \u001b[49m\u001b[43mevaluate_z3_re_plus\u001b[49m\u001b[43m,\u001b[49m\n\u001b[1;32m    111\u001b[0m \u001b[43m                \u001b[49m\u001b[43mevaluate_z3_re_option\u001b[49m\u001b[43m,\u001b[49m\n\u001b[1;32m    112\u001b[0m \u001b[43m                \u001b[49m\u001b[43mevaluate_z3_re_union\u001b[49m\u001b[43m,\u001b[49m\n\u001b[1;32m    113\u001b[0m \u001b[43m                \u001b[49m\u001b[43mevaluate_z3_re_comp\u001b[49m\u001b[43m,\u001b[49m\n\u001b[1;32m    114\u001b[0m \u001b[43m                \u001b[49m\u001b[43mevaluate_z3_re_full_set\u001b[49m\u001b[43m,\u001b[49m\n\u001b[1;32m    115\u001b[0m \u001b[43m                \u001b[49m\u001b[38;5;66;43;03m# Boolean Combinations\u001b[39;49;00m\n\u001b[1;32m    116\u001b[0m \u001b[43m                \u001b[49m\u001b[43mevaluate_z3_not\u001b[49m\u001b[43m,\u001b[49m\n\u001b[1;32m    117\u001b[0m \u001b[43m                \u001b[49m\u001b[43mevaluate_z3_and\u001b[49m\u001b[43m,\u001b[49m\n\u001b[1;32m    118\u001b[0m \u001b[43m                \u001b[49m\u001b[43mevaluate_z3_or\u001b[49m\u001b[43m,\u001b[49m\n\u001b[1;32m    119\u001b[0m \u001b[43m                \u001b[49m\u001b[38;5;66;43;03m# Comparisons\u001b[39;49;00m\n\u001b[1;32m    120\u001b[0m \u001b[43m                \u001b[49m\u001b[43mevaluate_z3_eq\u001b[49m\u001b[43m,\u001b[49m\n\u001b[1;32m    121\u001b[0m \u001b[43m                \u001b[49m\u001b[43mevaluate_z3_lt\u001b[49m\u001b[43m,\u001b[49m\n\u001b[1;32m    122\u001b[0m \u001b[43m                \u001b[49m\u001b[43mevaluate_z3_le\u001b[49m\u001b[43m,\u001b[49m\n\u001b[1;32m    123\u001b[0m \u001b[43m                \u001b[49m\u001b[43mevaluate_z3_gt\u001b[49m\u001b[43m,\u001b[49m\n\u001b[1;32m    124\u001b[0m \u001b[43m                \u001b[49m\u001b[43mevaluate_z3_ge\u001b[49m\u001b[43m,\u001b[49m\n\u001b[1;32m    125\u001b[0m \u001b[43m                \u001b[49m\u001b[38;5;66;43;03m# Arithmetic Operations\u001b[39;49;00m\n\u001b[1;32m    126\u001b[0m \u001b[43m                \u001b[49m\u001b[43mevaluate_z3_add\u001b[49m\u001b[43m,\u001b[49m\n\u001b[1;32m    127\u001b[0m \u001b[43m                \u001b[49m\u001b[43mevaluate_z3_sub\u001b[49m\u001b[43m,\u001b[49m\n\u001b[1;32m    128\u001b[0m \u001b[43m                \u001b[49m\u001b[43mevaluate_z3_mul\u001b[49m\u001b[43m,\u001b[49m\n\u001b[1;32m    129\u001b[0m \u001b[43m                \u001b[49m\u001b[43mevaluate_z3_div\u001b[49m\u001b[43m,\u001b[49m\n\u001b[1;32m    130\u001b[0m \u001b[43m                \u001b[49m\u001b[43mevaluate_z3_mod\u001b[49m\u001b[43m,\u001b[49m\n\u001b[1;32m    131\u001b[0m \u001b[43m                \u001b[49m\u001b[43mevaluate_z3_pow\u001b[49m\u001b[43m,\u001b[49m\n\u001b[1;32m    132\u001b[0m \u001b[43m                \u001b[49m\u001b[38;5;66;43;03m# String Operations\u001b[39;49;00m\n\u001b[1;32m    133\u001b[0m \u001b[43m                \u001b[49m\u001b[43mevaluate_z3_seq_length\u001b[49m\u001b[43m,\u001b[49m\n\u001b[1;32m    134\u001b[0m \u001b[43m                \u001b[49m\u001b[43mevaluate_z3_seq_concat\u001b[49m\u001b[43m,\u001b[49m\n\u001b[1;32m    135\u001b[0m \u001b[43m                \u001b[49m\u001b[43mevaluate_z3_seq_at\u001b[49m\u001b[43m,\u001b[49m\n\u001b[1;32m    136\u001b[0m \u001b[43m                \u001b[49m\u001b[43mevaluate_z3_seq_extract\u001b[49m\u001b[43m,\u001b[49m\n\u001b[1;32m    137\u001b[0m \u001b[43m                \u001b[49m\u001b[43mevaluate_z3_str_to_code\u001b[49m\u001b[43m,\u001b[49m\n\u001b[1;32m    138\u001b[0m \u001b[43m                \u001b[49m\u001b[38;5;66;43;03m# Fallback\u001b[39;49;00m\n\u001b[1;32m    139\u001b[0m \u001b[43m                \u001b[49m\u001b[43mnot_implemented_failure\u001b[49m\u001b[43m,\u001b[49m\n\u001b[1;32m    140\u001b[0m \u001b[43m            \u001b[49m\u001b[43m]\u001b[49m\u001b[43m,\u001b[49m\n\u001b[1;32m    141\u001b[0m \u001b[43m        \u001b[49m\u001b[43m)\u001b[49m\u001b[43m,\u001b[49m\n\u001b[1;32m    142\u001b[0m \u001b[43m    \u001b[49m\u001b[43m)\u001b[49m\n\u001b[1;32m    143\u001b[0m     \u001b[38;5;241m.\u001b[39mbind(\u001b[38;5;28;01mlambda\u001b[39;00m result: Success(result))\n\u001b[1;32m    144\u001b[0m     \u001b[38;5;241m.\u001b[39mlash(not_implemented_failure)\n\u001b[1;32m    145\u001b[0m )\n",
      "File \u001b[0;32m~/.pyenv/versions/3.10.14/lib/python3.10/site-packages/returns/_internal/pipeline/flow.py:50\u001b[0m, in \u001b[0;36mflow\u001b[0;34m(instance, *functions)\u001b[0m\n\u001b[1;32m      9\u001b[0m \u001b[38;5;28;01mdef\u001b[39;00m \u001b[38;5;21mflow\u001b[39m(\n\u001b[1;32m     10\u001b[0m     instance: _InstanceType,\n\u001b[1;32m     11\u001b[0m     \u001b[38;5;241m*\u001b[39mfunctions: _PipelineStepType,\n\u001b[1;32m     12\u001b[0m ) \u001b[38;5;241m-\u001b[39m\u001b[38;5;241m>\u001b[39m _ReturnType:  \u001b[38;5;66;03m# type: ignore[type-var]\u001b[39;00m\n\u001b[1;32m     13\u001b[0m \u001b[38;5;250m    \u001b[39m\u001b[38;5;124;03m\"\"\"\u001b[39;00m\n\u001b[1;32m     14\u001b[0m \u001b[38;5;124;03m    Allows to compose a value and up to multiple functions that use this value.\u001b[39;00m\n\u001b[1;32m     15\u001b[0m \n\u001b[0;32m   (...)\u001b[0m\n\u001b[1;32m     48\u001b[0m \u001b[38;5;124;03m    Requires our :ref:`mypy plugin <mypy-plugins>`.\u001b[39;00m\n\u001b[1;32m     49\u001b[0m \u001b[38;5;124;03m    \"\"\"\u001b[39;00m\n\u001b[0;32m---> 50\u001b[0m     \u001b[38;5;28;01mreturn\u001b[39;00m \u001b[43mreduce\u001b[49m\u001b[43m(\u001b[49m\u001b[43m  \u001b[49m\u001b[38;5;66;43;03m# type: ignore\u001b[39;49;00m\n\u001b[1;32m     51\u001b[0m \u001b[43m        \u001b[49m\u001b[38;5;28;43;01mlambda\u001b[39;49;00m\u001b[43m \u001b[49m\u001b[43mcomposed\u001b[49m\u001b[43m,\u001b[49m\u001b[43m \u001b[49m\u001b[43mfunction\u001b[49m\u001b[43m:\u001b[49m\u001b[43m \u001b[49m\u001b[43mfunction\u001b[49m\u001b[43m(\u001b[49m\u001b[43mcomposed\u001b[49m\u001b[43m)\u001b[49m\u001b[43m,\u001b[49m\u001b[43m  \u001b[49m\u001b[38;5;66;43;03m# type: ignore\u001b[39;49;00m\n\u001b[1;32m     52\u001b[0m \u001b[43m        \u001b[49m\u001b[43mfunctions\u001b[49m\u001b[43m,\u001b[49m\n\u001b[1;32m     53\u001b[0m \u001b[43m        \u001b[49m\u001b[43minstance\u001b[49m\u001b[43m,\u001b[49m\n\u001b[1;32m     54\u001b[0m \u001b[43m    \u001b[49m\u001b[43m)\u001b[49m\n",
      "File \u001b[0;32m~/.pyenv/versions/3.10.14/lib/python3.10/site-packages/returns/_internal/pipeline/flow.py:51\u001b[0m, in \u001b[0;36mflow.<locals>.<lambda>\u001b[0;34m(composed, function)\u001b[0m\n\u001b[1;32m      9\u001b[0m \u001b[38;5;28;01mdef\u001b[39;00m \u001b[38;5;21mflow\u001b[39m(\n\u001b[1;32m     10\u001b[0m     instance: _InstanceType,\n\u001b[1;32m     11\u001b[0m     \u001b[38;5;241m*\u001b[39mfunctions: _PipelineStepType,\n\u001b[1;32m     12\u001b[0m ) \u001b[38;5;241m-\u001b[39m\u001b[38;5;241m>\u001b[39m _ReturnType:  \u001b[38;5;66;03m# type: ignore[type-var]\u001b[39;00m\n\u001b[1;32m     13\u001b[0m \u001b[38;5;250m    \u001b[39m\u001b[38;5;124;03m\"\"\"\u001b[39;00m\n\u001b[1;32m     14\u001b[0m \u001b[38;5;124;03m    Allows to compose a value and up to multiple functions that use this value.\u001b[39;00m\n\u001b[1;32m     15\u001b[0m \n\u001b[0;32m   (...)\u001b[0m\n\u001b[1;32m     48\u001b[0m \u001b[38;5;124;03m    Requires our :ref:`mypy plugin <mypy-plugins>`.\u001b[39;00m\n\u001b[1;32m     49\u001b[0m \u001b[38;5;124;03m    \"\"\"\u001b[39;00m\n\u001b[1;32m     50\u001b[0m     \u001b[38;5;28;01mreturn\u001b[39;00m reduce(  \u001b[38;5;66;03m# type: ignore\u001b[39;00m\n\u001b[0;32m---> 51\u001b[0m         \u001b[38;5;28;01mlambda\u001b[39;00m composed, function: \u001b[43mfunction\u001b[49m\u001b[43m(\u001b[49m\u001b[43mcomposed\u001b[49m\u001b[43m)\u001b[49m,  \u001b[38;5;66;03m# type: ignore\u001b[39;00m\n\u001b[1;32m     52\u001b[0m         functions,\n\u001b[1;32m     53\u001b[0m         instance,\n\u001b[1;32m     54\u001b[0m     )\n",
      "File \u001b[0;32m~/.pyenv/versions/3.10.14/lib/python3.10/site-packages/returns/pointfree/lash.py:55\u001b[0m, in \u001b[0;36mlash.<locals>.factory\u001b[0;34m(container)\u001b[0m\n\u001b[1;32m     51\u001b[0m \u001b[38;5;129m@kinded\u001b[39m\n\u001b[1;32m     52\u001b[0m \u001b[38;5;28;01mdef\u001b[39;00m \u001b[38;5;21mfactory\u001b[39m(\n\u001b[1;32m     53\u001b[0m     container: KindN[_LashableKind, _FirstType, _SecondType, _ThirdType],\n\u001b[1;32m     54\u001b[0m ) \u001b[38;5;241m-\u001b[39m\u001b[38;5;241m>\u001b[39m KindN[_LashableKind, _FirstType, _UpdatedType, _ThirdType]:\n\u001b[0;32m---> 55\u001b[0m     \u001b[38;5;28;01mreturn\u001b[39;00m \u001b[43mcontainer\u001b[49m\u001b[38;5;241;43m.\u001b[39;49m\u001b[43mlash\u001b[49m\u001b[43m(\u001b[49m\u001b[43mfunction\u001b[49m\u001b[43m)\u001b[49m\n",
      "File \u001b[0;32m~/.pyenv/versions/3.10.14/lib/python3.10/site-packages/returns/maybe.py:380\u001b[0m, in \u001b[0;36m_Nothing.lash\u001b[0;34m(self, function)\u001b[0m\n\u001b[1;32m    378\u001b[0m \u001b[38;5;28;01mdef\u001b[39;00m \u001b[38;5;21mlash\u001b[39m(\u001b[38;5;28mself\u001b[39m, function):\n\u001b[1;32m    379\u001b[0m \u001b[38;5;250m    \u001b[39m\u001b[38;5;124;03m\"\"\"Composes this container with a function returning container.\"\"\"\u001b[39;00m\n\u001b[0;32m--> 380\u001b[0m     \u001b[38;5;28;01mreturn\u001b[39;00m \u001b[43mfunction\u001b[49m\u001b[43m(\u001b[49m\u001b[38;5;28;43;01mNone\u001b[39;49;00m\u001b[43m)\u001b[49m\n",
      "File \u001b[0;32m~/.pyenv/versions/3.10.14/lib/python3.10/site-packages/isla/z3_helpers.py:94\u001b[0m, in \u001b[0;36mevaluate_z3_expression.<locals>.<lambda>\u001b[0;34m(_)\u001b[0m\n\u001b[1;32m     85\u001b[0m     logger\u001b[38;5;241m.\u001b[39mdebug(\u001b[38;5;124m\"\u001b[39m\u001b[38;5;124mEvaluation of expression \u001b[39m\u001b[38;5;132;01m%s\u001b[39;00m\u001b[38;5;124m not implemented.\u001b[39m\u001b[38;5;124m\"\u001b[39m, expr)\n\u001b[1;32m     86\u001b[0m     \u001b[38;5;28;01mreturn\u001b[39;00m Failure(\n\u001b[1;32m     87\u001b[0m         \u001b[38;5;167;01mNotImplementedError\u001b[39;00m(\u001b[38;5;124mf\u001b[39m\u001b[38;5;124m\"\u001b[39m\u001b[38;5;124mEvaluation of expression \u001b[39m\u001b[38;5;132;01m{\u001b[39;00mexpr\u001b[38;5;132;01m}\u001b[39;00m\u001b[38;5;124m not implemented.\u001b[39m\u001b[38;5;124m\"\u001b[39m)\n\u001b[1;32m     88\u001b[0m     )\n\u001b[1;32m     90\u001b[0m \u001b[38;5;28;01mreturn\u001b[39;00m (\n\u001b[1;32m     91\u001b[0m     flow(\n\u001b[1;32m     92\u001b[0m         Nothing,\n\u001b[1;32m     93\u001b[0m         \u001b[38;5;241m*\u001b[39m\u001b[38;5;28mmap\u001b[39m(\n\u001b[0;32m---> 94\u001b[0m             compose((\u001b[38;5;28;01mlambda\u001b[39;00m f: (\u001b[38;5;28;01mlambda\u001b[39;00m _: \u001b[43mf\u001b[49m\u001b[43m(\u001b[49m\u001b[43mexpr\u001b[49m\u001b[43m,\u001b[49m\u001b[43m \u001b[49m\u001b[43mchildren_results\u001b[49m\u001b[43m)\u001b[49m)), lash),\n\u001b[1;32m     95\u001b[0m             [\n\u001b[1;32m     96\u001b[0m                 \u001b[38;5;66;03m# Literals\u001b[39;00m\n\u001b[1;32m     97\u001b[0m                 evaluate_z3_string_value,\n\u001b[1;32m     98\u001b[0m                 evaluate_z3_int_value,\n\u001b[1;32m     99\u001b[0m                 evaluate_z3_rat_value,\n\u001b[1;32m    100\u001b[0m                 evaluate_z3_str_to_int,\n\u001b[1;32m    101\u001b[0m                 evaluate_z3_false_value,\n\u001b[1;32m    102\u001b[0m                 evaluate_z3_true_value,\n\u001b[1;32m    103\u001b[0m                 \u001b[38;5;66;03m# Regular Expressions\u001b[39;00m\n\u001b[1;32m    104\u001b[0m                 evaluate_z3_re_range,\n\u001b[1;32m    105\u001b[0m                 evaluate_z3_re_loop,\n\u001b[1;32m    106\u001b[0m                 evaluate_z3_seq_to_re,\n\u001b[1;32m    107\u001b[0m                 evaluate_z3_re_concat,\n\u001b[1;32m    108\u001b[0m                 evaluate_z3_seq_in_re,\n\u001b[1;32m    109\u001b[0m                 evaluate_z3_re_star,\n\u001b[1;32m    110\u001b[0m                 evaluate_z3_re_plus,\n\u001b[1;32m    111\u001b[0m                 evaluate_z3_re_option,\n\u001b[1;32m    112\u001b[0m                 evaluate_z3_re_union,\n\u001b[1;32m    113\u001b[0m                 evaluate_z3_re_comp,\n\u001b[1;32m    114\u001b[0m                 evaluate_z3_re_full_set,\n\u001b[1;32m    115\u001b[0m                 \u001b[38;5;66;03m# Boolean Combinations\u001b[39;00m\n\u001b[1;32m    116\u001b[0m                 evaluate_z3_not,\n\u001b[1;32m    117\u001b[0m                 evaluate_z3_and,\n\u001b[1;32m    118\u001b[0m                 evaluate_z3_or,\n\u001b[1;32m    119\u001b[0m                 \u001b[38;5;66;03m# Comparisons\u001b[39;00m\n\u001b[1;32m    120\u001b[0m                 evaluate_z3_eq,\n\u001b[1;32m    121\u001b[0m                 evaluate_z3_lt,\n\u001b[1;32m    122\u001b[0m                 evaluate_z3_le,\n\u001b[1;32m    123\u001b[0m                 evaluate_z3_gt,\n\u001b[1;32m    124\u001b[0m                 evaluate_z3_ge,\n\u001b[1;32m    125\u001b[0m                 \u001b[38;5;66;03m# Arithmetic Operations\u001b[39;00m\n\u001b[1;32m    126\u001b[0m                 evaluate_z3_add,\n\u001b[1;32m    127\u001b[0m                 evaluate_z3_sub,\n\u001b[1;32m    128\u001b[0m                 evaluate_z3_mul,\n\u001b[1;32m    129\u001b[0m                 evaluate_z3_div,\n\u001b[1;32m    130\u001b[0m                 evaluate_z3_mod,\n\u001b[1;32m    131\u001b[0m                 evaluate_z3_pow,\n\u001b[1;32m    132\u001b[0m                 \u001b[38;5;66;03m# String Operations\u001b[39;00m\n\u001b[1;32m    133\u001b[0m                 evaluate_z3_seq_length,\n\u001b[1;32m    134\u001b[0m                 evaluate_z3_seq_concat,\n\u001b[1;32m    135\u001b[0m                 evaluate_z3_seq_at,\n\u001b[1;32m    136\u001b[0m                 evaluate_z3_seq_extract,\n\u001b[1;32m    137\u001b[0m                 evaluate_z3_str_to_code,\n\u001b[1;32m    138\u001b[0m                 \u001b[38;5;66;03m# Fallback\u001b[39;00m\n\u001b[1;32m    139\u001b[0m                 not_implemented_failure,\n\u001b[1;32m    140\u001b[0m             ],\n\u001b[1;32m    141\u001b[0m         ),\n\u001b[1;32m    142\u001b[0m     )\n\u001b[1;32m    143\u001b[0m     \u001b[38;5;241m.\u001b[39mbind(\u001b[38;5;28;01mlambda\u001b[39;00m result: Success(result))\n\u001b[1;32m    144\u001b[0m     \u001b[38;5;241m.\u001b[39mlash(not_implemented_failure)\n\u001b[1;32m    145\u001b[0m )\n",
      "\u001b[0;31mTypeError\u001b[0m: evaluate_z3_expression.<locals>.not_implemented_failure() takes from 0 to 1 positional arguments but 2 were given"
     ]
    }
   ],
   "source": [
    "logging.basicConfig(filename='avicenna.log', filemode='w', encoding='utf-8', level=logging.INFO, force=True)\n",
    "# only 2 constraints used in the end why\n",
    "best_invariant = avix.explain() # unparse with islaunparse for further use\n"
   ]
  },
  {
   "cell_type": "code",
   "execution_count": null,
   "id": "18c1892f",
   "metadata": {},
   "outputs": [],
   "source": [
    "#another_invariant = avicenna2.explain() # unparse with islaunparse for further use"
   ]
  },
  {
   "cell_type": "code",
   "execution_count": null,
   "id": "370d134f",
   "metadata": {},
   "outputs": [],
   "source": [
    "#print(another_invariant)"
   ]
  },
  {
   "cell_type": "code",
   "execution_count": null,
   "id": "4c4300d1",
   "metadata": {},
   "outputs": [
    {
     "name": "stdout",
     "output_type": "stream",
     "text": [
      "None\n"
     ]
    },
    {
     "ename": "TypeError",
     "evalue": "'NoneType' object is not subscriptable",
     "output_type": "error",
     "traceback": [
      "\u001b[0;31m---------------------------------------------------------------------------\u001b[0m",
      "\u001b[0;31mTypeError\u001b[0m                                 Traceback (most recent call last)",
      "Cell \u001b[0;32mIn[32], line 2\u001b[0m\n\u001b[1;32m      1\u001b[0m \u001b[38;5;28mprint\u001b[39m(best_invariant)\n\u001b[0;32m----> 2\u001b[0m \u001b[38;5;28mprint\u001b[39m(\u001b[43mbest_invariant\u001b[49m\u001b[43m[\u001b[49m\u001b[38;5;241;43m0\u001b[39;49m\u001b[43m]\u001b[49m)\n\u001b[1;32m      3\u001b[0m \u001b[38;5;28mprint\u001b[39m(best_invariant[\u001b[38;5;241m1\u001b[39m])\n\u001b[1;32m      4\u001b[0m \u001b[38;5;28mprint\u001b[39m(best_invariant[\u001b[38;5;241m2\u001b[39m])\n",
      "\u001b[0;31mTypeError\u001b[0m: 'NoneType' object is not subscriptable"
     ]
    }
   ],
   "source": [
    "print(best_invariant)\n",
    "print(best_invariant[0])\n",
    "print(best_invariant[1])\n",
    "print(best_invariant[2])"
   ]
  },
  {
   "cell_type": "code",
   "execution_count": null,
   "id": "186549fa",
   "metadata": {},
   "outputs": [],
   "source": [
    "# solver1 = ISLaSolver(\n",
    "#     grammar=grammar_calc,\n",
    "#     formula=another_invariant[0],\n",
    "#     enable_optimized_z3_queries=False,\n",
    "# )\n",
    "from isla.solver import ISLaSolver\n",
    "\n",
    "solver2 = ISLaSolver(\n",
    "    grammar=grammar_expression,\n",
    "    formula=best_invariant[0],\n",
    "    enable_optimized_z3_queries=False,\n",
    ")\n"
   ]
  },
  {
   "cell_type": "code",
   "execution_count": null,
   "id": "0005b1e7",
   "metadata": {},
   "outputs": [],
   "source": [
    "# grammar_calc = {\n",
    "#     \"<start>\": [\"<arith_expr>\"],\n",
    "#     \"<arith_expr>\": [\"<function>(<number>)\"],\n",
    "#     \"<function>\": [\"sqrt\", \"sin\", \"cos\", \"tan\"],\n",
    "#     \"<number>\": [\"<maybe_minus><one_nine><maybe_digits><maybe_frac>\", \n",
    "#                  \"-0\",\n",
    "#                  \"0\"],\n",
    "#     \"<maybe_minus>\": [\"\",\n",
    "#                       \"-\"\n",
    "#                       ],\n",
    "#     \"<maybe_frac>\": [\"\", \".<digits>\"],\n",
    "#     \"<one_nine>\": [str(num) for num in range(1, 10)],\n",
    "#     \"<digit>\": [digit for digit in string.digits],\n",
    "#     \"<maybe_digits>\": [\"\", \"<digits>\"],\n",
    "#     \"<digits>\": [\"<digit>\", \"<digit><digits>\"],\n",
    "# }"
   ]
  },
  {
   "cell_type": "code",
   "execution_count": null,
   "id": "05c1fe4d",
   "metadata": {},
   "outputs": [
    {
     "data": {
      "text/plain": [
       "ConjunctiveFormula(ForallFormula(BoundVariable(\"elem_1\", \"<number>\"), Constant(\"start\", \"<start>\"), ExistsFormula(BoundVariable(\"elem_2\", \"<one_nine>\"), Constant(\"start\", \"<start>\"), SMTFormula('(>= (str.to_int elem_1) (str.to_int elem_2))', BoundVariable(\"elem_1\", \"<number>\"), BoundVariable(\"elem_2\", \"<one_nine>\"), ))), ExistsFormula(BoundVariable(\"elem\", \"<function>\"), Constant(\"start\", \"<start>\"), SMTFormula('(= elem \"sqrt\")', BoundVariable(\"elem\", \"<function>\"), )))"
      ]
     },
     "execution_count": 41,
     "metadata": {},
     "output_type": "execute_result"
    }
   ],
   "source": [
    "solver2.formula"
   ]
  },
  {
   "cell_type": "code",
   "execution_count": null,
   "id": "9dd9349f",
   "metadata": {},
   "outputs": [
    {
     "ename": "StopIteration",
     "evalue": "",
     "output_type": "error",
     "traceback": [
      "\u001b[0;31m---------------------------------------------------------------------------\u001b[0m",
      "\u001b[0;31mStopIteration\u001b[0m                             Traceback (most recent call last)",
      "Cell \u001b[0;32mIn[42], line 10\u001b[0m\n\u001b[1;32m      3\u001b[0m \u001b[38;5;66;03m# # print(best_invariant[0])\u001b[39;00m\n\u001b[1;32m      4\u001b[0m \u001b[38;5;66;03m# # print(another_invariant[0])\u001b[39;00m\n\u001b[1;32m      5\u001b[0m \u001b[38;5;66;03m# for _ in range(1,10):\u001b[39;00m\n\u001b[1;32m      6\u001b[0m \u001b[38;5;66;03m#     results1.append(solver1.solve())\u001b[39;00m\n\u001b[1;32m      7\u001b[0m     \n\u001b[1;32m      8\u001b[0m \u001b[38;5;66;03m#    avix_oracle()\u001b[39;00m\n\u001b[1;32m      9\u001b[0m \u001b[38;5;28;01mfor\u001b[39;00m _ \u001b[38;5;129;01min\u001b[39;00m \u001b[38;5;28mrange\u001b[39m(\u001b[38;5;241m1\u001b[39m,\u001b[38;5;241m10\u001b[39m):\n\u001b[0;32m---> 10\u001b[0m     results2\u001b[38;5;241m.\u001b[39mappend(\u001b[43msolver2\u001b[49m\u001b[38;5;241;43m.\u001b[39;49m\u001b[43msolve\u001b[49m\u001b[43m(\u001b[49m\u001b[43m)\u001b[49m)\n",
      "File \u001b[0;32m~/.pyenv/versions/3.10.14/lib/python3.10/site-packages/isla/solver.py:714\u001b[0m, in \u001b[0;36mISLaSolver.solve\u001b[0;34m(self)\u001b[0m\n\u001b[1;32m    712\u001b[0m \u001b[38;5;28;01melse\u001b[39;00m:\n\u001b[1;32m    713\u001b[0m     \u001b[38;5;28mself\u001b[39m\u001b[38;5;241m.\u001b[39mlogger\u001b[38;5;241m.\u001b[39mdebug(\u001b[38;5;124m\"\u001b[39m\u001b[38;5;124mUNSAT\u001b[39m\u001b[38;5;124m\"\u001b[39m)\n\u001b[0;32m--> 714\u001b[0m     \u001b[38;5;28;01mraise\u001b[39;00m \u001b[38;5;167;01mStopIteration\u001b[39;00m()\n",
      "\u001b[0;31mStopIteration\u001b[0m: "
     ]
    }
   ],
   "source": [
    "results2 = []\n",
    "\n",
    "# # print(best_invariant[0])\n",
    "# # print(another_invariant[0])\n",
    "# for _ in range(1,10):\n",
    "#     results1.append(solver1.solve())\n",
    "    \n",
    "#    avix_oracle()\n",
    "for _ in range(1,10):\n",
    "    results2.append(solver2.solve())"
   ]
  },
  {
   "cell_type": "code",
   "execution_count": null,
   "id": "3aed1e73",
   "metadata": {},
   "outputs": [],
   "source": [
    "for input in results2:\n",
    "    if avix_oracle(input) == OracleResult.FAILING:\n",
    "        print(input)\n",
    "        print(avix_oracle(input))"
   ]
  },
  {
   "cell_type": "code",
   "execution_count": null,
   "id": "188ad42d",
   "metadata": {},
   "outputs": [],
   "source": [
    "for input in results2:\n",
    "    if avix_oracle(input) == OracleResult.FAILING:\n",
    "        print(input)\n",
    "        print(avix_oracle(input))\n",
    "for input in results2:\n",
    "    print(input)"
   ]
  },
  {
   "cell_type": "code",
   "execution_count": null,
   "id": "effa0a08",
   "metadata": {},
   "outputs": [
    {
     "ename": "NameError",
     "evalue": "name 'middle_grammar' is not defined",
     "output_type": "error",
     "traceback": [
      "\u001b[0;31m---------------------------------------------------------------------------\u001b[0m",
      "\u001b[0;31mNameError\u001b[0m                                 Traceback (most recent call last)",
      "Cell \u001b[0;32mIn[37], line 2\u001b[0m\n\u001b[1;32m      1\u001b[0m solver \u001b[38;5;241m=\u001b[39m ISLaSolver(\n\u001b[0;32m----> 2\u001b[0m     grammar\u001b[38;5;241m=\u001b[39m\u001b[43mmiddle_grammar\u001b[49m,\n\u001b[1;32m      3\u001b[0m     formula\u001b[38;5;241m=\u001b[39mbest_invariant[\u001b[38;5;241m0\u001b[39m],\n\u001b[1;32m      4\u001b[0m     enable_optimized_z3_queries\u001b[38;5;241m=\u001b[39m\u001b[38;5;28;01mFalse\u001b[39;00m,\n\u001b[1;32m      5\u001b[0m )\n\u001b[1;32m      7\u001b[0m \u001b[38;5;66;03m# this isnt working rn why not raaaaaaaaaaaaaaaaaaaaaaa\u001b[39;00m\n\u001b[1;32m      8\u001b[0m \u001b[38;5;66;03m# should be inputs of type 2, 3, 1\u001b[39;00m\n\u001b[1;32m      9\u001b[0m \u001b[38;5;28;01mfor\u001b[39;00m _ \u001b[38;5;129;01min\u001b[39;00m \u001b[38;5;28mrange\u001b[39m(\u001b[38;5;241m1\u001b[39m,\u001b[38;5;241m10\u001b[39m):\n",
      "\u001b[0;31mNameError\u001b[0m: name 'middle_grammar' is not defined"
     ]
    }
   ],
   "source": [
    "solver = ISLaSolver(\n",
    "    grammar=middle_grammar,\n",
    "    formula=best_invariant[0],\n",
    "    enable_optimized_z3_queries=False,\n",
    ")\n",
    "\n",
    "# this isnt working rn why not raaaaaaaaaaaaaaaaaaaaaaa\n",
    "# should be inputs of type 2, 3, 1\n",
    "for _ in range(1,10):\n",
    "    print(solver.solve())\n"
   ]
  },
  {
   "cell_type": "code",
   "execution_count": null,
   "id": "1270c1ba",
   "metadata": {},
   "outputs": [],
   "source": [
    "# call func for middle, converts string input to usable integer values\n",
    "\n",
    "def call_func_middle(inp: str):\n",
    "    \n",
    "    inp = inp.__str__()\n",
    "    \n",
    "    middle_input = inp.split(',')\n",
    "    converted_inp =  [int(middle_input[0]), int(middle_input[1]), int(middle_input[2])]\n",
    "    return converted_inp"
   ]
  },
  {
   "cell_type": "code",
   "execution_count": null,
   "id": "d208b26e",
   "metadata": {},
   "outputs": [
    {
     "name": "stdout",
     "output_type": "stream",
     "text": [
      "True\n"
     ]
    }
   ],
   "source": [
    "test_path = Path('rsc/')\n",
    "print(Path.exists(test_path))\n"
   ]
  },
  {
   "cell_type": "code",
   "execution_count": null,
   "id": "c6757172",
   "metadata": {},
   "outputs": [],
   "source": [
    "from avicenna.avix import *\n",
    "from avicenna.oracle_construction import * "
   ]
  },
  {
   "cell_type": "code",
   "execution_count": null,
   "id": "39a153fb",
   "metadata": {},
   "outputs": [],
   "source": [
    "def middle_inp_conv(inp):\n",
    "    inp = inp.__str__()\n",
    "    middle_input = inp.split(',')\n",
    "    \n",
    "    converted_inp = [\n",
    "        int(middle_input[0]),\n",
    "        int(middle_input[1]),\n",
    "        int(middle_input[2])\n",
    "    ]\n",
    "    \n",
    "    return converted_inp"
   ]
  },
  {
   "cell_type": "code",
   "execution_count": null,
   "id": "54b33f10",
   "metadata": {},
   "outputs": [],
   "source": [
    "import tmp\n",
    "importlib.reload(tmp)\n",
    "tmp.sflkitlib.lib.reset()\n",
    "avix_oracle = construct_oracle(\n",
    "                            program_under_test='middle',\n",
    "                            inp_converter=middle_inp_conv,\n",
    "                            timeout=10,\n",
    "                            line = 7,\n",
    "                            resource_path='rsc/',\n",
    "                            program_oracle= None)\n"
   ]
  },
  {
   "cell_type": "code",
   "execution_count": null,
   "id": "3f8f2c41",
   "metadata": {},
   "outputs": [
    {
     "data": {
      "text/plain": [
       "<OracleResult.FAILING: 'FAILING'>"
      ]
     },
     "execution_count": 51,
     "metadata": {},
     "output_type": "execute_result"
    }
   ],
   "source": [
    "avix_oracle(\"6,3,7\")"
   ]
  },
  {
   "cell_type": "code",
   "execution_count": null,
   "id": "11969097",
   "metadata": {},
   "outputs": [],
   "source": [
    "# # double check if this works\n",
    "\n",
    "# AviX.create_event_file(instrumented_function='middle',\n",
    "#                        #instr_path='tmp',\n",
    "#                        inp = '2,1,3',\n",
    "#                        conversion_func=middle_inp_conv,\n",
    "#                        event_path='rsc/event_file'\n",
    "#                        )"
   ]
  },
  {
   "cell_type": "code",
   "execution_count": null,
   "id": "942d3017",
   "metadata": {},
   "outputs": [],
   "source": [
    "avix = AviX(grammar=middle_grammar,\n",
    "            initial_inputs=middle_inputs,\n",
    "            oracle=avix_oracle,\n",
    "            max_iterations=10,\n",
    "            desired_line=7,\n",
    "            put_path='middle.py',\n",
    "            #instr_path='instrumented.py',\n",
    "            min_precision = 0.7,)"
   ]
  },
  {
   "cell_type": "code",
   "execution_count": null,
   "id": "9a44d30e",
   "metadata": {},
   "outputs": [
    {
     "name": "stdout",
     "output_type": "stream",
     "text": [
      "14,977,74\n",
      "9,1,1\n",
      "86,87619,98\n",
      "75,88,2\n",
      "4,3,7\n",
      "4,8,74\n",
      "67,11,97\n",
      "6,25,182\n",
      "7958,6,82\n",
      "5,46,2\n"
     ]
    }
   ],
   "source": [
    "from fuzzingbook.GrammarFuzzer import GrammarFuzzer, DerivationTree\n",
    "\n",
    "middle_grammar_converted = {\n",
    "    \"<start>\": [\"<stmt>\"],\n",
    "    \"<stmt>\": [\"str.to.int(<x>),str.to.int(<y>),str.to.int(<z>)\"],\n",
    "    \"<x>\": [\"<integer>\"],\n",
    "    \"<y>\": [\"<integer>\"],\n",
    "    \"<z>\": [\"<integer>\"],\n",
    "    \"<integer>\": [\"<digit>\", \"<digit><integer>\"],\n",
    "    \"<digit>\": [str(num) for num in range(1, 10)]\n",
    "}\n",
    "\n",
    "fuzzer = GrammarFuzzer(middle_grammar)\n",
    "\n",
    "for i in range(10):\n",
    "    print(fuzzer.fuzz())"
   ]
  },
  {
   "cell_type": "code",
   "execution_count": null,
   "id": "4a9846ed",
   "metadata": {},
   "outputs": [],
   "source": []
  },
  {
   "cell_type": "markdown",
   "id": "501b70f5-3276-45e8-9e48-7331964004d7",
   "metadata": {},
   "source": [
    "https://github.com/uds-se/sflkit\n",
    "\n",
    "<img src=\"qrcode.png\" style=\"width:500px\">"
   ]
  },
  {
   "cell_type": "markdown",
   "id": "d99da91b",
   "metadata": {},
   "source": []
  },
  {
   "cell_type": "markdown",
   "id": "a3e651cb",
   "metadata": {},
   "source": []
  }
 ],
 "metadata": {
  "kernelspec": {
   "display_name": "Python 3 (ipykernel)",
   "language": "python",
   "name": "python3"
  },
  "language_info": {
   "codemirror_mode": {
    "name": "ipython",
    "version": 3
   },
   "file_extension": ".py",
   "mimetype": "text/x-python",
   "name": "python",
   "nbconvert_exporter": "python",
   "pygments_lexer": "ipython3",
   "version": "3.10.14"
  }
 },
 "nbformat": 4,
 "nbformat_minor": 5
}
