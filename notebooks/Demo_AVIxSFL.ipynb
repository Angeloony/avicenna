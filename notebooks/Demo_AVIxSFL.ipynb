{
 "cells": [
  {
   "cell_type": "code",
   "execution_count": 1,
   "id": "e8333c71-28ed-44ba-8e4e-52a72f8f96e8",
   "metadata": {},
   "outputs": [],
   "source": [
    "import enum\n",
    "import importlib\n",
    "import inspect\n",
    "import os\n",
    "import shutil\n",
    "\n",
    "from IPython.display import HTML\n",
    "\n",
    "from sflkit import *\n",
    "from sflkit.color import ColorCode\n",
    "from sflkit import instrument_config, analyze_config\n",
    "from sflkit.config import Config\n",
    "\n",
    "from avicenna import *"
   ]
  },
  {
   "cell_type": "markdown",
   "id": "7be07d73-70af-4d38-9bc9-2d2f027987f0",
   "metadata": {},
   "source": [
    "## A faulty Program"
   ]
  },
  {
   "cell_type": "markdown",
   "id": "742bbc76-5fd4-46a9-ac78-f132118ec072",
   "metadata": {},
   "source": [
    "First, we need a faulty program. We chose an implementation of the `middle(x, y, z)` function that returns the *middle* number of its three arguments. For example, `middle(1, 3, 2)` should return 2 because `1 < 2` and `2 < 3`. We introduced a fault in this implementation of `middle` that occurs in line 7 `m = y`. "
   ]
  },
  {
   "cell_type": "code",
   "execution_count": 2,
   "id": "97ceacc2-3d6f-4d8f-95b4-11d45e805760",
   "metadata": {},
   "outputs": [],
   "source": [
    "def middle(x, y, z):\n",
    "    m = z\n",
    "    if y < z:\n",
    "        if x < y:\n",
    "            m = y\n",
    "        elif x < z:\n",
    "            m = x \n",
    "    else:\n",
    "        if x > y:\n",
    "            m = y\n",
    "        elif x > z:\n",
    "            m = x # desired line\n",
    "    return m"
   ]
  },
  {
   "cell_type": "markdown",
   "id": "3669e4eb-0643-488e-9859-9290dc88eea5",
   "metadata": {},
   "source": [
    "Next, we introduce a class to capture test runs' results efficiently. The `TestResult` is an enum with two possible values, `PASS`and `FAIL`. `PASS` donates a passing test case and `FAIL` a failing one."
   ]
  },
  {
   "cell_type": "code",
   "execution_count": 3,
   "id": "374e93f7-e48b-46fd-997d-54dea2b67e12",
   "metadata": {},
   "outputs": [],
   "source": [
    "class TestResult(enum.Enum):\n",
    "    \n",
    "    def __repr__(self):\n",
    "        return self.value\n",
    "    \n",
    "    PASS = 'PASS'\n",
    "    FAIL = 'FAIL'"
   ]
  },
  {
   "cell_type": "markdown",
   "id": "89df6ffe-a6b3-4a56-bd07-cd74a0fb438e",
   "metadata": {},
   "source": [
    "Now we implement a test function that takes the three arguments of `middle(x, y, z)` and an expected result. This test function compares the return of `middle(x, y, z)` with the desired value and returns `PASS` if they match and `FAIL` otherwise."
   ]
  },
  {
   "cell_type": "code",
   "execution_count": 4,
   "id": "eea55fff-0efa-48ba-8112-ed6f5698b645",
   "metadata": {},
   "outputs": [],
   "source": [
    "def test(function, x, y, z, expected):\n",
    "    try:\n",
    "        if function(x, y, z) == expected:\n",
    "            return TestResult.PASS\n",
    "        else:\n",
    "            return TestResult.FAIL\n",
    "    except BaseException:\n",
    "        return TestResult.FAIL\n",
    "\n",
    "def test_middle(x, y, z, expected):\n",
    "    return test(middle, x, y, z, expected)"
   ]
  },
  {
   "cell_type": "code",
   "execution_count": 5,
   "id": "d395a695-ba1d-47e9-b21f-ef2d6c95fb37",
   "metadata": {},
   "outputs": [
    {
     "name": "stdout",
     "output_type": "stream",
     "text": [
      "def middle(x, y, z):\n",
      "    m = z\n",
      "    if y < z:\n",
      "        if x < y:\n",
      "            m = y\n",
      "        elif x < z:\n",
      "            m = x \n",
      "    else:\n",
      "        if x > y:\n",
      "            m = y\n",
      "        elif x > z:\n",
      "            m = x # desired line\n",
      "    return m\n",
      "\n"
     ]
    }
   ],
   "source": [
    "source = inspect.getsource(middle)\n",
    "print(source)"
   ]
  },
  {
   "cell_type": "code",
   "execution_count": 6,
   "id": "76d8e864-1983-4d28-9403-141d20477d75",
   "metadata": {},
   "outputs": [],
   "source": [
    "middle_py = 'middle.py'\n",
    "tmp_py = 'tmp.py'"
   ]
  },
  {
   "cell_type": "markdown",
   "id": "6c623cfd-eb78-4fa3-afc8-85a82d48002b",
   "metadata": {},
   "source": [
    "We produced the same results for the test cases, so it seems to work."
   ]
  },
  {
   "cell_type": "markdown",
   "id": "12423b92-7543-4017-9891-6bad2a2994e1",
   "metadata": {},
   "source": [
    "### Configuring SFLKit\n",
    "\n",
    "The `Config` class provides comfortable access to `SFLKit` by defining the fundamental concepts we want to investigate.\n",
    "\n",
    "We give some information for the config that we need to define. First, we need the path to the source we want to investigate, which we already have in `middle_py`. Next, we need an out, `tmp_py`. We also need:\n",
    "\n",
    "The language of our subject is `'python'`.\n",
    "Let's start with `'line'` as the predicates we want to investigate.\n",
    "We define `'tarantula'` as our evaluation metric for the predicates, i.e., the similarity coefficient.\n",
    "We also need a list of passing and failing tests used during the analysis."
   ]
  },
  {
   "cell_type": "code",
   "execution_count": 7,
   "id": "e43c061a-807b-4bc3-b707-7e1c89799f99",
   "metadata": {},
   "outputs": [],
   "source": [
    "language='python'\n",
    "predicates='line'\n",
    "metrics='Tarantula'\n",
    "#passing='event-files/0,event-files/1'\n",
    "#failing='event-files/2'"
   ]
  },
  {
   "cell_type": "markdown",
   "id": "6bc586ae-8d1d-4bb0-987c-cdd608f6ea20",
   "metadata": {},
   "source": [
    "We define a function that gives as a `Config` object, so we do not need to create it manually every time we change something."
   ]
  },
  {
   "cell_type": "code",
   "execution_count": null,
   "id": "f15da5de",
   "metadata": {},
   "outputs": [],
   "source": []
  },
  {
   "cell_type": "code",
   "execution_count": 8,
   "id": "b0cd0637-7b4a-4736-80a3-6211b7e529c9",
   "metadata": {},
   "outputs": [],
   "source": [
    "def get_config():\n",
    "    return Config.create(path=middle_py, working=tmp_py, language=language, predicates=predicates)"
   ]
  },
  {
   "cell_type": "markdown",
   "id": "a905e276-c475-4fc4-b23c-936dd5fea818",
   "metadata": {},
   "source": [
    "Now we can define a function that instruments our subject. We leverage `SFLKit`'s `instrument_config()`, which takes a config we create with our defined `get_config()` and instruments the subject. We can also show the content of the instrumented python file with this function."
   ]
  },
  {
   "cell_type": "code",
   "execution_count": 9,
   "id": "d0a87958-fbf9-4ad8-91c5-c4f9526ebcc5",
   "metadata": {},
   "outputs": [],
   "source": [
    "def instrument(out=False):\n",
    "    instrument_config(get_config())"
   ]
  },
  {
   "cell_type": "markdown",
   "id": "65524f0a-7c30-41db-be30-a108261e5592",
   "metadata": {},
   "source": [
    "Now we instrument our `middle.py` subject and check the results."
   ]
  },
  {
   "cell_type": "code",
   "execution_count": 10,
   "id": "c19129e7-cf49-4028-8997-76afeafc9324",
   "metadata": {},
   "outputs": [
    {
     "name": "stderr",
     "output_type": "stream",
     "text": [
      "sflkit :: INFO     :: I found 11 events in middle.py.\n",
      "sflkit :: INFO     :: I found 0 events in middle.py.\n"
     ]
    }
   ],
   "source": [
    "instrument()"
   ]
  },
  {
   "cell_type": "markdown",
   "id": "ba9c03c5-419d-49a0-accb-53b190d200dd",
   "metadata": {},
   "source": [
    "As you can see, the instrumentation added an import at the beginning to a lib that comes with `SFLKit`, cluing the execution of files together. Moreover, the instrumentation added a function call function of the lib in front of each executable line that tracks the executed lines."
   ]
  },
  {
   "cell_type": "markdown",
   "id": "690cf88f-0965-4ee7-9ea3-84e0a536e08d",
   "metadata": {},
   "source": [
    "## Get and Analyze Events"
   ]
  },
  {
   "cell_type": "markdown",
   "id": "e4fe045c-cb86-4c05-90e6-730ab1123601",
   "metadata": {},
   "source": [
    "Now, we want to extract the events from the execution of tests. Therefore, we need to adjust our test execution function again because the shared library for tracking the events does not know when to start and stop. We need to reset this library before entering our `middle.py` and tell the library to dump the events after the function finishes."
   ]
  },
  {
   "cell_type": "code",
   "execution_count": 11,
   "id": "a5daf879-9158-402f-8b5f-bab67f4736da",
   "metadata": {},
   "outputs": [],
   "source": [
    "def test_tmp(x, y, z, expected): \n",
    "    import tmp\n",
    "    importlib.reload(tmp)\n",
    "    tmp.sflkitlib.lib.reset()\n",
    "    try:\n",
    "        return test(tmp.middle, x, y, z, expected)\n",
    "    finally:\n",
    "        tmp.sflkitlib.lib.dump_events()"
   ]
  },
  {
   "cell_type": "markdown",
   "id": "bb741ed6-bb58-4b7a-9c56-8e58804651d3",
   "metadata": {},
   "source": [
    "We define a path to write the generated event logs."
   ]
  },
  {
   "cell_type": "code",
   "execution_count": 12,
   "id": "823303be-b13f-4405-9186-857625aec1b1",
   "metadata": {},
   "outputs": [],
   "source": [
    "event_files = 'event-files'"
   ]
  },
  {
   "cell_type": "markdown",
   "id": "8f8453ef-c2ba-4b77-800a-0c44b72bfd5a",
   "metadata": {},
   "source": [
    "Then, we need a function to generate the event log from the previous test cases. We change the environment variable `EVENTS_PATH` to the output path of the event log file before running each test."
   ]
  },
  {
   "cell_type": "code",
   "execution_count": 13,
   "id": "e084ac5b-b15e-47d0-8cda-4dc14adbb2e9",
   "metadata": {},
   "outputs": [],
   "source": [
    "# def run_tests():\n",
    "#     if os.path.exists(event_files):\n",
    "#         shutil.rmtree(event_files)\n",
    "#     os.mkdir(event_files)\n",
    "#     os.environ['EVENTS_PATH'] = os.path.join(event_files, '0')\n",
    "#     test_tmp(3, 2, 1, expected=2)\n",
    "#     os.environ['EVENTS_PATH'] = os.path.join(event_files, '1')\n",
    "#     test_tmp(3, 1, 2, expected=2)\n",
    "#     os.environ['EVENTS_PATH'] = os.path.join(event_files, '2')\n",
    "#     test_tmp(2, 1, 3, expected=2)"
   ]
  },
  {
   "cell_type": "markdown",
   "id": "bf9f60a3-c565-404d-8d61-7b804fb65907",
   "metadata": {},
   "source": [
    "With this, we can execute the tests and analyze the result with the help of `analyze_config()` from SFLKit."
   ]
  },
  {
   "cell_type": "code",
   "execution_count": 14,
   "id": "d922df2e-39a9-4aea-a926-b9275bdd9197",
   "metadata": {},
   "outputs": [],
   "source": [
    "# def analyze():\n",
    "#     run_tests()\n",
    "#     return analyze_config(get_config())"
   ]
  },
  {
   "cell_type": "markdown",
   "id": "726382fb-4b55-4952-b105-e0afd88dd36f",
   "metadata": {},
   "source": [
    "Let's execute the tests and analyze the event logs for lines and the Tarantula metric."
   ]
  },
  {
   "cell_type": "code",
   "execution_count": 15,
   "id": "f52db0b7-4423-49a2-b79c-3bff82e9f084",
   "metadata": {},
   "outputs": [],
   "source": [
    "#results = analyze()"
   ]
  },
  {
   "cell_type": "markdown",
   "id": "09b4a254-9059-4e18-87d2-a8a9c01a26d4",
   "metadata": {},
   "source": [
    "The results look something like this:"
   ]
  },
  {
   "cell_type": "code",
   "execution_count": 16,
   "id": "cd538827-c2b6-45fe-a3bf-1bae6e213223",
   "metadata": {},
   "outputs": [],
   "source": [
    "#results"
   ]
  },
  {
   "cell_type": "markdown",
   "id": "7ee136ed-b595-448a-b2e6-89e9d1b16d0b",
   "metadata": {},
   "source": [
    "This structure maps analysis objects and metrics to a list of sorted suggestions where the fault occurs."
   ]
  },
  {
   "cell_type": "markdown",
   "id": "29fee667-ff00-426a-ab91-254a89f09bb8",
   "metadata": {},
   "source": [
    "Now, we can put all this together and produce a pretty output that shows us where the fault originates by leveraging `SFLKit`'s `ColorCode` object."
   ]
  },
  {
   "cell_type": "markdown",
   "id": "a35f1a31-eba0-4efc-8c44-545f8ecf95ca",
   "metadata": {},
   "source": [
    "As you can see, the analysis indeed suggests the buggy line 7 as the most suspicious."
   ]
  },
  {
   "cell_type": "markdown",
   "id": "2c9e89ce-815f-4d84-aa6f-f43d41030c96",
   "metadata": {},
   "source": [
    "But what if lines are not enough to show the fault?\n",
    "\n",
    "What if the metric we have chosen for evaluation is insufficient?"
   ]
  },
  {
   "cell_type": "markdown",
   "id": "16036e61",
   "metadata": {},
   "source": [
    "### Extension using Avicenna\n",
    "We seek to utilize SFLKit's instrmentation of program code line events to determine constraints describing a specific line's reachability with Avicenna. \n",
    "\n",
    "1. We must instrument our test program, middle, and use that output.\n",
    "2. We access the event files and check what line was called, oracle determines YES or NO.\n",
    "3. If yes, learn from that event file, make constraint loop with Avicenna\n",
    "4. If no, call other event files to check for line event YES.\n",
    "\n",
    "\n",
    "Instrumentation for line events is coded as follows: (event_type, file_name, line_num, event_id)\n"
   ]
  },
  {
   "cell_type": "markdown",
   "id": "fc45900f",
   "metadata": {},
   "source": [
    "First we need to instrument our event files for a given program or function."
   ]
  },
  {
   "cell_type": "code",
   "execution_count": 17,
   "id": "fd4ebdbf",
   "metadata": {},
   "outputs": [],
   "source": [
    "def run_test_and_instrument(middle_input, event_files_path, iterator):\n",
    "    \n",
    "    os.environ['EVENTS_PATH'] = os.path.join(event_files_path, str(iterator))\n",
    "    \n",
    "    expected_return = sorted(middle_input)[1]\n",
    "    test_tmp(middle_input[0],\n",
    "             middle_input[1],\n",
    "             middle_input[2],\n",
    "             expected=expected_return) # instrumenting middle"
   ]
  },
  {
   "cell_type": "markdown",
   "id": "acd985c3",
   "metadata": {},
   "source": [
    "The oracle has to be able to determine if a given line is called when a test case is run. This means we need to call sflkit's instrumentation for each test case when determining whether it is valuable and can be used for finding constraints that lead to the desired line."
   ]
  },
  {
   "cell_type": "code",
   "execution_count": 18,
   "id": "f7e22f47",
   "metadata": {},
   "outputs": [],
   "source": [
    "import string\n",
    "import csv\n",
    "import logging\n",
    "\n",
    "from pathlib import Path\n",
    "#from avicenna import Avicenna\n",
    "from debugging_framework.oracle import OracleResult\n",
    "from isla.solver import ISLaSolver\n"
   ]
  },
  {
   "cell_type": "markdown",
   "id": "f1b30d0b",
   "metadata": {},
   "source": [
    "We can now go through our event-files folder and iterate through each file, representing a test case. The relevant test cases will be denoted by an OracleResult.BUG for now. We can use this behavior-triggering input as our input for a run of Avicenna to find the constraints leading to this behavior."
   ]
  },
  {
   "cell_type": "code",
   "execution_count": 19,
   "id": "abd88dce",
   "metadata": {},
   "outputs": [],
   "source": [
    "# problems arose with mismatched input types. middle takes int inputs, but the input through avicenna works with \n",
    "# strings. therefore we need to convert these types for each function when required.\n",
    "def oracle_run_test_and_instrument(middle_input, event_files_path, event_file_num):\n",
    "    \n",
    "    #if os.path.exists(event_files_path):\n",
    "    #    shutil.rmtree(event_files_path) # ** can be removed, will collect trash at the end of run ** \n",
    "    #os.mkdir(event_files_path) # just needs to happen once before the run now \n",
    "    #os.environ['EVENTS_PATH'] = os.path.join(event_files_path, event_file_num)\n",
    "    \n",
    "    \n",
    "    # convert inputs\n",
    "    middle_input = middle_input.__str__()\n",
    "    middle_input = middle_input.split(',')\n",
    "    \n",
    "    sorted_inputs = [int(middle_input[0]), int(middle_input[1]), int(middle_input[2])]\n",
    "    sorted_inputs.sort()\n",
    "    expected = sorted_inputs[1]\n",
    "    \n",
    "    test_tmp(int(middle_input[0]), int(middle_input[1]), int(middle_input[2]), expected=expected) # instrumenting middle"
   ]
  },
  {
   "cell_type": "code",
   "execution_count": 20,
   "id": "85829db9",
   "metadata": {},
   "outputs": [],
   "source": [
    "# add desired line too \n",
    "def oracle_middle_sfl(test_case):\n",
    "        \n",
    "    # #is file path valid?\n",
    "    # if event_file_path.exists() == False or event_file_path.is_dir() == True:\n",
    "    #     # add error handling \n",
    "    #     return OracleResult.UNDEF\n",
    "    \n",
    "    # check if desired_line was passed as int and not as str\n",
    "        # QUESTION should we only accept str to begin with? check for numbers only?\n",
    "    #if desired_line.type() == int:\n",
    "    #   desired_line = str(desired_line)\n",
    "    path = Path('./event-files/')\n",
    "    oracle_run_test_and_instrument(test_case, path, '0') # replace this with the event file instrumentation\n",
    "    \n",
    "    with open('./event-files/0', newline='') as event_file:\n",
    "        \n",
    "        # split each line at , to get columns separated\n",
    "        for line in event_file.readlines():\n",
    "            reached_line = line.split(',')\n",
    "            #print(reached_line)\n",
    "            if reached_line[-2] == '12':   \n",
    "                return OracleResult.FAILING\n",
    "            \n",
    "        return OracleResult.PASSING "
   ]
  },
  {
   "cell_type": "code",
   "execution_count": 21,
   "id": "c06e8aba",
   "metadata": {},
   "outputs": [],
   "source": [
    "#print(oracle_middle_sfl('2,3,1').value)"
   ]
  },
  {
   "cell_type": "code",
   "execution_count": 22,
   "id": "0ee037b8",
   "metadata": {},
   "outputs": [],
   "source": [
    "#print(oracle_middle_sfl('8,24,4'))"
   ]
  },
  {
   "cell_type": "code",
   "execution_count": 23,
   "id": "c05978df",
   "metadata": {},
   "outputs": [],
   "source": [
    "#print(oracle_middle_sfl('121,2,23'))"
   ]
  },
  {
   "cell_type": "code",
   "execution_count": 24,
   "id": "e5df8e9f",
   "metadata": {},
   "outputs": [],
   "source": [
    "#print(oracle_middle_sfl('2,1,3'))"
   ]
  },
  {
   "cell_type": "markdown",
   "id": "c45a7f56",
   "metadata": {},
   "source": [
    "The oracle used in this run of Avicenna will be the oracle checking against line-event calls. This requires us to run sflkit using Avicenna's new hypotheses after every run. \n",
    "\n",
    "- TODO : update Avicenna and fix up prototype for it \n",
    "- TODO : implement prototype functionality using SFLKit and Avicenna 0.2 "
   ]
  },
  {
   "cell_type": "markdown",
   "id": "62d2fbf2",
   "metadata": {},
   "source": [
    "#### Testing inputs for regular middle bug. "
   ]
  },
  {
   "cell_type": "code",
   "execution_count": 25,
   "id": "6635a037",
   "metadata": {},
   "outputs": [],
   "source": [
    "middle_grammar = {\n",
    "    \"<start>\": [\"<stmt>\"],\n",
    "    \"<stmt>\": [\"<x>,<y>,<z>\"],\n",
    "    \"<x>\": [\"<integer>\"],\n",
    "    \"<y>\": [\"<integer>\"],\n",
    "    \"<z>\": [\"<integer>\"],\n",
    "    \"<integer>\": [\"<digit>\", \"<digit><integer>\"],\n",
    "    \"<digit>\": [str(num) for num in range(1, 10)]\n",
    "}\n",
    "\n",
    "\n",
    "middle_grammar_converted = {\n",
    "    \"<start>\": [\"<stmt>\"],\n",
    "    \"<stmt>\": [\"str.to.int(<x>),str.to.int(<y>),str.to.int(<z>)\"],\n",
    "    \"<x>\": [\"<integer>\"],\n",
    "    \"<y>\": [\"<integer>\"],\n",
    "    \"<z>\": [\"<integer>\"],\n",
    "    \"<integer>\": [\"<digit>\", \"<digit><integer>\"],\n",
    "    \"<digit>\": [str(num) for num in range(1, 10)]\n",
    "}"
   ]
  },
  {
   "cell_type": "code",
   "execution_count": 26,
   "id": "09cb633c",
   "metadata": {},
   "outputs": [],
   "source": [
    "# 321, 312, 213\n",
    "middle_inputs = ['2,3,1', '3,1,2', '2,1,3']"
   ]
  },
  {
   "cell_type": "code",
   "execution_count": 27,
   "id": "a01fd133",
   "metadata": {},
   "outputs": [],
   "source": [
    "path = Path('./event-files/')\n",
    "if os.path.exists(path):\n",
    "    shutil.rmtree(path) \n",
    "os.mkdir(path) \n",
    "os.environ['EVENTS_PATH'] = os.path.join(path, '0')"
   ]
  },
  {
   "cell_type": "code",
   "execution_count": 47,
   "id": "1b0fef36",
   "metadata": {},
   "outputs": [
    {
     "name": "stdout",
     "output_type": "stream",
     "text": [
      "{Input(('2,1,3', <OracleResult.PASSING: 'PASSING'>)), Input(('3,1,2', <OracleResult.PASSING: 'PASSING'>)), Input(('2,3,1', <OracleResult.PASSING: 'PASSING'>))}\n"
     ]
    },
    {
     "ename": "AssertionError",
     "evalue": "Avicenna requires at least one failure-inducing input!",
     "output_type": "error",
     "traceback": [
      "\u001b[0;31m---------------------------------------------------------------------------\u001b[0m",
      "\u001b[0;31mAssertionError\u001b[0m                            Traceback (most recent call last)",
      "Cell \u001b[0;32mIn[47], line 1\u001b[0m\n\u001b[0;32m----> 1\u001b[0m avicenna \u001b[38;5;241m=\u001b[39m \u001b[43mAvicenna\u001b[49m\u001b[43m(\u001b[49m\n\u001b[1;32m      2\u001b[0m \u001b[43m    \u001b[49m\u001b[43mgrammar\u001b[49m\u001b[38;5;241;43m=\u001b[39;49m\u001b[43mmiddle_grammar\u001b[49m\u001b[43m,\u001b[49m\n\u001b[1;32m      3\u001b[0m \u001b[43m    \u001b[49m\u001b[43minitial_inputs\u001b[49m\u001b[38;5;241;43m=\u001b[39;49m\u001b[43mmiddle_inputs\u001b[49m\u001b[43m,\u001b[49m\n\u001b[1;32m      4\u001b[0m \u001b[43m    \u001b[49m\u001b[43moracle\u001b[49m\u001b[38;5;241;43m=\u001b[39;49m\u001b[43moracle_middle_sfl\u001b[49m\u001b[43m,\u001b[49m\n\u001b[1;32m      5\u001b[0m \u001b[43m    \u001b[49m\u001b[43mmax_iterations\u001b[49m\u001b[38;5;241;43m=\u001b[39;49m\u001b[38;5;241;43m10\u001b[39;49m\u001b[43m,\u001b[49m\n\u001b[1;32m      6\u001b[0m \u001b[43m    \u001b[49m\u001b[38;5;66;43;03m#max_excluded_features=4, \u001b[39;49;00m\n\u001b[1;32m      7\u001b[0m \u001b[43m)\u001b[49m\n",
      "File \u001b[0;32m~/ba/avicenna/src/avicenna/avicenna.py:176\u001b[0m, in \u001b[0;36mAvicenna.__init__\u001b[0;34m(self, grammar, oracle, initial_inputs, patterns, max_iterations, top_n_relevant_features, pattern_file, max_conjunction_size, use_multi_failure_report, use_batch_execution, log, feature_learner, input_generator, pattern_learner, timeout_seconds)\u001b[0m\n\u001b[1;32m    159\u001b[0m \u001b[38;5;28mself\u001b[39m\u001b[38;5;241m.\u001b[39mreport \u001b[38;5;241m=\u001b[39m (\n\u001b[1;32m    160\u001b[0m     MultipleFailureReport()\n\u001b[1;32m    161\u001b[0m     \u001b[38;5;28;01mif\u001b[39;00m use_multi_failure_report\n\u001b[1;32m    162\u001b[0m     \u001b[38;5;28;01melse\u001b[39;00m SingleFailureReport()\n\u001b[1;32m    163\u001b[0m )\n\u001b[1;32m    165\u001b[0m \u001b[38;5;28mself\u001b[39m\u001b[38;5;241m.\u001b[39mexecution_handler \u001b[38;5;241m=\u001b[39m (\n\u001b[1;32m    166\u001b[0m     BatchExecutionHandler(\u001b[38;5;28mself\u001b[39m\u001b[38;5;241m.\u001b[39moracle)\n\u001b[1;32m    167\u001b[0m     \u001b[38;5;28;01mif\u001b[39;00m use_batch_execution\n\u001b[1;32m    168\u001b[0m     \u001b[38;5;28;01melse\u001b[39;00m SingleExecutionHandler(\u001b[38;5;28mself\u001b[39m\u001b[38;5;241m.\u001b[39moracle)\n\u001b[1;32m    169\u001b[0m )\n\u001b[1;32m    171\u001b[0m \u001b[38;5;28mself\u001b[39m\u001b[38;5;241m.\u001b[39mall_inputs: Set[Input] \u001b[38;5;241m=\u001b[39m (\n\u001b[1;32m    172\u001b[0m     \u001b[43mExceptional\u001b[49m\u001b[38;5;241;43m.\u001b[39;49m\u001b[43mof\u001b[49m\u001b[43m(\u001b[49m\u001b[38;5;28;43;01mlambda\u001b[39;49;00m\u001b[43m:\u001b[49m\u001b[43m \u001b[49m\u001b[43minitial_inputs\u001b[49m\u001b[43m)\u001b[49m\n\u001b[1;32m    173\u001b[0m \u001b[43m    \u001b[49m\u001b[38;5;241;43m.\u001b[39;49m\u001b[43mmap\u001b[49m\u001b[43m(\u001b[49m\u001b[38;5;28;43mself\u001b[39;49m\u001b[38;5;241;43m.\u001b[39;49m\u001b[43mparse_to_input\u001b[49m\u001b[43m)\u001b[49m\n\u001b[1;32m    174\u001b[0m \u001b[43m    \u001b[49m\u001b[38;5;241;43m.\u001b[39;49m\u001b[43mmap\u001b[49m\u001b[43m(\u001b[49m\u001b[38;5;28;43mself\u001b[39;49m\u001b[38;5;241;43m.\u001b[39;49m\u001b[43massign_label\u001b[49m\u001b[43m)\u001b[49m\n\u001b[1;32m    175\u001b[0m \u001b[43m    \u001b[49m\u001b[38;5;241;43m.\u001b[39;49m\u001b[43mmap\u001b[49m\u001b[43m(\u001b[49m\u001b[38;5;28;43mself\u001b[39;49m\u001b[38;5;241;43m.\u001b[39;49m\u001b[43mcheck_initial_inputs\u001b[49m\u001b[43m)\u001b[49m\n\u001b[0;32m--> 176\u001b[0m \u001b[43m    \u001b[49m\u001b[38;5;241;43m.\u001b[39;49m\u001b[43mreraise\u001b[49m\u001b[43m(\u001b[49m\u001b[43m)\u001b[49m\n\u001b[1;32m    177\u001b[0m     \u001b[38;5;241m.\u001b[39mget()\n\u001b[1;32m    178\u001b[0m )\n\u001b[1;32m    180\u001b[0m \u001b[38;5;28mself\u001b[39m\u001b[38;5;241m.\u001b[39minput_generator \u001b[38;5;241m=\u001b[39m (\n\u001b[1;32m    181\u001b[0m     input_generator(grammar)\n\u001b[1;32m    182\u001b[0m     \u001b[38;5;28;01mif\u001b[39;00m input_generator\n\u001b[0;32m   (...)\u001b[0m\n\u001b[1;32m    188\u001b[0m     )\n\u001b[1;32m    189\u001b[0m )\n\u001b[1;32m    191\u001b[0m \u001b[38;5;28mself\u001b[39m\u001b[38;5;241m.\u001b[39mbest_candidates \u001b[38;5;241m=\u001b[39m \u001b[38;5;28mset\u001b[39m()\n",
      "File \u001b[0;32m~/ba/avicenna/src/avicenna/monads.py:157\u001b[0m, in \u001b[0;36mFailure.reraise\u001b[0;34m(self)\u001b[0m\n\u001b[1;32m    156\u001b[0m \u001b[38;5;28;01mdef\u001b[39;00m \u001b[38;5;21mreraise\u001b[39m(\u001b[38;5;28mself\u001b[39m) \u001b[38;5;241m-\u001b[39m\u001b[38;5;241m>\u001b[39m Exceptional[E, Any]:\n\u001b[0;32m--> 157\u001b[0m     \u001b[38;5;28;01mraise\u001b[39;00m \u001b[38;5;28mself\u001b[39m\u001b[38;5;241m.\u001b[39ma\n",
      "File \u001b[0;32m~/ba/avicenna/src/avicenna/monads.py:92\u001b[0m, in \u001b[0;36mExceptional.of\u001b[0;34m(f)\u001b[0m\n\u001b[1;32m     89\u001b[0m \u001b[38;5;129m@staticmethod\u001b[39m\n\u001b[1;32m     90\u001b[0m \u001b[38;5;28;01mdef\u001b[39;00m \u001b[38;5;21mof\u001b[39m(f: Callable[[], T]) \u001b[38;5;241m-\u001b[39m\u001b[38;5;241m>\u001b[39m \u001b[38;5;124m\"\u001b[39m\u001b[38;5;124mExceptional[E, T]\u001b[39m\u001b[38;5;124m\"\u001b[39m:\n\u001b[1;32m     91\u001b[0m     \u001b[38;5;28;01mtry\u001b[39;00m:\n\u001b[0;32m---> 92\u001b[0m         \u001b[38;5;28;01mreturn\u001b[39;00m Success(\u001b[43mf\u001b[49m\u001b[43m(\u001b[49m\u001b[43m)\u001b[49m)\n\u001b[1;32m     93\u001b[0m     \u001b[38;5;28;01mexcept\u001b[39;00m \u001b[38;5;167;01mException\u001b[39;00m \u001b[38;5;28;01mas\u001b[39;00m exc:\n\u001b[1;32m     94\u001b[0m         \u001b[38;5;28;01mreturn\u001b[39;00m Failure(exc)\n",
      "File \u001b[0;32m~/ba/avicenna/src/avicenna/monads.py:128\u001b[0m, in \u001b[0;36mSuccess.map.<locals>.<lambda>\u001b[0;34m()\u001b[0m\n\u001b[1;32m    127\u001b[0m \u001b[38;5;28;01mdef\u001b[39;00m \u001b[38;5;21mmap\u001b[39m(\u001b[38;5;28mself\u001b[39m, f: Callable[[T], S]) \u001b[38;5;241m-\u001b[39m\u001b[38;5;241m>\u001b[39m \u001b[38;5;124m\"\u001b[39m\u001b[38;5;124mExceptional[S]\u001b[39m\u001b[38;5;124m\"\u001b[39m:\n\u001b[0;32m--> 128\u001b[0m     \u001b[38;5;28;01mreturn\u001b[39;00m Exceptional\u001b[38;5;241m.\u001b[39mof(\u001b[38;5;28;01mlambda\u001b[39;00m: \u001b[43mf\u001b[49m\u001b[43m(\u001b[49m\u001b[38;5;28;43mself\u001b[39;49m\u001b[38;5;241;43m.\u001b[39;49m\u001b[43ma\u001b[49m\u001b[43m)\u001b[49m)\n",
      "File \u001b[0;32m~/ba/avicenna/src/avicenna/avicenna.py:443\u001b[0m, in \u001b[0;36mAvicenna.check_initial_inputs\u001b[0;34m(test_inputs)\u001b[0m\n\u001b[1;32m    441\u001b[0m \u001b[38;5;28;01melif\u001b[39;00m \u001b[38;5;28mall\u001b[39m([\u001b[38;5;129;01mnot\u001b[39;00m (test_input\u001b[38;5;241m.\u001b[39moracle\u001b[38;5;241m.\u001b[39mto_bool()) \u001b[38;5;28;01mfor\u001b[39;00m test_input \u001b[38;5;129;01min\u001b[39;00m test_inputs]):\n\u001b[1;32m    442\u001b[0m     \u001b[38;5;28mprint\u001b[39m(test_inputs)\n\u001b[0;32m--> 443\u001b[0m     \u001b[38;5;28;01mraise\u001b[39;00m \u001b[38;5;167;01mAssertionError\u001b[39;00m(\n\u001b[1;32m    444\u001b[0m         \u001b[38;5;124m\"\u001b[39m\u001b[38;5;124mAvicenna requires at least one failure-inducing input!\u001b[39m\u001b[38;5;124m\"\u001b[39m\n\u001b[1;32m    445\u001b[0m     )\n\u001b[1;32m    446\u001b[0m \u001b[38;5;28;01mreturn\u001b[39;00m test_inputs\n",
      "\u001b[0;31mAssertionError\u001b[0m: Avicenna requires at least one failure-inducing input!"
     ]
    }
   ],
   "source": [
    "avicenna = Avicenna(\n",
    "    grammar=middle_grammar,\n",
    "    initial_inputs=middle_inputs,\n",
    "    oracle=oracle_middle_sfl,\n",
    "    max_iterations=10,\n",
    "    #max_excluded_features=4, \n",
    ")"
   ]
  },
  {
   "cell_type": "code",
   "execution_count": 29,
   "id": "95b78629",
   "metadata": {},
   "outputs": [],
   "source": [
    "# import warnings\n",
    "# # Suppress the specific SHAP warning\n",
    "# warnings.filterwarnings(\n",
    "#     \"ignore\",\n",
    "#     message=\"LightGBM binary classifier with TreeExplainer shap values output has changed to a list of ndarray\",\n",
    "# )\n",
    "# warnings.filterwarnings(\n",
    "#     \"ignore\", \n",
    "#     message=\"No further splits with positive gain, best gain: -inf\"\n",
    "# )"
   ]
  },
  {
   "cell_type": "code",
   "execution_count": 30,
   "id": "1fb1d396",
   "metadata": {},
   "outputs": [
    {
     "name": "stdout",
     "output_type": "stream",
     "text": [
      "before finalize\n",
      "0.6758409785932722 0.921875\n"
     ]
    }
   ],
   "source": [
    "logging.basicConfig(filename='avicenna.log', filemode='w', encoding='utf-8', level=logging.INFO, force=True)\n",
    "# only 2 constraints used in the end why\n",
    "best_invariant = avicenna.explain() # unparse with islaunparse for further use\n"
   ]
  },
  {
   "cell_type": "code",
   "execution_count": 45,
   "id": "4c4300d1",
   "metadata": {},
   "outputs": [
    {
     "name": "stdout",
     "output_type": "stream",
     "text": [
      "(ConjunctiveFormula(ForallFormula(BoundVariable(\"elem_1\", \"<y>\"), Constant(\"start\", \"<start>\"), ExistsFormula(BoundVariable(\"elem_2\", \"<z>\"), Constant(\"start\", \"<start>\"), SMTFormula('(> (str.to_int elem_1) (str.to_int elem_2))', BoundVariable(\"elem_1\", \"<y>\"), BoundVariable(\"elem_2\", \"<z>\"), ))), ForallFormula(BoundVariable(\"elem\", \"<y>\"), Constant(\"start\", \"<start>\"), SMTFormula('(>= (str.to_int elem) (str.to_int \"9\"))', BoundVariable(\"elem\", \"<y>\"), ))), 0.6758409785932722, 0.921875)\n",
      "(∀ elem_1 ∈ start: (∃ elem_2 ∈ start: (StrToInt(elem_1) > StrToInt(elem_2))) ∧ ∀ elem ∈ start: (StrToInt(elem) >= StrToInt(\"9\")))\n"
     ]
    }
   ],
   "source": [
    "print(best_invariant)\n",
    "print(best_invariant[0])"
   ]
  },
  {
   "cell_type": "code",
   "execution_count": 32,
   "id": "effa0a08",
   "metadata": {},
   "outputs": [
    {
     "name": "stdout",
     "output_type": "stream",
     "text": [
      "31,16,4\n",
      "96,16,4\n",
      "254,16,4\n",
      "7,16,4\n",
      "8,16,4\n",
      "1,16,4\n",
      "5,16,4\n",
      "6,16,4\n",
      "34,16,4\n"
     ]
    }
   ],
   "source": [
    "solver = ISLaSolver(\n",
    "    grammar=middle_grammar,\n",
    "    formula=best_invariant[0],\n",
    "    enable_optimized_z3_queries=False,\n",
    ")\n",
    "\n",
    "# this isnt working rn why not raaaaaaaaaaaaaaaaaaaaaaa\n",
    "# should be inputs of type 2, 3, 1\n",
    "for _ in range(1,10):\n",
    "    print(solver.solve())\n"
   ]
  },
  {
   "cell_type": "code",
   "execution_count": 33,
   "id": "1270c1ba",
   "metadata": {},
   "outputs": [],
   "source": [
    "# call func for middle, converts string input to usable integer values\n",
    "\n",
    "def call_func_middle(inp: str):\n",
    "    \n",
    "    inp = inp.__str__()\n",
    "    \n",
    "    middle_input = inp.split(',')\n",
    "    converted_inp =  [int(middle_input[0]), int(middle_input[1]), int(middle_input[2])]\n",
    "    return converted_inp"
   ]
  },
  {
   "cell_type": "code",
   "execution_count": 34,
   "id": "d208b26e",
   "metadata": {},
   "outputs": [
    {
     "name": "stdout",
     "output_type": "stream",
     "text": [
      "True\n"
     ]
    }
   ],
   "source": [
    "test_path = Path('rsc/')\n",
    "print(Path.exists(test_path))\n"
   ]
  },
  {
   "cell_type": "code",
   "execution_count": 35,
   "id": "c6757172",
   "metadata": {},
   "outputs": [],
   "source": [
    "from avicenna.avix import *\n",
    "from avicenna.oracle_construction import * "
   ]
  },
  {
   "cell_type": "code",
   "execution_count": 36,
   "id": "39a153fb",
   "metadata": {},
   "outputs": [],
   "source": [
    "def middle_inp_conv(inp):\n",
    "    inp = inp.__str__()\n",
    "    middle_input = inp.split(',')\n",
    "    \n",
    "    converted_inp = [\n",
    "        int(middle_input[0]),\n",
    "        int(middle_input[1]),\n",
    "        int(middle_input[2])\n",
    "    ]\n",
    "    \n",
    "    return converted_inp"
   ]
  },
  {
   "cell_type": "code",
   "execution_count": 37,
   "id": "54b33f10",
   "metadata": {},
   "outputs": [],
   "source": [
    "import tmp\n",
    "importlib.reload(tmp)\n",
    "tmp.sflkitlib.lib.reset()\n",
    "avix_oracle = construct_oracle(program_under_test='middle',\n",
    "                            inp_converter=middle_inp_conv,\n",
    "                            timeout=10,\n",
    "                            line = 7,\n",
    "                            resource_path='rsc/',\n",
    "                            program_oracle= None)\n"
   ]
  },
  {
   "cell_type": "code",
   "execution_count": 38,
   "id": "4f018bf6",
   "metadata": {},
   "outputs": [
    {
     "data": {
      "text/plain": [
       "<OracleResult.FAILING: 'FAILING'>"
      ]
     },
     "execution_count": 38,
     "metadata": {},
     "output_type": "execute_result"
    }
   ],
   "source": [
    "avix_oracle('2,1,3')"
   ]
  },
  {
   "cell_type": "code",
   "execution_count": 39,
   "id": "11969097",
   "metadata": {},
   "outputs": [],
   "source": [
    "# # double check if this works\n",
    "\n",
    "# AviX.create_event_file(instrumented_function='middle',\n",
    "#                        #instr_path='tmp',\n",
    "#                        inp = '2,1,3',\n",
    "#                        conversion_func=middle_inp_conv,\n",
    "#                        event_path='rsc/event_file'\n",
    "#                        )"
   ]
  },
  {
   "cell_type": "code",
   "execution_count": 40,
   "id": "942d3017",
   "metadata": {},
   "outputs": [],
   "source": [
    "avix = AviX(grammar=middle_grammar,\n",
    "            initial_inputs=middle_inputs,\n",
    "            oracle=avix_oracle,\n",
    "            max_iterations=10,\n",
    "            desired_line=7,\n",
    "            put_path='middle.py',\n",
    "            #instr_path='instrumented.py',\n",
    "            min_precision = 0.7,)"
   ]
  },
  {
   "cell_type": "code",
   "execution_count": 41,
   "id": "e10773b9",
   "metadata": {},
   "outputs": [
    {
     "name": "stdout",
     "output_type": "stream",
     "text": [
      "before finalize\n",
      "0.6680672268907564 1.0\n"
     ]
    }
   ],
   "source": [
    "logging.basicConfig(filename='avicenna.log', filemode='w', encoding='utf-8', level=logging.INFO, force=True)\n",
    "invariants = avix.avixplain()"
   ]
  },
  {
   "cell_type": "code",
   "execution_count": 42,
   "id": "b57fad70",
   "metadata": {},
   "outputs": [
    {
     "name": "stdout",
     "output_type": "stream",
     "text": [
      "(∀ elem_1 ∈ start: (∃ elem_2 ∈ start: (StrToInt(elem_1) > StrToInt(elem_2))) ∧ ∀ elem ∈ start: (StrToInt(elem) <= StrToInt(\"73\")))\n",
      "0.6680672268907564\n",
      "1.0\n"
     ]
    }
   ],
   "source": [
    "solver = ISLaSolver(\n",
    "    grammar=middle_grammar,\n",
    "    formula=invariants[0],\n",
    "    enable_optimized_z3_queries=False,\n",
    ")\n",
    "#solver.solve()\n",
    "for invariant in invariants:\n",
    "    print(invariant)"
   ]
  },
  {
   "cell_type": "code",
   "execution_count": 43,
   "id": "9a44d30e",
   "metadata": {},
   "outputs": [
    {
     "name": "stdout",
     "output_type": "stream",
     "text": [
      "634,9,8142\n",
      "6,4,69\n",
      "4184,99,7\n",
      "3,7462,973\n",
      "513,2,168\n",
      "7,56,6\n",
      "7,5615,286638\n",
      "5,23,57\n",
      "854,6,9\n",
      "7,3,61\n"
     ]
    }
   ],
   "source": [
    "from fuzzingbook.GrammarFuzzer import GrammarFuzzer, DerivationTree\n",
    "\n",
    "middle_grammar_converted = {\n",
    "    \"<start>\": [\"<stmt>\"],\n",
    "    \"<stmt>\": [\"str.to.int(<x>),str.to.int(<y>),str.to.int(<z>)\"],\n",
    "    \"<x>\": [\"<integer>\"],\n",
    "    \"<y>\": [\"<integer>\"],\n",
    "    \"<z>\": [\"<integer>\"],\n",
    "    \"<integer>\": [\"<digit>\", \"<digit><integer>\"],\n",
    "    \"<digit>\": [str(num) for num in range(1, 10)]\n",
    "}\n",
    "\n",
    "fuzzer = GrammarFuzzer(middle_grammar)\n",
    "\n",
    "for i in range(10):\n",
    "    print(fuzzer.fuzz())"
   ]
  },
  {
   "cell_type": "code",
   "execution_count": 44,
   "id": "d0e238de",
   "metadata": {},
   "outputs": [
    {
     "name": "stdout",
     "output_type": "stream",
     "text": [
      "17,1,2\n",
      "43,1,2\n",
      "9,1,2\n",
      "8,1,2\n",
      "65,1,2\n",
      "211,1,2\n",
      "56,1,2\n",
      "74,1,2\n",
      "6,1,2\n"
     ]
    }
   ],
   "source": [
    "fuzzer_solver = ISLaSolver(grammar=middle_grammar,\n",
    "                           formula=invariants[0])\n",
    "\n",
    "for _ in range(1,10):\n",
    "    print(solver.solve())"
   ]
  },
  {
   "cell_type": "markdown",
   "id": "501b70f5-3276-45e8-9e48-7331964004d7",
   "metadata": {},
   "source": [
    "https://github.com/uds-se/sflkit\n",
    "\n",
    "<img src=\"qrcode.png\" style=\"width:500px\">"
   ]
  },
  {
   "cell_type": "markdown",
   "id": "d99da91b",
   "metadata": {},
   "source": []
  },
  {
   "cell_type": "markdown",
   "id": "a3e651cb",
   "metadata": {},
   "source": []
  }
 ],
 "metadata": {
  "kernelspec": {
   "display_name": "Python 3 (ipykernel)",
   "language": "python",
   "name": "python3"
  },
  "language_info": {
   "codemirror_mode": {
    "name": "ipython",
    "version": 3
   },
   "file_extension": ".py",
   "mimetype": "text/x-python",
   "name": "python",
   "nbconvert_exporter": "python",
   "pygments_lexer": "ipython3",
   "version": "3.10.13"
  }
 },
 "nbformat": 4,
 "nbformat_minor": 5
}
