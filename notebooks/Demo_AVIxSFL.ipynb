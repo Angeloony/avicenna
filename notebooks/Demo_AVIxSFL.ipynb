{
 "cells": [
  {
   "cell_type": "code",
   "execution_count": 1,
   "id": "e8333c71-28ed-44ba-8e4e-52a72f8f96e8",
   "metadata": {},
   "outputs": [],
   "source": [
    "import enum\n",
    "import importlib\n",
    "import inspect\n",
    "import os\n",
    "import shutil\n",
    "\n",
    "from typing import List\n",
    "from IPython.display import HTML\n",
    "from sflkit.analysis.spectra import Line\n",
    "\n",
    "from sflkit.analysis import analysis_type, factory\n",
    "from sflkit import *\n",
    "from sflkit.color import ColorCode\n",
    "from sflkit import instrument_config, analyze_config\n",
    "from sflkit.config import Config\n",
    "\n",
    "from avicenna import *"
   ]
  },
  {
   "cell_type": "markdown",
   "id": "7be07d73-70af-4d38-9bc9-2d2f027987f0",
   "metadata": {},
   "source": [
    "## A faulty Program"
   ]
  },
  {
   "cell_type": "markdown",
   "id": "742bbc76-5fd4-46a9-ac78-f132118ec072",
   "metadata": {},
   "source": [
    "First, we need a faulty program. We chose an implementation of the `middle(x, y, z)` function that returns the *middle* number of its three arguments. For example, `middle(1, 3, 2)` should return 2 because `1 < 2` and `2 < 3`. We introduced a fault in this implementation of `middle` that occurs in line 7 `m = y`. "
   ]
  },
  {
   "cell_type": "code",
   "execution_count": 2,
   "id": "97ceacc2-3d6f-4d8f-95b4-11d45e805760",
   "metadata": {},
   "outputs": [],
   "source": [
    "def middle(x, y, z):\n",
    "    m = z\n",
    "    if y < z:\n",
    "        if x < y:\n",
    "            m = y\n",
    "        elif x < z:\n",
    "            m = y \n",
    "    else:\n",
    "        if x > y:\n",
    "            m = y\n",
    "        elif x > z:\n",
    "            m = x # desired line\n",
    "    return m"
   ]
  },
  {
   "cell_type": "code",
   "execution_count": 3,
   "id": "f7e22f47",
   "metadata": {},
   "outputs": [],
   "source": [
    "import string\n",
    "import csv\n",
    "import logging\n",
    "\n",
    "from pathlib import Path\n",
    "#from avicenna import Avicenna\n",
    "from debugging_framework.input.oracle import OracleResult\n",
    "from isla.solver import ISLaSolver\n"
   ]
  },
  {
   "cell_type": "markdown",
   "id": "f1b30d0b",
   "metadata": {},
   "source": [
    "We can now go through our event-files folder and iterate through each file, representing a test case. The relevant test cases will be denoted by an OracleResult.BUG for now. We can use this behavior-triggering input as our input for a run of Avicenna to find the constraints leading to this behavior."
   ]
  },
  {
   "cell_type": "markdown",
   "id": "c45a7f56",
   "metadata": {},
   "source": [
    "The oracle used in this run of Avicenna will be the oracle checking against line-event calls. This requires us to run sflkit using Avicenna's new hypotheses after every run. \n",
    "\n",
    "- TODO : update Avicenna and fix up prototype for it \n",
    "- TODO : implement prototype functionality using SFLKit and Avicenna 0.2 "
   ]
  },
  {
   "cell_type": "markdown",
   "id": "62d2fbf2",
   "metadata": {},
   "source": [
    "#### Testing inputs for regular middle bug. "
   ]
  },
  {
   "cell_type": "code",
   "execution_count": 4,
   "id": "6635a037",
   "metadata": {},
   "outputs": [],
   "source": [
    "middle_grammar = {\n",
    "    \"<start>\": [\"<stmt>\"],\n",
    "    \"<stmt>\": [\"<x>,<y>,<z>\"],\n",
    "    \"<x>\": [\"<integer>\"],\n",
    "    \"<y>\": [\"<integer>\"],\n",
    "    \"<z>\": [\"<integer>\"],\n",
    "    \"<integer>\": [\"<digit>\", \"<digit><integer>\"],\n",
    "    \"<digit>\": [str(num) for num in range(1, 10)]\n",
    "}\n",
    "\n",
    "\n",
    "middle_grammar_converted = {\n",
    "    \"<start>\": [\"<stmt>\"],\n",
    "    \"<stmt>\": [\"str.to.int(<x>),str.to.int(<y>),str.to.int(<z>)\"],\n",
    "    \"<x>\": [\"<integer>\"],\n",
    "    \"<y>\": [\"<integer>\"],\n",
    "    \"<z>\": [\"<integer>\"],\n",
    "    \"<integer>\": [\"<digit>\", \"<digit><integer>\"],\n",
    "    \"<digit>\": [str(num) for num in range(1, 10)]\n",
    "}"
   ]
  },
  {
   "cell_type": "code",
   "execution_count": 5,
   "id": "09cb633c",
   "metadata": {},
   "outputs": [],
   "source": [
    "middle_inputs = ['2,3,1', '3,1,2', '2,1,3']"
   ]
  },
  {
   "cell_type": "code",
   "execution_count": 7,
   "id": "5adee8c4",
   "metadata": {},
   "outputs": [],
   "source": [
    "middle_py = 'middle.py'\n",
    "tmp_py = 'tmp.py'\n",
    "language='python'\n",
    "predicates='line'\n",
    "metrics='Tarantula'\n",
    "#passing='event-files/0,event-files/1'\n",
    "failing='event-files/2'\n",
    "def get_config():\n",
    "    return Config.create(path=middle_py,\n",
    "                         working=tmp_py,\n",
    "                         language=language,\n",
    "                         predicates=predicates,\n",
    "                         metrics=metrics,\n",
    "                         failing=failing)\n",
    "def instrument(out=True):\n",
    "    instrument_config(get_config())\n",
    "    if out:\n",
    "        with open(tmp_py, 'r') as fp:\n",
    "            print(fp.read())"
   ]
  },
  {
   "cell_type": "code",
   "execution_count": 8,
   "id": "8667ab66",
   "metadata": {},
   "outputs": [
    {
     "name": "stderr",
     "output_type": "stream",
     "text": [
      "sflkit :: INFO     :: I found 11 events in middle.py.\n",
      "sflkit :: INFO     :: I found 11 events in middle.py.\n"
     ]
    },
    {
     "name": "stdout",
     "output_type": "stream",
     "text": [
      "import sflkitlib.lib\n",
      "\n",
      "def middle(x, y, z):\n",
      "    sflkitlib.lib.add_line_event(0)\n",
      "    m = z\n",
      "    sflkitlib.lib.add_line_event(1)\n",
      "    if y < z:\n",
      "        sflkitlib.lib.add_line_event(2)\n",
      "        if x < y:\n",
      "            sflkitlib.lib.add_line_event(3)\n",
      "            m = y\n",
      "        else:\n",
      "            sflkitlib.lib.add_line_event(4)\n",
      "            if x < z:\n",
      "                sflkitlib.lib.add_line_event(5)\n",
      "                m = y\n",
      "    else:\n",
      "        sflkitlib.lib.add_line_event(6)\n",
      "        if x > y:\n",
      "            sflkitlib.lib.add_line_event(7)\n",
      "            m = y\n",
      "        else:\n",
      "            sflkitlib.lib.add_line_event(8)\n",
      "            if x > z:\n",
      "                sflkitlib.lib.add_line_event(9)\n",
      "                m = x\n",
      "    sflkitlib.lib.add_line_event(10)\n",
      "    return m\n"
     ]
    }
   ],
   "source": [
    "instrument()"
   ]
  },
  {
   "cell_type": "code",
   "execution_count": 9,
   "id": "f4f3bee1",
   "metadata": {},
   "outputs": [],
   "source": [
    "def analyzer_conf(conf: Config, factory):\n",
    "    analyzer = Analyzer(irrelevant_event_files=conf.failing, \n",
    "                        relevant_event_files=conf.passing,\n",
    "                        factory=factory)\n",
    "    return analyzer"
   ]
  },
  {
   "cell_type": "code",
   "execution_count": 10,
   "id": "4b07897a",
   "metadata": {},
   "outputs": [
    {
     "data": {
      "text/plain": [
       "LINE"
      ]
     },
     "execution_count": 10,
     "metadata": {},
     "output_type": "execute_result"
    }
   ],
   "source": [
    "factory = factory.LineFactory()\n",
    "line_event = analysis_type.AnalysisType(0)\n",
    "line_event"
   ]
  },
  {
   "cell_type": "code",
   "execution_count": 11,
   "id": "d1e4df3e",
   "metadata": {},
   "outputs": [],
   "source": [
    "analyzer = analyzer_conf(get_config(), factory=factory)"
   ]
  },
  {
   "cell_type": "code",
   "execution_count": 12,
   "id": "eecbf218",
   "metadata": {},
   "outputs": [],
   "source": [
    "analyzer.analyze()"
   ]
  },
  {
   "cell_type": "code",
   "execution_count": 13,
   "id": "d743121d",
   "metadata": {},
   "outputs": [
    {
     "name": "stdout",
     "output_type": "stream",
     "text": [
      "{2, 3, 9, 10, 13}\n"
     ]
    }
   ],
   "source": [
    "coverage: List[Line] = analyzer.get_coverage()\n",
    "coverage = {line.line for line in coverage}\n",
    "print(coverage)"
   ]
  },
  {
   "cell_type": "code",
   "execution_count": 14,
   "id": "190c5287",
   "metadata": {},
   "outputs": [],
   "source": [
    "def middle_inp_conv(inp):\n",
    "    inp = inp.__str__()\n",
    "    middle_input = inp.split(',')\n",
    "    \n",
    "    converted_inp = [\n",
    "        int(middle_input[0]),\n",
    "        int(middle_input[1]),\n",
    "        int(middle_input[2])\n",
    "    ]\n",
    "    \n",
    "    return converted_inp"
   ]
  },
  {
   "cell_type": "code",
   "execution_count": 15,
   "id": "025672c0",
   "metadata": {},
   "outputs": [],
   "source": [
    "from avicenna.avix import *\n",
    "from avicenna.oracle_construction import * \n",
    "avix_oracle = construct_oracle(\n",
    "                            program_under_test='middle',\n",
    "                            inp_converter=middle_inp_conv,\n",
    "                            timeout=10,\n",
    "                            line = 7,\n",
    "                            resource_path='rsc/',\n",
    "                            program_oracle= None,\n",
    "                            )\n"
   ]
  },
  {
   "cell_type": "code",
   "execution_count": 16,
   "id": "668dc3dc",
   "metadata": {},
   "outputs": [
    {
     "data": {
      "text/plain": [
       "<OracleResult.FAILING: 'FAILING'>"
      ]
     },
     "execution_count": 16,
     "metadata": {},
     "output_type": "execute_result"
    }
   ],
   "source": [
    "avix_oracle('2,1,3')"
   ]
  },
  {
   "cell_type": "code",
   "execution_count": 17,
   "id": "548623aa",
   "metadata": {},
   "outputs": [],
   "source": [
    "def middle_oracle(x, y, z):\n",
    "    # convert inputs\n",
    "    \n",
    "    sorted_inputs = [x, y, z]\n",
    "    sorted_inputs.sort()\n",
    "    return sorted_inputs[1]"
   ]
  },
  {
   "cell_type": "code",
   "execution_count": 18,
   "id": "e5131eff",
   "metadata": {},
   "outputs": [],
   "source": [
    "regular_oracle = construct_oracle(\n",
    "                            program_under_test=middle,\n",
    "                            timeout=10,\n",
    "                            program_oracle=middle_oracle,\n",
    "                            default_oracle_result=OracleResult.PASSING)\n",
    "\n"
   ]
  },
  {
   "cell_type": "code",
   "execution_count": 19,
   "id": "fca10362",
   "metadata": {},
   "outputs": [
    {
     "data": {
      "text/plain": [
       "['2,3,1', '3,1,2', '2,1,3']"
      ]
     },
     "execution_count": 19,
     "metadata": {},
     "output_type": "execute_result"
    }
   ],
   "source": [
    "param = list(map(int, str('2,1,3').strip().split(',')))\n",
    "middle_inputs"
   ]
  },
  {
   "cell_type": "code",
   "execution_count": 20,
   "id": "64704837",
   "metadata": {},
   "outputs": [
    {
     "data": {
      "text/plain": [
       "<OracleResult.PASSING: 'PASSING'>"
      ]
     },
     "execution_count": 20,
     "metadata": {},
     "output_type": "execute_result"
    }
   ],
   "source": [
    "regular_oracle('3,1,2')\n"
   ]
  },
  {
   "cell_type": "code",
   "execution_count": 21,
   "id": "1b0fef36",
   "metadata": {},
   "outputs": [],
   "source": [
    "avicenna = Avicenna(\n",
    "    grammar=middle_grammar,\n",
    "    initial_inputs=middle_inputs,\n",
    "    oracle=avix_oracle,\n",
    "    max_iterations=10,\n",
    "    top_n_relevant_features=3,\n",
    "    max_conjunction_size=6,\n",
    ")"
   ]
  },
  {
   "cell_type": "code",
   "execution_count": 22,
   "id": "5465c93e",
   "metadata": {},
   "outputs": [],
   "source": [
    "avicenna2 = Avicenna(\n",
    "    grammar=middle_grammar,\n",
    "    initial_inputs=middle_inputs,\n",
    "    oracle=regular_oracle,\n",
    "    max_iterations=10,\n",
    "    top_n_relevant_features=3, \n",
    ")"
   ]
  },
  {
   "cell_type": "code",
   "execution_count": 23,
   "id": "95b78629",
   "metadata": {},
   "outputs": [],
   "source": [
    "import warnings\n",
    "# Suppress the specific SHAP warning\n",
    "warnings.filterwarnings(\n",
    "    \"ignore\",\n",
    "    message=\"LightGBM binary classifier with TreeExplainer shap values output has changed to a list of ndarray\",\n",
    ")\n",
    "warnings.filterwarnings(\n",
    "    \"ignore\", \n",
    "    message=\"No further splits with positive gain, best gain: -inf\"\n",
    ")"
   ]
  },
  {
   "cell_type": "code",
   "execution_count": 24,
   "id": "1fb1d396",
   "metadata": {},
   "outputs": [
    {
     "ename": "KeyboardInterrupt",
     "evalue": "",
     "output_type": "error",
     "traceback": [
      "\u001b[0;31m---------------------------------------------------------------------------\u001b[0m",
      "\u001b[0;31mKeyboardInterrupt\u001b[0m                         Traceback (most recent call last)",
      "Cell \u001b[0;32mIn[24], line 3\u001b[0m\n\u001b[1;32m      1\u001b[0m logging\u001b[38;5;241m.\u001b[39mbasicConfig(filename\u001b[38;5;241m=\u001b[39m\u001b[38;5;124m'\u001b[39m\u001b[38;5;124mavix.log\u001b[39m\u001b[38;5;124m'\u001b[39m, filemode\u001b[38;5;241m=\u001b[39m\u001b[38;5;124m'\u001b[39m\u001b[38;5;124mw\u001b[39m\u001b[38;5;124m'\u001b[39m, encoding\u001b[38;5;241m=\u001b[39m\u001b[38;5;124m'\u001b[39m\u001b[38;5;124mutf-8\u001b[39m\u001b[38;5;124m'\u001b[39m, level\u001b[38;5;241m=\u001b[39mlogging\u001b[38;5;241m.\u001b[39mINFO, force\u001b[38;5;241m=\u001b[39m\u001b[38;5;28;01mTrue\u001b[39;00m)\n\u001b[1;32m      2\u001b[0m \u001b[38;5;66;03m# only 2 constraints used in the end why\u001b[39;00m\n\u001b[0;32m----> 3\u001b[0m best_invariant \u001b[38;5;241m=\u001b[39m \u001b[43mavicenna\u001b[49m\u001b[38;5;241;43m.\u001b[39;49m\u001b[43mexplain\u001b[49m\u001b[43m(\u001b[49m\u001b[43m)\u001b[49m \u001b[38;5;66;03m# unparse with islaunparse for further use\u001b[39;00m\n",
      "File \u001b[0;32m~/ba/avicenna/src/avicenna/avicenna.py:253\u001b[0m, in \u001b[0;36mAvicenna.explain\u001b[0;34m(self)\u001b[0m\n\u001b[1;32m    250\u001b[0m             LOGGER\u001b[38;5;241m.\u001b[39minfo(\u001b[38;5;124m\"\u001b[39m\u001b[38;5;124mTIMEOUT\u001b[39m\u001b[38;5;124m\"\u001b[39m)\n\u001b[1;32m    251\u001b[0m             \u001b[38;5;28;01mraise\u001b[39;00m \u001b[38;5;167;01mTimeoutError\u001b[39;00m(\u001b[38;5;28mself\u001b[39m\u001b[38;5;241m.\u001b[39mtimeout_seconds)\n\u001b[0;32m--> 253\u001b[0m     new_inputs \u001b[38;5;241m=\u001b[39m \u001b[38;5;28;43mself\u001b[39;49m\u001b[38;5;241;43m.\u001b[39;49m\u001b[43m_loop\u001b[49m\u001b[43m(\u001b[49m\u001b[43mnew_inputs\u001b[49m\u001b[43m)\u001b[49m\n\u001b[1;32m    255\u001b[0m \u001b[38;5;28;01mreturn\u001b[39;00m \u001b[38;5;28mself\u001b[39m\u001b[38;5;241m.\u001b[39mfinalize()\n",
      "File \u001b[0;32m~/ba/avicenna/src/avicenna/avicenna.py:305\u001b[0m, in \u001b[0;36mAvicenna._loop\u001b[0;34m(self, test_inputs)\u001b[0m\n\u001b[1;32m    302\u001b[0m exclusion_non_terminals \u001b[38;5;241m=\u001b[39m \u001b[38;5;28mself\u001b[39m\u001b[38;5;241m.\u001b[39mlearn_relevant_features()\n\u001b[1;32m    303\u001b[0m \u001b[38;5;66;03m#print(\"printing test inputs\")\u001b[39;00m\n\u001b[1;32m    304\u001b[0m \u001b[38;5;66;03m#print(test_inputs)\u001b[39;00m\n\u001b[0;32m--> 305\u001b[0m new_candidates \u001b[38;5;241m=\u001b[39m \u001b[38;5;28;43mself\u001b[39;49m\u001b[38;5;241;43m.\u001b[39;49m\u001b[43mpattern_learner\u001b[49m\u001b[38;5;241;43m.\u001b[39;49m\u001b[43mlearn_failure_invariants\u001b[49m\u001b[43m(\u001b[49m\n\u001b[1;32m    306\u001b[0m \u001b[43m    \u001b[49m\u001b[43mtest_inputs\u001b[49m\u001b[43m,\u001b[49m\n\u001b[1;32m    307\u001b[0m \u001b[43m    \u001b[49m\u001b[38;5;28;43mself\u001b[39;49m\u001b[38;5;241;43m.\u001b[39;49m\u001b[43mprecision_truth_table\u001b[49m\u001b[43m,\u001b[49m\n\u001b[1;32m    308\u001b[0m \u001b[43m    \u001b[49m\u001b[38;5;28;43mself\u001b[39;49m\u001b[38;5;241;43m.\u001b[39;49m\u001b[43mrecall_truth_table\u001b[49m\u001b[43m,\u001b[49m\n\u001b[1;32m    309\u001b[0m \u001b[43m    \u001b[49m\u001b[43mexclusion_non_terminals\u001b[49m\u001b[43m,\u001b[49m\n\u001b[1;32m    310\u001b[0m \u001b[43m\u001b[49m\u001b[43m)\u001b[49m\n\u001b[1;32m    311\u001b[0m \u001b[38;5;66;03m#print(self.precision_truth_table)\u001b[39;00m\n\u001b[1;32m    313\u001b[0m new_candidates \u001b[38;5;241m=\u001b[39m \u001b[38;5;28mset\u001b[39m([x[\u001b[38;5;241m0\u001b[39m] \u001b[38;5;28;01mfor\u001b[39;00m x \u001b[38;5;129;01min\u001b[39;00m new_candidates[:\u001b[38;5;241m20\u001b[39m]])\n",
      "File \u001b[0;32m~/ba/avicenna/src/avicenna/pattern_learner.py:257\u001b[0m, in \u001b[0;36mAviIslearn.learn_failure_invariants\u001b[0;34m(self, test_inputs, precision_truth_table, recall_truth_table, exclude_nonterminals)\u001b[0m\n\u001b[1;32m    255\u001b[0m \u001b[38;5;28mself\u001b[39m\u001b[38;5;241m.\u001b[39mupdate_inputs(positive_inputs, negative_inputs)\n\u001b[1;32m    256\u001b[0m \u001b[38;5;28mself\u001b[39m\u001b[38;5;241m.\u001b[39mexclude_nonterminals \u001b[38;5;241m=\u001b[39m exclude_nonterminals \u001b[38;5;129;01mor\u001b[39;00m \u001b[38;5;28mset\u001b[39m()\n\u001b[0;32m--> 257\u001b[0m \u001b[38;5;28;01mreturn\u001b[39;00m \u001b[38;5;28;43mself\u001b[39;49m\u001b[38;5;241;43m.\u001b[39;49m\u001b[43m_learn_invariants\u001b[49m\u001b[43m(\u001b[49m\n\u001b[1;32m    258\u001b[0m \u001b[43m    \u001b[49m\u001b[43mpositive_inputs\u001b[49m\u001b[43m,\u001b[49m\u001b[43m \u001b[49m\u001b[43mnegative_inputs\u001b[49m\u001b[43m,\u001b[49m\u001b[43m \u001b[49m\u001b[43mprecision_truth_table\u001b[49m\u001b[43m,\u001b[49m\u001b[43m \u001b[49m\u001b[43mrecall_truth_table\u001b[49m\n\u001b[1;32m    259\u001b[0m \u001b[43m\u001b[49m\u001b[43m)\u001b[49m\n",
      "File \u001b[0;32m~/ba/avicenna/src/avicenna/pattern_learner.py:285\u001b[0m, in \u001b[0;36mAviIslearn._learn_invariants\u001b[0;34m(self, positive_inputs, negative_inputs, precision_truth_table, recall_truth_table)\u001b[0m\n\u001b[1;32m    282\u001b[0m sorted_positive_inputs \u001b[38;5;241m=\u001b[39m \u001b[38;5;28mself\u001b[39m\u001b[38;5;241m.\u001b[39msort_and_filter_inputs(\u001b[38;5;28mself\u001b[39m\u001b[38;5;241m.\u001b[39mall_positive_inputs)\n\u001b[1;32m    283\u001b[0m candidates \u001b[38;5;241m=\u001b[39m \u001b[38;5;28mself\u001b[39m\u001b[38;5;241m.\u001b[39mget_candidates(sorted_positive_inputs)\n\u001b[0;32m--> 285\u001b[0m \u001b[38;5;28;43mself\u001b[39;49m\u001b[38;5;241;43m.\u001b[39;49m\u001b[43mevaluate_recall\u001b[49m\u001b[43m(\u001b[49m\u001b[43mcandidates\u001b[49m\u001b[43m,\u001b[49m\u001b[43m \u001b[49m\u001b[43mrecall_truth_table\u001b[49m\u001b[43m,\u001b[49m\u001b[43m \u001b[49m\u001b[43mpositive_inputs\u001b[49m\u001b[43m)\u001b[49m\n\u001b[1;32m    286\u001b[0m \u001b[38;5;28mself\u001b[39m\u001b[38;5;241m.\u001b[39mfilter_candidates(precision_truth_table, recall_truth_table)\n\u001b[1;32m    287\u001b[0m \u001b[38;5;28mself\u001b[39m\u001b[38;5;241m.\u001b[39mevaluate_precision(\n\u001b[1;32m    288\u001b[0m     precision_truth_table, recall_truth_table, negative_inputs\n\u001b[1;32m    289\u001b[0m )\n",
      "File \u001b[0;32m~/ba/avicenna/src/avicenna/pattern_learner.py:346\u001b[0m, in \u001b[0;36mAviIslearn.evaluate_recall\u001b[0;34m(self, candidates, recall_truth_table, positive_inputs)\u001b[0m\n\u001b[1;32m    344\u001b[0m \u001b[38;5;28;01melse\u001b[39;00m:\n\u001b[1;32m    345\u001b[0m     new_row \u001b[38;5;241m=\u001b[39m AvicennaTruthTableRow(candidate)\n\u001b[0;32m--> 346\u001b[0m     \u001b[43mnew_row\u001b[49m\u001b[38;5;241;43m.\u001b[39;49m\u001b[43mevaluate\u001b[49m\u001b[43m(\u001b[49m\u001b[38;5;28;43mself\u001b[39;49m\u001b[38;5;241;43m.\u001b[39;49m\u001b[43mall_positive_inputs\u001b[49m\u001b[43m,\u001b[49m\u001b[43m \u001b[49m\u001b[38;5;28;43mself\u001b[39;49m\u001b[38;5;241;43m.\u001b[39;49m\u001b[43mgraph\u001b[49m\u001b[43m)\u001b[49m\n\u001b[1;32m    347\u001b[0m     recall_truth_table\u001b[38;5;241m.\u001b[39mappend(new_row)\n",
      "File \u001b[0;32m~/ba/avicenna/src/avicenna/pattern_learner.py:50\u001b[0m, in \u001b[0;36mAvicennaTruthTableRow.evaluate\u001b[0;34m(self, test_inputs, graph)\u001b[0m\n\u001b[1;32m     47\u001b[0m new_inputs \u001b[38;5;241m=\u001b[39m test_inputs \u001b[38;5;241m-\u001b[39m \u001b[38;5;28mself\u001b[39m\u001b[38;5;241m.\u001b[39minputs\n\u001b[1;32m     49\u001b[0m \u001b[38;5;28;01mfor\u001b[39;00m inp \u001b[38;5;129;01min\u001b[39;00m new_inputs:\n\u001b[0;32m---> 50\u001b[0m     eval_result \u001b[38;5;241m=\u001b[39m \u001b[43mevaluate\u001b[49m\u001b[43m(\u001b[49m\n\u001b[1;32m     51\u001b[0m \u001b[43m        \u001b[49m\u001b[38;5;28;43mself\u001b[39;49m\u001b[38;5;241;43m.\u001b[39;49m\u001b[43mformula\u001b[49m\u001b[43m,\u001b[49m\u001b[43m \u001b[49m\u001b[43minp\u001b[49m\u001b[38;5;241;43m.\u001b[39;49m\u001b[43mtree\u001b[49m\u001b[43m,\u001b[49m\u001b[43m \u001b[49m\u001b[43mgraph\u001b[49m\u001b[38;5;241;43m.\u001b[39;49m\u001b[43mgrammar\u001b[49m\u001b[43m,\u001b[49m\u001b[43m \u001b[49m\u001b[43mgraph\u001b[49m\u001b[38;5;241;43m=\u001b[39;49m\u001b[43mgraph\u001b[49m\n\u001b[1;32m     52\u001b[0m \u001b[43m    \u001b[49m\u001b[43m)\u001b[49m\u001b[38;5;241m.\u001b[39mis_true()\n\u001b[1;32m     53\u001b[0m     \u001b[38;5;28mself\u001b[39m\u001b[38;5;241m.\u001b[39mupdate_eval_results_and_combination(eval_result, inp)\n\u001b[1;32m     55\u001b[0m \u001b[38;5;28mself\u001b[39m\u001b[38;5;241m.\u001b[39minputs\u001b[38;5;241m.\u001b[39mupdate(new_inputs)\n",
      "File \u001b[0;32m~/.pyenv/versions/3.10.14/lib/python3.10/site-packages/isla/evaluator.py:144\u001b[0m, in \u001b[0;36mevaluate\u001b[0;34m(formula, reference_tree, grammar, structural_predicates, semantic_predicates, assumptions, subtrees_trie, graph)\u001b[0m\n\u001b[1;32m    131\u001b[0m \u001b[38;5;66;03m# NOTE: Deactivated, might be too strict for evaluation (though maybe\u001b[39;00m\n\u001b[1;32m    132\u001b[0m \u001b[38;5;66;03m#       necessary for solving). See comment in well_formed.\u001b[39;00m\n\u001b[1;32m    133\u001b[0m \u001b[38;5;66;03m# if assertions_activated():\u001b[39;00m\n\u001b[1;32m    134\u001b[0m \u001b[38;5;66;03m#     res, msg = well_formed(formula, grammar)\u001b[39;00m\n\u001b[1;32m    135\u001b[0m \u001b[38;5;66;03m#     assert res, msg\u001b[39;00m\n\u001b[1;32m    137\u001b[0m \u001b[38;5;28;01mif\u001b[39;00m \u001b[38;5;129;01mnot\u001b[39;00m assumptions \u001b[38;5;129;01mand\u001b[39;00m \u001b[38;5;129;01mnot\u001b[39;00m FilterVisitor(\n\u001b[1;32m    138\u001b[0m     \u001b[38;5;28;01mlambda\u001b[39;00m f: \u001b[38;5;28misinstance\u001b[39m(f, NumericQuantifiedFormula)\n\u001b[1;32m    139\u001b[0m )\u001b[38;5;241m.\u001b[39mcollect(formula):\n\u001b[0;32m   (...)\u001b[0m\n\u001b[1;32m    142\u001b[0m     \u001b[38;5;66;03m# assumptions, but the implemented method works and we would rather not invest\u001b[39;00m\n\u001b[1;32m    143\u001b[0m     \u001b[38;5;66;03m# that work to gain some seconds of performance.\u001b[39;00m\n\u001b[0;32m--> 144\u001b[0m     \u001b[38;5;28;01mreturn\u001b[39;00m \u001b[43mevaluate_legacy\u001b[49m\u001b[43m(\u001b[49m\n\u001b[1;32m    145\u001b[0m \u001b[43m        \u001b[49m\u001b[43mformula\u001b[49m\u001b[43m,\u001b[49m\u001b[43m \u001b[49m\u001b[43mgrammar\u001b[49m\u001b[43m,\u001b[49m\u001b[43m \u001b[49m\u001b[43m{\u001b[49m\u001b[43m}\u001b[49m\u001b[43m,\u001b[49m\u001b[43m \u001b[49m\u001b[43mreference_tree\u001b[49m\u001b[43m,\u001b[49m\u001b[43m \u001b[49m\u001b[43mtrie\u001b[49m\u001b[38;5;241;43m=\u001b[39;49m\u001b[43msubtrees_trie\u001b[49m\u001b[43m,\u001b[49m\u001b[43m \u001b[49m\u001b[43mgraph\u001b[49m\u001b[38;5;241;43m=\u001b[39;49m\u001b[43mgraph\u001b[49m\n\u001b[1;32m    146\u001b[0m \u001b[43m    \u001b[49m\u001b[43m)\u001b[49m\n\u001b[1;32m    148\u001b[0m qfr_free: Formula \u001b[38;5;241m=\u001b[39m eliminate_quantifiers(\n\u001b[1;32m    149\u001b[0m     formula,\n\u001b[1;32m    150\u001b[0m     grammar\u001b[38;5;241m=\u001b[39mgrammar,\n\u001b[0;32m   (...)\u001b[0m\n\u001b[1;32m    156\u001b[0m     },\n\u001b[1;32m    157\u001b[0m )\n\u001b[1;32m    159\u001b[0m \u001b[38;5;66;03m# Substitute assumptions\u001b[39;00m\n\u001b[1;32m    160\u001b[0m \n\u001b[1;32m    161\u001b[0m \u001b[38;5;66;03m# First, eliminate quantifiers in assumptions. We don't supply any numeric constants\u001b[39;00m\n\u001b[1;32m    162\u001b[0m \u001b[38;5;66;03m# here, as this would be unsound in assumptions: We know that the core holds for any\u001b[39;00m\n\u001b[1;32m    163\u001b[0m \u001b[38;5;66;03m# int, but not for which one.\u001b[39;00m\n",
      "File \u001b[0;32m~/.pyenv/versions/3.10.14/lib/python3.10/site-packages/isla/evaluator.py:643\u001b[0m, in \u001b[0;36mevaluate_legacy\u001b[0;34m(formula, grammar, assignments, reference_tree, trie, graph)\u001b[0m\n\u001b[1;32m    636\u001b[0m \u001b[38;5;28;01mdef\u001b[39;00m \u001b[38;5;21mraise_not_implemented_error\u001b[39m(\n\u001b[1;32m    637\u001b[0m     f: Formula,\n\u001b[1;32m    638\u001b[0m ) \u001b[38;5;241m-\u001b[39m\u001b[38;5;241m>\u001b[39m Maybe[ThreeValuedTruth]:\n\u001b[1;32m    639\u001b[0m     \u001b[38;5;28;01mraise\u001b[39;00m \u001b[38;5;167;01mNotImplementedError\u001b[39;00m(\n\u001b[1;32m    640\u001b[0m         \u001b[38;5;124mf\u001b[39m\u001b[38;5;124m\"\u001b[39m\u001b[38;5;124mDon\u001b[39m\u001b[38;5;124m'\u001b[39m\u001b[38;5;124mt know how to evaluate the formula \u001b[39m\u001b[38;5;132;01m{\u001b[39;00munparse_isla(f)\u001b[38;5;132;01m}\u001b[39;00m\u001b[38;5;124m\"\u001b[39m\n\u001b[1;32m    641\u001b[0m     )\n\u001b[0;32m--> 643\u001b[0m \u001b[38;5;28;01mreturn\u001b[39;00m \u001b[43mflow\u001b[49m\u001b[43m(\u001b[49m\n\u001b[1;32m    644\u001b[0m \u001b[43m    \u001b[49m\u001b[43mNothing\u001b[49m\u001b[43m,\u001b[49m\n\u001b[1;32m    645\u001b[0m \u001b[43m    \u001b[49m\u001b[38;5;241;43m*\u001b[39;49m\u001b[38;5;28;43mmap\u001b[39;49m\u001b[43m(\u001b[49m\n\u001b[1;32m    646\u001b[0m \u001b[43m        \u001b[49m\u001b[43mcompose\u001b[49m\u001b[43m(\u001b[49m\n\u001b[1;32m    647\u001b[0m \u001b[43m            \u001b[49m\u001b[38;5;28;43;01mlambda\u001b[39;49;00m\u001b[43m \u001b[49m\u001b[43mf\u001b[49m\u001b[43m:\u001b[49m\u001b[43m \u001b[49m\u001b[43m(\u001b[49m\n\u001b[1;32m    648\u001b[0m \u001b[43m                \u001b[49m\u001b[38;5;28;43;01mlambda\u001b[39;49;00m\u001b[43m \u001b[49m\u001b[43m_\u001b[49m\u001b[43m:\u001b[49m\u001b[43m \u001b[49m\u001b[43mf\u001b[49m\u001b[43m(\u001b[49m\n\u001b[1;32m    649\u001b[0m \u001b[43m                    \u001b[49m\u001b[43mformula\u001b[49m\u001b[43m,\u001b[49m\u001b[43m \u001b[49m\u001b[43massignments\u001b[49m\u001b[43m,\u001b[49m\u001b[43m \u001b[49m\u001b[43mreference_tree\u001b[49m\u001b[43m,\u001b[49m\u001b[43m \u001b[49m\u001b[43mgraph\u001b[49m\u001b[43m,\u001b[49m\u001b[43m \u001b[49m\u001b[43mgrammar\u001b[49m\u001b[43m,\u001b[49m\u001b[43m \u001b[49m\u001b[43mtrie\u001b[49m\n\u001b[1;32m    650\u001b[0m \u001b[43m                \u001b[49m\u001b[43m)\u001b[49m\n\u001b[1;32m    651\u001b[0m \u001b[43m            \u001b[49m\u001b[43m)\u001b[49m\u001b[43m,\u001b[49m\n\u001b[1;32m    652\u001b[0m \u001b[43m            \u001b[49m\u001b[43mlash\u001b[49m\u001b[43m,\u001b[49m\n\u001b[1;32m    653\u001b[0m \u001b[43m        \u001b[49m\u001b[43m)\u001b[49m\u001b[43m,\u001b[49m\n\u001b[1;32m    654\u001b[0m \u001b[43m        \u001b[49m\u001b[43m[\u001b[49m\n\u001b[1;32m    655\u001b[0m \u001b[43m            \u001b[49m\u001b[43mevaluate_exists_int_formula\u001b[49m\u001b[43m,\u001b[49m\n\u001b[1;32m    656\u001b[0m \u001b[43m            \u001b[49m\u001b[43mevaluate_smt_formula\u001b[49m\u001b[43m,\u001b[49m\n\u001b[1;32m    657\u001b[0m \u001b[43m            \u001b[49m\u001b[43mevaluate_quantified_formula\u001b[49m\u001b[43m,\u001b[49m\n\u001b[1;32m    658\u001b[0m \u001b[43m            \u001b[49m\u001b[43mevaluate_structural_predicate_formula\u001b[49m\u001b[43m,\u001b[49m\n\u001b[1;32m    659\u001b[0m \u001b[43m            \u001b[49m\u001b[43mevaluate_semantic_predicate_formula\u001b[49m\u001b[43m,\u001b[49m\n\u001b[1;32m    660\u001b[0m \u001b[43m            \u001b[49m\u001b[43mevaluate_negated_formula_formula\u001b[49m\u001b[43m,\u001b[49m\n\u001b[1;32m    661\u001b[0m \u001b[43m            \u001b[49m\u001b[43mevaluate_conjunctive_formula_formula\u001b[49m\u001b[43m,\u001b[49m\n\u001b[1;32m    662\u001b[0m \u001b[43m            \u001b[49m\u001b[43mevaluate_disjunctive_formula\u001b[49m\u001b[43m,\u001b[49m\n\u001b[1;32m    663\u001b[0m \u001b[43m            \u001b[49m\u001b[43mraise_not_implemented_error\u001b[49m\u001b[43m,\u001b[49m\n\u001b[1;32m    664\u001b[0m \u001b[43m        \u001b[49m\u001b[43m]\u001b[49m\u001b[43m,\u001b[49m\n\u001b[1;32m    665\u001b[0m \u001b[43m    \u001b[49m\u001b[43m)\u001b[49m\u001b[43m,\u001b[49m\n\u001b[1;32m    666\u001b[0m \u001b[43m\u001b[49m\u001b[43m)\u001b[49m\u001b[38;5;241m.\u001b[39munwrap()\n",
      "File \u001b[0;32m~/.pyenv/versions/3.10.14/lib/python3.10/site-packages/returns/_internal/pipeline/flow.py:50\u001b[0m, in \u001b[0;36mflow\u001b[0;34m(instance, *functions)\u001b[0m\n\u001b[1;32m      9\u001b[0m \u001b[38;5;28;01mdef\u001b[39;00m \u001b[38;5;21mflow\u001b[39m(\n\u001b[1;32m     10\u001b[0m     instance: _InstanceType,\n\u001b[1;32m     11\u001b[0m     \u001b[38;5;241m*\u001b[39mfunctions: _PipelineStepType,\n\u001b[1;32m     12\u001b[0m ) \u001b[38;5;241m-\u001b[39m\u001b[38;5;241m>\u001b[39m _ReturnType:  \u001b[38;5;66;03m# type: ignore[type-var]\u001b[39;00m\n\u001b[1;32m     13\u001b[0m \u001b[38;5;250m    \u001b[39m\u001b[38;5;124;03m\"\"\"\u001b[39;00m\n\u001b[1;32m     14\u001b[0m \u001b[38;5;124;03m    Allows to compose a value and up to multiple functions that use this value.\u001b[39;00m\n\u001b[1;32m     15\u001b[0m \n\u001b[0;32m   (...)\u001b[0m\n\u001b[1;32m     48\u001b[0m \u001b[38;5;124;03m    Requires our :ref:`mypy plugin <mypy-plugins>`.\u001b[39;00m\n\u001b[1;32m     49\u001b[0m \u001b[38;5;124;03m    \"\"\"\u001b[39;00m\n\u001b[0;32m---> 50\u001b[0m     \u001b[38;5;28;01mreturn\u001b[39;00m \u001b[43mreduce\u001b[49m\u001b[43m(\u001b[49m\u001b[43m  \u001b[49m\u001b[38;5;66;43;03m# type: ignore\u001b[39;49;00m\n\u001b[1;32m     51\u001b[0m \u001b[43m        \u001b[49m\u001b[38;5;28;43;01mlambda\u001b[39;49;00m\u001b[43m \u001b[49m\u001b[43mcomposed\u001b[49m\u001b[43m,\u001b[49m\u001b[43m \u001b[49m\u001b[43mfunction\u001b[49m\u001b[43m:\u001b[49m\u001b[43m \u001b[49m\u001b[43mfunction\u001b[49m\u001b[43m(\u001b[49m\u001b[43mcomposed\u001b[49m\u001b[43m)\u001b[49m\u001b[43m,\u001b[49m\u001b[43m  \u001b[49m\u001b[38;5;66;43;03m# type: ignore\u001b[39;49;00m\n\u001b[1;32m     52\u001b[0m \u001b[43m        \u001b[49m\u001b[43mfunctions\u001b[49m\u001b[43m,\u001b[49m\n\u001b[1;32m     53\u001b[0m \u001b[43m        \u001b[49m\u001b[43minstance\u001b[49m\u001b[43m,\u001b[49m\n\u001b[1;32m     54\u001b[0m \u001b[43m    \u001b[49m\u001b[43m)\u001b[49m\n",
      "File \u001b[0;32m~/.pyenv/versions/3.10.14/lib/python3.10/site-packages/returns/_internal/pipeline/flow.py:51\u001b[0m, in \u001b[0;36mflow.<locals>.<lambda>\u001b[0;34m(composed, function)\u001b[0m\n\u001b[1;32m      9\u001b[0m \u001b[38;5;28;01mdef\u001b[39;00m \u001b[38;5;21mflow\u001b[39m(\n\u001b[1;32m     10\u001b[0m     instance: _InstanceType,\n\u001b[1;32m     11\u001b[0m     \u001b[38;5;241m*\u001b[39mfunctions: _PipelineStepType,\n\u001b[1;32m     12\u001b[0m ) \u001b[38;5;241m-\u001b[39m\u001b[38;5;241m>\u001b[39m _ReturnType:  \u001b[38;5;66;03m# type: ignore[type-var]\u001b[39;00m\n\u001b[1;32m     13\u001b[0m \u001b[38;5;250m    \u001b[39m\u001b[38;5;124;03m\"\"\"\u001b[39;00m\n\u001b[1;32m     14\u001b[0m \u001b[38;5;124;03m    Allows to compose a value and up to multiple functions that use this value.\u001b[39;00m\n\u001b[1;32m     15\u001b[0m \n\u001b[0;32m   (...)\u001b[0m\n\u001b[1;32m     48\u001b[0m \u001b[38;5;124;03m    Requires our :ref:`mypy plugin <mypy-plugins>`.\u001b[39;00m\n\u001b[1;32m     49\u001b[0m \u001b[38;5;124;03m    \"\"\"\u001b[39;00m\n\u001b[1;32m     50\u001b[0m     \u001b[38;5;28;01mreturn\u001b[39;00m reduce(  \u001b[38;5;66;03m# type: ignore\u001b[39;00m\n\u001b[0;32m---> 51\u001b[0m         \u001b[38;5;28;01mlambda\u001b[39;00m composed, function: \u001b[43mfunction\u001b[49m\u001b[43m(\u001b[49m\u001b[43mcomposed\u001b[49m\u001b[43m)\u001b[49m,  \u001b[38;5;66;03m# type: ignore\u001b[39;00m\n\u001b[1;32m     52\u001b[0m         functions,\n\u001b[1;32m     53\u001b[0m         instance,\n\u001b[1;32m     54\u001b[0m     )\n",
      "File \u001b[0;32m~/.pyenv/versions/3.10.14/lib/python3.10/site-packages/returns/pointfree/lash.py:55\u001b[0m, in \u001b[0;36mlash.<locals>.factory\u001b[0;34m(container)\u001b[0m\n\u001b[1;32m     51\u001b[0m \u001b[38;5;129m@kinded\u001b[39m\n\u001b[1;32m     52\u001b[0m \u001b[38;5;28;01mdef\u001b[39;00m \u001b[38;5;21mfactory\u001b[39m(\n\u001b[1;32m     53\u001b[0m     container: KindN[_LashableKind, _FirstType, _SecondType, _ThirdType],\n\u001b[1;32m     54\u001b[0m ) \u001b[38;5;241m-\u001b[39m\u001b[38;5;241m>\u001b[39m KindN[_LashableKind, _FirstType, _UpdatedType, _ThirdType]:\n\u001b[0;32m---> 55\u001b[0m     \u001b[38;5;28;01mreturn\u001b[39;00m \u001b[43mcontainer\u001b[49m\u001b[38;5;241;43m.\u001b[39;49m\u001b[43mlash\u001b[49m\u001b[43m(\u001b[49m\u001b[43mfunction\u001b[49m\u001b[43m)\u001b[49m\n",
      "File \u001b[0;32m~/.pyenv/versions/3.10.14/lib/python3.10/site-packages/returns/maybe.py:380\u001b[0m, in \u001b[0;36m_Nothing.lash\u001b[0;34m(self, function)\u001b[0m\n\u001b[1;32m    378\u001b[0m \u001b[38;5;28;01mdef\u001b[39;00m \u001b[38;5;21mlash\u001b[39m(\u001b[38;5;28mself\u001b[39m, function):\n\u001b[1;32m    379\u001b[0m \u001b[38;5;250m    \u001b[39m\u001b[38;5;124;03m\"\"\"Composes this container with a function returning container.\"\"\"\u001b[39;00m\n\u001b[0;32m--> 380\u001b[0m     \u001b[38;5;28;01mreturn\u001b[39;00m \u001b[43mfunction\u001b[49m\u001b[43m(\u001b[49m\u001b[38;5;28;43;01mNone\u001b[39;49;00m\u001b[43m)\u001b[49m\n",
      "File \u001b[0;32m~/.pyenv/versions/3.10.14/lib/python3.10/site-packages/isla/evaluator.py:648\u001b[0m, in \u001b[0;36mevaluate_legacy.<locals>.<lambda>.<locals>.<lambda>\u001b[0;34m(_)\u001b[0m\n\u001b[1;32m    636\u001b[0m \u001b[38;5;28;01mdef\u001b[39;00m \u001b[38;5;21mraise_not_implemented_error\u001b[39m(\n\u001b[1;32m    637\u001b[0m     f: Formula,\n\u001b[1;32m    638\u001b[0m ) \u001b[38;5;241m-\u001b[39m\u001b[38;5;241m>\u001b[39m Maybe[ThreeValuedTruth]:\n\u001b[1;32m    639\u001b[0m     \u001b[38;5;28;01mraise\u001b[39;00m \u001b[38;5;167;01mNotImplementedError\u001b[39;00m(\n\u001b[1;32m    640\u001b[0m         \u001b[38;5;124mf\u001b[39m\u001b[38;5;124m\"\u001b[39m\u001b[38;5;124mDon\u001b[39m\u001b[38;5;124m'\u001b[39m\u001b[38;5;124mt know how to evaluate the formula \u001b[39m\u001b[38;5;132;01m{\u001b[39;00munparse_isla(f)\u001b[38;5;132;01m}\u001b[39;00m\u001b[38;5;124m\"\u001b[39m\n\u001b[1;32m    641\u001b[0m     )\n\u001b[1;32m    643\u001b[0m \u001b[38;5;28;01mreturn\u001b[39;00m flow(\n\u001b[1;32m    644\u001b[0m     Nothing,\n\u001b[1;32m    645\u001b[0m     \u001b[38;5;241m*\u001b[39m\u001b[38;5;28mmap\u001b[39m(\n\u001b[1;32m    646\u001b[0m         compose(\n\u001b[1;32m    647\u001b[0m             \u001b[38;5;28;01mlambda\u001b[39;00m f: (\n\u001b[0;32m--> 648\u001b[0m                 \u001b[38;5;28;01mlambda\u001b[39;00m _: \u001b[43mf\u001b[49m\u001b[43m(\u001b[49m\n\u001b[1;32m    649\u001b[0m \u001b[43m                    \u001b[49m\u001b[43mformula\u001b[49m\u001b[43m,\u001b[49m\u001b[43m \u001b[49m\u001b[43massignments\u001b[49m\u001b[43m,\u001b[49m\u001b[43m \u001b[49m\u001b[43mreference_tree\u001b[49m\u001b[43m,\u001b[49m\u001b[43m \u001b[49m\u001b[43mgraph\u001b[49m\u001b[43m,\u001b[49m\u001b[43m \u001b[49m\u001b[43mgrammar\u001b[49m\u001b[43m,\u001b[49m\u001b[43m \u001b[49m\u001b[43mtrie\u001b[49m\n\u001b[1;32m    650\u001b[0m \u001b[43m                \u001b[49m\u001b[43m)\u001b[49m\n\u001b[1;32m    651\u001b[0m             ),\n\u001b[1;32m    652\u001b[0m             lash,\n\u001b[1;32m    653\u001b[0m         ),\n\u001b[1;32m    654\u001b[0m         [\n\u001b[1;32m    655\u001b[0m             evaluate_exists_int_formula,\n\u001b[1;32m    656\u001b[0m             evaluate_smt_formula,\n\u001b[1;32m    657\u001b[0m             evaluate_quantified_formula,\n\u001b[1;32m    658\u001b[0m             evaluate_structural_predicate_formula,\n\u001b[1;32m    659\u001b[0m             evaluate_semantic_predicate_formula,\n\u001b[1;32m    660\u001b[0m             evaluate_negated_formula_formula,\n\u001b[1;32m    661\u001b[0m             evaluate_conjunctive_formula_formula,\n\u001b[1;32m    662\u001b[0m             evaluate_disjunctive_formula,\n\u001b[1;32m    663\u001b[0m             raise_not_implemented_error,\n\u001b[1;32m    664\u001b[0m         ],\n\u001b[1;32m    665\u001b[0m     ),\n\u001b[1;32m    666\u001b[0m )\u001b[38;5;241m.\u001b[39munwrap()\n",
      "File \u001b[0;32m~/.pyenv/versions/3.10.14/lib/python3.10/site-packages/isla/evaluator.py:799\u001b[0m, in \u001b[0;36mevaluate_quantified_formula\u001b[0;34m(formula, assignments, reference_tree, graph, grammar, trie)\u001b[0m\n\u001b[1;32m    785\u001b[0m     new_assignments \u001b[38;5;241m=\u001b[39m [\n\u001b[1;32m    786\u001b[0m         {\n\u001b[1;32m    787\u001b[0m             var: (in_path \u001b[38;5;241m+\u001b[39m path, tree)\n\u001b[0;32m   (...)\u001b[0m\n\u001b[1;32m    792\u001b[0m         )\n\u001b[1;32m    793\u001b[0m     ]\n\u001b[1;32m    795\u001b[0m new_assignments \u001b[38;5;241m=\u001b[39m [\n\u001b[1;32m    796\u001b[0m     new_assignment \u001b[38;5;241m|\u001b[39m assignments \u001b[38;5;28;01mfor\u001b[39;00m new_assignment \u001b[38;5;129;01min\u001b[39;00m new_assignments\n\u001b[1;32m    797\u001b[0m ]\n\u001b[0;32m--> 799\u001b[0m \u001b[38;5;28;01massert\u001b[39;00m \u001b[38;5;28;43mall\u001b[39;49m\u001b[43m(\u001b[49m\n\u001b[1;32m    800\u001b[0m \u001b[43m    \u001b[49m\u001b[43mreference_tree\u001b[49m\u001b[38;5;241;43m.\u001b[39;49m\u001b[43mis_valid_path\u001b[49m\u001b[43m(\u001b[49m\u001b[43mpath\u001b[49m\u001b[43m)\u001b[49m\n\u001b[1;32m    801\u001b[0m \u001b[43m    \u001b[49m\u001b[38;5;129;43;01mand\u001b[39;49;00m\u001b[43m \u001b[49m\u001b[43mreference_tree\u001b[49m\u001b[38;5;241;43m.\u001b[39;49m\u001b[43mfind_node\u001b[49m\u001b[43m(\u001b[49m\u001b[43mtree\u001b[49m\u001b[43m)\u001b[49m\u001b[43m \u001b[49m\u001b[38;5;129;43;01mis\u001b[39;49;00m\u001b[43m \u001b[49m\u001b[38;5;129;43;01mnot\u001b[39;49;00m\u001b[43m \u001b[49m\u001b[38;5;28;43;01mNone\u001b[39;49;00m\n\u001b[1;32m    802\u001b[0m \u001b[43m    \u001b[49m\u001b[38;5;129;43;01mand\u001b[39;49;00m\u001b[43m \u001b[49m\u001b[43mreference_tree\u001b[49m\u001b[38;5;241;43m.\u001b[39;49m\u001b[43mget_subtree\u001b[49m\u001b[43m(\u001b[49m\u001b[43mpath\u001b[49m\u001b[43m)\u001b[49m\u001b[43m \u001b[49m\u001b[38;5;241;43m==\u001b[39;49m\u001b[43m \u001b[49m\u001b[43mtree\u001b[49m\n\u001b[1;32m    803\u001b[0m \u001b[43m    \u001b[49m\u001b[38;5;28;43;01mfor\u001b[39;49;00m\u001b[43m \u001b[49m\u001b[43massignment\u001b[49m\u001b[43m \u001b[49m\u001b[38;5;129;43;01min\u001b[39;49;00m\u001b[43m \u001b[49m\u001b[43mnew_assignments\u001b[49m\n\u001b[1;32m    804\u001b[0m \u001b[43m    \u001b[49m\u001b[38;5;28;43;01mfor\u001b[39;49;00m\u001b[43m \u001b[49m\u001b[43mpath\u001b[49m\u001b[43m,\u001b[49m\u001b[43m \u001b[49m\u001b[43mtree\u001b[49m\u001b[43m \u001b[49m\u001b[38;5;129;43;01min\u001b[39;49;00m\u001b[43m \u001b[49m\u001b[43massignment\u001b[49m\u001b[38;5;241;43m.\u001b[39;49m\u001b[43mvalues\u001b[49m\u001b[43m(\u001b[49m\u001b[43m)\u001b[49m\n\u001b[1;32m    805\u001b[0m \u001b[43m\u001b[49m\u001b[43m)\u001b[49m\n\u001b[1;32m    807\u001b[0m \u001b[38;5;66;03m# If the reference tree contains open leaves, we have to check whether those\u001b[39;00m\n\u001b[1;32m    808\u001b[0m \u001b[38;5;66;03m# might eventually match the quantifier. In the case of a universal quantifier,\u001b[39;00m\n\u001b[1;32m    809\u001b[0m \u001b[38;5;66;03m# this results in an \"unknown\" verdict in any case; in the case of an existential\u001b[39;00m\n\u001b[1;32m    810\u001b[0m \u001b[38;5;66;03m# quantifier, it results in \"unknown\" only if no instantiation matches the\u001b[39;00m\n\u001b[1;32m    811\u001b[0m \u001b[38;5;66;03m# quantifier.\u001b[39;00m\n\u001b[1;32m    813\u001b[0m has_potential_matches \u001b[38;5;241m=\u001b[39m \u001b[38;5;28many\u001b[39m(\n\u001b[1;32m    814\u001b[0m     quantified_formula_might_match(\n\u001b[1;32m    815\u001b[0m         (\n\u001b[0;32m   (...)\u001b[0m\n\u001b[1;32m    825\u001b[0m     \u001b[38;5;28;01mfor\u001b[39;00m path_to_nonterminal, _ \u001b[38;5;129;01min\u001b[39;00m reference_tree\u001b[38;5;241m.\u001b[39mopen_leaves()\n\u001b[1;32m    826\u001b[0m )\n",
      "File \u001b[0;32m~/.pyenv/versions/3.10.14/lib/python3.10/site-packages/isla/evaluator.py:801\u001b[0m, in \u001b[0;36m<genexpr>\u001b[0;34m(.0)\u001b[0m\n\u001b[1;32m    785\u001b[0m     new_assignments \u001b[38;5;241m=\u001b[39m [\n\u001b[1;32m    786\u001b[0m         {\n\u001b[1;32m    787\u001b[0m             var: (in_path \u001b[38;5;241m+\u001b[39m path, tree)\n\u001b[0;32m   (...)\u001b[0m\n\u001b[1;32m    792\u001b[0m         )\n\u001b[1;32m    793\u001b[0m     ]\n\u001b[1;32m    795\u001b[0m new_assignments \u001b[38;5;241m=\u001b[39m [\n\u001b[1;32m    796\u001b[0m     new_assignment \u001b[38;5;241m|\u001b[39m assignments \u001b[38;5;28;01mfor\u001b[39;00m new_assignment \u001b[38;5;129;01min\u001b[39;00m new_assignments\n\u001b[1;32m    797\u001b[0m ]\n\u001b[1;32m    799\u001b[0m \u001b[38;5;28;01massert\u001b[39;00m \u001b[38;5;28mall\u001b[39m(\n\u001b[1;32m    800\u001b[0m     reference_tree\u001b[38;5;241m.\u001b[39mis_valid_path(path)\n\u001b[0;32m--> 801\u001b[0m     \u001b[38;5;129;01mand\u001b[39;00m \u001b[43mreference_tree\u001b[49m\u001b[38;5;241;43m.\u001b[39;49m\u001b[43mfind_node\u001b[49m\u001b[43m(\u001b[49m\u001b[43mtree\u001b[49m\u001b[43m)\u001b[49m \u001b[38;5;129;01mis\u001b[39;00m \u001b[38;5;129;01mnot\u001b[39;00m \u001b[38;5;28;01mNone\u001b[39;00m\n\u001b[1;32m    802\u001b[0m     \u001b[38;5;129;01mand\u001b[39;00m reference_tree\u001b[38;5;241m.\u001b[39mget_subtree(path) \u001b[38;5;241m==\u001b[39m tree\n\u001b[1;32m    803\u001b[0m     \u001b[38;5;28;01mfor\u001b[39;00m assignment \u001b[38;5;129;01min\u001b[39;00m new_assignments\n\u001b[1;32m    804\u001b[0m     \u001b[38;5;28;01mfor\u001b[39;00m path, tree \u001b[38;5;129;01min\u001b[39;00m assignment\u001b[38;5;241m.\u001b[39mvalues()\n\u001b[1;32m    805\u001b[0m )\n\u001b[1;32m    807\u001b[0m \u001b[38;5;66;03m# If the reference tree contains open leaves, we have to check whether those\u001b[39;00m\n\u001b[1;32m    808\u001b[0m \u001b[38;5;66;03m# might eventually match the quantifier. In the case of a universal quantifier,\u001b[39;00m\n\u001b[1;32m    809\u001b[0m \u001b[38;5;66;03m# this results in an \"unknown\" verdict in any case; in the case of an existential\u001b[39;00m\n\u001b[1;32m    810\u001b[0m \u001b[38;5;66;03m# quantifier, it results in \"unknown\" only if no instantiation matches the\u001b[39;00m\n\u001b[1;32m    811\u001b[0m \u001b[38;5;66;03m# quantifier.\u001b[39;00m\n\u001b[1;32m    813\u001b[0m has_potential_matches \u001b[38;5;241m=\u001b[39m \u001b[38;5;28many\u001b[39m(\n\u001b[1;32m    814\u001b[0m     quantified_formula_might_match(\n\u001b[1;32m    815\u001b[0m         (\n\u001b[0;32m   (...)\u001b[0m\n\u001b[1;32m    825\u001b[0m     \u001b[38;5;28;01mfor\u001b[39;00m path_to_nonterminal, _ \u001b[38;5;129;01min\u001b[39;00m reference_tree\u001b[38;5;241m.\u001b[39mopen_leaves()\n\u001b[1;32m    826\u001b[0m )\n",
      "File \u001b[0;32m~/.pyenv/versions/3.10.14/lib/python3.10/site-packages/isla/derivation_tree.py:331\u001b[0m, in \u001b[0;36mDerivationTree.find_node\u001b[0;34m(self, node_or_id)\u001b[0m\n\u001b[1;32m    327\u001b[0m \u001b[38;5;28;01mif\u001b[39;00m \u001b[38;5;28misinstance\u001b[39m(node_or_id, DerivationTree):\n\u001b[1;32m    328\u001b[0m     node_or_id \u001b[38;5;241m=\u001b[39m node_or_id\u001b[38;5;241m.\u001b[39mid\n\u001b[1;32m    330\u001b[0m \u001b[38;5;28;01mreturn\u001b[39;00m \u001b[38;5;28mnext\u001b[39m(\n\u001b[0;32m--> 331\u001b[0m     (path \u001b[38;5;28;01mfor\u001b[39;00m path, subtree \u001b[38;5;129;01min\u001b[39;00m \u001b[38;5;28;43mself\u001b[39;49m\u001b[38;5;241;43m.\u001b[39;49m\u001b[43mpaths\u001b[49m\u001b[43m(\u001b[49m\u001b[43m)\u001b[49m \u001b[38;5;28;01mif\u001b[39;00m subtree\u001b[38;5;241m.\u001b[39mid \u001b[38;5;241m==\u001b[39m node_or_id), \u001b[38;5;28;01mNone\u001b[39;00m\n\u001b[1;32m    332\u001b[0m )\n",
      "File \u001b[0;32m~/.pyenv/versions/3.10.14/lib/python3.10/site-packages/isla/derivation_tree.py:820\u001b[0m, in \u001b[0;36mDerivationTree.__eq__\u001b[0;34m(self, other)\u001b[0m\n\u001b[1;32m    815\u001b[0m \u001b[38;5;28;01mwhile\u001b[39;00m stack:\n\u001b[1;32m    816\u001b[0m     t1, t2 \u001b[38;5;241m=\u001b[39m stack\u001b[38;5;241m.\u001b[39mpop()\n\u001b[1;32m    817\u001b[0m     \u001b[38;5;28;01mif\u001b[39;00m (\n\u001b[1;32m    818\u001b[0m         \u001b[38;5;129;01mnot\u001b[39;00m \u001b[38;5;28misinstance\u001b[39m(t2, DerivationTree)\n\u001b[1;32m    819\u001b[0m         \u001b[38;5;129;01mor\u001b[39;00m t1\u001b[38;5;241m.\u001b[39mvalue \u001b[38;5;241m!=\u001b[39m t2\u001b[38;5;241m.\u001b[39mvalue\n\u001b[0;32m--> 820\u001b[0m         \u001b[38;5;129;01mor\u001b[39;00m \u001b[43mt1\u001b[49m\u001b[38;5;241;43m.\u001b[39;49m\u001b[43mid\u001b[49m \u001b[38;5;241m!=\u001b[39m t2\u001b[38;5;241m.\u001b[39mid\n\u001b[1;32m    821\u001b[0m         \u001b[38;5;129;01mor\u001b[39;00m (t1\u001b[38;5;241m.\u001b[39mchildren \u001b[38;5;129;01mis\u001b[39;00m \u001b[38;5;28;01mNone\u001b[39;00m \u001b[38;5;129;01mand\u001b[39;00m t2\u001b[38;5;241m.\u001b[39mchildren \u001b[38;5;129;01mis\u001b[39;00m \u001b[38;5;129;01mnot\u001b[39;00m \u001b[38;5;28;01mNone\u001b[39;00m)\n\u001b[1;32m    822\u001b[0m         \u001b[38;5;129;01mor\u001b[39;00m (t2\u001b[38;5;241m.\u001b[39mchildren \u001b[38;5;129;01mis\u001b[39;00m \u001b[38;5;28;01mNone\u001b[39;00m \u001b[38;5;129;01mand\u001b[39;00m t1\u001b[38;5;241m.\u001b[39mchildren \u001b[38;5;129;01mis\u001b[39;00m \u001b[38;5;129;01mnot\u001b[39;00m \u001b[38;5;28;01mNone\u001b[39;00m)\n\u001b[1;32m    823\u001b[0m         \u001b[38;5;129;01mor\u001b[39;00m \u001b[38;5;28mlen\u001b[39m(t1\u001b[38;5;241m.\u001b[39mchildren \u001b[38;5;129;01mor\u001b[39;00m []) \u001b[38;5;241m!=\u001b[39m \u001b[38;5;28mlen\u001b[39m(t2\u001b[38;5;241m.\u001b[39mchildren \u001b[38;5;129;01mor\u001b[39;00m [])\n\u001b[1;32m    824\u001b[0m     ):\n\u001b[1;32m    825\u001b[0m         \u001b[38;5;28;01mreturn\u001b[39;00m \u001b[38;5;28;01mFalse\u001b[39;00m\n\u001b[1;32m    827\u001b[0m     \u001b[38;5;28;01mif\u001b[39;00m t1\u001b[38;5;241m.\u001b[39mchildren:\n",
      "File \u001b[0;32m~/.pyenv/versions/3.10.14/lib/python3.10/site-packages/isla/derivation_tree.py:151\u001b[0m, in \u001b[0;36mDerivationTree.id\u001b[0;34m(self)\u001b[0m\n\u001b[1;32m    147\u001b[0m \u001b[38;5;129m@property\u001b[39m\n\u001b[1;32m    148\u001b[0m \u001b[38;5;28;01mdef\u001b[39;00m \u001b[38;5;21mvalue\u001b[39m(\u001b[38;5;28mself\u001b[39m) \u001b[38;5;241m-\u001b[39m\u001b[38;5;241m>\u001b[39m \u001b[38;5;28mstr\u001b[39m:\n\u001b[1;32m    149\u001b[0m     \u001b[38;5;28;01mreturn\u001b[39;00m \u001b[38;5;28mself\u001b[39m\u001b[38;5;241m.\u001b[39m__value\n\u001b[0;32m--> 151\u001b[0m \u001b[38;5;129m@property\u001b[39m\n\u001b[1;32m    152\u001b[0m \u001b[38;5;28;01mdef\u001b[39;00m \u001b[38;5;21mid\u001b[39m(\u001b[38;5;28mself\u001b[39m) \u001b[38;5;241m-\u001b[39m\u001b[38;5;241m>\u001b[39m \u001b[38;5;28mint\u001b[39m:\n\u001b[1;32m    153\u001b[0m     \u001b[38;5;28;01mreturn\u001b[39;00m \u001b[38;5;28mself\u001b[39m\u001b[38;5;241m.\u001b[39m_id\n\u001b[1;32m    155\u001b[0m \u001b[38;5;129m@id\u001b[39m\u001b[38;5;241m.\u001b[39msetter\n\u001b[1;32m    156\u001b[0m \u001b[38;5;28;01mdef\u001b[39;00m \u001b[38;5;21mid\u001b[39m(\u001b[38;5;28mself\u001b[39m, value: \u001b[38;5;28mint\u001b[39m):\n",
      "\u001b[0;31mKeyboardInterrupt\u001b[0m: "
     ]
    }
   ],
   "source": [
    "logging.basicConfig(filename='avix.log', filemode='w', encoding='utf-8', level=logging.INFO, force=True)\n",
    "# only 2 constraints used in the end why\n",
    "best_invariant = avicenna.explain() # unparse with islaunparse for further use\n"
   ]
  },
  {
   "cell_type": "code",
   "execution_count": null,
   "id": "18c1892f",
   "metadata": {},
   "outputs": [],
   "source": [
    "logging.basicConfig(filename='avicenna.log', filemode='w', encoding='utf-8', level=logging.INFO, force=True)\n",
    "#another_invariant = avicenna2.explain() # unparse with islaunparse for further use"
   ]
  },
  {
   "cell_type": "code",
   "execution_count": null,
   "id": "370d134f",
   "metadata": {},
   "outputs": [],
   "source": [
    "#print(another_invariant)"
   ]
  },
  {
   "cell_type": "code",
   "execution_count": null,
   "id": "4c4300d1",
   "metadata": {},
   "outputs": [
    {
     "name": "stdout",
     "output_type": "stream",
     "text": [
      "(ConjunctiveFormula(ForallFormula(BoundVariable(\"elem_1\", \"<z>\"), Constant(\"start\", \"<start>\"), ExistsFormula(BoundVariable(\"elem_2\", \"<x>\"), Constant(\"start\", \"<start>\"), SMTFormula('(> (str.to_int elem_1) (str.to_int elem_2))', BoundVariable(\"elem_1\", \"<z>\"), BoundVariable(\"elem_2\", \"<x>\"), ))), ForallFormula(BoundVariable(\"elem_0\", \"<x>\"), Constant(\"start\", \"<start>\"), ExistsFormula(BoundVariable(\"elem_3\", \"<y>\"), Constant(\"start\", \"<start>\"), SMTFormula('(>= (str.to_int elem_0) (str.to_int elem_3))', BoundVariable(\"elem_0\", \"<x>\"), BoundVariable(\"elem_3\", \"<y>\"), )))), 1.0, 1.0)\n",
      "1.0\n"
     ]
    }
   ],
   "source": [
    "print(best_invariant)\n",
    "print(best_invariant[1])"
   ]
  },
  {
   "cell_type": "code",
   "execution_count": null,
   "id": "186549fa",
   "metadata": {},
   "outputs": [
    {
     "name": "stdout",
     "output_type": "stream",
     "text": [
      "stop\n"
     ]
    }
   ],
   "source": [
    "# solver1 = ISLaSolver(\n",
    "#     grammar=middle_grammar,\n",
    "#     formula=another_invariant[0],\n",
    "#     enable_optimized_z3_queries=False,\n",
    "# )\n",
    "\n",
    "solver2 = ISLaSolver(\n",
    "    grammar=middle_grammar,\n",
    "    formula=best_invariant[0],\n",
    "    enable_optimized_z3_queries=False,\n",
    ")\n",
    "\n",
    "results1 = []\n",
    "results2 = []\n",
    "\n",
    "# # print(best_invariant[0])\n",
    "# # print(another_invariant[0])\n",
    "# for _ in range(1,10):\n",
    "#     results1.append(solver1.solve())\n",
    "    \n",
    "print(\"stop\")\n",
    "#    avix_oracle()\n",
    "for _ in range(1,10):\n",
    "    results2.append(solver2.solve())"
   ]
  },
  {
   "cell_type": "code",
   "execution_count": null,
   "id": "3aed1e73",
   "metadata": {},
   "outputs": [],
   "source": [
    "for input in results1:\n",
    "    if avix_oracle(input) == OracleResult.FAILING:\n",
    "        print(input)\n",
    "        print(avix_oracle(input))"
   ]
  },
  {
   "cell_type": "code",
   "execution_count": null,
   "id": "188ad42d",
   "metadata": {},
   "outputs": [
    {
     "name": "stdout",
     "output_type": "stream",
     "text": [
      "2,2,4\n",
      "FAILING\n",
      "2,1,4\n",
      "FAILING\n",
      "4,4,8\n",
      "FAILING\n",
      "4,2,8\n",
      "FAILING\n",
      "4,3,8\n",
      "FAILING\n",
      "4,1,8\n",
      "FAILING\n",
      "1,1,8\n",
      "FAILING\n",
      "8,4,9\n",
      "FAILING\n",
      "8,2,9\n",
      "FAILING\n",
      "2,2,4\n",
      "2,1,4\n",
      "4,4,8\n",
      "4,2,8\n",
      "4,3,8\n",
      "4,1,8\n",
      "1,1,8\n",
      "8,4,9\n",
      "8,2,9\n"
     ]
    }
   ],
   "source": [
    "for input in results2:\n",
    "    if avix_oracle(input) == OracleResult.FAILING:\n",
    "        print(input)\n",
    "        print(avix_oracle(input))\n",
    "for input in results2:\n",
    "    print(input)"
   ]
  },
  {
   "cell_type": "code",
   "execution_count": null,
   "id": "effa0a08",
   "metadata": {},
   "outputs": [
    {
     "name": "stdout",
     "output_type": "stream",
     "text": [
      "1,1,8\n",
      "8,2,9\n",
      "8,1,9\n",
      "8,8,9\n",
      "8,6,9\n",
      "8,4,9\n",
      "8,5,9\n",
      "8,3,9\n",
      "8,7,9\n"
     ]
    }
   ],
   "source": [
    "solver = ISLaSolver(\n",
    "    grammar=middle_grammar,\n",
    "    formula=best_invariant[0],\n",
    "    enable_optimized_z3_queries=False,\n",
    ")\n",
    "\n",
    "# this isnt working rn why not raaaaaaaaaaaaaaaaaaaaaaa\n",
    "# should be inputs of type 2, 3, 1\n",
    "for _ in range(1,10):\n",
    "    print(solver.solve())\n"
   ]
  },
  {
   "cell_type": "code",
   "execution_count": null,
   "id": "1270c1ba",
   "metadata": {},
   "outputs": [],
   "source": [
    "# call func for middle, converts string input to usable integer values\n",
    "\n",
    "def call_func_middle(inp: str):\n",
    "    \n",
    "    inp = inp.__str__()\n",
    "    \n",
    "    middle_input = inp.split(',')\n",
    "    converted_inp =  [int(middle_input[0]), int(middle_input[1]), int(middle_input[2])]\n",
    "    return converted_inp"
   ]
  },
  {
   "cell_type": "code",
   "execution_count": null,
   "id": "d208b26e",
   "metadata": {},
   "outputs": [
    {
     "name": "stdout",
     "output_type": "stream",
     "text": [
      "True\n"
     ]
    }
   ],
   "source": [
    "test_path = Path('rsc/')\n",
    "print(Path.exists(test_path))\n"
   ]
  },
  {
   "cell_type": "code",
   "execution_count": null,
   "id": "c6757172",
   "metadata": {},
   "outputs": [],
   "source": [
    "from avicenna.avix import *\n",
    "from avicenna.oracle_construction import * "
   ]
  },
  {
   "cell_type": "code",
   "execution_count": null,
   "id": "39a153fb",
   "metadata": {},
   "outputs": [],
   "source": [
    "def middle_inp_conv(inp):\n",
    "    inp = inp.__str__()\n",
    "    middle_input = inp.split(',')\n",
    "    \n",
    "    converted_inp = [\n",
    "        int(middle_input[0]),\n",
    "        int(middle_input[1]),\n",
    "        int(middle_input[2])\n",
    "    ]\n",
    "    \n",
    "    return converted_inp"
   ]
  },
  {
   "cell_type": "code",
   "execution_count": null,
   "id": "54b33f10",
   "metadata": {},
   "outputs": [],
   "source": [
    "import tmp\n",
    "importlib.reload(tmp)\n",
    "tmp.sflkitlib.lib.reset()\n",
    "avix_oracle = construct_oracle(\n",
    "                            program_under_test='middle',\n",
    "                            inp_converter=middle_inp_conv,\n",
    "                            timeout=10,\n",
    "                            line = 7,\n",
    "                            resource_path='rsc/',\n",
    "                            program_oracle= None)\n"
   ]
  },
  {
   "cell_type": "code",
   "execution_count": null,
   "id": "3f8f2c41",
   "metadata": {},
   "outputs": [
    {
     "data": {
      "text/plain": [
       "<OracleResult.FAILING: 'FAILING'>"
      ]
     },
     "execution_count": 55,
     "metadata": {},
     "output_type": "execute_result"
    }
   ],
   "source": [
    "avix_oracle(\"6,3,7\")"
   ]
  },
  {
   "cell_type": "code",
   "execution_count": null,
   "id": "11969097",
   "metadata": {},
   "outputs": [],
   "source": [
    "# # double check if this works\n",
    "\n",
    "# AviX.create_event_file(instrumented_function='middle',\n",
    "#                        #instr_path='tmp',\n",
    "#                        inp = '2,1,3',\n",
    "#                        conversion_func=middle_inp_conv,\n",
    "#                        event_path='rsc/event_file'\n",
    "#                        )"
   ]
  },
  {
   "cell_type": "code",
   "execution_count": null,
   "id": "942d3017",
   "metadata": {},
   "outputs": [],
   "source": [
    "avix = AviX(grammar=middle_grammar,\n",
    "            initial_inputs=middle_inputs,\n",
    "            oracle=avix_oracle,\n",
    "            max_iterations=10,\n",
    "            desired_line=7,\n",
    "            put_path='middle.py',\n",
    "            #instr_path='instrumented.py',\n",
    "            min_precision = 0.7,)"
   ]
  },
  {
   "cell_type": "code",
   "execution_count": null,
   "id": "9a44d30e",
   "metadata": {},
   "outputs": [
    {
     "name": "stdout",
     "output_type": "stream",
     "text": [
      "34146,7,89\n",
      "3925,5,15\n",
      "5985,6,1\n",
      "3,4,5179\n",
      "6,52,714477\n",
      "2,6,8\n",
      "78,2,486\n",
      "114,496,2\n",
      "71,8,298\n",
      "76,7,2\n"
     ]
    }
   ],
   "source": [
    "from fuzzingbook.GrammarFuzzer import GrammarFuzzer, DerivationTree\n",
    "\n",
    "middle_grammar_converted = {\n",
    "    \"<start>\": [\"<stmt>\"],\n",
    "    \"<stmt>\": [\"str.to.int(<x>),str.to.int(<y>),str.to.int(<z>)\"],\n",
    "    \"<x>\": [\"<integer>\"],\n",
    "    \"<y>\": [\"<integer>\"],\n",
    "    \"<z>\": [\"<integer>\"],\n",
    "    \"<integer>\": [\"<digit>\", \"<digit><integer>\"],\n",
    "    \"<digit>\": [str(num) for num in range(1, 10)]\n",
    "}\n",
    "\n",
    "fuzzer = GrammarFuzzer(middle_grammar)\n",
    "\n",
    "for i in range(10):\n",
    "    print(fuzzer.fuzz())"
   ]
  },
  {
   "cell_type": "code",
   "execution_count": null,
   "id": "4a9846ed",
   "metadata": {},
   "outputs": [],
   "source": []
  },
  {
   "cell_type": "markdown",
   "id": "501b70f5-3276-45e8-9e48-7331964004d7",
   "metadata": {},
   "source": [
    "https://github.com/uds-se/sflkit\n",
    "\n",
    "<img src=\"qrcode.png\" style=\"width:500px\">"
   ]
  },
  {
   "cell_type": "markdown",
   "id": "d99da91b",
   "metadata": {},
   "source": []
  },
  {
   "cell_type": "markdown",
   "id": "a3e651cb",
   "metadata": {},
   "source": []
  }
 ],
 "metadata": {
  "kernelspec": {
   "display_name": "Python 3",
   "language": "python",
   "name": "python3"
  },
  "language_info": {
   "codemirror_mode": {
    "name": "ipython",
    "version": 3
   },
   "file_extension": ".py",
   "mimetype": "text/x-python",
   "name": "python",
   "nbconvert_exporter": "python",
   "pygments_lexer": "ipython3",
   "version": "3.10.14"
  }
 },
 "nbformat": 4,
 "nbformat_minor": 5
}
