{
 "cells": [
  {
   "cell_type": "code",
   "execution_count": 1,
   "id": "e8333c71-28ed-44ba-8e4e-52a72f8f96e8",
   "metadata": {},
   "outputs": [],
   "source": [
    "import enum\n",
    "import importlib\n",
    "import inspect\n",
    "import os\n",
    "import shutil\n",
    "\n",
    "from typing import List\n",
    "from IPython.display import HTML\n",
    "from sflkit.analysis.spectra import Line\n",
    "\n",
    "from sflkit.analysis import analysis_type, factory\n",
    "from sflkit import *\n",
    "from sflkit.color import ColorCode\n",
    "from sflkit import instrument_config, analyze_config\n",
    "from sflkit.config import Config\n",
    "\n",
    "from avicenna import *"
   ]
  },
  {
   "cell_type": "code",
   "execution_count": 2,
   "id": "f7e22f47",
   "metadata": {},
   "outputs": [],
   "source": [
    "import string\n",
    "import csv\n",
    "import logging\n",
    "\n",
    "from pathlib import Path\n",
    "from debugging_framework.input.oracle import OracleResult\n",
    "from isla.solver import ISLaSolver\n"
   ]
  },
  {
   "cell_type": "code",
   "execution_count": 3,
   "id": "6635a037",
   "metadata": {},
   "outputs": [],
   "source": [
    "middle_grammar = {\n",
    "    \"<start>\": [\"<stmt>\"],\n",
    "    \"<stmt>\": [\"<x>,<y>,<z>\"],\n",
    "    \"<x>\": [\"<integer>\"],\n",
    "    \"<y>\": [\"<integer>\"],\n",
    "    \"<z>\": [\"<integer>\"],\n",
    "    \"<integer>\": [\"<digit>\", \"<digit><integer>\"],\n",
    "    \"<digit>\": [str(num) for num in range(1, 10)]\n",
    "}"
   ]
  },
  {
   "cell_type": "code",
   "execution_count": 4,
   "id": "09cb633c",
   "metadata": {},
   "outputs": [],
   "source": [
    "# 321, 312, 213\n",
    "middle_inputs = ['2,3,1', '3,1,2', '2,1,3']"
   ]
  },
  {
   "cell_type": "code",
   "execution_count": 5,
   "id": "5adee8c4",
   "metadata": {},
   "outputs": [],
   "source": [
    "middle_py = 'middle.py'\n",
    "tmp_py = 'tmp.py'\n",
    "language='python'\n",
    "predicates='line'\n",
    "metrics='Tarantula'\n",
    "#passing='event-files/0,event-files/1'\n",
    "failing='event-files/2'\n",
    "def get_config():\n",
    "    return Config.create(path=middle_py,\n",
    "                         working=tmp_py,\n",
    "                         language=language,\n",
    "                         predicates=predicates,\n",
    "                         metrics=metrics,\n",
    "                         failing=failing)\n",
    "def instrument(out=True):\n",
    "    instrument_config(get_config())\n",
    "    if out:\n",
    "        with open(tmp_py, 'r') as fp:\n",
    "            print(fp.read())"
   ]
  },
  {
   "cell_type": "code",
   "execution_count": 6,
   "id": "8667ab66",
   "metadata": {},
   "outputs": [
    {
     "name": "stderr",
     "output_type": "stream",
     "text": [
      "sflkit :: INFO     :: I found 11 events in middle.py.\n",
      "sflkit :: INFO     :: I found 11 events in middle.py.\n"
     ]
    },
    {
     "name": "stdout",
     "output_type": "stream",
     "text": [
      "import sflkitlib.lib\n",
      "\n",
      "def middle(x, y, z):\n",
      "    sflkitlib.lib.add_line_event(0)\n",
      "    m = z\n",
      "    sflkitlib.lib.add_line_event(1)\n",
      "    if y < z:\n",
      "        sflkitlib.lib.add_line_event(2)\n",
      "        if x < y:\n",
      "            sflkitlib.lib.add_line_event(3)\n",
      "            m = y\n",
      "        else:\n",
      "            sflkitlib.lib.add_line_event(4)\n",
      "            if x < z:\n",
      "                sflkitlib.lib.add_line_event(5)\n",
      "                m = y\n",
      "    else:\n",
      "        sflkitlib.lib.add_line_event(6)\n",
      "        if x > y:\n",
      "            sflkitlib.lib.add_line_event(7)\n",
      "            m = y\n",
      "        else:\n",
      "            sflkitlib.lib.add_line_event(8)\n",
      "            if x > z:\n",
      "                sflkitlib.lib.add_line_event(9)\n",
      "                m = x\n",
      "    sflkitlib.lib.add_line_event(10)\n",
      "    return m\n"
     ]
    }
   ],
   "source": [
    "instrument()"
   ]
  },
  {
   "cell_type": "code",
   "execution_count": 7,
   "id": "f4f3bee1",
   "metadata": {},
   "outputs": [],
   "source": [
    "def analyzer_conf(conf: Config, factory):\n",
    "    analyzer = Analyzer(irrelevant_event_files=conf.failing, \n",
    "                        relevant_event_files=conf.passing,\n",
    "                        factory=factory)\n",
    "    return analyzer"
   ]
  },
  {
   "cell_type": "code",
   "execution_count": 8,
   "id": "4b07897a",
   "metadata": {},
   "outputs": [
    {
     "data": {
      "text/plain": [
       "LINE"
      ]
     },
     "execution_count": 8,
     "metadata": {},
     "output_type": "execute_result"
    }
   ],
   "source": [
    "factory = factory.LineFactory()\n",
    "line_event = analysis_type.AnalysisType(0)\n",
    "line_event"
   ]
  },
  {
   "cell_type": "code",
   "execution_count": 9,
   "id": "d1e4df3e",
   "metadata": {},
   "outputs": [],
   "source": [
    "analyzer = analyzer_conf(get_config(), factory=factory)"
   ]
  },
  {
   "cell_type": "code",
   "execution_count": 10,
   "id": "eecbf218",
   "metadata": {},
   "outputs": [],
   "source": [
    "# results = analyzer.analyze()\n",
    "# results\n",
    "\n",
    "# analyzer needs event files \n",
    "analyzer.analyze()"
   ]
  },
  {
   "cell_type": "code",
   "execution_count": 11,
   "id": "d743121d",
   "metadata": {},
   "outputs": [
    {
     "name": "stdout",
     "output_type": "stream",
     "text": [
      "{2, 3, 9, 10, 13}\n",
      "<class 'int'>\n",
      "<class 'int'>\n",
      "{9, 10, 13}\n",
      "<class 'int'>\n",
      "<class 'int'>\n",
      "<class 'int'>\n",
      "set()\n",
      "<class 'int'>\n"
     ]
    }
   ],
   "source": [
    "coverage: List[Line] = analyzer.get_coverage()\n",
    "coverage = {line.line for line in coverage}\n",
    "print(coverage)\n",
    "print(type(coverage.pop()))\n",
    "print(type(coverage.pop()))\n",
    "print(coverage)\n",
    "print(type(coverage.pop()))\n",
    "print(type(coverage.pop()))\n",
    "print(type(coverage.pop()))\n",
    "print(coverage)\n",
    "print(type(3))\n",
    "if 3 in coverage:\n",
    "    print(\"is doch\")"
   ]
  },
  {
   "cell_type": "code",
   "execution_count": 12,
   "id": "190c5287",
   "metadata": {},
   "outputs": [],
   "source": [
    "def middle_inp_conv(inp):\n",
    "    inp = inp.__str__()\n",
    "    middle_input = inp.split(',')\n",
    "    \n",
    "    converted_inp = [\n",
    "        int(middle_input[0]),\n",
    "        int(middle_input[1]),\n",
    "        int(middle_input[2])\n",
    "    ]\n",
    "    \n",
    "    return converted_inp"
   ]
  },
  {
   "cell_type": "code",
   "execution_count": 13,
   "id": "7f582a8c",
   "metadata": {},
   "outputs": [],
   "source": [
    "from importlib import resources\n",
    "\n",
    "def get_avicenna_rsc_path() -> Path:\n",
    "    with resources.path('avicenna', 'rsc') as p:\n",
    "        return Path(p)"
   ]
  },
  {
   "cell_type": "code",
   "execution_count": 14,
   "id": "dd7403e3",
   "metadata": {},
   "outputs": [
    {
     "name": "stdout",
     "output_type": "stream",
     "text": [
      "/home/lina/ba/avicenna/src/avicenna/rsc/instrumented.py\n"
     ]
    }
   ],
   "source": [
    "path = str(get_avicenna_rsc_path() )+ '/instrumented.py'\n",
    "print(path)"
   ]
  },
  {
   "cell_type": "code",
   "execution_count": 15,
   "id": "025672c0",
   "metadata": {},
   "outputs": [],
   "source": [
    "from avicenna.avix import *\n",
    "from avicenna.oracle_construction import * \n",
    "avix_oracle = construct_oracle(\n",
    "                            program_under_test='middle',\n",
    "                            inp_converter=middle_inp_conv,\n",
    "                            line = 3,\n",
    "                            put_path='middle.py'\n",
    "                            )\n"
   ]
  },
  {
   "cell_type": "code",
   "execution_count": 16,
   "id": "668dc3dc",
   "metadata": {},
   "outputs": [
    {
     "data": {
      "text/plain": [
       "<OracleResult.FAILING: 'FAILING'>"
      ]
     },
     "execution_count": 16,
     "metadata": {},
     "output_type": "execute_result"
    }
   ],
   "source": [
    "avix_oracle('2,1,3')\n",
    "avix_oracle('2,1,3')"
   ]
  },
  {
   "cell_type": "markdown",
   "id": "c6b7ff62",
   "metadata": {},
   "source": []
  },
  {
   "cell_type": "code",
   "execution_count": 17,
   "id": "548623aa",
   "metadata": {},
   "outputs": [],
   "source": [
    "def middle_oracle(x, y, z):\n",
    "    # convert inputs\n",
    "    \n",
    "    sorted_inputs = [x, y, z]\n",
    "    sorted_inputs.sort()\n",
    "    return sorted_inputs[1]"
   ]
  },
  {
   "cell_type": "code",
   "execution_count": 18,
   "id": "95fc10a3",
   "metadata": {},
   "outputs": [],
   "source": [
    "def middle(x, y, z):\n",
    "    m = z\n",
    "    if y < z:\n",
    "        if x < y:\n",
    "            m = y\n",
    "        else:\n",
    "            if x < z:\n",
    "                m = y\n",
    "    else:\n",
    "        if x > y:\n",
    "            m = y\n",
    "        else:\n",
    "            if x > z:\n",
    "                m = x\n",
    "    return m"
   ]
  },
  {
   "cell_type": "code",
   "execution_count": 19,
   "id": "511a2bb0",
   "metadata": {},
   "outputs": [],
   "source": [
    "# AviX.instrument_avix(put_path='middle.py',\n",
    "#                     instr_path='../src/avicenna/rsc/instrumented.py' )"
   ]
  },
  {
   "cell_type": "code",
   "execution_count": 20,
   "id": "e5131eff",
   "metadata": {},
   "outputs": [],
   "source": [
    "regular_oracle = construct_oracle(\n",
    "                            program_under_test=middle,\n",
    "                            timeout=10,\n",
    "                            program_oracle=middle_oracle,\n",
    "                            default_oracle_result=OracleResult.PASSING)\n",
    "\n"
   ]
  },
  {
   "cell_type": "code",
   "execution_count": 21,
   "id": "fca10362",
   "metadata": {},
   "outputs": [
    {
     "data": {
      "text/plain": [
       "['2,3,1', '3,1,2', '2,1,3']"
      ]
     },
     "execution_count": 21,
     "metadata": {},
     "output_type": "execute_result"
    }
   ],
   "source": [
    "param = list(map(int, str('2,1,3').strip().split(',')))\n",
    "middle_inputs"
   ]
  },
  {
   "cell_type": "code",
   "execution_count": 22,
   "id": "64704837",
   "metadata": {},
   "outputs": [
    {
     "data": {
      "text/plain": [
       "<OracleResult.PASSING: 'PASSING'>"
      ]
     },
     "execution_count": 22,
     "metadata": {},
     "output_type": "execute_result"
    }
   ],
   "source": [
    "regular_oracle('3,1,2')\n"
   ]
  },
  {
   "cell_type": "markdown",
   "id": "67f9b9fa",
   "metadata": {},
   "source": []
  },
  {
   "cell_type": "code",
   "execution_count": 23,
   "id": "1b0fef36",
   "metadata": {},
   "outputs": [],
   "source": [
    "# avicenna = Avicenna(\n",
    "#     grammar=middle_grammar,\n",
    "#     initial_inputs=middle_inputs,\n",
    "#     oracle=avix_oracle,\n",
    "#     max_iterations=10,\n",
    "#     top_n_relevant_features=3,\n",
    "#     #max_conjunction_size=6,\n",
    "# )"
   ]
  },
  {
   "cell_type": "code",
   "execution_count": 24,
   "id": "0a25fbf3",
   "metadata": {},
   "outputs": [
    {
     "name": "stderr",
     "output_type": "stream",
     "text": [
      "sflkit :: INFO     :: I found 11 events in middle.py.\n",
      "sflkit :: INFO     :: I found 11 events in middle.py.\n"
     ]
    },
    {
     "ename": "AssertionError",
     "evalue": "Avicenna requires at least one passing input!",
     "output_type": "error",
     "traceback": [
      "\u001b[0;31m---------------------------------------------------------------------------\u001b[0m",
      "\u001b[0;31mAssertionError\u001b[0m                            Traceback (most recent call last)",
      "Cell \u001b[0;32mIn[24], line 1\u001b[0m\n\u001b[0;32m----> 1\u001b[0m avix \u001b[38;5;241m=\u001b[39m \u001b[43mAviX\u001b[49m\u001b[43m(\u001b[49m\n\u001b[1;32m      2\u001b[0m \u001b[43m    \u001b[49m\u001b[43mgrammar\u001b[49m\u001b[38;5;241;43m=\u001b[39;49m\u001b[43mmiddle_grammar\u001b[49m\u001b[43m,\u001b[49m\n\u001b[1;32m      3\u001b[0m \u001b[43m    \u001b[49m\u001b[43minitial_inputs\u001b[49m\u001b[38;5;241;43m=\u001b[39;49m\u001b[43mmiddle_inputs\u001b[49m\u001b[43m,\u001b[49m\n\u001b[1;32m      4\u001b[0m \u001b[43m    \u001b[49m\u001b[43moracle\u001b[49m\u001b[38;5;241;43m=\u001b[39;49m\u001b[43mavix_oracle\u001b[49m\u001b[43m,\u001b[49m\n\u001b[1;32m      5\u001b[0m \u001b[43m    \u001b[49m\u001b[43mmax_iterations\u001b[49m\u001b[38;5;241;43m=\u001b[39;49m\u001b[38;5;241;43m10\u001b[39;49m\u001b[43m,\u001b[49m\n\u001b[1;32m      6\u001b[0m \u001b[43m    \u001b[49m\u001b[43mtop_n_relevant_features\u001b[49m\u001b[38;5;241;43m=\u001b[39;49m\u001b[38;5;241;43m3\u001b[39;49m\u001b[43m,\u001b[49m\n\u001b[1;32m      7\u001b[0m \u001b[43m    \u001b[49m\u001b[43mput_path\u001b[49m\u001b[38;5;241;43m=\u001b[39;49m\u001b[38;5;124;43m'\u001b[39;49m\u001b[38;5;124;43mmiddle.py\u001b[39;49m\u001b[38;5;124;43m'\u001b[39;49m\u001b[43m,\u001b[49m\n\u001b[1;32m      8\u001b[0m \u001b[43m    \u001b[49m\n\u001b[1;32m      9\u001b[0m \u001b[43m    \u001b[49m\u001b[38;5;66;43;03m#max_conjunction_size=6,\u001b[39;49;00m\n\u001b[1;32m     10\u001b[0m \u001b[43m)\u001b[49m\n",
      "File \u001b[0;32m~/ba/avicenna/src/avicenna/avix.py:44\u001b[0m, in \u001b[0;36mAviX.__init__\u001b[0;34m(self, put_path, grammar, oracle, initial_inputs, instr_path, max_iterations, top_n_relevant_features, max_conjunction_size, min_recall, min_min_specificity)\u001b[0m\n\u001b[1;32m     41\u001b[0m instrument(put_path\u001b[38;5;241m=\u001b[39mput_path, instr_path\u001b[38;5;241m=\u001b[39minstr_path)\n\u001b[1;32m     43\u001b[0m \u001b[38;5;66;03m# init avicenna class object\u001b[39;00m\n\u001b[0;32m---> 44\u001b[0m \u001b[38;5;28;43msuper\u001b[39;49m\u001b[43m(\u001b[49m\u001b[43m)\u001b[49m\u001b[38;5;241;43m.\u001b[39;49m\u001b[38;5;21;43m__init__\u001b[39;49m\u001b[43m(\u001b[49m\n\u001b[1;32m     45\u001b[0m \u001b[43m    \u001b[49m\u001b[43mgrammar\u001b[49m\u001b[38;5;241;43m=\u001b[39;49m\u001b[43mgrammar\u001b[49m\u001b[43m,\u001b[49m\n\u001b[1;32m     46\u001b[0m \u001b[43m    \u001b[49m\u001b[43moracle\u001b[49m\u001b[38;5;241;43m=\u001b[39;49m\u001b[43moracle\u001b[49m\u001b[43m,\u001b[49m\n\u001b[1;32m     47\u001b[0m \u001b[43m    \u001b[49m\u001b[43minitial_inputs\u001b[49m\u001b[38;5;241;43m=\u001b[39;49m\u001b[43minitial_inputs\u001b[49m\u001b[43m,\u001b[49m\n\u001b[1;32m     48\u001b[0m \u001b[43m    \u001b[49m\u001b[43mmax_iterations\u001b[49m\u001b[38;5;241;43m=\u001b[39;49m\u001b[43mmax_iterations\u001b[49m\u001b[43m,\u001b[49m\n\u001b[1;32m     49\u001b[0m \u001b[43m    \u001b[49m\u001b[43mtop_n_relevant_features\u001b[49m\u001b[38;5;241;43m=\u001b[39;49m\u001b[43mtop_n_relevant_features\u001b[49m\u001b[43m,\u001b[49m\n\u001b[1;32m     50\u001b[0m \u001b[43m    \u001b[49m\u001b[43mmax_conjunction_size\u001b[49m\u001b[38;5;241;43m=\u001b[39;49m\u001b[43mmax_conjunction_size\u001b[49m\u001b[43m,\u001b[49m\n\u001b[1;32m     51\u001b[0m \u001b[43m    \u001b[49m\u001b[43mmin_recall\u001b[49m\u001b[38;5;241;43m=\u001b[39;49m\u001b[43mmin_recall\u001b[49m\u001b[43m,\u001b[49m\n\u001b[1;32m     52\u001b[0m \u001b[43m    \u001b[49m\u001b[43mmin_min_specificity\u001b[49m\u001b[38;5;241;43m=\u001b[39;49m\u001b[43mmin_min_specificity\u001b[49m\u001b[43m,\u001b[49m\n\u001b[1;32m     53\u001b[0m \u001b[43m\u001b[49m\u001b[43m)\u001b[49m\n",
      "File \u001b[0;32m~/ba/avicenna/src/avicenna/avicenna.py:181\u001b[0m, in \u001b[0;36mAvicenna.__init__\u001b[0;34m(self, grammar, oracle, initial_inputs, patterns, max_iterations, top_n_relevant_features, pattern_file, max_conjunction_size, use_multi_failure_report, use_batch_execution, log, feature_learner, input_generator, pattern_learner, timeout_seconds, min_recall, min_min_specificity)\u001b[0m\n\u001b[1;32m    164\u001b[0m \u001b[38;5;28mself\u001b[39m\u001b[38;5;241m.\u001b[39mreport \u001b[38;5;241m=\u001b[39m (\n\u001b[1;32m    165\u001b[0m     MultipleFailureReport()\n\u001b[1;32m    166\u001b[0m     \u001b[38;5;28;01mif\u001b[39;00m use_multi_failure_report\n\u001b[1;32m    167\u001b[0m     \u001b[38;5;28;01melse\u001b[39;00m SingleFailureReport()\n\u001b[1;32m    168\u001b[0m )\n\u001b[1;32m    170\u001b[0m \u001b[38;5;28mself\u001b[39m\u001b[38;5;241m.\u001b[39mexecution_handler \u001b[38;5;241m=\u001b[39m (\n\u001b[1;32m    171\u001b[0m     BatchExecutionHandler(\u001b[38;5;28mself\u001b[39m\u001b[38;5;241m.\u001b[39moracle)\n\u001b[1;32m    172\u001b[0m     \u001b[38;5;28;01mif\u001b[39;00m use_batch_execution\n\u001b[1;32m    173\u001b[0m     \u001b[38;5;28;01melse\u001b[39;00m SingleExecutionHandler(\u001b[38;5;28mself\u001b[39m\u001b[38;5;241m.\u001b[39moracle)\n\u001b[1;32m    174\u001b[0m )\n\u001b[1;32m    176\u001b[0m \u001b[38;5;28mself\u001b[39m\u001b[38;5;241m.\u001b[39mall_inputs: Set[Input] \u001b[38;5;241m=\u001b[39m (\n\u001b[1;32m    177\u001b[0m     \u001b[43mExceptional\u001b[49m\u001b[38;5;241;43m.\u001b[39;49m\u001b[43mof\u001b[49m\u001b[43m(\u001b[49m\u001b[38;5;28;43;01mlambda\u001b[39;49;00m\u001b[43m:\u001b[49m\u001b[43m \u001b[49m\u001b[43minitial_inputs\u001b[49m\u001b[43m)\u001b[49m\n\u001b[1;32m    178\u001b[0m \u001b[43m    \u001b[49m\u001b[38;5;241;43m.\u001b[39;49m\u001b[43mmap\u001b[49m\u001b[43m(\u001b[49m\u001b[38;5;28;43mself\u001b[39;49m\u001b[38;5;241;43m.\u001b[39;49m\u001b[43mparse_to_input\u001b[49m\u001b[43m)\u001b[49m\n\u001b[1;32m    179\u001b[0m \u001b[43m    \u001b[49m\u001b[38;5;241;43m.\u001b[39;49m\u001b[43mmap\u001b[49m\u001b[43m(\u001b[49m\u001b[38;5;28;43mself\u001b[39;49m\u001b[38;5;241;43m.\u001b[39;49m\u001b[43massign_label\u001b[49m\u001b[43m)\u001b[49m\n\u001b[1;32m    180\u001b[0m \u001b[43m    \u001b[49m\u001b[38;5;241;43m.\u001b[39;49m\u001b[43mmap\u001b[49m\u001b[43m(\u001b[49m\u001b[38;5;28;43mself\u001b[39;49m\u001b[38;5;241;43m.\u001b[39;49m\u001b[43mcheck_initial_inputs\u001b[49m\u001b[43m)\u001b[49m\n\u001b[0;32m--> 181\u001b[0m \u001b[43m    \u001b[49m\u001b[38;5;241;43m.\u001b[39;49m\u001b[43mreraise\u001b[49m\u001b[43m(\u001b[49m\u001b[43m)\u001b[49m\n\u001b[1;32m    182\u001b[0m     \u001b[38;5;241m.\u001b[39mget()\n\u001b[1;32m    183\u001b[0m )\n\u001b[1;32m    185\u001b[0m \u001b[38;5;28mself\u001b[39m\u001b[38;5;241m.\u001b[39minput_generator \u001b[38;5;241m=\u001b[39m (\n\u001b[1;32m    186\u001b[0m     input_generator(grammar)\n\u001b[1;32m    187\u001b[0m     \u001b[38;5;28;01mif\u001b[39;00m input_generator\n\u001b[0;32m   (...)\u001b[0m\n\u001b[1;32m    193\u001b[0m     )\n\u001b[1;32m    194\u001b[0m )\n\u001b[1;32m    196\u001b[0m \u001b[38;5;28mself\u001b[39m\u001b[38;5;241m.\u001b[39mbest_candidates \u001b[38;5;241m=\u001b[39m \u001b[38;5;28mset\u001b[39m()\n",
      "File \u001b[0;32m~/ba/avicenna/src/avicenna/monads.py:157\u001b[0m, in \u001b[0;36mFailure.reraise\u001b[0;34m(self)\u001b[0m\n\u001b[1;32m    156\u001b[0m \u001b[38;5;28;01mdef\u001b[39;00m \u001b[38;5;21mreraise\u001b[39m(\u001b[38;5;28mself\u001b[39m) \u001b[38;5;241m-\u001b[39m\u001b[38;5;241m>\u001b[39m Exceptional[E, Any]:\n\u001b[0;32m--> 157\u001b[0m     \u001b[38;5;28;01mraise\u001b[39;00m \u001b[38;5;28mself\u001b[39m\u001b[38;5;241m.\u001b[39ma\n",
      "File \u001b[0;32m~/ba/avicenna/src/avicenna/monads.py:92\u001b[0m, in \u001b[0;36mExceptional.of\u001b[0;34m(f)\u001b[0m\n\u001b[1;32m     89\u001b[0m \u001b[38;5;129m@staticmethod\u001b[39m\n\u001b[1;32m     90\u001b[0m \u001b[38;5;28;01mdef\u001b[39;00m \u001b[38;5;21mof\u001b[39m(f: Callable[[], T]) \u001b[38;5;241m-\u001b[39m\u001b[38;5;241m>\u001b[39m \u001b[38;5;124m\"\u001b[39m\u001b[38;5;124mExceptional[E, T]\u001b[39m\u001b[38;5;124m\"\u001b[39m:\n\u001b[1;32m     91\u001b[0m     \u001b[38;5;28;01mtry\u001b[39;00m:\n\u001b[0;32m---> 92\u001b[0m         \u001b[38;5;28;01mreturn\u001b[39;00m Success(\u001b[43mf\u001b[49m\u001b[43m(\u001b[49m\u001b[43m)\u001b[49m)\n\u001b[1;32m     93\u001b[0m     \u001b[38;5;28;01mexcept\u001b[39;00m \u001b[38;5;167;01mException\u001b[39;00m \u001b[38;5;28;01mas\u001b[39;00m exc:\n\u001b[1;32m     94\u001b[0m         \u001b[38;5;28;01mreturn\u001b[39;00m Failure(exc)\n",
      "File \u001b[0;32m~/ba/avicenna/src/avicenna/monads.py:128\u001b[0m, in \u001b[0;36mSuccess.map.<locals>.<lambda>\u001b[0;34m()\u001b[0m\n\u001b[1;32m    127\u001b[0m \u001b[38;5;28;01mdef\u001b[39;00m \u001b[38;5;21mmap\u001b[39m(\u001b[38;5;28mself\u001b[39m, f: Callable[[T], S]) \u001b[38;5;241m-\u001b[39m\u001b[38;5;241m>\u001b[39m \u001b[38;5;124m\"\u001b[39m\u001b[38;5;124mExceptional[S]\u001b[39m\u001b[38;5;124m\"\u001b[39m:\n\u001b[0;32m--> 128\u001b[0m     \u001b[38;5;28;01mreturn\u001b[39;00m Exceptional\u001b[38;5;241m.\u001b[39mof(\u001b[38;5;28;01mlambda\u001b[39;00m: \u001b[43mf\u001b[49m\u001b[43m(\u001b[49m\u001b[38;5;28;43mself\u001b[39;49m\u001b[38;5;241;43m.\u001b[39;49m\u001b[43ma\u001b[49m\u001b[43m)\u001b[49m)\n",
      "File \u001b[0;32m~/ba/avicenna/src/avicenna/avicenna.py:463\u001b[0m, in \u001b[0;36mAvicenna.check_initial_inputs\u001b[0;34m(test_inputs)\u001b[0m\n\u001b[1;32m    460\u001b[0m \u001b[38;5;129m@staticmethod\u001b[39m\n\u001b[1;32m    461\u001b[0m \u001b[38;5;28;01mdef\u001b[39;00m \u001b[38;5;21mcheck_initial_inputs\u001b[39m(test_inputs: Set[Input]) \u001b[38;5;241m-\u001b[39m\u001b[38;5;241m>\u001b[39m Set[Input]:\n\u001b[1;32m    462\u001b[0m     \u001b[38;5;28;01mif\u001b[39;00m \u001b[38;5;28mall\u001b[39m([test_input\u001b[38;5;241m.\u001b[39moracle\u001b[38;5;241m.\u001b[39mis_failing() \u001b[38;5;28;01mfor\u001b[39;00m test_input \u001b[38;5;129;01min\u001b[39;00m test_inputs]):\n\u001b[0;32m--> 463\u001b[0m         \u001b[38;5;28;01mraise\u001b[39;00m \u001b[38;5;167;01mAssertionError\u001b[39;00m(\u001b[38;5;124m\"\u001b[39m\u001b[38;5;124mAvicenna requires at least one passing input!\u001b[39m\u001b[38;5;124m\"\u001b[39m)\n\u001b[1;32m    464\u001b[0m     \u001b[38;5;28;01melif\u001b[39;00m \u001b[38;5;28mall\u001b[39m([\u001b[38;5;129;01mnot\u001b[39;00m (test_input\u001b[38;5;241m.\u001b[39moracle\u001b[38;5;241m.\u001b[39mis_failing()) \u001b[38;5;28;01mfor\u001b[39;00m test_input \u001b[38;5;129;01min\u001b[39;00m test_inputs]):\n\u001b[1;32m    465\u001b[0m         \u001b[38;5;28;01mraise\u001b[39;00m \u001b[38;5;167;01mAssertionError\u001b[39;00m(\n\u001b[1;32m    466\u001b[0m             \u001b[38;5;124m\"\u001b[39m\u001b[38;5;124mAvicenna requires at least one failure-inducing input!\u001b[39m\u001b[38;5;124m\"\u001b[39m\n\u001b[1;32m    467\u001b[0m         )\n",
      "\u001b[0;31mAssertionError\u001b[0m: Avicenna requires at least one passing input!"
     ]
    }
   ],
   "source": [
    "avix = AviX(\n",
    "    grammar=middle_grammar,\n",
    "    initial_inputs=middle_inputs,\n",
    "    oracle=avix_oracle,\n",
    "    max_iterations=10,\n",
    "    top_n_relevant_features=3,\n",
    "    put_path='middle.py',\n",
    "    \n",
    "    #max_conjunction_size=6,\n",
    ")"
   ]
  },
  {
   "cell_type": "code",
   "execution_count": null,
   "id": "5465c93e",
   "metadata": {},
   "outputs": [],
   "source": [
    "avicenna2 = Avicenna(\n",
    "    grammar=middle_grammar,\n",
    "    initial_inputs=middle_inputs,\n",
    "    oracle=regular_oracle,\n",
    "    max_iterations=10,\n",
    "    top_n_relevant_features=3, \n",
    ")"
   ]
  },
  {
   "cell_type": "code",
   "execution_count": null,
   "id": "3c169f9b",
   "metadata": {},
   "outputs": [
    {
     "data": {
      "text/plain": [
       "[ExistsFormula(NonterminalPlaceholderVariable(name='elem', n_type='<?NONTERMINAL>'), Constant(\"start\", \"<start>\"), SMTFormula('(= elem STRING_0)', StringPlaceholderVariable(name='STRING_0'), NonterminalPlaceholderVariable(name='elem', n_type='<?NONTERMINAL>'), )),\n",
       " ExistsFormula(NonterminalPlaceholderVariable(name='elem_xy', n_type='<?NONTERMINAL>'), Constant(\"start\", \"<start>\"), PredicateFormula((\"StructuralPredicate(name='inside', arity=2, eval_fun=<function in_tree at 0x7fab77b09bd0>)\", 'NonterminalPlaceholderVariable(name=\\'elem_xy\\', n_type=\\'<?NONTERMINAL>\\'), Constant(\"start\", \"<start>\")'))),\n",
       " ForallFormula(NonterminalPlaceholderVariable(name='container', n_type='<?NONTERMINAL>'), Constant(\"start\", \"<start>\"), ExistsFormula(NonterminalPlaceholderVariable(name='elem', n_type='<?NONTERMINAL>'), NonterminalPlaceholderVariable(name='container', n_type='<?NONTERMINAL>'), SMTFormula('(= elem STRING_0)', StringPlaceholderVariable(name='STRING_0'), NonterminalPlaceholderVariable(name='elem', n_type='<?NONTERMINAL>'), ))),\n",
       " ForallFormula(NonterminalPlaceholderVariable(name='elem_1', n_type='<?NONTERMINAL>'), Constant(\"start\", \"<start>\"), ExistsFormula(NonterminalPlaceholderVariable(name='elem_2', n_type='<?NONTERMINAL>'), Constant(\"start\", \"<start>\"), SMTFormula('(>= (str.to_int elem_1) (str.to_int elem_2))', NonterminalPlaceholderVariable(name='elem_1', n_type='<?NONTERMINAL>'), NonterminalPlaceholderVariable(name='elem_2', n_type='<?NONTERMINAL>'), ))),\n",
       " ExistsFormula(NonterminalPlaceholderVariable(name='container1', n_type='<?NONTERMINAL>'), Constant(\"start\", \"<start>\"), ExistsFormula(NonterminalPlaceholderVariable(name='length_field', n_type='<?NONTERMINAL>'), Constant(\"start\", \"<start>\"), SMTFormula('(< (str.len container1) (str.to_int length_field))', NonterminalPlaceholderVariable(name='length_field', n_type='<?NONTERMINAL>'), NonterminalPlaceholderVariable(name='container1', n_type='<?NONTERMINAL>'), ))),\n",
       " ForallFormula(NonterminalPlaceholderVariable(name='container', n_type='<?NONTERMINAL>'), Constant(\"start\", \"<start>\"), ExistsFormula(NonterminalPlaceholderVariable(name='elem', n_type='<?NONTERMINAL>'), NonterminalPlaceholderVariable(name='container', n_type='<?NONTERMINAL>'), SMTFormula('(= (str.len elem) (str.to_int STRING_0))', StringPlaceholderVariable(name='STRING_0'), NonterminalPlaceholderVariable(name='elem', n_type='<?NONTERMINAL>'), ))),\n",
       " ForallFormula(NonterminalPlaceholderVariable(name='elem', n_type='<?NONTERMINAL>'), Constant(\"start\", \"<start>\"), SMTFormula('(> (str.to_int elem) (str.to_int STRING_0))', StringPlaceholderVariable(name='STRING_0'), NonterminalPlaceholderVariable(name='elem', n_type='<?NONTERMINAL>'), )),\n",
       " ForallFormula(NonterminalPlaceholderVariable(name='elem', n_type='<?NONTERMINAL>'), Constant(\"start\", \"<start>\"), SMTFormula('(>= (str.to_int elem) (str.to_int STRING_0))', StringPlaceholderVariable(name='STRING_0'), NonterminalPlaceholderVariable(name='elem', n_type='<?NONTERMINAL>'), )),\n",
       " ForallFormula(NonterminalPlaceholderVariable(name='elem', n_type='<?NONTERMINAL>'), Constant(\"start\", \"<start>\"), SMTFormula('(<= (str.to_int elem) (str.to_int STRING_0))', StringPlaceholderVariable(name='STRING_0'), NonterminalPlaceholderVariable(name='elem', n_type='<?NONTERMINAL>'), )),\n",
       " ForallFormula(NonterminalPlaceholderVariable(name='elem_1', n_type='<?NONTERMINAL>'), Constant(\"start\", \"<start>\"), ExistsFormula(NonterminalPlaceholderVariable(name='elem_2', n_type='<?NONTERMINAL>'), Constant(\"start\", \"<start>\"), SMTFormula('(> (str.to_int elem_1) (str.to_int elem_2))', NonterminalPlaceholderVariable(name='elem_1', n_type='<?NONTERMINAL>'), NonterminalPlaceholderVariable(name='elem_2', n_type='<?NONTERMINAL>'), ))),\n",
       " ExistsFormula(NonterminalPlaceholderVariable(name='container', n_type='<?NONTERMINAL>'), Constant(\"start\", \"<start>\"), ExistsFormula(NonterminalPlaceholderVariable(name='length_field', n_type='<?NONTERMINAL>'), Constant(\"start\", \"<start>\"), SMTFormula('(<= (str.len container) (str.to_int length_field))', NonterminalPlaceholderVariable(name='length_field', n_type='<?NONTERMINAL>'), NonterminalPlaceholderVariable(name='container', n_type='<?NONTERMINAL>'), )))]"
      ]
     },
     "execution_count": 26,
     "metadata": {},
     "output_type": "execute_result"
    }
   ],
   "source": [
    "avix.patterns"
   ]
  },
  {
   "cell_type": "code",
   "execution_count": null,
   "id": "95b78629",
   "metadata": {},
   "outputs": [],
   "source": [
    "import warnings\n",
    "# Suppress the specific SHAP warning\n",
    "warnings.filterwarnings(\n",
    "    \"ignore\",\n",
    "    message=\"LightGBM binary classifier with TreeExplainer shap values output has changed to a list of ndarray\",\n",
    ")\n",
    "warnings.filterwarnings(\n",
    "    \"ignore\", \n",
    "    message=\"No further splits with positive gain, best gain: -inf\"\n",
    ")"
   ]
  },
  {
   "cell_type": "code",
   "execution_count": null,
   "id": "1fb1d396",
   "metadata": {},
   "outputs": [
    {
     "name": "stdout",
     "output_type": "stream",
     "text": [
      "middle.py\n",
      "{2, 3, 4, 6, 7, 13}\n",
      "middle.py\n",
      "{2, 3, 9, 11, 12, 13}\n",
      "middle.py\n",
      "{2, 3, 9, 11, 12, 13}\n",
      "middle.py\n",
      "{2, 3, 4, 5, 13}\n",
      "middle.py\n",
      "{2, 3, 9, 11, 12, 13}\n",
      "middle.py\n",
      "{2, 3, 9, 10, 13}\n",
      "middle.py\n",
      "{2, 3, 4, 5, 13}\n",
      "middle.py\n",
      "{2, 3, 9, 11, 12, 13}\n",
      "middle.py\n",
      "{2, 3, 9, 10, 13}\n",
      "middle.py\n",
      "{2, 3, 4, 6, 13}\n",
      "middle.py\n",
      "{2, 3, 4, 6, 13}\n",
      "middle.py\n",
      "{2, 3, 9, 10, 13}\n",
      "middle.py\n",
      "{2, 3, 9, 11, 12, 13}\n",
      "middle.py\n",
      "{2, 3, 9, 10, 13}\n",
      "middle.py\n",
      "{2, 3, 9, 11, 13}\n",
      "middle.py\n",
      "{2, 3, 9, 11, 12, 13}\n",
      "middle.py\n",
      "{2, 3, 9, 11, 12, 13}\n",
      "middle.py\n",
      "{2, 3, 9, 11, 13}\n",
      "middle.py\n",
      "{2, 3, 9, 11, 12, 13}\n",
      "middle.py\n",
      "{2, 3, 9, 10, 13}\n",
      "middle.py\n",
      "{2, 3, 4, 6, 13}\n",
      "middle.py\n",
      "{2, 3, 9, 11, 12, 13}\n",
      "middle.py\n",
      "{2, 3, 4, 6, 7, 13}\n",
      "middle.py\n",
      "{2, 3, 9, 11, 12, 13}\n",
      "middle.py\n",
      "{2, 3, 9, 11, 12, 13}\n",
      "middle.py\n",
      "{2, 3, 9, 11, 12, 13}\n",
      "middle.py\n",
      "{2, 3, 4, 6, 13}\n",
      "middle.py\n",
      "{2, 3, 9, 10, 13}\n",
      "middle.py\n",
      "{2, 3, 4, 6, 7, 13}\n",
      "middle.py\n",
      "{2, 3, 4, 6, 13}\n",
      "middle.py\n",
      "{2, 3, 9, 11, 12, 13}\n",
      "middle.py\n",
      "{2, 3, 9, 10, 13}\n",
      "middle.py\n",
      "{2, 3, 9, 11, 13}\n",
      "middle.py\n",
      "{2, 3, 4, 6, 13}\n",
      "middle.py\n",
      "{2, 3, 4, 6, 13}\n",
      "middle.py\n",
      "{2, 3, 4, 6, 7, 13}\n",
      "middle.py\n",
      "{2, 3, 4, 5, 13}\n",
      "middle.py\n",
      "{2, 3, 9, 11, 12, 13}\n",
      "middle.py\n",
      "{2, 3, 9, 10, 13}\n",
      "middle.py\n",
      "{2, 3, 4, 6, 13}\n",
      "middle.py\n",
      "{2, 3, 4, 6, 7, 13}\n",
      "middle.py\n",
      "{2, 3, 9, 11, 13}\n",
      "middle.py\n",
      "{2, 3, 4, 6, 13}\n",
      "middle.py\n",
      "{2, 3, 9, 10, 13}\n",
      "middle.py\n",
      "{2, 3, 4, 6, 7, 13}\n",
      "middle.py\n",
      "{2, 3, 9, 11, 12, 13}\n",
      "middle.py\n",
      "{2, 3, 9, 11, 13}\n",
      "middle.py\n",
      "{2, 3, 9, 10, 13}\n",
      "middle.py\n",
      "{2, 3, 9, 10, 13}\n",
      "middle.py\n",
      "{2, 3, 9, 11, 12, 13}\n",
      "middle.py\n",
      "{2, 3, 4, 5, 13}\n",
      "middle.py\n",
      "{2, 3, 9, 11, 12, 13}\n",
      "middle.py\n",
      "{2, 3, 4, 5, 13}\n",
      "middle.py\n",
      "{2, 3, 4, 6, 13}\n",
      "middle.py\n",
      "{2, 3, 4, 5, 13}\n",
      "middle.py\n",
      "{2, 3, 4, 6, 13}\n",
      "middle.py\n",
      "{2, 3, 4, 5, 13}\n",
      "middle.py\n",
      "{2, 3, 4, 6, 13}\n",
      "middle.py\n",
      "{2, 3, 9, 11, 13}\n",
      "middle.py\n",
      "{2, 3, 4, 6, 7, 13}\n",
      "middle.py\n",
      "{2, 3, 4, 6, 13}\n",
      "middle.py\n",
      "{2, 3, 9, 11, 12, 13}\n",
      "middle.py\n",
      "{2, 3, 9, 10, 13}\n",
      "middle.py\n",
      "{2, 3, 9, 11, 13}\n",
      "middle.py\n",
      "{2, 3, 4, 5, 13}\n",
      "middle.py\n",
      "{2, 3, 9, 11, 13}\n",
      "middle.py\n",
      "{2, 3, 9, 11, 13}\n",
      "middle.py\n",
      "{2, 3, 4, 5, 13}\n",
      "middle.py\n",
      "{2, 3, 4, 6, 7, 13}\n",
      "middle.py\n",
      "{2, 3, 4, 6, 13}\n",
      "middle.py\n",
      "{2, 3, 4, 6, 13}\n",
      "middle.py\n",
      "{2, 3, 9, 11, 13}\n",
      "middle.py\n",
      "{2, 3, 4, 6, 7, 13}\n",
      "middle.py\n",
      "{2, 3, 9, 11, 13}\n",
      "middle.py\n",
      "{2, 3, 9, 11, 12, 13}\n",
      "middle.py\n",
      "{2, 3, 9, 11, 12, 13}\n",
      "middle.py\n",
      "{2, 3, 4, 6, 7, 13}\n",
      "middle.py\n",
      "{2, 3, 4, 6, 7, 13}\n",
      "middle.py\n",
      "{2, 3, 9, 10, 13}\n",
      "middle.py\n",
      "{2, 3, 9, 10, 13}\n",
      "middle.py\n",
      "{2, 3, 9, 11, 13}\n",
      "middle.py\n",
      "{2, 3, 9, 10, 13}\n",
      "middle.py\n",
      "{2, 3, 9, 11, 13}\n",
      "middle.py\n",
      "{2, 3, 9, 10, 13}\n",
      "middle.py\n",
      "{2, 3, 9, 11, 12, 13}\n",
      "middle.py\n",
      "{2, 3, 9, 11, 12, 13}\n",
      "middle.py\n",
      "{2, 3, 9, 10, 13}\n",
      "middle.py\n",
      "{2, 3, 9, 10, 13}\n",
      "middle.py\n",
      "{2, 3, 4, 5, 13}\n",
      "middle.py\n",
      "{2, 3, 9, 10, 13}\n",
      "middle.py\n",
      "{2, 3, 4, 5, 13}\n",
      "middle.py\n",
      "{2, 3, 9, 11, 13}\n",
      "middle.py\n",
      "{2, 3, 9, 10, 13}\n"
     ]
    },
    {
     "ename": "KeyboardInterrupt",
     "evalue": "",
     "output_type": "error",
     "traceback": [
      "\u001b[0;31m---------------------------------------------------------------------------\u001b[0m",
      "\u001b[0;31mKeyboardInterrupt\u001b[0m                         Traceback (most recent call last)",
      "Cell \u001b[0;32mIn[28], line 3\u001b[0m\n\u001b[1;32m      1\u001b[0m logging\u001b[38;5;241m.\u001b[39mbasicConfig(filename\u001b[38;5;241m=\u001b[39m\u001b[38;5;124m'\u001b[39m\u001b[38;5;124mavix.log\u001b[39m\u001b[38;5;124m'\u001b[39m, filemode\u001b[38;5;241m=\u001b[39m\u001b[38;5;124m'\u001b[39m\u001b[38;5;124mw\u001b[39m\u001b[38;5;124m'\u001b[39m, encoding\u001b[38;5;241m=\u001b[39m\u001b[38;5;124m'\u001b[39m\u001b[38;5;124mutf-8\u001b[39m\u001b[38;5;124m'\u001b[39m, level\u001b[38;5;241m=\u001b[39mlogging\u001b[38;5;241m.\u001b[39mINFO, force\u001b[38;5;241m=\u001b[39m\u001b[38;5;28;01mTrue\u001b[39;00m)\n\u001b[1;32m      2\u001b[0m \u001b[38;5;66;03m# only 2 constraints used in the end why\u001b[39;00m\n\u001b[0;32m----> 3\u001b[0m best_invariant \u001b[38;5;241m=\u001b[39m \u001b[43mavix\u001b[49m\u001b[38;5;241;43m.\u001b[39;49m\u001b[43mexplain\u001b[49m\u001b[43m(\u001b[49m\u001b[43m)\u001b[49m \u001b[38;5;66;03m# unparse with islaunparse for further use\u001b[39;00m\n",
      "File \u001b[0;32m~/ba/avicenna/src/avicenna/avicenna.py:253\u001b[0m, in \u001b[0;36mAvicenna.explain\u001b[0;34m(self)\u001b[0m\n\u001b[1;32m    250\u001b[0m             LOGGER\u001b[38;5;241m.\u001b[39minfo(\u001b[38;5;124m\"\u001b[39m\u001b[38;5;124mTIMEOUT\u001b[39m\u001b[38;5;124m\"\u001b[39m)\n\u001b[1;32m    251\u001b[0m             \u001b[38;5;28;01mraise\u001b[39;00m \u001b[38;5;167;01mTimeoutError\u001b[39;00m(\u001b[38;5;28mself\u001b[39m\u001b[38;5;241m.\u001b[39mtimeout_seconds)\n\u001b[0;32m--> 253\u001b[0m     new_inputs \u001b[38;5;241m=\u001b[39m \u001b[38;5;28;43mself\u001b[39;49m\u001b[38;5;241;43m.\u001b[39;49m\u001b[43m_loop\u001b[49m\u001b[43m(\u001b[49m\u001b[43mnew_inputs\u001b[49m\u001b[43m)\u001b[49m\n\u001b[1;32m    255\u001b[0m \u001b[38;5;28;01mreturn\u001b[39;00m \u001b[38;5;28mself\u001b[39m\u001b[38;5;241m.\u001b[39mfinalize()\n",
      "File \u001b[0;32m~/ba/avicenna/src/avicenna/avicenna.py:304\u001b[0m, in \u001b[0;36mAvicenna._loop\u001b[0;34m(self, test_inputs)\u001b[0m\n\u001b[1;32m    301\u001b[0m test_inputs \u001b[38;5;241m=\u001b[39m \u001b[38;5;28mself\u001b[39m\u001b[38;5;241m.\u001b[39mconstruct_inputs(test_inputs)\n\u001b[1;32m    302\u001b[0m exclusion_non_terminals \u001b[38;5;241m=\u001b[39m \u001b[38;5;28mself\u001b[39m\u001b[38;5;241m.\u001b[39mlearn_relevant_features()\n\u001b[0;32m--> 304\u001b[0m new_candidates \u001b[38;5;241m=\u001b[39m \u001b[38;5;28;43mself\u001b[39;49m\u001b[38;5;241;43m.\u001b[39;49m\u001b[43mpattern_learner\u001b[49m\u001b[38;5;241;43m.\u001b[39;49m\u001b[43mlearn_failure_invariants\u001b[49m\u001b[43m(\u001b[49m\n\u001b[1;32m    305\u001b[0m \u001b[43m    \u001b[49m\u001b[43mtest_inputs\u001b[49m\u001b[43m,\u001b[49m\n\u001b[1;32m    306\u001b[0m \u001b[43m    \u001b[49m\u001b[38;5;28;43mself\u001b[39;49m\u001b[38;5;241;43m.\u001b[39;49m\u001b[43mprecision_truth_table\u001b[49m\u001b[43m,\u001b[49m\n\u001b[1;32m    307\u001b[0m \u001b[43m    \u001b[49m\u001b[38;5;28;43mself\u001b[39;49m\u001b[38;5;241;43m.\u001b[39;49m\u001b[43mrecall_truth_table\u001b[49m\u001b[43m,\u001b[49m\n\u001b[1;32m    308\u001b[0m \u001b[43m    \u001b[49m\u001b[43mexclusion_non_terminals\u001b[49m\u001b[43m,\u001b[49m\n\u001b[1;32m    309\u001b[0m \u001b[43m\u001b[49m\u001b[43m)\u001b[49m\n\u001b[1;32m    310\u001b[0m new_candidates \u001b[38;5;241m=\u001b[39m \u001b[38;5;28mset\u001b[39m([x[\u001b[38;5;241m0\u001b[39m] \u001b[38;5;28;01mfor\u001b[39;00m x \u001b[38;5;129;01min\u001b[39;00m new_candidates[:\u001b[38;5;241m20\u001b[39m]])\n\u001b[1;32m    312\u001b[0m \u001b[38;5;28mself\u001b[39m\u001b[38;5;241m.\u001b[39mbest_candidates \u001b[38;5;241m=\u001b[39m new_candidates\n",
      "File \u001b[0;32m~/ba/avicenna/src/avicenna/pattern_learner.py:259\u001b[0m, in \u001b[0;36mAviIslearn.learn_failure_invariants\u001b[0;34m(self, test_inputs, precision_truth_table, recall_truth_table, exclude_nonterminals)\u001b[0m\n\u001b[1;32m    256\u001b[0m \u001b[38;5;28mself\u001b[39m\u001b[38;5;241m.\u001b[39mupdate_inputs(positive_inputs, negative_inputs)\n\u001b[1;32m    257\u001b[0m \u001b[38;5;28mself\u001b[39m\u001b[38;5;241m.\u001b[39mexclude_nonterminals \u001b[38;5;241m=\u001b[39m exclude_nonterminals \u001b[38;5;129;01mor\u001b[39;00m \u001b[38;5;28mset\u001b[39m()\n\u001b[0;32m--> 259\u001b[0m \u001b[38;5;28;01mreturn\u001b[39;00m \u001b[38;5;28;43mself\u001b[39;49m\u001b[38;5;241;43m.\u001b[39;49m\u001b[43m_learn_invariants\u001b[49m\u001b[43m(\u001b[49m\n\u001b[1;32m    260\u001b[0m \u001b[43m    \u001b[49m\u001b[43mpositive_inputs\u001b[49m\u001b[43m,\u001b[49m\u001b[43m \u001b[49m\u001b[43mnegative_inputs\u001b[49m\u001b[43m,\u001b[49m\u001b[43m \u001b[49m\u001b[43mprecision_truth_table\u001b[49m\u001b[43m,\u001b[49m\u001b[43m \u001b[49m\u001b[43mrecall_truth_table\u001b[49m\n\u001b[1;32m    261\u001b[0m \u001b[43m\u001b[49m\u001b[43m)\u001b[49m\n",
      "File \u001b[0;32m~/ba/avicenna/src/avicenna/pattern_learner.py:291\u001b[0m, in \u001b[0;36mAviIslearn._learn_invariants\u001b[0;34m(self, positive_inputs, negative_inputs, precision_truth_table, recall_truth_table)\u001b[0m\n\u001b[1;32m    287\u001b[0m \u001b[38;5;28mself\u001b[39m\u001b[38;5;241m.\u001b[39mevaluate_recall(candidates, recall_truth_table, positive_inputs)\n\u001b[1;32m    289\u001b[0m \u001b[38;5;28mself\u001b[39m\u001b[38;5;241m.\u001b[39mfilter_candidates(precision_truth_table, recall_truth_table)\n\u001b[0;32m--> 291\u001b[0m \u001b[38;5;28;43mself\u001b[39;49m\u001b[38;5;241;43m.\u001b[39;49m\u001b[43mevaluate_precision\u001b[49m\u001b[43m(\u001b[49m\n\u001b[1;32m    292\u001b[0m \u001b[43m    \u001b[49m\u001b[43mprecision_truth_table\u001b[49m\u001b[43m,\u001b[49m\u001b[43m \u001b[49m\u001b[43mrecall_truth_table\u001b[49m\u001b[43m,\u001b[49m\u001b[43m \u001b[49m\u001b[43mnegative_inputs\u001b[49m\n\u001b[1;32m    293\u001b[0m \u001b[43m\u001b[49m\u001b[43m)\u001b[49m\n\u001b[1;32m    294\u001b[0m \u001b[38;5;28mself\u001b[39m\u001b[38;5;241m.\u001b[39mget_disjunctions()\n\u001b[1;32m    295\u001b[0m \u001b[38;5;28mself\u001b[39m\u001b[38;5;241m.\u001b[39mget_conjunctions(precision_truth_table, recall_truth_table)\n",
      "File \u001b[0;32m~/ba/avicenna/src/avicenna/pattern_learner.py:378\u001b[0m, in \u001b[0;36mAviIslearn.evaluate_precision\u001b[0;34m(self, precision_truth_table, recall_truth_table, negative_inputs)\u001b[0m\n\u001b[1;32m    376\u001b[0m \u001b[38;5;28;01mfor\u001b[39;00m row \u001b[38;5;129;01min\u001b[39;00m recall_truth_table:\n\u001b[1;32m    377\u001b[0m     \u001b[38;5;28;01mif\u001b[39;00m \u001b[38;5;28mlen\u001b[39m(recall_truth_table) \u001b[38;5;241m>\u001b[39m \u001b[38;5;241m0\u001b[39m \u001b[38;5;129;01mand\u001b[39;00m row \u001b[38;5;129;01min\u001b[39;00m precision_truth_table:\n\u001b[0;32m--> 378\u001b[0m         \u001b[43mprecision_truth_table\u001b[49m\u001b[43m[\u001b[49m\u001b[43mrow\u001b[49m\u001b[38;5;241;43m.\u001b[39;49m\u001b[43mformula\u001b[49m\u001b[43m]\u001b[49m\u001b[38;5;241;43m.\u001b[39;49m\u001b[43mevaluate\u001b[49m\u001b[43m(\u001b[49m\u001b[43mnegative_inputs\u001b[49m\u001b[43m,\u001b[49m\u001b[43m \u001b[49m\u001b[38;5;28;43mself\u001b[39;49m\u001b[38;5;241;43m.\u001b[39;49m\u001b[43mgraph\u001b[49m\u001b[43m)\u001b[49m\n\u001b[1;32m    379\u001b[0m     \u001b[38;5;28;01melse\u001b[39;00m:\n\u001b[1;32m    380\u001b[0m         \u001b[38;5;66;03m# print(\"Complete Eval Precision\")\u001b[39;00m\n\u001b[1;32m    381\u001b[0m         new_row \u001b[38;5;241m=\u001b[39m AvicennaTruthTableRow(row\u001b[38;5;241m.\u001b[39mformula)\n",
      "File \u001b[0;32m~/ba/avicenna/src/avicenna/pattern_learner.py:50\u001b[0m, in \u001b[0;36mAvicennaTruthTableRow.evaluate\u001b[0;34m(self, test_inputs, graph)\u001b[0m\n\u001b[1;32m     47\u001b[0m new_inputs \u001b[38;5;241m=\u001b[39m test_inputs \u001b[38;5;241m-\u001b[39m \u001b[38;5;28mself\u001b[39m\u001b[38;5;241m.\u001b[39minputs\n\u001b[1;32m     49\u001b[0m \u001b[38;5;28;01mfor\u001b[39;00m inp \u001b[38;5;129;01min\u001b[39;00m new_inputs:\n\u001b[0;32m---> 50\u001b[0m     eval_result \u001b[38;5;241m=\u001b[39m \u001b[43mevaluate\u001b[49m\u001b[43m(\u001b[49m\n\u001b[1;32m     51\u001b[0m \u001b[43m        \u001b[49m\u001b[38;5;28;43mself\u001b[39;49m\u001b[38;5;241;43m.\u001b[39;49m\u001b[43mformula\u001b[49m\u001b[43m,\u001b[49m\u001b[43m \u001b[49m\u001b[43minp\u001b[49m\u001b[38;5;241;43m.\u001b[39;49m\u001b[43mtree\u001b[49m\u001b[43m,\u001b[49m\u001b[43m \u001b[49m\u001b[43mgraph\u001b[49m\u001b[38;5;241;43m.\u001b[39;49m\u001b[43mgrammar\u001b[49m\u001b[43m,\u001b[49m\u001b[43m \u001b[49m\u001b[43mgraph\u001b[49m\u001b[38;5;241;43m=\u001b[39;49m\u001b[43mgraph\u001b[49m\n\u001b[1;32m     52\u001b[0m \u001b[43m    \u001b[49m\u001b[43m)\u001b[49m\u001b[38;5;241m.\u001b[39mis_true()\n\u001b[1;32m     53\u001b[0m     \u001b[38;5;28mself\u001b[39m\u001b[38;5;241m.\u001b[39mupdate_eval_results_and_combination(eval_result, inp)\n\u001b[1;32m     55\u001b[0m \u001b[38;5;28mself\u001b[39m\u001b[38;5;241m.\u001b[39minputs\u001b[38;5;241m.\u001b[39mupdate(new_inputs)\n",
      "File \u001b[0;32m~/.pyenv/versions/3.10.14/lib/python3.10/site-packages/isla/evaluator.py:144\u001b[0m, in \u001b[0;36mevaluate\u001b[0;34m(formula, reference_tree, grammar, structural_predicates, semantic_predicates, assumptions, subtrees_trie, graph)\u001b[0m\n\u001b[1;32m    131\u001b[0m \u001b[38;5;66;03m# NOTE: Deactivated, might be too strict for evaluation (though maybe\u001b[39;00m\n\u001b[1;32m    132\u001b[0m \u001b[38;5;66;03m#       necessary for solving). See comment in well_formed.\u001b[39;00m\n\u001b[1;32m    133\u001b[0m \u001b[38;5;66;03m# if assertions_activated():\u001b[39;00m\n\u001b[1;32m    134\u001b[0m \u001b[38;5;66;03m#     res, msg = well_formed(formula, grammar)\u001b[39;00m\n\u001b[1;32m    135\u001b[0m \u001b[38;5;66;03m#     assert res, msg\u001b[39;00m\n\u001b[1;32m    137\u001b[0m \u001b[38;5;28;01mif\u001b[39;00m \u001b[38;5;129;01mnot\u001b[39;00m assumptions \u001b[38;5;129;01mand\u001b[39;00m \u001b[38;5;129;01mnot\u001b[39;00m FilterVisitor(\n\u001b[1;32m    138\u001b[0m     \u001b[38;5;28;01mlambda\u001b[39;00m f: \u001b[38;5;28misinstance\u001b[39m(f, NumericQuantifiedFormula)\n\u001b[1;32m    139\u001b[0m )\u001b[38;5;241m.\u001b[39mcollect(formula):\n\u001b[0;32m   (...)\u001b[0m\n\u001b[1;32m    142\u001b[0m     \u001b[38;5;66;03m# assumptions, but the implemented method works and we would rather not invest\u001b[39;00m\n\u001b[1;32m    143\u001b[0m     \u001b[38;5;66;03m# that work to gain some seconds of performance.\u001b[39;00m\n\u001b[0;32m--> 144\u001b[0m     \u001b[38;5;28;01mreturn\u001b[39;00m \u001b[43mevaluate_legacy\u001b[49m\u001b[43m(\u001b[49m\n\u001b[1;32m    145\u001b[0m \u001b[43m        \u001b[49m\u001b[43mformula\u001b[49m\u001b[43m,\u001b[49m\u001b[43m \u001b[49m\u001b[43mgrammar\u001b[49m\u001b[43m,\u001b[49m\u001b[43m \u001b[49m\u001b[43m{\u001b[49m\u001b[43m}\u001b[49m\u001b[43m,\u001b[49m\u001b[43m \u001b[49m\u001b[43mreference_tree\u001b[49m\u001b[43m,\u001b[49m\u001b[43m \u001b[49m\u001b[43mtrie\u001b[49m\u001b[38;5;241;43m=\u001b[39;49m\u001b[43msubtrees_trie\u001b[49m\u001b[43m,\u001b[49m\u001b[43m \u001b[49m\u001b[43mgraph\u001b[49m\u001b[38;5;241;43m=\u001b[39;49m\u001b[43mgraph\u001b[49m\n\u001b[1;32m    146\u001b[0m \u001b[43m    \u001b[49m\u001b[43m)\u001b[49m\n\u001b[1;32m    148\u001b[0m qfr_free: Formula \u001b[38;5;241m=\u001b[39m eliminate_quantifiers(\n\u001b[1;32m    149\u001b[0m     formula,\n\u001b[1;32m    150\u001b[0m     grammar\u001b[38;5;241m=\u001b[39mgrammar,\n\u001b[0;32m   (...)\u001b[0m\n\u001b[1;32m    156\u001b[0m     },\n\u001b[1;32m    157\u001b[0m )\n\u001b[1;32m    159\u001b[0m \u001b[38;5;66;03m# Substitute assumptions\u001b[39;00m\n\u001b[1;32m    160\u001b[0m \n\u001b[1;32m    161\u001b[0m \u001b[38;5;66;03m# First, eliminate quantifiers in assumptions. We don't supply any numeric constants\u001b[39;00m\n\u001b[1;32m    162\u001b[0m \u001b[38;5;66;03m# here, as this would be unsound in assumptions: We know that the core holds for any\u001b[39;00m\n\u001b[1;32m    163\u001b[0m \u001b[38;5;66;03m# int, but not for which one.\u001b[39;00m\n",
      "File \u001b[0;32m~/.pyenv/versions/3.10.14/lib/python3.10/site-packages/isla/evaluator.py:643\u001b[0m, in \u001b[0;36mevaluate_legacy\u001b[0;34m(formula, grammar, assignments, reference_tree, trie, graph)\u001b[0m\n\u001b[1;32m    636\u001b[0m \u001b[38;5;28;01mdef\u001b[39;00m \u001b[38;5;21mraise_not_implemented_error\u001b[39m(\n\u001b[1;32m    637\u001b[0m     f: Formula,\n\u001b[1;32m    638\u001b[0m ) \u001b[38;5;241m-\u001b[39m\u001b[38;5;241m>\u001b[39m Maybe[ThreeValuedTruth]:\n\u001b[1;32m    639\u001b[0m     \u001b[38;5;28;01mraise\u001b[39;00m \u001b[38;5;167;01mNotImplementedError\u001b[39;00m(\n\u001b[1;32m    640\u001b[0m         \u001b[38;5;124mf\u001b[39m\u001b[38;5;124m\"\u001b[39m\u001b[38;5;124mDon\u001b[39m\u001b[38;5;124m'\u001b[39m\u001b[38;5;124mt know how to evaluate the formula \u001b[39m\u001b[38;5;132;01m{\u001b[39;00munparse_isla(f)\u001b[38;5;132;01m}\u001b[39;00m\u001b[38;5;124m\"\u001b[39m\n\u001b[1;32m    641\u001b[0m     )\n\u001b[0;32m--> 643\u001b[0m \u001b[38;5;28;01mreturn\u001b[39;00m \u001b[43mflow\u001b[49m\u001b[43m(\u001b[49m\n\u001b[1;32m    644\u001b[0m \u001b[43m    \u001b[49m\u001b[43mNothing\u001b[49m\u001b[43m,\u001b[49m\n\u001b[1;32m    645\u001b[0m \u001b[43m    \u001b[49m\u001b[38;5;241;43m*\u001b[39;49m\u001b[38;5;28;43mmap\u001b[39;49m\u001b[43m(\u001b[49m\n\u001b[1;32m    646\u001b[0m \u001b[43m        \u001b[49m\u001b[43mcompose\u001b[49m\u001b[43m(\u001b[49m\n\u001b[1;32m    647\u001b[0m \u001b[43m            \u001b[49m\u001b[38;5;28;43;01mlambda\u001b[39;49;00m\u001b[43m \u001b[49m\u001b[43mf\u001b[49m\u001b[43m:\u001b[49m\u001b[43m \u001b[49m\u001b[43m(\u001b[49m\n\u001b[1;32m    648\u001b[0m \u001b[43m                \u001b[49m\u001b[38;5;28;43;01mlambda\u001b[39;49;00m\u001b[43m \u001b[49m\u001b[43m_\u001b[49m\u001b[43m:\u001b[49m\u001b[43m \u001b[49m\u001b[43mf\u001b[49m\u001b[43m(\u001b[49m\n\u001b[1;32m    649\u001b[0m \u001b[43m                    \u001b[49m\u001b[43mformula\u001b[49m\u001b[43m,\u001b[49m\u001b[43m \u001b[49m\u001b[43massignments\u001b[49m\u001b[43m,\u001b[49m\u001b[43m \u001b[49m\u001b[43mreference_tree\u001b[49m\u001b[43m,\u001b[49m\u001b[43m \u001b[49m\u001b[43mgraph\u001b[49m\u001b[43m,\u001b[49m\u001b[43m \u001b[49m\u001b[43mgrammar\u001b[49m\u001b[43m,\u001b[49m\u001b[43m \u001b[49m\u001b[43mtrie\u001b[49m\n\u001b[1;32m    650\u001b[0m \u001b[43m                \u001b[49m\u001b[43m)\u001b[49m\n\u001b[1;32m    651\u001b[0m \u001b[43m            \u001b[49m\u001b[43m)\u001b[49m\u001b[43m,\u001b[49m\n\u001b[1;32m    652\u001b[0m \u001b[43m            \u001b[49m\u001b[43mlash\u001b[49m\u001b[43m,\u001b[49m\n\u001b[1;32m    653\u001b[0m \u001b[43m        \u001b[49m\u001b[43m)\u001b[49m\u001b[43m,\u001b[49m\n\u001b[1;32m    654\u001b[0m \u001b[43m        \u001b[49m\u001b[43m[\u001b[49m\n\u001b[1;32m    655\u001b[0m \u001b[43m            \u001b[49m\u001b[43mevaluate_exists_int_formula\u001b[49m\u001b[43m,\u001b[49m\n\u001b[1;32m    656\u001b[0m \u001b[43m            \u001b[49m\u001b[43mevaluate_smt_formula\u001b[49m\u001b[43m,\u001b[49m\n\u001b[1;32m    657\u001b[0m \u001b[43m            \u001b[49m\u001b[43mevaluate_quantified_formula\u001b[49m\u001b[43m,\u001b[49m\n\u001b[1;32m    658\u001b[0m \u001b[43m            \u001b[49m\u001b[43mevaluate_structural_predicate_formula\u001b[49m\u001b[43m,\u001b[49m\n\u001b[1;32m    659\u001b[0m \u001b[43m            \u001b[49m\u001b[43mevaluate_semantic_predicate_formula\u001b[49m\u001b[43m,\u001b[49m\n\u001b[1;32m    660\u001b[0m \u001b[43m            \u001b[49m\u001b[43mevaluate_negated_formula_formula\u001b[49m\u001b[43m,\u001b[49m\n\u001b[1;32m    661\u001b[0m \u001b[43m            \u001b[49m\u001b[43mevaluate_conjunctive_formula_formula\u001b[49m\u001b[43m,\u001b[49m\n\u001b[1;32m    662\u001b[0m \u001b[43m            \u001b[49m\u001b[43mevaluate_disjunctive_formula\u001b[49m\u001b[43m,\u001b[49m\n\u001b[1;32m    663\u001b[0m \u001b[43m            \u001b[49m\u001b[43mraise_not_implemented_error\u001b[49m\u001b[43m,\u001b[49m\n\u001b[1;32m    664\u001b[0m \u001b[43m        \u001b[49m\u001b[43m]\u001b[49m\u001b[43m,\u001b[49m\n\u001b[1;32m    665\u001b[0m \u001b[43m    \u001b[49m\u001b[43m)\u001b[49m\u001b[43m,\u001b[49m\n\u001b[1;32m    666\u001b[0m \u001b[43m\u001b[49m\u001b[43m)\u001b[49m\u001b[38;5;241m.\u001b[39munwrap()\n",
      "File \u001b[0;32m~/.pyenv/versions/3.10.14/lib/python3.10/site-packages/returns/_internal/pipeline/flow.py:50\u001b[0m, in \u001b[0;36mflow\u001b[0;34m(instance, *functions)\u001b[0m\n\u001b[1;32m      9\u001b[0m \u001b[38;5;28;01mdef\u001b[39;00m \u001b[38;5;21mflow\u001b[39m(\n\u001b[1;32m     10\u001b[0m     instance: _InstanceType,\n\u001b[1;32m     11\u001b[0m     \u001b[38;5;241m*\u001b[39mfunctions: _PipelineStepType,\n\u001b[1;32m     12\u001b[0m ) \u001b[38;5;241m-\u001b[39m\u001b[38;5;241m>\u001b[39m _ReturnType:  \u001b[38;5;66;03m# type: ignore[type-var]\u001b[39;00m\n\u001b[1;32m     13\u001b[0m \u001b[38;5;250m    \u001b[39m\u001b[38;5;124;03m\"\"\"\u001b[39;00m\n\u001b[1;32m     14\u001b[0m \u001b[38;5;124;03m    Allows to compose a value and up to multiple functions that use this value.\u001b[39;00m\n\u001b[1;32m     15\u001b[0m \n\u001b[0;32m   (...)\u001b[0m\n\u001b[1;32m     48\u001b[0m \u001b[38;5;124;03m    Requires our :ref:`mypy plugin <mypy-plugins>`.\u001b[39;00m\n\u001b[1;32m     49\u001b[0m \u001b[38;5;124;03m    \"\"\"\u001b[39;00m\n\u001b[0;32m---> 50\u001b[0m     \u001b[38;5;28;01mreturn\u001b[39;00m \u001b[43mreduce\u001b[49m\u001b[43m(\u001b[49m\u001b[43m  \u001b[49m\u001b[38;5;66;43;03m# type: ignore\u001b[39;49;00m\n\u001b[1;32m     51\u001b[0m \u001b[43m        \u001b[49m\u001b[38;5;28;43;01mlambda\u001b[39;49;00m\u001b[43m \u001b[49m\u001b[43mcomposed\u001b[49m\u001b[43m,\u001b[49m\u001b[43m \u001b[49m\u001b[43mfunction\u001b[49m\u001b[43m:\u001b[49m\u001b[43m \u001b[49m\u001b[43mfunction\u001b[49m\u001b[43m(\u001b[49m\u001b[43mcomposed\u001b[49m\u001b[43m)\u001b[49m\u001b[43m,\u001b[49m\u001b[43m  \u001b[49m\u001b[38;5;66;43;03m# type: ignore\u001b[39;49;00m\n\u001b[1;32m     52\u001b[0m \u001b[43m        \u001b[49m\u001b[43mfunctions\u001b[49m\u001b[43m,\u001b[49m\n\u001b[1;32m     53\u001b[0m \u001b[43m        \u001b[49m\u001b[43minstance\u001b[49m\u001b[43m,\u001b[49m\n\u001b[1;32m     54\u001b[0m \u001b[43m    \u001b[49m\u001b[43m)\u001b[49m\n",
      "File \u001b[0;32m~/.pyenv/versions/3.10.14/lib/python3.10/site-packages/returns/_internal/pipeline/flow.py:51\u001b[0m, in \u001b[0;36mflow.<locals>.<lambda>\u001b[0;34m(composed, function)\u001b[0m\n\u001b[1;32m      9\u001b[0m \u001b[38;5;28;01mdef\u001b[39;00m \u001b[38;5;21mflow\u001b[39m(\n\u001b[1;32m     10\u001b[0m     instance: _InstanceType,\n\u001b[1;32m     11\u001b[0m     \u001b[38;5;241m*\u001b[39mfunctions: _PipelineStepType,\n\u001b[1;32m     12\u001b[0m ) \u001b[38;5;241m-\u001b[39m\u001b[38;5;241m>\u001b[39m _ReturnType:  \u001b[38;5;66;03m# type: ignore[type-var]\u001b[39;00m\n\u001b[1;32m     13\u001b[0m \u001b[38;5;250m    \u001b[39m\u001b[38;5;124;03m\"\"\"\u001b[39;00m\n\u001b[1;32m     14\u001b[0m \u001b[38;5;124;03m    Allows to compose a value and up to multiple functions that use this value.\u001b[39;00m\n\u001b[1;32m     15\u001b[0m \n\u001b[0;32m   (...)\u001b[0m\n\u001b[1;32m     48\u001b[0m \u001b[38;5;124;03m    Requires our :ref:`mypy plugin <mypy-plugins>`.\u001b[39;00m\n\u001b[1;32m     49\u001b[0m \u001b[38;5;124;03m    \"\"\"\u001b[39;00m\n\u001b[1;32m     50\u001b[0m     \u001b[38;5;28;01mreturn\u001b[39;00m reduce(  \u001b[38;5;66;03m# type: ignore\u001b[39;00m\n\u001b[0;32m---> 51\u001b[0m         \u001b[38;5;28;01mlambda\u001b[39;00m composed, function: \u001b[43mfunction\u001b[49m\u001b[43m(\u001b[49m\u001b[43mcomposed\u001b[49m\u001b[43m)\u001b[49m,  \u001b[38;5;66;03m# type: ignore\u001b[39;00m\n\u001b[1;32m     52\u001b[0m         functions,\n\u001b[1;32m     53\u001b[0m         instance,\n\u001b[1;32m     54\u001b[0m     )\n",
      "File \u001b[0;32m~/.pyenv/versions/3.10.14/lib/python3.10/site-packages/returns/pointfree/lash.py:55\u001b[0m, in \u001b[0;36mlash.<locals>.factory\u001b[0;34m(container)\u001b[0m\n\u001b[1;32m     51\u001b[0m \u001b[38;5;129m@kinded\u001b[39m\n\u001b[1;32m     52\u001b[0m \u001b[38;5;28;01mdef\u001b[39;00m \u001b[38;5;21mfactory\u001b[39m(\n\u001b[1;32m     53\u001b[0m     container: KindN[_LashableKind, _FirstType, _SecondType, _ThirdType],\n\u001b[1;32m     54\u001b[0m ) \u001b[38;5;241m-\u001b[39m\u001b[38;5;241m>\u001b[39m KindN[_LashableKind, _FirstType, _UpdatedType, _ThirdType]:\n\u001b[0;32m---> 55\u001b[0m     \u001b[38;5;28;01mreturn\u001b[39;00m \u001b[43mcontainer\u001b[49m\u001b[38;5;241;43m.\u001b[39;49m\u001b[43mlash\u001b[49m\u001b[43m(\u001b[49m\u001b[43mfunction\u001b[49m\u001b[43m)\u001b[49m\n",
      "File \u001b[0;32m~/.pyenv/versions/3.10.14/lib/python3.10/site-packages/returns/maybe.py:380\u001b[0m, in \u001b[0;36m_Nothing.lash\u001b[0;34m(self, function)\u001b[0m\n\u001b[1;32m    378\u001b[0m \u001b[38;5;28;01mdef\u001b[39;00m \u001b[38;5;21mlash\u001b[39m(\u001b[38;5;28mself\u001b[39m, function):\n\u001b[1;32m    379\u001b[0m \u001b[38;5;250m    \u001b[39m\u001b[38;5;124;03m\"\"\"Composes this container with a function returning container.\"\"\"\u001b[39;00m\n\u001b[0;32m--> 380\u001b[0m     \u001b[38;5;28;01mreturn\u001b[39;00m \u001b[43mfunction\u001b[49m\u001b[43m(\u001b[49m\u001b[38;5;28;43;01mNone\u001b[39;49;00m\u001b[43m)\u001b[49m\n",
      "File \u001b[0;32m~/.pyenv/versions/3.10.14/lib/python3.10/site-packages/isla/evaluator.py:648\u001b[0m, in \u001b[0;36mevaluate_legacy.<locals>.<lambda>.<locals>.<lambda>\u001b[0;34m(_)\u001b[0m\n\u001b[1;32m    636\u001b[0m \u001b[38;5;28;01mdef\u001b[39;00m \u001b[38;5;21mraise_not_implemented_error\u001b[39m(\n\u001b[1;32m    637\u001b[0m     f: Formula,\n\u001b[1;32m    638\u001b[0m ) \u001b[38;5;241m-\u001b[39m\u001b[38;5;241m>\u001b[39m Maybe[ThreeValuedTruth]:\n\u001b[1;32m    639\u001b[0m     \u001b[38;5;28;01mraise\u001b[39;00m \u001b[38;5;167;01mNotImplementedError\u001b[39;00m(\n\u001b[1;32m    640\u001b[0m         \u001b[38;5;124mf\u001b[39m\u001b[38;5;124m\"\u001b[39m\u001b[38;5;124mDon\u001b[39m\u001b[38;5;124m'\u001b[39m\u001b[38;5;124mt know how to evaluate the formula \u001b[39m\u001b[38;5;132;01m{\u001b[39;00munparse_isla(f)\u001b[38;5;132;01m}\u001b[39;00m\u001b[38;5;124m\"\u001b[39m\n\u001b[1;32m    641\u001b[0m     )\n\u001b[1;32m    643\u001b[0m \u001b[38;5;28;01mreturn\u001b[39;00m flow(\n\u001b[1;32m    644\u001b[0m     Nothing,\n\u001b[1;32m    645\u001b[0m     \u001b[38;5;241m*\u001b[39m\u001b[38;5;28mmap\u001b[39m(\n\u001b[1;32m    646\u001b[0m         compose(\n\u001b[1;32m    647\u001b[0m             \u001b[38;5;28;01mlambda\u001b[39;00m f: (\n\u001b[0;32m--> 648\u001b[0m                 \u001b[38;5;28;01mlambda\u001b[39;00m _: \u001b[43mf\u001b[49m\u001b[43m(\u001b[49m\n\u001b[1;32m    649\u001b[0m \u001b[43m                    \u001b[49m\u001b[43mformula\u001b[49m\u001b[43m,\u001b[49m\u001b[43m \u001b[49m\u001b[43massignments\u001b[49m\u001b[43m,\u001b[49m\u001b[43m \u001b[49m\u001b[43mreference_tree\u001b[49m\u001b[43m,\u001b[49m\u001b[43m \u001b[49m\u001b[43mgraph\u001b[49m\u001b[43m,\u001b[49m\u001b[43m \u001b[49m\u001b[43mgrammar\u001b[49m\u001b[43m,\u001b[49m\u001b[43m \u001b[49m\u001b[43mtrie\u001b[49m\n\u001b[1;32m    650\u001b[0m \u001b[43m                \u001b[49m\u001b[43m)\u001b[49m\n\u001b[1;32m    651\u001b[0m             ),\n\u001b[1;32m    652\u001b[0m             lash,\n\u001b[1;32m    653\u001b[0m         ),\n\u001b[1;32m    654\u001b[0m         [\n\u001b[1;32m    655\u001b[0m             evaluate_exists_int_formula,\n\u001b[1;32m    656\u001b[0m             evaluate_smt_formula,\n\u001b[1;32m    657\u001b[0m             evaluate_quantified_formula,\n\u001b[1;32m    658\u001b[0m             evaluate_structural_predicate_formula,\n\u001b[1;32m    659\u001b[0m             evaluate_semantic_predicate_formula,\n\u001b[1;32m    660\u001b[0m             evaluate_negated_formula_formula,\n\u001b[1;32m    661\u001b[0m             evaluate_conjunctive_formula_formula,\n\u001b[1;32m    662\u001b[0m             evaluate_disjunctive_formula,\n\u001b[1;32m    663\u001b[0m             raise_not_implemented_error,\n\u001b[1;32m    664\u001b[0m         ],\n\u001b[1;32m    665\u001b[0m     ),\n\u001b[1;32m    666\u001b[0m )\u001b[38;5;241m.\u001b[39munwrap()\n",
      "File \u001b[0;32m~/.pyenv/versions/3.10.14/lib/python3.10/site-packages/isla/evaluator.py:846\u001b[0m, in \u001b[0;36mevaluate_quantified_formula\u001b[0;34m(formula, assignments, reference_tree, graph, grammar, trie)\u001b[0m\n\u001b[1;32m    832\u001b[0m     \u001b[38;5;28;01mreturn\u001b[39;00m Some(\n\u001b[1;32m    833\u001b[0m         ThreeValuedTruth\u001b[38;5;241m.\u001b[39mall(\n\u001b[1;32m    834\u001b[0m             evaluate_legacy(\n\u001b[0;32m   (...)\u001b[0m\n\u001b[1;32m    843\u001b[0m         )\n\u001b[1;32m    844\u001b[0m     )\n\u001b[1;32m    845\u001b[0m \u001b[38;5;28;01melif\u001b[39;00m \u001b[38;5;28misinstance\u001b[39m(formula, ExistsFormula):\n\u001b[0;32m--> 846\u001b[0m     result \u001b[38;5;241m=\u001b[39m \u001b[43mThreeValuedTruth\u001b[49m\u001b[38;5;241;43m.\u001b[39;49m\u001b[43many\u001b[49m\u001b[43m(\u001b[49m\n\u001b[1;32m    847\u001b[0m \u001b[43m        \u001b[49m\u001b[43mevaluate_legacy\u001b[49m\u001b[43m(\u001b[49m\n\u001b[1;32m    848\u001b[0m \u001b[43m            \u001b[49m\u001b[43mformula\u001b[49m\u001b[38;5;241;43m.\u001b[39;49m\u001b[43minner_formula\u001b[49m\u001b[43m,\u001b[49m\n\u001b[1;32m    849\u001b[0m \u001b[43m            \u001b[49m\u001b[43mgrammar\u001b[49m\u001b[43m,\u001b[49m\n\u001b[1;32m    850\u001b[0m \u001b[43m            \u001b[49m\u001b[43mnew_assignment\u001b[49m\u001b[43m,\u001b[49m\n\u001b[1;32m    851\u001b[0m \u001b[43m            \u001b[49m\u001b[43mreference_tree\u001b[49m\u001b[43m,\u001b[49m\n\u001b[1;32m    852\u001b[0m \u001b[43m            \u001b[49m\u001b[43mtrie\u001b[49m\u001b[43m,\u001b[49m\n\u001b[1;32m    853\u001b[0m \u001b[43m            \u001b[49m\u001b[43mgraph\u001b[49m\u001b[38;5;241;43m=\u001b[39;49m\u001b[43mgraph\u001b[49m\u001b[43m,\u001b[49m\n\u001b[1;32m    854\u001b[0m \u001b[43m        \u001b[49m\u001b[43m)\u001b[49m\n\u001b[1;32m    855\u001b[0m \u001b[43m        \u001b[49m\u001b[38;5;28;43;01mfor\u001b[39;49;00m\u001b[43m \u001b[49m\u001b[43mnew_assignment\u001b[49m\u001b[43m \u001b[49m\u001b[38;5;129;43;01min\u001b[39;49;00m\u001b[43m \u001b[49m\u001b[43mnew_assignments\u001b[49m\n\u001b[1;32m    856\u001b[0m \u001b[43m    \u001b[49m\u001b[43m)\u001b[49m\n\u001b[1;32m    858\u001b[0m     \u001b[38;5;28;01mreturn\u001b[39;00m Some(\n\u001b[1;32m    859\u001b[0m         ThreeValuedTruth\u001b[38;5;241m.\u001b[39munknown()\n\u001b[1;32m    860\u001b[0m         \u001b[38;5;28;01mif\u001b[39;00m \u001b[38;5;129;01mnot\u001b[39;00m result\u001b[38;5;241m.\u001b[39mis_true() \u001b[38;5;129;01mand\u001b[39;00m has_potential_matches\n\u001b[1;32m    861\u001b[0m         \u001b[38;5;28;01melse\u001b[39;00m result\n\u001b[1;32m    862\u001b[0m     )\n",
      "File \u001b[0;32m~/.pyenv/versions/3.10.14/lib/python3.10/site-packages/isla/three_valued_truth.py:62\u001b[0m, in \u001b[0;36mThreeValuedTruth.any\u001b[0;34m(args)\u001b[0m\n\u001b[1;32m     60\u001b[0m \u001b[38;5;129m@staticmethod\u001b[39m\n\u001b[1;32m     61\u001b[0m \u001b[38;5;28;01mdef\u001b[39;00m \u001b[38;5;21many\u001b[39m(args: Iterable[\u001b[38;5;124m\"\u001b[39m\u001b[38;5;124mThreeValuedTruth\u001b[39m\u001b[38;5;124m\"\u001b[39m]) \u001b[38;5;241m-\u001b[39m\u001b[38;5;241m>\u001b[39m \u001b[38;5;124m\"\u001b[39m\u001b[38;5;124mThreeValuedTruth\u001b[39m\u001b[38;5;124m\"\u001b[39m:\n\u001b[0;32m---> 62\u001b[0m     args \u001b[38;5;241m=\u001b[39m \u001b[38;5;28;43mlist\u001b[39;49m\u001b[43m(\u001b[49m\u001b[43margs\u001b[49m\u001b[43m)\u001b[49m\n\u001b[1;32m     63\u001b[0m     \u001b[38;5;28;01mif\u001b[39;00m \u001b[38;5;28many\u001b[39m(elem\u001b[38;5;241m.\u001b[39mis_true() \u001b[38;5;28;01mfor\u001b[39;00m elem \u001b[38;5;129;01min\u001b[39;00m args):\n\u001b[1;32m     64\u001b[0m         \u001b[38;5;28;01mreturn\u001b[39;00m ThreeValuedTruth\u001b[38;5;241m.\u001b[39mtrue()\n",
      "File \u001b[0;32m~/.pyenv/versions/3.10.14/lib/python3.10/site-packages/isla/evaluator.py:847\u001b[0m, in \u001b[0;36m<genexpr>\u001b[0;34m(.0)\u001b[0m\n\u001b[1;32m    832\u001b[0m     \u001b[38;5;28;01mreturn\u001b[39;00m Some(\n\u001b[1;32m    833\u001b[0m         ThreeValuedTruth\u001b[38;5;241m.\u001b[39mall(\n\u001b[1;32m    834\u001b[0m             evaluate_legacy(\n\u001b[0;32m   (...)\u001b[0m\n\u001b[1;32m    843\u001b[0m         )\n\u001b[1;32m    844\u001b[0m     )\n\u001b[1;32m    845\u001b[0m \u001b[38;5;28;01melif\u001b[39;00m \u001b[38;5;28misinstance\u001b[39m(formula, ExistsFormula):\n\u001b[1;32m    846\u001b[0m     result \u001b[38;5;241m=\u001b[39m ThreeValuedTruth\u001b[38;5;241m.\u001b[39many(\n\u001b[0;32m--> 847\u001b[0m         \u001b[43mevaluate_legacy\u001b[49m\u001b[43m(\u001b[49m\n\u001b[1;32m    848\u001b[0m \u001b[43m            \u001b[49m\u001b[43mformula\u001b[49m\u001b[38;5;241;43m.\u001b[39;49m\u001b[43minner_formula\u001b[49m\u001b[43m,\u001b[49m\n\u001b[1;32m    849\u001b[0m \u001b[43m            \u001b[49m\u001b[43mgrammar\u001b[49m\u001b[43m,\u001b[49m\n\u001b[1;32m    850\u001b[0m \u001b[43m            \u001b[49m\u001b[43mnew_assignment\u001b[49m\u001b[43m,\u001b[49m\n\u001b[1;32m    851\u001b[0m \u001b[43m            \u001b[49m\u001b[43mreference_tree\u001b[49m\u001b[43m,\u001b[49m\n\u001b[1;32m    852\u001b[0m \u001b[43m            \u001b[49m\u001b[43mtrie\u001b[49m\u001b[43m,\u001b[49m\n\u001b[1;32m    853\u001b[0m \u001b[43m            \u001b[49m\u001b[43mgraph\u001b[49m\u001b[38;5;241;43m=\u001b[39;49m\u001b[43mgraph\u001b[49m\u001b[43m,\u001b[49m\n\u001b[1;32m    854\u001b[0m \u001b[43m        \u001b[49m\u001b[43m)\u001b[49m\n\u001b[1;32m    855\u001b[0m         \u001b[38;5;28;01mfor\u001b[39;00m new_assignment \u001b[38;5;129;01min\u001b[39;00m new_assignments\n\u001b[1;32m    856\u001b[0m     )\n\u001b[1;32m    858\u001b[0m     \u001b[38;5;28;01mreturn\u001b[39;00m Some(\n\u001b[1;32m    859\u001b[0m         ThreeValuedTruth\u001b[38;5;241m.\u001b[39munknown()\n\u001b[1;32m    860\u001b[0m         \u001b[38;5;28;01mif\u001b[39;00m \u001b[38;5;129;01mnot\u001b[39;00m result\u001b[38;5;241m.\u001b[39mis_true() \u001b[38;5;129;01mand\u001b[39;00m has_potential_matches\n\u001b[1;32m    861\u001b[0m         \u001b[38;5;28;01melse\u001b[39;00m result\n\u001b[1;32m    862\u001b[0m     )\n",
      "File \u001b[0;32m~/.pyenv/versions/3.10.14/lib/python3.10/site-packages/isla/evaluator.py:643\u001b[0m, in \u001b[0;36mevaluate_legacy\u001b[0;34m(formula, grammar, assignments, reference_tree, trie, graph)\u001b[0m\n\u001b[1;32m    636\u001b[0m \u001b[38;5;28;01mdef\u001b[39;00m \u001b[38;5;21mraise_not_implemented_error\u001b[39m(\n\u001b[1;32m    637\u001b[0m     f: Formula,\n\u001b[1;32m    638\u001b[0m ) \u001b[38;5;241m-\u001b[39m\u001b[38;5;241m>\u001b[39m Maybe[ThreeValuedTruth]:\n\u001b[1;32m    639\u001b[0m     \u001b[38;5;28;01mraise\u001b[39;00m \u001b[38;5;167;01mNotImplementedError\u001b[39;00m(\n\u001b[1;32m    640\u001b[0m         \u001b[38;5;124mf\u001b[39m\u001b[38;5;124m\"\u001b[39m\u001b[38;5;124mDon\u001b[39m\u001b[38;5;124m'\u001b[39m\u001b[38;5;124mt know how to evaluate the formula \u001b[39m\u001b[38;5;132;01m{\u001b[39;00munparse_isla(f)\u001b[38;5;132;01m}\u001b[39;00m\u001b[38;5;124m\"\u001b[39m\n\u001b[1;32m    641\u001b[0m     )\n\u001b[0;32m--> 643\u001b[0m \u001b[38;5;28;01mreturn\u001b[39;00m \u001b[43mflow\u001b[49m\u001b[43m(\u001b[49m\n\u001b[1;32m    644\u001b[0m \u001b[43m    \u001b[49m\u001b[43mNothing\u001b[49m\u001b[43m,\u001b[49m\n\u001b[1;32m    645\u001b[0m \u001b[43m    \u001b[49m\u001b[38;5;241;43m*\u001b[39;49m\u001b[38;5;28;43mmap\u001b[39;49m\u001b[43m(\u001b[49m\n\u001b[1;32m    646\u001b[0m \u001b[43m        \u001b[49m\u001b[43mcompose\u001b[49m\u001b[43m(\u001b[49m\n\u001b[1;32m    647\u001b[0m \u001b[43m            \u001b[49m\u001b[38;5;28;43;01mlambda\u001b[39;49;00m\u001b[43m \u001b[49m\u001b[43mf\u001b[49m\u001b[43m:\u001b[49m\u001b[43m \u001b[49m\u001b[43m(\u001b[49m\n\u001b[1;32m    648\u001b[0m \u001b[43m                \u001b[49m\u001b[38;5;28;43;01mlambda\u001b[39;49;00m\u001b[43m \u001b[49m\u001b[43m_\u001b[49m\u001b[43m:\u001b[49m\u001b[43m \u001b[49m\u001b[43mf\u001b[49m\u001b[43m(\u001b[49m\n\u001b[1;32m    649\u001b[0m \u001b[43m                    \u001b[49m\u001b[43mformula\u001b[49m\u001b[43m,\u001b[49m\u001b[43m \u001b[49m\u001b[43massignments\u001b[49m\u001b[43m,\u001b[49m\u001b[43m \u001b[49m\u001b[43mreference_tree\u001b[49m\u001b[43m,\u001b[49m\u001b[43m \u001b[49m\u001b[43mgraph\u001b[49m\u001b[43m,\u001b[49m\u001b[43m \u001b[49m\u001b[43mgrammar\u001b[49m\u001b[43m,\u001b[49m\u001b[43m \u001b[49m\u001b[43mtrie\u001b[49m\n\u001b[1;32m    650\u001b[0m \u001b[43m                \u001b[49m\u001b[43m)\u001b[49m\n\u001b[1;32m    651\u001b[0m \u001b[43m            \u001b[49m\u001b[43m)\u001b[49m\u001b[43m,\u001b[49m\n\u001b[1;32m    652\u001b[0m \u001b[43m            \u001b[49m\u001b[43mlash\u001b[49m\u001b[43m,\u001b[49m\n\u001b[1;32m    653\u001b[0m \u001b[43m        \u001b[49m\u001b[43m)\u001b[49m\u001b[43m,\u001b[49m\n\u001b[1;32m    654\u001b[0m \u001b[43m        \u001b[49m\u001b[43m[\u001b[49m\n\u001b[1;32m    655\u001b[0m \u001b[43m            \u001b[49m\u001b[43mevaluate_exists_int_formula\u001b[49m\u001b[43m,\u001b[49m\n\u001b[1;32m    656\u001b[0m \u001b[43m            \u001b[49m\u001b[43mevaluate_smt_formula\u001b[49m\u001b[43m,\u001b[49m\n\u001b[1;32m    657\u001b[0m \u001b[43m            \u001b[49m\u001b[43mevaluate_quantified_formula\u001b[49m\u001b[43m,\u001b[49m\n\u001b[1;32m    658\u001b[0m \u001b[43m            \u001b[49m\u001b[43mevaluate_structural_predicate_formula\u001b[49m\u001b[43m,\u001b[49m\n\u001b[1;32m    659\u001b[0m \u001b[43m            \u001b[49m\u001b[43mevaluate_semantic_predicate_formula\u001b[49m\u001b[43m,\u001b[49m\n\u001b[1;32m    660\u001b[0m \u001b[43m            \u001b[49m\u001b[43mevaluate_negated_formula_formula\u001b[49m\u001b[43m,\u001b[49m\n\u001b[1;32m    661\u001b[0m \u001b[43m            \u001b[49m\u001b[43mevaluate_conjunctive_formula_formula\u001b[49m\u001b[43m,\u001b[49m\n\u001b[1;32m    662\u001b[0m \u001b[43m            \u001b[49m\u001b[43mevaluate_disjunctive_formula\u001b[49m\u001b[43m,\u001b[49m\n\u001b[1;32m    663\u001b[0m \u001b[43m            \u001b[49m\u001b[43mraise_not_implemented_error\u001b[49m\u001b[43m,\u001b[49m\n\u001b[1;32m    664\u001b[0m \u001b[43m        \u001b[49m\u001b[43m]\u001b[49m\u001b[43m,\u001b[49m\n\u001b[1;32m    665\u001b[0m \u001b[43m    \u001b[49m\u001b[43m)\u001b[49m\u001b[43m,\u001b[49m\n\u001b[1;32m    666\u001b[0m \u001b[43m\u001b[49m\u001b[43m)\u001b[49m\u001b[38;5;241m.\u001b[39munwrap()\n",
      "File \u001b[0;32m~/.pyenv/versions/3.10.14/lib/python3.10/site-packages/returns/_internal/pipeline/flow.py:50\u001b[0m, in \u001b[0;36mflow\u001b[0;34m(instance, *functions)\u001b[0m\n\u001b[1;32m      9\u001b[0m \u001b[38;5;28;01mdef\u001b[39;00m \u001b[38;5;21mflow\u001b[39m(\n\u001b[1;32m     10\u001b[0m     instance: _InstanceType,\n\u001b[1;32m     11\u001b[0m     \u001b[38;5;241m*\u001b[39mfunctions: _PipelineStepType,\n\u001b[1;32m     12\u001b[0m ) \u001b[38;5;241m-\u001b[39m\u001b[38;5;241m>\u001b[39m _ReturnType:  \u001b[38;5;66;03m# type: ignore[type-var]\u001b[39;00m\n\u001b[1;32m     13\u001b[0m \u001b[38;5;250m    \u001b[39m\u001b[38;5;124;03m\"\"\"\u001b[39;00m\n\u001b[1;32m     14\u001b[0m \u001b[38;5;124;03m    Allows to compose a value and up to multiple functions that use this value.\u001b[39;00m\n\u001b[1;32m     15\u001b[0m \n\u001b[0;32m   (...)\u001b[0m\n\u001b[1;32m     48\u001b[0m \u001b[38;5;124;03m    Requires our :ref:`mypy plugin <mypy-plugins>`.\u001b[39;00m\n\u001b[1;32m     49\u001b[0m \u001b[38;5;124;03m    \"\"\"\u001b[39;00m\n\u001b[0;32m---> 50\u001b[0m     \u001b[38;5;28;01mreturn\u001b[39;00m \u001b[43mreduce\u001b[49m\u001b[43m(\u001b[49m\u001b[43m  \u001b[49m\u001b[38;5;66;43;03m# type: ignore\u001b[39;49;00m\n\u001b[1;32m     51\u001b[0m \u001b[43m        \u001b[49m\u001b[38;5;28;43;01mlambda\u001b[39;49;00m\u001b[43m \u001b[49m\u001b[43mcomposed\u001b[49m\u001b[43m,\u001b[49m\u001b[43m \u001b[49m\u001b[43mfunction\u001b[49m\u001b[43m:\u001b[49m\u001b[43m \u001b[49m\u001b[43mfunction\u001b[49m\u001b[43m(\u001b[49m\u001b[43mcomposed\u001b[49m\u001b[43m)\u001b[49m\u001b[43m,\u001b[49m\u001b[43m  \u001b[49m\u001b[38;5;66;43;03m# type: ignore\u001b[39;49;00m\n\u001b[1;32m     52\u001b[0m \u001b[43m        \u001b[49m\u001b[43mfunctions\u001b[49m\u001b[43m,\u001b[49m\n\u001b[1;32m     53\u001b[0m \u001b[43m        \u001b[49m\u001b[43minstance\u001b[49m\u001b[43m,\u001b[49m\n\u001b[1;32m     54\u001b[0m \u001b[43m    \u001b[49m\u001b[43m)\u001b[49m\n",
      "File \u001b[0;32m~/.pyenv/versions/3.10.14/lib/python3.10/site-packages/returns/_internal/pipeline/flow.py:51\u001b[0m, in \u001b[0;36mflow.<locals>.<lambda>\u001b[0;34m(composed, function)\u001b[0m\n\u001b[1;32m      9\u001b[0m \u001b[38;5;28;01mdef\u001b[39;00m \u001b[38;5;21mflow\u001b[39m(\n\u001b[1;32m     10\u001b[0m     instance: _InstanceType,\n\u001b[1;32m     11\u001b[0m     \u001b[38;5;241m*\u001b[39mfunctions: _PipelineStepType,\n\u001b[1;32m     12\u001b[0m ) \u001b[38;5;241m-\u001b[39m\u001b[38;5;241m>\u001b[39m _ReturnType:  \u001b[38;5;66;03m# type: ignore[type-var]\u001b[39;00m\n\u001b[1;32m     13\u001b[0m \u001b[38;5;250m    \u001b[39m\u001b[38;5;124;03m\"\"\"\u001b[39;00m\n\u001b[1;32m     14\u001b[0m \u001b[38;5;124;03m    Allows to compose a value and up to multiple functions that use this value.\u001b[39;00m\n\u001b[1;32m     15\u001b[0m \n\u001b[0;32m   (...)\u001b[0m\n\u001b[1;32m     48\u001b[0m \u001b[38;5;124;03m    Requires our :ref:`mypy plugin <mypy-plugins>`.\u001b[39;00m\n\u001b[1;32m     49\u001b[0m \u001b[38;5;124;03m    \"\"\"\u001b[39;00m\n\u001b[1;32m     50\u001b[0m     \u001b[38;5;28;01mreturn\u001b[39;00m reduce(  \u001b[38;5;66;03m# type: ignore\u001b[39;00m\n\u001b[0;32m---> 51\u001b[0m         \u001b[38;5;28;01mlambda\u001b[39;00m composed, function: \u001b[43mfunction\u001b[49m\u001b[43m(\u001b[49m\u001b[43mcomposed\u001b[49m\u001b[43m)\u001b[49m,  \u001b[38;5;66;03m# type: ignore\u001b[39;00m\n\u001b[1;32m     52\u001b[0m         functions,\n\u001b[1;32m     53\u001b[0m         instance,\n\u001b[1;32m     54\u001b[0m     )\n",
      "File \u001b[0;32m~/.pyenv/versions/3.10.14/lib/python3.10/site-packages/returns/pointfree/lash.py:55\u001b[0m, in \u001b[0;36mlash.<locals>.factory\u001b[0;34m(container)\u001b[0m\n\u001b[1;32m     51\u001b[0m \u001b[38;5;129m@kinded\u001b[39m\n\u001b[1;32m     52\u001b[0m \u001b[38;5;28;01mdef\u001b[39;00m \u001b[38;5;21mfactory\u001b[39m(\n\u001b[1;32m     53\u001b[0m     container: KindN[_LashableKind, _FirstType, _SecondType, _ThirdType],\n\u001b[1;32m     54\u001b[0m ) \u001b[38;5;241m-\u001b[39m\u001b[38;5;241m>\u001b[39m KindN[_LashableKind, _FirstType, _UpdatedType, _ThirdType]:\n\u001b[0;32m---> 55\u001b[0m     \u001b[38;5;28;01mreturn\u001b[39;00m \u001b[43mcontainer\u001b[49m\u001b[38;5;241;43m.\u001b[39;49m\u001b[43mlash\u001b[49m\u001b[43m(\u001b[49m\u001b[43mfunction\u001b[49m\u001b[43m)\u001b[49m\n",
      "File \u001b[0;32m~/.pyenv/versions/3.10.14/lib/python3.10/site-packages/returns/maybe.py:380\u001b[0m, in \u001b[0;36m_Nothing.lash\u001b[0;34m(self, function)\u001b[0m\n\u001b[1;32m    378\u001b[0m \u001b[38;5;28;01mdef\u001b[39;00m \u001b[38;5;21mlash\u001b[39m(\u001b[38;5;28mself\u001b[39m, function):\n\u001b[1;32m    379\u001b[0m \u001b[38;5;250m    \u001b[39m\u001b[38;5;124;03m\"\"\"Composes this container with a function returning container.\"\"\"\u001b[39;00m\n\u001b[0;32m--> 380\u001b[0m     \u001b[38;5;28;01mreturn\u001b[39;00m \u001b[43mfunction\u001b[49m\u001b[43m(\u001b[49m\u001b[38;5;28;43;01mNone\u001b[39;49;00m\u001b[43m)\u001b[49m\n",
      "File \u001b[0;32m~/.pyenv/versions/3.10.14/lib/python3.10/site-packages/isla/evaluator.py:648\u001b[0m, in \u001b[0;36mevaluate_legacy.<locals>.<lambda>.<locals>.<lambda>\u001b[0;34m(_)\u001b[0m\n\u001b[1;32m    636\u001b[0m \u001b[38;5;28;01mdef\u001b[39;00m \u001b[38;5;21mraise_not_implemented_error\u001b[39m(\n\u001b[1;32m    637\u001b[0m     f: Formula,\n\u001b[1;32m    638\u001b[0m ) \u001b[38;5;241m-\u001b[39m\u001b[38;5;241m>\u001b[39m Maybe[ThreeValuedTruth]:\n\u001b[1;32m    639\u001b[0m     \u001b[38;5;28;01mraise\u001b[39;00m \u001b[38;5;167;01mNotImplementedError\u001b[39;00m(\n\u001b[1;32m    640\u001b[0m         \u001b[38;5;124mf\u001b[39m\u001b[38;5;124m\"\u001b[39m\u001b[38;5;124mDon\u001b[39m\u001b[38;5;124m'\u001b[39m\u001b[38;5;124mt know how to evaluate the formula \u001b[39m\u001b[38;5;132;01m{\u001b[39;00munparse_isla(f)\u001b[38;5;132;01m}\u001b[39;00m\u001b[38;5;124m\"\u001b[39m\n\u001b[1;32m    641\u001b[0m     )\n\u001b[1;32m    643\u001b[0m \u001b[38;5;28;01mreturn\u001b[39;00m flow(\n\u001b[1;32m    644\u001b[0m     Nothing,\n\u001b[1;32m    645\u001b[0m     \u001b[38;5;241m*\u001b[39m\u001b[38;5;28mmap\u001b[39m(\n\u001b[1;32m    646\u001b[0m         compose(\n\u001b[1;32m    647\u001b[0m             \u001b[38;5;28;01mlambda\u001b[39;00m f: (\n\u001b[0;32m--> 648\u001b[0m                 \u001b[38;5;28;01mlambda\u001b[39;00m _: \u001b[43mf\u001b[49m\u001b[43m(\u001b[49m\n\u001b[1;32m    649\u001b[0m \u001b[43m                    \u001b[49m\u001b[43mformula\u001b[49m\u001b[43m,\u001b[49m\u001b[43m \u001b[49m\u001b[43massignments\u001b[49m\u001b[43m,\u001b[49m\u001b[43m \u001b[49m\u001b[43mreference_tree\u001b[49m\u001b[43m,\u001b[49m\u001b[43m \u001b[49m\u001b[43mgraph\u001b[49m\u001b[43m,\u001b[49m\u001b[43m \u001b[49m\u001b[43mgrammar\u001b[49m\u001b[43m,\u001b[49m\u001b[43m \u001b[49m\u001b[43mtrie\u001b[49m\n\u001b[1;32m    650\u001b[0m \u001b[43m                \u001b[49m\u001b[43m)\u001b[49m\n\u001b[1;32m    651\u001b[0m             ),\n\u001b[1;32m    652\u001b[0m             lash,\n\u001b[1;32m    653\u001b[0m         ),\n\u001b[1;32m    654\u001b[0m         [\n\u001b[1;32m    655\u001b[0m             evaluate_exists_int_formula,\n\u001b[1;32m    656\u001b[0m             evaluate_smt_formula,\n\u001b[1;32m    657\u001b[0m             evaluate_quantified_formula,\n\u001b[1;32m    658\u001b[0m             evaluate_structural_predicate_formula,\n\u001b[1;32m    659\u001b[0m             evaluate_semantic_predicate_formula,\n\u001b[1;32m    660\u001b[0m             evaluate_negated_formula_formula,\n\u001b[1;32m    661\u001b[0m             evaluate_conjunctive_formula_formula,\n\u001b[1;32m    662\u001b[0m             evaluate_disjunctive_formula,\n\u001b[1;32m    663\u001b[0m             raise_not_implemented_error,\n\u001b[1;32m    664\u001b[0m         ],\n\u001b[1;32m    665\u001b[0m     ),\n\u001b[1;32m    666\u001b[0m )\u001b[38;5;241m.\u001b[39munwrap()\n",
      "File \u001b[0;32m~/.pyenv/versions/3.10.14/lib/python3.10/site-packages/isla/evaluator.py:779\u001b[0m, in \u001b[0;36mevaluate_quantified_formula\u001b[0;34m(formula, assignments, reference_tree, graph, grammar, trie)\u001b[0m\n\u001b[1;32m    776\u001b[0m sub_trie \u001b[38;5;241m=\u001b[39m trie\u001b[38;5;241m.\u001b[39mget_subtrie(in_path)\n\u001b[1;32m    778\u001b[0m new_assignments: List[Dict[Variable, Tuple[Path, DerivationTree]]] \u001b[38;5;241m=\u001b[39m []\n\u001b[0;32m--> 779\u001b[0m \u001b[38;5;28;01mfor\u001b[39;00m path_key, (path, subtree) \u001b[38;5;129;01min\u001b[39;00m \u001b[43msub_trie\u001b[49m\u001b[38;5;241;43m.\u001b[39;49m\u001b[43mitems\u001b[49m\u001b[43m(\u001b[49m\u001b[43m)\u001b[49m:\n\u001b[1;32m    780\u001b[0m     \u001b[38;5;28;01mif\u001b[39;00m subtree\u001b[38;5;241m.\u001b[39mvalue \u001b[38;5;241m==\u001b[39m formula\u001b[38;5;241m.\u001b[39mbound_variable\u001b[38;5;241m.\u001b[39mn_type:\n\u001b[1;32m    781\u001b[0m         new_assignments\u001b[38;5;241m.\u001b[39mappend(\n\u001b[1;32m    782\u001b[0m             {formula\u001b[38;5;241m.\u001b[39mbound_variable: (in_path \u001b[38;5;241m+\u001b[39m path, subtree)}\n\u001b[1;32m    783\u001b[0m         )\n",
      "File \u001b[0;32m~/.pyenv/versions/3.10.14/lib/python3.10/site-packages/isla/trie.py:72\u001b[0m, in \u001b[0;36mSubtreesTrie.items\u001b[0;34m(self)\u001b[0m\n\u001b[1;32m     71\u001b[0m \u001b[38;5;28;01mdef\u001b[39;00m \u001b[38;5;21mitems\u001b[39m(\u001b[38;5;28mself\u001b[39m) \u001b[38;5;241m-\u001b[39m\u001b[38;5;241m>\u001b[39m List:\n\u001b[0;32m---> 72\u001b[0m     \u001b[38;5;28;01mreturn\u001b[39;00m [\n\u001b[1;32m     73\u001b[0m         (\n\u001b[1;32m     74\u001b[0m             trie_key_to_path(\u001b[38;5;28mchr\u001b[39m(\u001b[38;5;241m1\u001b[39m) \u001b[38;5;241m+\u001b[39m suffix),\n\u001b[1;32m     75\u001b[0m             (\n\u001b[1;32m     76\u001b[0m                 value \u001b[38;5;241m:=\u001b[39m \u001b[38;5;28mself\u001b[39m\u001b[38;5;241m.\u001b[39mtrie[\u001b[38;5;28mself\u001b[39m\u001b[38;5;241m.\u001b[39mroot_path \u001b[38;5;241m+\u001b[39m suffix],\n\u001b[1;32m     77\u001b[0m                 (value[\u001b[38;5;241m0\u001b[39m][\u001b[38;5;28mlen\u001b[39m(\u001b[38;5;28mself\u001b[39m\u001b[38;5;241m.\u001b[39mroot_path) \u001b[38;5;241m-\u001b[39m \u001b[38;5;241m1\u001b[39m :], value[\u001b[38;5;241m1\u001b[39m]),\n\u001b[1;32m     78\u001b[0m             )[\u001b[38;5;241m-\u001b[39m\u001b[38;5;241m1\u001b[39m],\n\u001b[1;32m     79\u001b[0m         )\n\u001b[1;32m     80\u001b[0m         \u001b[38;5;28;01mfor\u001b[39;00m suffix \u001b[38;5;129;01min\u001b[39;00m \u001b[38;5;28mself\u001b[39m\u001b[38;5;241m.\u001b[39mtrie\u001b[38;5;241m.\u001b[39msuffixes(\u001b[38;5;28mself\u001b[39m\u001b[38;5;241m.\u001b[39mroot_path)\n\u001b[1;32m     81\u001b[0m     ]\n",
      "File \u001b[0;32m~/.pyenv/versions/3.10.14/lib/python3.10/site-packages/isla/trie.py:74\u001b[0m, in \u001b[0;36m<listcomp>\u001b[0;34m(.0)\u001b[0m\n\u001b[1;32m     71\u001b[0m \u001b[38;5;28;01mdef\u001b[39;00m \u001b[38;5;21mitems\u001b[39m(\u001b[38;5;28mself\u001b[39m) \u001b[38;5;241m-\u001b[39m\u001b[38;5;241m>\u001b[39m List:\n\u001b[1;32m     72\u001b[0m     \u001b[38;5;28;01mreturn\u001b[39;00m [\n\u001b[1;32m     73\u001b[0m         (\n\u001b[0;32m---> 74\u001b[0m             \u001b[43mtrie_key_to_path\u001b[49m\u001b[43m(\u001b[49m\u001b[38;5;28;43mchr\u001b[39;49m\u001b[43m(\u001b[49m\u001b[38;5;241;43m1\u001b[39;49m\u001b[43m)\u001b[49m\u001b[43m \u001b[49m\u001b[38;5;241;43m+\u001b[39;49m\u001b[43m \u001b[49m\u001b[43msuffix\u001b[49m\u001b[43m)\u001b[49m,\n\u001b[1;32m     75\u001b[0m             (\n\u001b[1;32m     76\u001b[0m                 value \u001b[38;5;241m:=\u001b[39m \u001b[38;5;28mself\u001b[39m\u001b[38;5;241m.\u001b[39mtrie[\u001b[38;5;28mself\u001b[39m\u001b[38;5;241m.\u001b[39mroot_path \u001b[38;5;241m+\u001b[39m suffix],\n\u001b[1;32m     77\u001b[0m                 (value[\u001b[38;5;241m0\u001b[39m][\u001b[38;5;28mlen\u001b[39m(\u001b[38;5;28mself\u001b[39m\u001b[38;5;241m.\u001b[39mroot_path) \u001b[38;5;241m-\u001b[39m \u001b[38;5;241m1\u001b[39m :], value[\u001b[38;5;241m1\u001b[39m]),\n\u001b[1;32m     78\u001b[0m             )[\u001b[38;5;241m-\u001b[39m\u001b[38;5;241m1\u001b[39m],\n\u001b[1;32m     79\u001b[0m         )\n\u001b[1;32m     80\u001b[0m         \u001b[38;5;28;01mfor\u001b[39;00m suffix \u001b[38;5;129;01min\u001b[39;00m \u001b[38;5;28mself\u001b[39m\u001b[38;5;241m.\u001b[39mtrie\u001b[38;5;241m.\u001b[39msuffixes(\u001b[38;5;28mself\u001b[39m\u001b[38;5;241m.\u001b[39mroot_path)\n\u001b[1;32m     81\u001b[0m     ]\n",
      "File \u001b[0;32m~/.pyenv/versions/3.10.14/lib/python3.10/site-packages/isla/trie.py:106\u001b[0m, in \u001b[0;36mtrie_key_to_path\u001b[0;34m(key)\u001b[0m\n\u001b[1;32m    103\u001b[0m \u001b[38;5;28;01mif\u001b[39;00m key \u001b[38;5;241m==\u001b[39m \u001b[38;5;28mchr\u001b[39m(\u001b[38;5;241m1\u001b[39m):\n\u001b[1;32m    104\u001b[0m     \u001b[38;5;28;01mreturn\u001b[39;00m ()\n\u001b[0;32m--> 106\u001b[0m \u001b[38;5;28;01mreturn\u001b[39;00m \u001b[38;5;28mtuple\u001b[39m([\u001b[38;5;28mord\u001b[39m(c) \u001b[38;5;241m-\u001b[39m \u001b[38;5;241m2\u001b[39m \u001b[38;5;28;01mfor\u001b[39;00m c \u001b[38;5;129;01min\u001b[39;00m key \u001b[38;5;28;01mif\u001b[39;00m \u001b[38;5;28mord\u001b[39m(c) \u001b[38;5;241m!=\u001b[39m \u001b[38;5;241m1\u001b[39m])\n",
      "File \u001b[0;32m~/.pyenv/versions/3.10.14/lib/python3.10/site-packages/isla/trie.py:106\u001b[0m, in \u001b[0;36m<listcomp>\u001b[0;34m(.0)\u001b[0m\n\u001b[1;32m    103\u001b[0m \u001b[38;5;28;01mif\u001b[39;00m key \u001b[38;5;241m==\u001b[39m \u001b[38;5;28mchr\u001b[39m(\u001b[38;5;241m1\u001b[39m):\n\u001b[1;32m    104\u001b[0m     \u001b[38;5;28;01mreturn\u001b[39;00m ()\n\u001b[0;32m--> 106\u001b[0m \u001b[38;5;28;01mreturn\u001b[39;00m \u001b[38;5;28mtuple\u001b[39m([\u001b[38;5;28mord\u001b[39m(c) \u001b[38;5;241m-\u001b[39m \u001b[38;5;241m2\u001b[39m \u001b[38;5;28;01mfor\u001b[39;00m c \u001b[38;5;129;01min\u001b[39;00m key \u001b[38;5;28;01mif\u001b[39;00m \u001b[38;5;28mord\u001b[39m(c) \u001b[38;5;241m!=\u001b[39m \u001b[38;5;241m1\u001b[39m])\n",
      "\u001b[0;31mKeyboardInterrupt\u001b[0m: "
     ]
    }
   ],
   "source": [
    "logging.basicConfig(filename='avix.log', filemode='w', encoding='utf-8', level=logging.INFO, force=True)\n",
    "# only 2 constraints used in the end why\n",
    "best_invariant = avix.explain() # unparse with islaunparse for further use"
   ]
  },
  {
   "cell_type": "code",
   "execution_count": null,
   "id": "18c1892f",
   "metadata": {},
   "outputs": [],
   "source": [
    "logging.basicConfig(filename='avicenna.log', filemode='w', encoding='utf-8', level=logging.INFO, force=True)\n",
    "#another_invariant = avicenna2.explain() # unparse with islaunparse for further use"
   ]
  },
  {
   "cell_type": "code",
   "execution_count": null,
   "id": "370d134f",
   "metadata": {},
   "outputs": [],
   "source": [
    "#print(another_invariant)"
   ]
  },
  {
   "cell_type": "code",
   "execution_count": 1,
   "id": "4c4300d1",
   "metadata": {},
   "outputs": [
    {
     "ename": "NameError",
     "evalue": "name 'best_invariant' is not defined",
     "output_type": "error",
     "traceback": [
      "\u001b[0;31m---------------------------------------------------------------------------\u001b[0m",
      "\u001b[0;31mNameError\u001b[0m                                 Traceback (most recent call last)",
      "Cell \u001b[0;32mIn[1], line 1\u001b[0m\n\u001b[0;32m----> 1\u001b[0m \u001b[38;5;28mprint\u001b[39m(\u001b[43mbest_invariant\u001b[49m)\n\u001b[1;32m      2\u001b[0m \u001b[38;5;28mprint\u001b[39m(best_invariant[\u001b[38;5;241m0\u001b[39m])\n",
      "\u001b[0;31mNameError\u001b[0m: name 'best_invariant' is not defined"
     ]
    }
   ],
   "source": [
    "print(best_invariant)\n",
    "print(best_invariant[0])"
   ]
  },
  {
   "cell_type": "code",
   "execution_count": null,
   "id": "186549fa",
   "metadata": {},
   "outputs": [
    {
     "name": "stdout",
     "output_type": "stream",
     "text": [
      "stop\n"
     ]
    }
   ],
   "source": [
    "# solver1 = ISLaSolver(\n",
    "#     grammar=middle_grammar,\n",
    "#     formula=another_invariant[0],\n",
    "#     enable_optimized_z3_queries=False,\n",
    "# )\n",
    "\n",
    "solver2 = ISLaSolver(\n",
    "    grammar=middle_grammar,\n",
    "    formula=best_invariant[0],\n",
    "    enable_optimized_z3_queries=False,\n",
    ")\n",
    "\n",
    "results1 = []\n",
    "results2 = []\n",
    "\n",
    "# # print(best_invariant[0])\n",
    "# # print(another_invariant[0])\n",
    "# for _ in range(1,10):\n",
    "#     results1.append(solver1.solve())\n",
    "    \n",
    "print(\"stop\")\n",
    "#    avix_oracle()\n",
    "for _ in range(1,10):\n",
    "    results2.append(solver2.solve())"
   ]
  },
  {
   "cell_type": "code",
   "execution_count": null,
   "id": "3aed1e73",
   "metadata": {},
   "outputs": [],
   "source": [
    "for input in results1:\n",
    "    if avix_oracle(input) == OracleResult.FAILING:\n",
    "        print(input)\n",
    "        print(avix_oracle(input))"
   ]
  },
  {
   "cell_type": "code",
   "execution_count": null,
   "id": "188ad42d",
   "metadata": {},
   "outputs": [
    {
     "name": "stdout",
     "output_type": "stream",
     "text": [
      "9,8,18\n",
      "FAILING\n",
      "9,8,14\n",
      "FAILING\n",
      "9,8,12\n",
      "FAILING\n",
      "9,8,11\n",
      "FAILING\n",
      "9,8,13\n",
      "FAILING\n",
      "9,8,16\n",
      "FAILING\n",
      "9,8,19\n",
      "FAILING\n",
      "9,8,17\n",
      "FAILING\n",
      "9,8,15\n",
      "FAILING\n",
      "9,8,18\n",
      "9,8,14\n",
      "9,8,12\n",
      "9,8,11\n",
      "9,8,13\n",
      "9,8,16\n",
      "9,8,19\n",
      "9,8,17\n",
      "9,8,15\n"
     ]
    }
   ],
   "source": [
    "for input in results2:\n",
    "    if avix_oracle(input) == OracleResult.FAILING:\n",
    "        print(input)\n",
    "        print(avix_oracle(input))\n",
    "for input in results2:\n",
    "    print(input)"
   ]
  },
  {
   "cell_type": "code",
   "execution_count": null,
   "id": "effa0a08",
   "metadata": {},
   "outputs": [
    {
     "name": "stdout",
     "output_type": "stream",
     "text": [
      "1,1,8\n",
      "1,1,9\n",
      "1,1,4\n",
      "1,1,5\n",
      "1,1,2\n",
      "1,1,6\n",
      "1,1,3\n",
      "1,1,7\n",
      "1,1,81\n"
     ]
    }
   ],
   "source": [
    "solver = ISLaSolver(\n",
    "    grammar=middle_grammar,\n",
    "    formula=best_invariant[0],\n",
    "    enable_optimized_z3_queries=False,\n",
    ")\n",
    "\n",
    "# this isnt working rn why not raaaaaaaaaaaaaaaaaaaaaaa\n",
    "# should be inputs of type 2, 3, 1\n",
    "for _ in range(1,10):\n",
    "    print(solver.solve())\n"
   ]
  },
  {
   "cell_type": "code",
   "execution_count": null,
   "id": "1270c1ba",
   "metadata": {},
   "outputs": [],
   "source": [
    "# call func for middle, converts string input to usable integer values\n",
    "\n",
    "def call_func_middle(inp: str):\n",
    "    \n",
    "    inp = inp.__str__()\n",
    "    \n",
    "    middle_input = inp.split(',')\n",
    "    converted_inp =  [int(middle_input[0]), int(middle_input[1]), int(middle_input[2])]\n",
    "    return converted_inp"
   ]
  },
  {
   "cell_type": "code",
   "execution_count": null,
   "id": "d208b26e",
   "metadata": {},
   "outputs": [
    {
     "name": "stdout",
     "output_type": "stream",
     "text": [
      "True\n"
     ]
    }
   ],
   "source": [
    "test_path = Path('rsc/')\n",
    "print(Path.exists(test_path))\n"
   ]
  },
  {
   "cell_type": "code",
   "execution_count": null,
   "id": "c6757172",
   "metadata": {},
   "outputs": [],
   "source": [
    "from avicenna.avix import *\n",
    "from avicenna.oracle_construction import * "
   ]
  },
  {
   "cell_type": "code",
   "execution_count": null,
   "id": "39a153fb",
   "metadata": {},
   "outputs": [],
   "source": [
    "def middle_inp_conv(inp):\n",
    "    inp = inp.__str__()\n",
    "    middle_input = inp.split(',')\n",
    "    \n",
    "    converted_inp = [\n",
    "        int(middle_input[0]),\n",
    "        int(middle_input[1]),\n",
    "        int(middle_input[2])\n",
    "    ]\n",
    "    \n",
    "    return converted_inp"
   ]
  },
  {
   "cell_type": "code",
   "execution_count": null,
   "id": "54b33f10",
   "metadata": {},
   "outputs": [],
   "source": [
    "import tmp\n",
    "importlib.reload(tmp)\n",
    "tmp.sflkitlib.lib.reset()\n",
    "avix_oracle = construct_oracle(\n",
    "                            program_under_test='middle',\n",
    "                            inp_converter=middle_inp_conv,\n",
    "                            timeout=10,\n",
    "                            line = 7,\n",
    "                            resource_path='rsc/',\n",
    "                            program_oracle= None)\n"
   ]
  },
  {
   "cell_type": "code",
   "execution_count": null,
   "id": "3f8f2c41",
   "metadata": {},
   "outputs": [
    {
     "data": {
      "text/plain": [
       "<OracleResult.FAILING: 'FAILING'>"
      ]
     },
     "execution_count": 41,
     "metadata": {},
     "output_type": "execute_result"
    }
   ],
   "source": [
    "avix_oracle(\"6,3,7\")"
   ]
  },
  {
   "cell_type": "code",
   "execution_count": null,
   "id": "11969097",
   "metadata": {},
   "outputs": [],
   "source": [
    "# # double check if this works\n",
    "\n",
    "# AviX.create_event_file(instrumented_function='middle',\n",
    "#                        #instr_path='tmp',\n",
    "#                        inp = '2,1,3',\n",
    "#                        conversion_func=middle_inp_conv,\n",
    "#                        event_path='rsc/event_file'\n",
    "#                        )"
   ]
  },
  {
   "cell_type": "code",
   "execution_count": null,
   "id": "942d3017",
   "metadata": {},
   "outputs": [
    {
     "ename": "TypeError",
     "evalue": "AviX.__init__() got an unexpected keyword argument 'desired_line'",
     "output_type": "error",
     "traceback": [
      "\u001b[0;31m---------------------------------------------------------------------------\u001b[0m",
      "\u001b[0;31mTypeError\u001b[0m                                 Traceback (most recent call last)",
      "Cell \u001b[0;32mIn[43], line 1\u001b[0m\n\u001b[0;32m----> 1\u001b[0m avix \u001b[38;5;241m=\u001b[39m \u001b[43mAviX\u001b[49m\u001b[43m(\u001b[49m\u001b[43mgrammar\u001b[49m\u001b[38;5;241;43m=\u001b[39;49m\u001b[43mmiddle_grammar\u001b[49m\u001b[43m,\u001b[49m\n\u001b[1;32m      2\u001b[0m \u001b[43m            \u001b[49m\u001b[43minitial_inputs\u001b[49m\u001b[38;5;241;43m=\u001b[39;49m\u001b[43mmiddle_inputs\u001b[49m\u001b[43m,\u001b[49m\n\u001b[1;32m      3\u001b[0m \u001b[43m            \u001b[49m\u001b[43moracle\u001b[49m\u001b[38;5;241;43m=\u001b[39;49m\u001b[43mavix_oracle\u001b[49m\u001b[43m,\u001b[49m\n\u001b[1;32m      4\u001b[0m \u001b[43m            \u001b[49m\u001b[43mmax_iterations\u001b[49m\u001b[38;5;241;43m=\u001b[39;49m\u001b[38;5;241;43m10\u001b[39;49m\u001b[43m,\u001b[49m\n\u001b[1;32m      5\u001b[0m \u001b[43m            \u001b[49m\u001b[43mdesired_line\u001b[49m\u001b[38;5;241;43m=\u001b[39;49m\u001b[38;5;241;43m7\u001b[39;49m\u001b[43m,\u001b[49m\n\u001b[1;32m      6\u001b[0m \u001b[43m            \u001b[49m\u001b[43mput_path\u001b[49m\u001b[38;5;241;43m=\u001b[39;49m\u001b[38;5;124;43m'\u001b[39;49m\u001b[38;5;124;43mmiddle.py\u001b[39;49m\u001b[38;5;124;43m'\u001b[39;49m\u001b[43m,\u001b[49m\n\u001b[1;32m      7\u001b[0m \u001b[43m            \u001b[49m\u001b[38;5;66;43;03m#instr_path='instrumented.py',\u001b[39;49;00m\n\u001b[1;32m      8\u001b[0m \u001b[43m            \u001b[49m\u001b[43mmin_precision\u001b[49m\u001b[43m \u001b[49m\u001b[38;5;241;43m=\u001b[39;49m\u001b[43m \u001b[49m\u001b[38;5;241;43m0.7\u001b[39;49m\u001b[43m,\u001b[49m\u001b[43m)\u001b[49m\n",
      "\u001b[0;31mTypeError\u001b[0m: AviX.__init__() got an unexpected keyword argument 'desired_line'"
     ]
    }
   ],
   "source": [
    "avix = AviX(grammar=middle_grammar,\n",
    "            initial_inputs=middle_inputs,\n",
    "            oracle=avix_oracle,\n",
    "            max_iterations=10,\n",
    "            desired_line=7,\n",
    "            put_path='middle.py',\n",
    "            #instr_path='instrumented.py',\n",
    "            min_precision = 0.7,)"
   ]
  },
  {
   "cell_type": "code",
   "execution_count": null,
   "id": "9a44d30e",
   "metadata": {},
   "outputs": [
    {
     "name": "stdout",
     "output_type": "stream",
     "text": [
      "34146,7,89\n",
      "3925,5,15\n",
      "5985,6,1\n",
      "3,4,5179\n",
      "6,52,714477\n",
      "2,6,8\n",
      "78,2,486\n",
      "114,496,2\n",
      "71,8,298\n",
      "76,7,2\n"
     ]
    }
   ],
   "source": [
    "from fuzzingbook.GrammarFuzzer import GrammarFuzzer, DerivationTree\n",
    "\n",
    "middle_grammar_converted = {\n",
    "    \"<start>\": [\"<stmt>\"],\n",
    "    \"<stmt>\": [\"str.to.int(<x>),str.to.int(<y>),str.to.int(<z>)\"],\n",
    "    \"<x>\": [\"<integer>\"],\n",
    "    \"<y>\": [\"<integer>\"],\n",
    "    \"<z>\": [\"<integer>\"],\n",
    "    \"<integer>\": [\"<digit>\", \"<digit><integer>\"],\n",
    "    \"<digit>\": [str(num) for num in range(1, 10)]\n",
    "}\n",
    "\n",
    "fuzzer = GrammarFuzzer(middle_grammar)\n",
    "\n",
    "for i in range(10):\n",
    "    print(fuzzer.fuzz())"
   ]
  },
  {
   "cell_type": "code",
   "execution_count": null,
   "id": "4a9846ed",
   "metadata": {},
   "outputs": [],
   "source": []
  },
  {
   "cell_type": "markdown",
   "id": "501b70f5-3276-45e8-9e48-7331964004d7",
   "metadata": {},
   "source": [
    "https://github.com/uds-se/sflkit\n",
    "\n",
    "<img src=\"qrcode.png\" style=\"width:500px\">"
   ]
  },
  {
   "cell_type": "markdown",
   "id": "d99da91b",
   "metadata": {},
   "source": []
  },
  {
   "cell_type": "markdown",
   "id": "a3e651cb",
   "metadata": {},
   "source": []
  }
 ],
 "metadata": {
  "kernelspec": {
   "display_name": "Python 3 (ipykernel)",
   "language": "python",
   "name": "python3"
  },
  "language_info": {
   "codemirror_mode": {
    "name": "ipython",
    "version": 3
   },
   "file_extension": ".py",
   "mimetype": "text/x-python",
   "name": "python",
   "nbconvert_exporter": "python",
   "pygments_lexer": "ipython3",
   "version": "3.10.14"
  }
 },
 "nbformat": 4,
 "nbformat_minor": 5
}
