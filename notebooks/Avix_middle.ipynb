{
 "cells": [
  {
   "cell_type": "code",
   "execution_count": 1,
   "id": "e8333c71-28ed-44ba-8e4e-52a72f8f96e8",
   "metadata": {},
   "outputs": [],
   "source": [
    "import enum\n",
    "import importlib\n",
    "import inspect\n",
    "import os\n",
    "import shutil\n",
    "\n",
    "from typing import List\n",
    "from IPython.display import HTML\n",
    "from sflkit.analysis.spectra import Line\n",
    "\n",
    "from sflkit.analysis import analysis_type, factory\n",
    "from sflkit import *\n",
    "from sflkit.color import ColorCode\n",
    "from sflkit import instrument_config, analyze_config\n",
    "from sflkit.config import Config\n",
    "\n",
    "from avicenna import *"
   ]
  },
  {
   "cell_type": "code",
   "execution_count": 2,
   "id": "f7e22f47",
   "metadata": {},
   "outputs": [],
   "source": [
    "import string\n",
    "import csv\n",
    "import logging\n",
    "\n",
    "from pathlib import Path\n",
    "#from avicenna import Avicenna\n",
    "from debugging_framework.input.oracle import OracleResult\n",
    "from isla.solver import ISLaSolver\n"
   ]
  },
  {
   "cell_type": "code",
   "execution_count": 3,
   "id": "6635a037",
   "metadata": {},
   "outputs": [],
   "source": [
    "middle_grammar = {\n",
    "    \"<start>\": [\"<stmt>\"],\n",
    "    \"<stmt>\": [\"<x>,<y>,<z>\"],\n",
    "    \"<x>\": [\"<integer>\"],\n",
    "    \"<y>\": [\"<integer>\"],\n",
    "    \"<z>\": [\"<integer>\"],\n",
    "    \"<integer>\": [\"<digit>\", \"<digit><integer>\"],\n",
    "    \"<digit>\": [str(num) for num in range(1, 10)]\n",
    "}\n",
    "\n",
    "\n",
    "# middle_grammar_converted = {\n",
    "#     \"<start>\": [\"<stmt>\"],\n",
    "#     \"<stmt>\": [\"str.to.int(<x>),str.to.int(<y>),str.to.int(<z>)\"],\n",
    "#     \"<x>\": [\"<integer>\"],\n",
    "#     \"<y>\": [\"<integer>\"],\n",
    "#     \"<z>\": [\"<integer>\"],\n",
    "#     \"<integer>\": [\"<digit>\", \"<digit><integer>\"],\n",
    "#     \"<digit>\": [str(num) for num in range(1, 10)]\n",
    "# }"
   ]
  },
  {
   "cell_type": "code",
   "execution_count": 4,
   "id": "09cb633c",
   "metadata": {},
   "outputs": [],
   "source": [
    "# 321, 312, 213\n",
    "middle_inputs = ['2,3,1', '3,1,2', '2,1,3']"
   ]
  },
  {
   "cell_type": "code",
   "execution_count": 5,
   "id": "5adee8c4",
   "metadata": {},
   "outputs": [],
   "source": [
    "middle_py = 'middle.py'\n",
    "tmp_py = 'tmp.py'\n",
    "language='python'\n",
    "predicates='line'\n",
    "metrics='Tarantula'\n",
    "#passing='event-files/0,event-files/1'\n",
    "failing='event-files/2'\n",
    "def get_config():\n",
    "    return Config.create(path=middle_py,\n",
    "                         working=tmp_py,\n",
    "                         language=language,\n",
    "                         predicates=predicates,\n",
    "                         metrics=metrics,\n",
    "                         failing=failing)\n",
    "def instrument(out=True):\n",
    "    instrument_config(get_config())\n",
    "    if out:\n",
    "        with open(tmp_py, 'r') as fp:\n",
    "            print(fp.read())"
   ]
  },
  {
   "cell_type": "code",
   "execution_count": 6,
   "id": "8667ab66",
   "metadata": {},
   "outputs": [
    {
     "name": "stderr",
     "output_type": "stream",
     "text": [
      "sflkit :: INFO     :: I found 11 events in middle.py.\n",
      "sflkit :: INFO     :: I found 11 events in middle.py.\n"
     ]
    },
    {
     "name": "stdout",
     "output_type": "stream",
     "text": [
      "import sflkitlib.lib\n",
      "\n",
      "def middle(x, y, z):\n",
      "    sflkitlib.lib.add_line_event(0)\n",
      "    m = z\n",
      "    sflkitlib.lib.add_line_event(1)\n",
      "    if y < z:\n",
      "        sflkitlib.lib.add_line_event(2)\n",
      "        if x < y:\n",
      "            sflkitlib.lib.add_line_event(3)\n",
      "            m = y\n",
      "        else:\n",
      "            sflkitlib.lib.add_line_event(4)\n",
      "            if x < z:\n",
      "                sflkitlib.lib.add_line_event(5)\n",
      "                m = y\n",
      "    else:\n",
      "        sflkitlib.lib.add_line_event(6)\n",
      "        if x > y:\n",
      "            sflkitlib.lib.add_line_event(7)\n",
      "            m = y\n",
      "        else:\n",
      "            sflkitlib.lib.add_line_event(8)\n",
      "            if x > z:\n",
      "                sflkitlib.lib.add_line_event(9)\n",
      "                m = x\n",
      "    sflkitlib.lib.add_line_event(10)\n",
      "    return m\n"
     ]
    }
   ],
   "source": [
    "instrument()"
   ]
  },
  {
   "cell_type": "code",
   "execution_count": 7,
   "id": "f4f3bee1",
   "metadata": {},
   "outputs": [],
   "source": [
    "def analyzer_conf(conf: Config, factory):\n",
    "    analyzer = Analyzer(irrelevant_event_files=conf.failing, \n",
    "                        relevant_event_files=conf.passing,\n",
    "                        factory=factory)\n",
    "    return analyzer"
   ]
  },
  {
   "cell_type": "code",
   "execution_count": 8,
   "id": "4b07897a",
   "metadata": {},
   "outputs": [
    {
     "data": {
      "text/plain": [
       "LINE"
      ]
     },
     "execution_count": 8,
     "metadata": {},
     "output_type": "execute_result"
    }
   ],
   "source": [
    "factory = factory.LineFactory()\n",
    "line_event = analysis_type.AnalysisType(0)\n",
    "line_event"
   ]
  },
  {
   "cell_type": "code",
   "execution_count": 9,
   "id": "d1e4df3e",
   "metadata": {},
   "outputs": [],
   "source": [
    "analyzer = analyzer_conf(get_config(), factory=factory)"
   ]
  },
  {
   "cell_type": "code",
   "execution_count": 10,
   "id": "eecbf218",
   "metadata": {},
   "outputs": [],
   "source": [
    "# results = analyzer.analyze()\n",
    "# results\n",
    "\n",
    "# analyzer needs event files \n",
    "analyzer.analyze()"
   ]
  },
  {
   "cell_type": "code",
   "execution_count": 11,
   "id": "d743121d",
   "metadata": {},
   "outputs": [
    {
     "name": "stdout",
     "output_type": "stream",
     "text": [
      "{2, 3, 9, 10, 13}\n"
     ]
    }
   ],
   "source": [
    "coverage: List[Line] = analyzer.get_coverage()\n",
    "coverage = {line.line for line in coverage}\n",
    "print(coverage)"
   ]
  },
  {
   "cell_type": "code",
   "execution_count": 12,
   "id": "190c5287",
   "metadata": {},
   "outputs": [],
   "source": [
    "def middle_inp_conv(inp):\n",
    "    inp = inp.__str__()\n",
    "    middle_input = inp.split(',')\n",
    "    \n",
    "    converted_inp = [\n",
    "        int(middle_input[0]),\n",
    "        int(middle_input[1]),\n",
    "        int(middle_input[2])\n",
    "    ]\n",
    "    \n",
    "    return converted_inp"
   ]
  },
  {
   "cell_type": "code",
   "execution_count": 13,
   "id": "7f582a8c",
   "metadata": {},
   "outputs": [],
   "source": [
    "from importlib import resources\n",
    "\n",
    "def get_avicenna_rsc_path() -> Path:\n",
    "    with resources.path('avicenna', 'rsc') as p:\n",
    "        return Path(p)"
   ]
  },
  {
   "cell_type": "code",
   "execution_count": 14,
   "id": "dd7403e3",
   "metadata": {},
   "outputs": [
    {
     "name": "stdout",
     "output_type": "stream",
     "text": [
      "/home/lina/ba/avicenna/src/avicenna/rsc\n"
     ]
    }
   ],
   "source": [
    "path = str(get_avicenna_rsc_path())\n",
    "print(path)"
   ]
  },
  {
   "cell_type": "code",
   "execution_count": 15,
   "id": "025672c0",
   "metadata": {},
   "outputs": [],
   "source": [
    "from avicenna.avix import *\n",
    "from avicenna.oracle_construction import * \n",
    "avix_oracle = construct_oracle(\n",
    "                            program_under_test='middle',\n",
    "                            inp_converter=middle_inp_conv,\n",
    "                            line = 7,\n",
    "                            )\n"
   ]
  },
  {
   "cell_type": "code",
   "execution_count": 16,
   "id": "668dc3dc",
   "metadata": {},
   "outputs": [],
   "source": [
    "# avix_oracle('2,1,3')"
   ]
  },
  {
   "cell_type": "code",
   "execution_count": 17,
   "id": "548623aa",
   "metadata": {},
   "outputs": [],
   "source": [
    "def middle_oracle(x, y, z):\n",
    "    # convert inputs\n",
    "    \n",
    "    sorted_inputs = [x, y, z]\n",
    "    sorted_inputs.sort()\n",
    "    return sorted_inputs[1]"
   ]
  },
  {
   "cell_type": "code",
   "execution_count": 18,
   "id": "95fc10a3",
   "metadata": {},
   "outputs": [],
   "source": [
    "def middle(x, y, z):\n",
    "    m = z\n",
    "    if y < z:\n",
    "        if x < y:\n",
    "            m = y\n",
    "        else:\n",
    "            if x < z:\n",
    "                m = y\n",
    "    else:\n",
    "        if x > y:\n",
    "            m = y\n",
    "        else:\n",
    "            if x > z:\n",
    "                m = x\n",
    "    return m"
   ]
  },
  {
   "cell_type": "code",
   "execution_count": 19,
   "id": "511a2bb0",
   "metadata": {},
   "outputs": [
    {
     "name": "stderr",
     "output_type": "stream",
     "text": [
      "sflkit :: INFO     :: I found 11 events in middle.py.\n",
      "sflkit :: INFO     :: I found 11 events in middle.py.\n"
     ]
    }
   ],
   "source": [
    "# AviX.instrument_avix(put_path='middle.py',\n",
    "#                     instr_path='../src/avicenna/rsc/instrumented.py' )"
   ]
  },
  {
   "cell_type": "code",
   "execution_count": 20,
   "id": "e5131eff",
   "metadata": {},
   "outputs": [],
   "source": [
    "regular_oracle = construct_oracle(\n",
    "                            program_under_test=middle,\n",
    "                            timeout=10,\n",
    "                            program_oracle=middle_oracle,\n",
    "                            default_oracle_result=OracleResult.PASSING)\n",
    "\n"
   ]
  },
  {
   "cell_type": "code",
   "execution_count": 21,
   "id": "fca10362",
   "metadata": {},
   "outputs": [
    {
     "data": {
      "text/plain": [
       "['2,3,1', '3,1,2', '2,1,3']"
      ]
     },
     "execution_count": 21,
     "metadata": {},
     "output_type": "execute_result"
    }
   ],
   "source": [
    "param = list(map(int, str('2,1,3').strip().split(',')))\n",
    "middle_inputs"
   ]
  },
  {
   "cell_type": "code",
   "execution_count": 22,
   "id": "64704837",
   "metadata": {},
   "outputs": [
    {
     "data": {
      "text/plain": [
       "<OracleResult.PASSING: 'PASSING'>"
      ]
     },
     "execution_count": 22,
     "metadata": {},
     "output_type": "execute_result"
    }
   ],
   "source": [
    "regular_oracle('3,1,2')\n"
   ]
  },
  {
   "cell_type": "code",
   "execution_count": 23,
   "id": "1b0fef36",
   "metadata": {},
   "outputs": [],
   "source": [
    "avicenna = Avicenna(\n",
    "    grammar=middle_grammar,\n",
    "    initial_inputs=middle_inputs,\n",
    "    oracle=avix_oracle,\n",
    "    max_iterations=10,\n",
    "    top_n_relevant_features=3,\n",
    "    #max_conjunction_size=6,\n",
    ")"
   ]
  },
  {
   "cell_type": "code",
   "execution_count": 24,
   "id": "0a25fbf3",
   "metadata": {},
   "outputs": [],
   "source": [
    "avix = AviX(\n",
    "    grammar=middle_grammar,\n",
    "    initial_inputs=middle_inputs,\n",
    "    oracle=avix_oracle,\n",
    "    max_iterations=10,\n",
    "    top_n_relevant_features=3,\n",
    "    put_path='middle.py',\n",
    "    \n",
    "    #max_conjunction_size=6,\n",
    ")"
   ]
  },
  {
   "cell_type": "code",
   "execution_count": 25,
   "id": "5465c93e",
   "metadata": {},
   "outputs": [],
   "source": [
    "avicenna2 = Avicenna(\n",
    "    grammar=middle_grammar,\n",
    "    initial_inputs=middle_inputs,\n",
    "    oracle=regular_oracle,\n",
    "    max_iterations=10,\n",
    "    top_n_relevant_features=3, \n",
    ")"
   ]
  },
  {
   "cell_type": "code",
   "execution_count": 26,
   "id": "3c169f9b",
   "metadata": {},
   "outputs": [
    {
     "data": {
      "text/plain": [
       "[ForallFormula(NonterminalPlaceholderVariable(name='elem', n_type='<?NONTERMINAL>'), Constant(\"start\", \"<start>\"), SMTFormula('(>= (str.to_int elem) (str.to_int STRING_0))', StringPlaceholderVariable(name='STRING_0'), NonterminalPlaceholderVariable(name='elem', n_type='<?NONTERMINAL>'), )),\n",
       " ExistsFormula(NonterminalPlaceholderVariable(name='elem', n_type='<?NONTERMINAL>'), Constant(\"start\", \"<start>\"), SMTFormula('(= elem STRING_0)', StringPlaceholderVariable(name='STRING_0'), NonterminalPlaceholderVariable(name='elem', n_type='<?NONTERMINAL>'), )),\n",
       " ForallFormula(NonterminalPlaceholderVariable(name='elem', n_type='<?NONTERMINAL>'), Constant(\"start\", \"<start>\"), SMTFormula('(<= (str.to_int elem) (str.to_int STRING_0))', StringPlaceholderVariable(name='STRING_0'), NonterminalPlaceholderVariable(name='elem', n_type='<?NONTERMINAL>'), )),\n",
       " ExistsFormula(NonterminalPlaceholderVariable(name='container1', n_type='<?NONTERMINAL>'), Constant(\"start\", \"<start>\"), ExistsFormula(NonterminalPlaceholderVariable(name='length_field', n_type='<?NONTERMINAL>'), Constant(\"start\", \"<start>\"), SMTFormula('(< (str.len container1) (str.to_int length_field))', NonterminalPlaceholderVariable(name='length_field', n_type='<?NONTERMINAL>'), NonterminalPlaceholderVariable(name='container1', n_type='<?NONTERMINAL>'), ))),\n",
       " ForallFormula(NonterminalPlaceholderVariable(name='elem_1', n_type='<?NONTERMINAL>'), Constant(\"start\", \"<start>\"), ExistsFormula(NonterminalPlaceholderVariable(name='elem_2', n_type='<?NONTERMINAL>'), Constant(\"start\", \"<start>\"), SMTFormula('(>= (str.to_int elem_1) (str.to_int elem_2))', NonterminalPlaceholderVariable(name='elem_1', n_type='<?NONTERMINAL>'), NonterminalPlaceholderVariable(name='elem_2', n_type='<?NONTERMINAL>'), ))),\n",
       " ForallFormula(NonterminalPlaceholderVariable(name='container', n_type='<?NONTERMINAL>'), Constant(\"start\", \"<start>\"), ExistsFormula(NonterminalPlaceholderVariable(name='elem', n_type='<?NONTERMINAL>'), NonterminalPlaceholderVariable(name='container', n_type='<?NONTERMINAL>'), SMTFormula('(= elem STRING_0)', StringPlaceholderVariable(name='STRING_0'), NonterminalPlaceholderVariable(name='elem', n_type='<?NONTERMINAL>'), ))),\n",
       " ForallFormula(NonterminalPlaceholderVariable(name='container', n_type='<?NONTERMINAL>'), Constant(\"start\", \"<start>\"), ExistsFormula(NonterminalPlaceholderVariable(name='elem', n_type='<?NONTERMINAL>'), NonterminalPlaceholderVariable(name='container', n_type='<?NONTERMINAL>'), SMTFormula('(= (str.len elem) (str.to_int STRING_0))', StringPlaceholderVariable(name='STRING_0'), NonterminalPlaceholderVariable(name='elem', n_type='<?NONTERMINAL>'), ))),\n",
       " ForallFormula(NonterminalPlaceholderVariable(name='elem_1', n_type='<?NONTERMINAL>'), Constant(\"start\", \"<start>\"), ExistsFormula(NonterminalPlaceholderVariable(name='elem_2', n_type='<?NONTERMINAL>'), Constant(\"start\", \"<start>\"), SMTFormula('(> (str.to_int elem_1) (str.to_int elem_2))', NonterminalPlaceholderVariable(name='elem_1', n_type='<?NONTERMINAL>'), NonterminalPlaceholderVariable(name='elem_2', n_type='<?NONTERMINAL>'), ))),\n",
       " ExistsFormula(NonterminalPlaceholderVariable(name='container', n_type='<?NONTERMINAL>'), Constant(\"start\", \"<start>\"), ExistsFormula(NonterminalPlaceholderVariable(name='length_field', n_type='<?NONTERMINAL>'), Constant(\"start\", \"<start>\"), SMTFormula('(<= (str.len container) (str.to_int length_field))', NonterminalPlaceholderVariable(name='length_field', n_type='<?NONTERMINAL>'), NonterminalPlaceholderVariable(name='container', n_type='<?NONTERMINAL>'), ))),\n",
       " ExistsFormula(NonterminalPlaceholderVariable(name='elem_xy', n_type='<?NONTERMINAL>'), Constant(\"start\", \"<start>\"), PredicateFormula((\"StructuralPredicate(name='inside', arity=2, eval_fun=<function in_tree at 0x7fc3e4a31bd0>)\", 'NonterminalPlaceholderVariable(name=\\'elem_xy\\', n_type=\\'<?NONTERMINAL>\\'), Constant(\"start\", \"<start>\")'))),\n",
       " ForallFormula(NonterminalPlaceholderVariable(name='elem', n_type='<?NONTERMINAL>'), Constant(\"start\", \"<start>\"), SMTFormula('(> (str.to_int elem) (str.to_int STRING_0))', StringPlaceholderVariable(name='STRING_0'), NonterminalPlaceholderVariable(name='elem', n_type='<?NONTERMINAL>'), ))]"
      ]
     },
     "execution_count": 26,
     "metadata": {},
     "output_type": "execute_result"
    }
   ],
   "source": [
    "avix.patterns"
   ]
  },
  {
   "cell_type": "code",
   "execution_count": 27,
   "id": "95b78629",
   "metadata": {},
   "outputs": [],
   "source": [
    "import warnings\n",
    "# Suppress the specific SHAP warning\n",
    "warnings.filterwarnings(\n",
    "    \"ignore\",\n",
    "    message=\"LightGBM binary classifier with TreeExplainer shap values output has changed to a list of ndarray\",\n",
    ")\n",
    "warnings.filterwarnings(\n",
    "    \"ignore\", \n",
    "    message=\"No further splits with positive gain, best gain: -inf\"\n",
    ")"
   ]
  },
  {
   "cell_type": "code",
   "execution_count": 28,
   "id": "1fb1d396",
   "metadata": {},
   "outputs": [],
   "source": [
    "logging.basicConfig(filename='avix.log', filemode='w', encoding='utf-8', level=logging.INFO, force=True)\n",
    "# only 2 constraints used in the end why\n",
    "best_invariant = avix.explain() # unparse with islaunparse for further use"
   ]
  },
  {
   "cell_type": "code",
   "execution_count": null,
   "id": "18c1892f",
   "metadata": {},
   "outputs": [],
   "source": [
    "logging.basicConfig(filename='avicenna.log', filemode='w', encoding='utf-8', level=logging.INFO, force=True)\n",
    "#another_invariant = avicenna2.explain() # unparse with islaunparse for further use"
   ]
  },
  {
   "cell_type": "code",
   "execution_count": null,
   "id": "370d134f",
   "metadata": {},
   "outputs": [],
   "source": [
    "#print(another_invariant)"
   ]
  },
  {
   "cell_type": "code",
   "execution_count": null,
   "id": "4c4300d1",
   "metadata": {},
   "outputs": [
    {
     "name": "stdout",
     "output_type": "stream",
     "text": [
      "(ConjunctiveFormula(ForallFormula(BoundVariable(\"elem_1\", \"<x>\"), Constant(\"start\", \"<start>\"), ExistsFormula(BoundVariable(\"elem_2\", \"<y>\"), Constant(\"start\", \"<start>\"), SMTFormula('(>= (str.to_int elem_1) (str.to_int elem_2))', BoundVariable(\"elem_1\", \"<x>\"), BoundVariable(\"elem_2\", \"<y>\"), ))), ForallFormula(BoundVariable(\"elem_0\", \"<z>\"), Constant(\"start\", \"<start>\"), ExistsFormula(BoundVariable(\"elem_3\", \"<x>\"), Constant(\"start\", \"<start>\"), SMTFormula('(> (str.to_int elem_0) (str.to_int elem_3))', BoundVariable(\"elem_0\", \"<z>\"), BoundVariable(\"elem_3\", \"<x>\"), )))), 1.0, 1.0)\n",
      "1.0\n"
     ]
    }
   ],
   "source": [
    "print(best_invariant)\n",
    "print(best_invariant[1])"
   ]
  },
  {
   "cell_type": "code",
   "execution_count": null,
   "id": "186549fa",
   "metadata": {},
   "outputs": [
    {
     "name": "stdout",
     "output_type": "stream",
     "text": [
      "stop\n"
     ]
    }
   ],
   "source": [
    "# solver1 = ISLaSolver(\n",
    "#     grammar=middle_grammar,\n",
    "#     formula=another_invariant[0],\n",
    "#     enable_optimized_z3_queries=False,\n",
    "# )\n",
    "\n",
    "solver2 = ISLaSolver(\n",
    "    grammar=middle_grammar,\n",
    "    formula=best_invariant[0],\n",
    "    enable_optimized_z3_queries=False,\n",
    ")\n",
    "\n",
    "results1 = []\n",
    "results2 = []\n",
    "\n",
    "# # print(best_invariant[0])\n",
    "# # print(another_invariant[0])\n",
    "# for _ in range(1,10):\n",
    "#     results1.append(solver1.solve())\n",
    "    \n",
    "print(\"stop\")\n",
    "#    avix_oracle()\n",
    "for _ in range(1,10):\n",
    "    results2.append(solver2.solve())"
   ]
  },
  {
   "cell_type": "code",
   "execution_count": null,
   "id": "3aed1e73",
   "metadata": {},
   "outputs": [],
   "source": [
    "for input in results1:\n",
    "    if avix_oracle(input) == OracleResult.FAILING:\n",
    "        print(input)\n",
    "        print(avix_oracle(input))"
   ]
  },
  {
   "cell_type": "code",
   "execution_count": null,
   "id": "188ad42d",
   "metadata": {},
   "outputs": [
    {
     "name": "stdout",
     "output_type": "stream",
     "text": [
      "5,2,8\n",
      "FAILING\n",
      "5,2,9\n",
      "FAILING\n",
      "5,2,6\n",
      "FAILING\n",
      "5,2,7\n",
      "FAILING\n",
      "5,2,48\n",
      "FAILING\n",
      "5,2,24\n",
      "FAILING\n",
      "5,2,18\n",
      "FAILING\n",
      "5,2,88\n",
      "FAILING\n",
      "5,2,49\n",
      "FAILING\n",
      "5,2,8\n",
      "5,2,9\n",
      "5,2,6\n",
      "5,2,7\n",
      "5,2,48\n",
      "5,2,24\n",
      "5,2,18\n",
      "5,2,88\n",
      "5,2,49\n"
     ]
    }
   ],
   "source": [
    "for input in results2:\n",
    "    if avix_oracle(input) == OracleResult.FAILING:\n",
    "        print(input)\n",
    "        print(avix_oracle(input))\n",
    "for input in results2:\n",
    "    print(input)"
   ]
  },
  {
   "cell_type": "code",
   "execution_count": null,
   "id": "effa0a08",
   "metadata": {},
   "outputs": [
    {
     "name": "stdout",
     "output_type": "stream",
     "text": [
      "9,8,11\n",
      "9,8,18\n",
      "9,8,14\n",
      "9,8,12\n",
      "9,8,19\n",
      "9,8,13\n",
      "9,8,16\n",
      "9,8,17\n",
      "9,8,15\n"
     ]
    }
   ],
   "source": [
    "solver = ISLaSolver(\n",
    "    grammar=middle_grammar,\n",
    "    formula=best_invariant[0],\n",
    "    enable_optimized_z3_queries=False,\n",
    ")\n",
    "\n",
    "# this isnt working rn why not raaaaaaaaaaaaaaaaaaaaaaa\n",
    "# should be inputs of type 2, 3, 1\n",
    "for _ in range(1,10):\n",
    "    print(solver.solve())\n"
   ]
  },
  {
   "cell_type": "code",
   "execution_count": null,
   "id": "1270c1ba",
   "metadata": {},
   "outputs": [],
   "source": [
    "# call func for middle, converts string input to usable integer values\n",
    "\n",
    "def call_func_middle(inp: str):\n",
    "    \n",
    "    inp = inp.__str__()\n",
    "    \n",
    "    middle_input = inp.split(',')\n",
    "    converted_inp =  [int(middle_input[0]), int(middle_input[1]), int(middle_input[2])]\n",
    "    return converted_inp"
   ]
  },
  {
   "cell_type": "code",
   "execution_count": null,
   "id": "d208b26e",
   "metadata": {},
   "outputs": [
    {
     "name": "stdout",
     "output_type": "stream",
     "text": [
      "True\n"
     ]
    }
   ],
   "source": [
    "test_path = Path('rsc/')\n",
    "print(Path.exists(test_path))\n"
   ]
  },
  {
   "cell_type": "code",
   "execution_count": null,
   "id": "c6757172",
   "metadata": {},
   "outputs": [],
   "source": [
    "from avicenna.avix import *\n",
    "from avicenna.oracle_construction import * "
   ]
  },
  {
   "cell_type": "code",
   "execution_count": null,
   "id": "39a153fb",
   "metadata": {},
   "outputs": [],
   "source": [
    "def middle_inp_conv(inp):\n",
    "    inp = inp.__str__()\n",
    "    middle_input = inp.split(',')\n",
    "    \n",
    "    converted_inp = [\n",
    "        int(middle_input[0]),\n",
    "        int(middle_input[1]),\n",
    "        int(middle_input[2])\n",
    "    ]\n",
    "    \n",
    "    return converted_inp"
   ]
  },
  {
   "cell_type": "code",
   "execution_count": null,
   "id": "54b33f10",
   "metadata": {},
   "outputs": [],
   "source": [
    "import tmp\n",
    "importlib.reload(tmp)\n",
    "tmp.sflkitlib.lib.reset()\n",
    "avix_oracle = construct_oracle(\n",
    "                            program_under_test='middle',\n",
    "                            inp_converter=middle_inp_conv,\n",
    "                            timeout=10,\n",
    "                            line = 7,\n",
    "                            resource_path='rsc/',\n",
    "                            program_oracle= None)\n"
   ]
  },
  {
   "cell_type": "code",
   "execution_count": null,
   "id": "3f8f2c41",
   "metadata": {},
   "outputs": [
    {
     "data": {
      "text/plain": [
       "<OracleResult.FAILING: 'FAILING'>"
      ]
     },
     "execution_count": 41,
     "metadata": {},
     "output_type": "execute_result"
    }
   ],
   "source": [
    "avix_oracle(\"6,3,7\")"
   ]
  },
  {
   "cell_type": "code",
   "execution_count": null,
   "id": "11969097",
   "metadata": {},
   "outputs": [],
   "source": [
    "# # double check if this works\n",
    "\n",
    "# AviX.create_event_file(instrumented_function='middle',\n",
    "#                        #instr_path='tmp',\n",
    "#                        inp = '2,1,3',\n",
    "#                        conversion_func=middle_inp_conv,\n",
    "#                        event_path='rsc/event_file'\n",
    "#                        )"
   ]
  },
  {
   "cell_type": "code",
   "execution_count": null,
   "id": "942d3017",
   "metadata": {},
   "outputs": [
    {
     "ename": "TypeError",
     "evalue": "AviX.__init__() got an unexpected keyword argument 'desired_line'",
     "output_type": "error",
     "traceback": [
      "\u001b[0;31m---------------------------------------------------------------------------\u001b[0m",
      "\u001b[0;31mTypeError\u001b[0m                                 Traceback (most recent call last)",
      "Cell \u001b[0;32mIn[43], line 1\u001b[0m\n\u001b[0;32m----> 1\u001b[0m avix \u001b[38;5;241m=\u001b[39m \u001b[43mAviX\u001b[49m\u001b[43m(\u001b[49m\u001b[43mgrammar\u001b[49m\u001b[38;5;241;43m=\u001b[39;49m\u001b[43mmiddle_grammar\u001b[49m\u001b[43m,\u001b[49m\n\u001b[1;32m      2\u001b[0m \u001b[43m            \u001b[49m\u001b[43minitial_inputs\u001b[49m\u001b[38;5;241;43m=\u001b[39;49m\u001b[43mmiddle_inputs\u001b[49m\u001b[43m,\u001b[49m\n\u001b[1;32m      3\u001b[0m \u001b[43m            \u001b[49m\u001b[43moracle\u001b[49m\u001b[38;5;241;43m=\u001b[39;49m\u001b[43mavix_oracle\u001b[49m\u001b[43m,\u001b[49m\n\u001b[1;32m      4\u001b[0m \u001b[43m            \u001b[49m\u001b[43mmax_iterations\u001b[49m\u001b[38;5;241;43m=\u001b[39;49m\u001b[38;5;241;43m10\u001b[39;49m\u001b[43m,\u001b[49m\n\u001b[1;32m      5\u001b[0m \u001b[43m            \u001b[49m\u001b[43mdesired_line\u001b[49m\u001b[38;5;241;43m=\u001b[39;49m\u001b[38;5;241;43m7\u001b[39;49m\u001b[43m,\u001b[49m\n\u001b[1;32m      6\u001b[0m \u001b[43m            \u001b[49m\u001b[43mput_path\u001b[49m\u001b[38;5;241;43m=\u001b[39;49m\u001b[38;5;124;43m'\u001b[39;49m\u001b[38;5;124;43mmiddle.py\u001b[39;49m\u001b[38;5;124;43m'\u001b[39;49m\u001b[43m,\u001b[49m\n\u001b[1;32m      7\u001b[0m \u001b[43m            \u001b[49m\u001b[38;5;66;43;03m#instr_path='instrumented.py',\u001b[39;49;00m\n\u001b[1;32m      8\u001b[0m \u001b[43m            \u001b[49m\u001b[43mmin_precision\u001b[49m\u001b[43m \u001b[49m\u001b[38;5;241;43m=\u001b[39;49m\u001b[43m \u001b[49m\u001b[38;5;241;43m0.7\u001b[39;49m\u001b[43m,\u001b[49m\u001b[43m)\u001b[49m\n",
      "\u001b[0;31mTypeError\u001b[0m: AviX.__init__() got an unexpected keyword argument 'desired_line'"
     ]
    }
   ],
   "source": [
    "avix = AviX(grammar=middle_grammar,\n",
    "            initial_inputs=middle_inputs,\n",
    "            oracle=avix_oracle,\n",
    "            max_iterations=10,\n",
    "            desired_line=7,\n",
    "            put_path='middle.py',\n",
    "            #instr_path='instrumented.py',\n",
    "            min_precision = 0.7,)"
   ]
  },
  {
   "cell_type": "code",
   "execution_count": null,
   "id": "9a44d30e",
   "metadata": {},
   "outputs": [
    {
     "name": "stdout",
     "output_type": "stream",
     "text": [
      "34146,7,89\n",
      "3925,5,15\n",
      "5985,6,1\n",
      "3,4,5179\n",
      "6,52,714477\n",
      "2,6,8\n",
      "78,2,486\n",
      "114,496,2\n",
      "71,8,298\n",
      "76,7,2\n"
     ]
    }
   ],
   "source": [
    "from fuzzingbook.GrammarFuzzer import GrammarFuzzer, DerivationTree\n",
    "\n",
    "middle_grammar_converted = {\n",
    "    \"<start>\": [\"<stmt>\"],\n",
    "    \"<stmt>\": [\"str.to.int(<x>),str.to.int(<y>),str.to.int(<z>)\"],\n",
    "    \"<x>\": [\"<integer>\"],\n",
    "    \"<y>\": [\"<integer>\"],\n",
    "    \"<z>\": [\"<integer>\"],\n",
    "    \"<integer>\": [\"<digit>\", \"<digit><integer>\"],\n",
    "    \"<digit>\": [str(num) for num in range(1, 10)]\n",
    "}\n",
    "\n",
    "fuzzer = GrammarFuzzer(middle_grammar)\n",
    "\n",
    "for i in range(10):\n",
    "    print(fuzzer.fuzz())"
   ]
  },
  {
   "cell_type": "code",
   "execution_count": null,
   "id": "4a9846ed",
   "metadata": {},
   "outputs": [],
   "source": []
  },
  {
   "cell_type": "markdown",
   "id": "501b70f5-3276-45e8-9e48-7331964004d7",
   "metadata": {},
   "source": [
    "https://github.com/uds-se/sflkit\n",
    "\n",
    "<img src=\"qrcode.png\" style=\"width:500px\">"
   ]
  },
  {
   "cell_type": "markdown",
   "id": "d99da91b",
   "metadata": {},
   "source": []
  },
  {
   "cell_type": "markdown",
   "id": "a3e651cb",
   "metadata": {},
   "source": []
  }
 ],
 "metadata": {
  "kernelspec": {
   "display_name": "Python 3 (ipykernel)",
   "language": "python",
   "name": "python3"
  },
  "language_info": {
   "codemirror_mode": {
    "name": "ipython",
    "version": 3
   },
   "file_extension": ".py",
   "mimetype": "text/x-python",
   "name": "python",
   "nbconvert_exporter": "python",
   "pygments_lexer": "ipython3",
   "version": "3.10.14"
  }
 },
 "nbformat": 4,
 "nbformat_minor": 5
}
