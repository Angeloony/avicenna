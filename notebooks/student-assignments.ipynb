{
 "cells": [
  {
   "cell_type": "markdown",
   "id": "d19711fc-7f3a-437f-a0bd-e2ca72cb64c6",
   "metadata": {},
   "source": [
    "Diagnosing Student Code with Avicenna\n",
    "===\n",
    "\n",
    "In this Jupyter Notebook, we are exploring an interesting problem in educational technology and computer science education: the automated evaluation and diagnosis of student-submitted code. While automated systems can easily evaluate the correctness of code, diagnosing the _reasons_ behind any incorrect behavior can be a complex task.\n",
    "\n",
    "### The Problem: Greatest Common Divisor (GCD)\n",
    "\n",
    "Students have been assigned the task of writing a Python function to calculate the Greatest Common Divisor (GCD) of two integers. The GCD of two integers is the largest integer that divides both numbers without a remainder.\n",
    "\n",
    "### Avicenna: Our Debugging and Diagnosis Tool\n",
    "\n",
    "To aid us in this endeavor, we will be using Avicenna, an automated debugging tool that uses fuzz testing and symbolic reasoning to identify the conditions under which code behaves incorrectly. Avicenna's goal is to automatically diagnose software faults with high precision and recall, thereby making the debugging process more efficient.\n",
    "\n",
    "With this notebook, we aim to:\n",
    "\n",
    "1. Showcase how Avicenna can be used to diagnose student code.\n",
    "2. Illustrate the capabilities of Avicenna through an example of diagnosing a GCD implementation.\n",
    "3. Demonstrate how the diagnosis output can be used for generating new failure-inducing inputs.\n",
    "\n",
    "By the end of this notebook, you'll have a clearer understanding of how automated diagnosis can aid in educational settings, and how tools like Avicenna contribute to this."
   ]
  },
  {
   "cell_type": "markdown",
   "id": "e2c7db40-0809-4109-b2b1-a94e1bf5ea4d",
   "metadata": {},
   "source": [
    "### Student Implementation\n",
    "\n",
    "Below is the student's GCD implementation in Python."
   ]
  },
  {
   "cell_type": "code",
   "execution_count": 1,
   "id": "a32f3b8d-59a7-4514-9631-cf742881eb68",
   "metadata": {},
   "outputs": [],
   "source": [
    "# Student's implementation for calculating GCD\n",
    "class Solution:\n",
    "    def gcd(self, A, B):\n",
    "        l=[]\n",
    "        if A >= B:\n",
    "            for i in range(1, A):\n",
    "                if A % i == 0 and B % i == 0:\n",
    "                    l.append(i)\n",
    "            return l[-1] if len(l) > 1 else l[0]\n",
    "        else:\n",
    "            for i in range(1, B):\n",
    "                if A % i == 0 and B % i == 0:\n",
    "                    l.append(i)\n",
    "            return l[-1] if len(l) > 1 else l[0]"
   ]
  },
  {
   "cell_type": "markdown",
   "id": "64e90567-e9f4-45c1-8c7a-79039a9c34b9",
   "metadata": {},
   "source": [
    "### Reference Implementation\n",
    "\n",
    "This is a reference implementation for calculating the GCD using the Euclidean algorithm."
   ]
  },
  {
   "cell_type": "code",
   "execution_count": 2,
   "id": "32771b02-8be4-412a-b714-ec046f788ba9",
   "metadata": {},
   "outputs": [],
   "source": [
    "# Reference implementation using the Euclidean algorithm\n",
    "class Reference():\n",
    "    def gcd(self, A, B):\n",
    "        if A < B:\n",
    "            A, B = B, A\n",
    "        while B:\n",
    "            A, B = B, A % B\n",
    "        return A"
   ]
  },
  {
   "cell_type": "markdown",
   "id": "74685da8-f268-4ef1-851d-8f1cca151369",
   "metadata": {},
   "source": [
    "### Testing the Implementations\n",
    "\n",
    "Let's run some initial tests to compare the student and reference implementations."
   ]
  },
  {
   "cell_type": "code",
   "execution_count": 3,
   "id": "aa3930d7-f759-4df0-a35d-a88a4de5aa82",
   "metadata": {},
   "outputs": [
    {
     "name": "stdout",
     "output_type": "stream",
     "text": [
      "5\n",
      "10\n"
     ]
    }
   ],
   "source": [
    "# Comparing the two implementations\n",
    "ob = Solution()\n",
    "print(ob.gcd(10, 10))  # Output should be 10 for correct implementation\n",
    "\n",
    "ref = Reference()\n",
    "print(ref.gcd(10, 10))  # Output should be 10 as well"
   ]
  },
  {
   "cell_type": "markdown",
   "id": "2907adad-0f13-4442-92fc-330b6a231a43",
   "metadata": {},
   "source": [
    "### Fuzzing Setup\n",
    "\n",
    "Here we set up a grammar for fuzz testing using GrammarFuzzer."
   ]
  },
  {
   "cell_type": "code",
   "execution_count": 4,
   "id": "576ef414-fb9d-4859-8152-946366164cad",
   "metadata": {},
   "outputs": [],
   "source": [
    "# Setting up a grammar for fuzzing\n",
    "from fuzzingbook.Grammars import Grammar\n",
    "import string \n",
    "\n",
    "grammar: Grammar = {\n",
    "    '<start>': [\"<input>\"],\n",
    "    \"<input>\": [\"<first> <second>\"],\n",
    "    \"<first>\": [\"<integer>\"],\n",
    "    \"<second>\": [\"<integer>\"],\n",
    "    \"<integer>\": [\"<onenine><maybe_digits>\"],\n",
    "    \"<onenine>\": [str(num) for num in range(1, 10)],\n",
    "    \"<digit>\": list(string.digits),\n",
    "    \"<maybe_digits>\": [\"\", \"<digits>\"],\n",
    "    \"<digits>\": [\"<digit>\", \"<digit><digits>\"],\n",
    "}"
   ]
  },
  {
   "cell_type": "markdown",
   "id": "ec882307-57cc-4dc4-b9d8-8c50187eb350",
   "metadata": {},
   "source": [
    "### Oracle Construction\n",
    "\n",
    "We will now use the reference implementation to construct an oracle for fuzz testing."
   ]
  },
  {
   "cell_type": "code",
   "execution_count": 5,
   "id": "a7b8f449-3922-4af2-8233-4b5626aea137",
   "metadata": {},
   "outputs": [],
   "source": [
    "# Constructing an oracle using the reference GCD implementation\n",
    "from avicenna.oracle_construction import construct_oracle, UnexpectedResultError, OracleResult\n",
    "\n",
    "error_def = {UnexpectedResultError: OracleResult.BUG}\n",
    "oracle = construct_oracle(ref.gcd, ob.gcd, error_def)"
   ]
  },
  {
   "cell_type": "markdown",
   "id": "ec9b0dca-d4cf-4ea6-b2a0-e0794b539292",
   "metadata": {},
   "source": [
    "### Running the Fuzzer\n",
    "\n",
    "Let's run the fuzzer and examine the results."
   ]
  },
  {
   "cell_type": "code",
   "execution_count": 6,
   "id": "c8513715-9f03-43ac-ae52-dd3a671d62d3",
   "metadata": {},
   "outputs": [
    {
     "name": "stdout",
     "output_type": "stream",
     "text": [
      "455 873                        NO_BUG\n",
      "7564 69922                     NO_BUG\n",
      "3 56                           NO_BUG\n",
      "5 4                            NO_BUG\n",
      "34 764                         NO_BUG\n",
      "962439 5                       NO_BUG\n",
      "8 7                            NO_BUG\n",
      "7 9                            NO_BUG\n",
      "95 68                          NO_BUG\n",
      "6 71                           NO_BUG\n"
     ]
    }
   ],
   "source": [
    "# Running the fuzzer to test the student's implementation\n",
    "from fuzzingbook.GrammarFuzzer import GrammarFuzzer\n",
    "\n",
    "fuzzer = GrammarFuzzer(grammar)\n",
    "for _ in range(10):\n",
    "    inp = fuzzer.fuzz()\n",
    "    print(inp.ljust(30), oracle(inp))"
   ]
  },
  {
   "cell_type": "markdown",
   "id": "77ccb823-2e12-42f6-a823-424f569a7ce7",
   "metadata": {},
   "source": [
    "### Diagnosing Failures with Avicenna\n",
    "\n",
    "We will now use Avicenna to automatically diagnose the conditions under which the student's implementation fails."
   ]
  },
  {
   "cell_type": "code",
   "execution_count": 8,
   "id": "938e4f97-cfb1-4fee-91a7-3b375a446862",
   "metadata": {},
   "outputs": [],
   "source": [
    "# Using Avicenna for diagnosis\n",
    "from avicenna import Avicenna\n",
    "\n",
    "initial_inputs = [\"10 2\", \"4 4\", \"49 6618904968\"]\n",
    "avicenna = Avicenna(\n",
    "    grammar,\n",
    "    initial_inputs=initial_inputs,\n",
    "    oracle=oracle\n",
    ")\n",
    "\n",
    "diagnosis = avicenna.explain()"
   ]
  },
  {
   "cell_type": "markdown",
   "id": "364f4530-6003-4565-ae26-290e128840df",
   "metadata": {},
   "source": [
    "### Viewing the Diagnosis\n",
    "\n",
    "Let's interpret the diagnosis provided by Avicenna."
   ]
  },
  {
   "cell_type": "code",
   "execution_count": 9,
   "id": "42314956-df8d-4023-a46d-e57b2512129d",
   "metadata": {},
   "outputs": [
    {
     "name": "stdout",
     "output_type": "stream",
     "text": [
      "Avicenna determined the following constraints to describe the failure circumstances:\n",
      "\n",
      "(forall <input> container in start:\n",
      "   exists <first> elem in container:\n",
      "     (= (str.len elem) (str.to.int \"1\")) and\n",
      "forall <input> container_0 in start:\n",
      "  exists <second> elem_0 in container_0:\n",
      "    (= (str.len elem_0) (str.to.int \"1\")))\n",
      "Avicenna calculated a precision of 85.02% and a recall of 100.00%\n",
      "\n"
     ]
    }
   ],
   "source": [
    "# Printing and interpreting the diagnosis\n",
    "from isla.language import ISLaUnparser\n",
    "\n",
    "print(f\"Avicenna determined the following constraints to describe the failure circumstances:\\n\")\n",
    "print(ISLaUnparser(diagnosis[0]).unparse())\n",
    "print(f\"Avicenna calculated a precision of {diagnosis[1]*100:.2f}% and a recall of {diagnosis[2]*100:.2f}%\", end=\"\\n\\n\")"
   ]
  },
  {
   "cell_type": "markdown",
   "id": "782675ab-c099-423f-afce-c88cff22274e",
   "metadata": {},
   "source": [
    "## Use Self-Defined Patterns"
   ]
  },
  {
   "cell_type": "code",
   "execution_count": 10,
   "id": "01ca24c6-3580-41cd-8a82-cbce90ce11ce",
   "metadata": {},
   "outputs": [],
   "source": [
    "error_def = {UnexpectedResultError: OracleResult.BUG}\n",
    "oracle = construct_oracle(ref.gcd, ob.gcd, error_def)"
   ]
  },
  {
   "cell_type": "code",
   "execution_count": 11,
   "id": "d356ff85-e0b0-4219-bfd1-4250f27938ce",
   "metadata": {},
   "outputs": [],
   "source": [
    "patterns = [\n",
    "\"\"\"forall <?NONTERMINAL> elem_1 in start:\n",
    "  exists <?NONTERMINAL> elem_2 in start:\n",
    "    (= (str.to.int elem_1) (str.to.int elem_2))\"\"\",\n",
    "    \"\"\"\n",
    "    exists <?NONTERMINAL> elem in start:\n",
    "    (>= (str.to.int elem) (str.to.int <?STRING>))\n",
    "    \"\"\"\n",
    "]"
   ]
  },
  {
   "cell_type": "code",
   "execution_count": 12,
   "id": "9f3a391b-d1f5-41bb-85cf-24cf8f561523",
   "metadata": {},
   "outputs": [],
   "source": [
    "# Using Avicenna for diagnosis\n",
    "from avicenna import Avicenna\n",
    "\n",
    "avicenna = Avicenna(\n",
    "    grammar,\n",
    "    initial_inputs=initial_inputs,\n",
    "    oracle=oracle,\n",
    "    patterns=patterns,\n",
    "    #max_iterations=50,\n",
    ")\n",
    "\n",
    "diagnosis = avicenna.explain()"
   ]
  },
  {
   "cell_type": "code",
   "execution_count": 13,
   "id": "8db82f3a-3965-47a1-852d-d689b27f3f81",
   "metadata": {},
   "outputs": [
    {
     "name": "stdout",
     "output_type": "stream",
     "text": [
      "Avicenna determined the following constraints to describe the failure circumstances:\n",
      "\n",
      "forall <integer> elem_1 in start:\n",
      "  exists <first> elem_2 in start:\n",
      "    (= (str.to.int elem_1) (str.to.int elem_2))\n",
      "Avicenna calculated a precision of 100.00% and a recall of 100.00%\n",
      "\n"
     ]
    }
   ],
   "source": [
    "print(f\"Avicenna determined the following constraints to describe the failure circumstances:\\n\")\n",
    "print(ISLaUnparser(diagnosis[0]).unparse())\n",
    "print(f\"Avicenna calculated a precision of {diagnosis[1]*100:.2f}% and a recall of {diagnosis[2]*100:.2f}%\", end=\"\\n\\n\")"
   ]
  },
  {
   "cell_type": "code",
   "execution_count": null,
   "id": "4c8127a9-ff48-4785-baf5-52c313ba104c",
   "metadata": {},
   "outputs": [],
   "source": []
  }
 ],
 "metadata": {
  "kernelspec": {
   "display_name": "Python 3 (ipykernel)",
   "language": "python",
   "name": "python3"
  },
  "language_info": {
   "codemirror_mode": {
    "name": "ipython",
    "version": 3
   },
   "file_extension": ".py",
   "mimetype": "text/x-python",
   "name": "python",
   "nbconvert_exporter": "python",
   "pygments_lexer": "ipython3",
   "version": "3.10.9"
  }
 },
 "nbformat": 4,
 "nbformat_minor": 5
}
