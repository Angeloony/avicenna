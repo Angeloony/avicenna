{
 "cells": [
  {
   "cell_type": "code",
   "execution_count": 1,
   "id": "e8333c71-28ed-44ba-8e4e-52a72f8f96e8",
   "metadata": {},
   "outputs": [],
   "source": [
    "import enum\n",
    "import importlib\n",
    "import inspect\n",
    "import os\n",
    "import shutil\n",
    "\n",
    "from typing import List\n",
    "from IPython.display import HTML\n",
    "from sflkit.analysis.spectra import Line\n",
    "\n",
    "from sflkit.analysis import analysis_type, factory\n",
    "from sflkit import *\n",
    "from sflkit.color import ColorCode\n",
    "from sflkit import instrument_config, analyze_config\n",
    "from sflkit.config import Config\n",
    "\n",
    "from avicenna import *"
   ]
  },
  {
   "cell_type": "markdown",
   "id": "7be07d73-70af-4d38-9bc9-2d2f027987f0",
   "metadata": {},
   "source": [
    "## A faulty Program"
   ]
  },
  {
   "cell_type": "markdown",
   "id": "742bbc76-5fd4-46a9-ac78-f132118ec072",
   "metadata": {},
   "source": [
    "First, we need a faulty program. We chose an implementation of the `middle(x, y, z)` function that returns the *middle* number of its three arguments. For example, `middle(1, 3, 2)` should return 2 because `1 < 2` and `2 < 3`. We introduced a fault in this implementation of `middle` that occurs in line 7 `m = y`. "
   ]
  },
  {
   "cell_type": "code",
   "execution_count": 2,
   "id": "97ceacc2-3d6f-4d8f-95b4-11d45e805760",
   "metadata": {},
   "outputs": [],
   "source": [
    "#!/bin/python3\n",
    "\n",
    "\"\"\"\n",
    "This file contains the code under test for the example bug.\n",
    "The sqrt() method fails on x <= 0.\n",
    "\"\"\"\n",
    "from math import cos as rcos\n",
    "from math import sin as rsin\n",
    "from math import tan as rtan\n",
    "\n",
    "\n",
    "def sqrt(x):\n",
    "    \"\"\"Computes the square root of x, using the Newton-Raphson method\"\"\"\n",
    "    if x == 0:\n",
    "        return 0\n",
    "    assert x > 0\n",
    "    approx = None\n",
    "    guess = x / 2\n",
    "    while approx != guess:\n",
    "        approx = guess\n",
    "        guess = (approx + x / approx) / 2\n",
    "    return approx\n",
    "\n",
    "\n",
    "def tan(x):\n",
    "    return rtan(x)\n",
    "\n",
    "\n",
    "def cos(x):\n",
    "    return rcos(x)\n",
    "\n",
    "\n",
    "def sin(x):\n",
    "    return rsin(x)\n",
    "\n",
    "\n",
    "def main(arg):\n",
    "    return eval(arg)"
   ]
  },
  {
   "cell_type": "code",
   "execution_count": 3,
   "id": "75bf1f7d",
   "metadata": {},
   "outputs": [
    {
     "data": {
      "text/plain": [
       "3.0"
      ]
     },
     "execution_count": 3,
     "metadata": {},
     "output_type": "execute_result"
    }
   ],
   "source": [
    "main('sqrt(9)')"
   ]
  },
  {
   "cell_type": "code",
   "execution_count": 4,
   "id": "47f08bc5",
   "metadata": {},
   "outputs": [],
   "source": [
    "import string\n",
    "from typing import List\n",
    "\n",
    "\n",
    "grammar_calc = {\n",
    "    \"<start>\": [\"<arith_expr>\"],\n",
    "    \"<arith_expr>\": [\"<function>(<number>)\"],\n",
    "    \"<function>\": [\"sqrt\", \"sin\", \"cos\", \"tan\"],\n",
    "    \"<number>\": [\"<maybe_minus><one_nine><maybe_digits><maybe_frac>\", \n",
    "                 #\"-0\",\n",
    "                 \"0\"],\n",
    "    \"<maybe_minus>\": [\"\",\n",
    "                      #\"-\"\n",
    "                      ],\n",
    "    \"<maybe_frac>\": [\"\", \".<digits>\"],\n",
    "    \"<one_nine>\": [str(num) for num in range(1, 10)],\n",
    "    \"<digit>\": [digit for digit in string.digits],\n",
    "    \"<maybe_digits>\": [\"\", \"<digits>\"],\n",
    "    \"<digits>\": [\"<digit>\", \"<digit><digits>\"],\n",
    "}"
   ]
  },
  {
   "cell_type": "code",
   "execution_count": 5,
   "id": "d189831c",
   "metadata": {},
   "outputs": [],
   "source": [
    "# from avicenna.avix import *\n",
    "\n",
    "# AviX.create_event_file(inp='sqrt(9)',\n",
    "#                        instrumented_function='main',\n",
    "#                        conversion_func=None,\n",
    "#                        event_path='rsc/event_file'\n",
    "#                        )\n",
    "\n"
   ]
  },
  {
   "cell_type": "code",
   "execution_count": 6,
   "id": "5adee8c4",
   "metadata": {},
   "outputs": [],
   "source": [
    "put = 'calculator.py'\n",
    "tmp_py = 'rsc/instrumented.py'\n",
    "language='python'\n",
    "predicates='line'\n",
    "metrics='Tarantula'\n",
    "#passing='event-files/0,event-files/1'\n",
    "failing='event-files/event_file'\n",
    "def get_config():\n",
    "    return Config.create(path=put,\n",
    "                         working=tmp_py,\n",
    "                         language=language,\n",
    "                         predicates=predicates,\n",
    "                         metrics=metrics,\n",
    "                         failing=failing\n",
    "                         )\n",
    "    \n",
    "def instrument(out=True):\n",
    "    instrument_config(get_config())\n",
    "    if out:\n",
    "        with open(tmp_py, 'r') as fp:\n",
    "            print(fp.read())"
   ]
  },
  {
   "cell_type": "code",
   "execution_count": 7,
   "id": "8667ab66",
   "metadata": {},
   "outputs": [
    {
     "name": "stderr",
     "output_type": "stream",
     "text": [
      "sflkit :: INFO     :: I found 16 events in calculator.py.\n",
      "sflkit :: INFO     :: I found 16 events in calculator.py.\n"
     ]
    },
    {
     "name": "stdout",
     "output_type": "stream",
     "text": [
      "import sflkitlib.lib\n",
      "sflkitlib.lib.add_line_event(0)\n",
      "from math import cos as rcos\n",
      "sflkitlib.lib.add_line_event(1)\n",
      "from math import sin as rsin\n",
      "sflkitlib.lib.add_line_event(2)\n",
      "from math import tan as rtan\n",
      "\n",
      "def sqrt(x):\n",
      "    sflkitlib.lib.add_line_event(3)\n",
      "    if x == 0:\n",
      "        sflkitlib.lib.add_line_event(4)\n",
      "        return 0\n",
      "    sflkitlib.lib.add_line_event(5)\n",
      "    assert x > 0\n",
      "    sflkitlib.lib.add_line_event(6)\n",
      "    approx = None\n",
      "    sflkitlib.lib.add_line_event(7)\n",
      "    guess = x / 2\n",
      "    sflkitlib.lib.add_line_event(8)\n",
      "    while approx != guess:\n",
      "        sflkitlib.lib.add_line_event(9)\n",
      "        approx = guess\n",
      "        sflkitlib.lib.add_line_event(10)\n",
      "        guess = (approx + x / approx) / 2\n",
      "    sflkitlib.lib.add_line_event(11)\n",
      "    return approx\n",
      "\n",
      "def tan(x):\n",
      "    sflkitlib.lib.add_line_event(12)\n",
      "    return rtan(x)\n",
      "\n",
      "def cos(x):\n",
      "    sflkitlib.lib.add_line_event(13)\n",
      "    return rcos(x)\n",
      "\n",
      "def sin(x):\n",
      "    sflkitlib.lib.add_line_event(14)\n",
      "    return rsin(x)\n",
      "\n",
      "def main(arg):\n",
      "    sflkitlib.lib.add_line_event(15)\n",
      "    return eval(arg)\n"
     ]
    }
   ],
   "source": [
    "instrument()"
   ]
  },
  {
   "cell_type": "code",
   "execution_count": 8,
   "id": "f4f3bee1",
   "metadata": {},
   "outputs": [],
   "source": [
    "def analyzer_conf(conf: Config, factory):\n",
    "    analyzer = Analyzer(irrelevant_event_files=conf.failing, \n",
    "                        relevant_event_files=conf.passing,\n",
    "                        factory=factory)\n",
    "    return analyzer"
   ]
  },
  {
   "cell_type": "code",
   "execution_count": 9,
   "id": "4b07897a",
   "metadata": {},
   "outputs": [
    {
     "data": {
      "text/plain": [
       "LINE"
      ]
     },
     "execution_count": 9,
     "metadata": {},
     "output_type": "execute_result"
    }
   ],
   "source": [
    "factory = factory.LineFactory()\n",
    "line_event = analysis_type.AnalysisType(0)\n",
    "line_event"
   ]
  },
  {
   "cell_type": "code",
   "execution_count": 10,
   "id": "d1e4df3e",
   "metadata": {},
   "outputs": [],
   "source": [
    "analyzer = analyzer_conf(get_config(), factory=factory)"
   ]
  },
  {
   "cell_type": "code",
   "execution_count": 11,
   "id": "eecbf218",
   "metadata": {},
   "outputs": [],
   "source": [
    "# results = analyzer.analyze()\n",
    "# results\n",
    "\n",
    "# analyzer needs event files \n",
    "analyzer.analyze()"
   ]
  },
  {
   "cell_type": "code",
   "execution_count": 12,
   "id": "d743121d",
   "metadata": {},
   "outputs": [
    {
     "name": "stdout",
     "output_type": "stream",
     "text": [
      "{38, 14, 16, 17, 18, 19, 20, 21, 22}\n"
     ]
    }
   ],
   "source": [
    "coverage: List[Line] = analyzer.get_coverage()\n",
    "coverage = {line.line for line in coverage}\n",
    "print(coverage)"
   ]
  },
  {
   "cell_type": "code",
   "execution_count": 13,
   "id": "190c5287",
   "metadata": {},
   "outputs": [],
   "source": [
    "def middle_inp_conv(inp):\n",
    "    inp = inp.__str__()\n",
    "    middle_input = inp.split(',')\n",
    "    \n",
    "    converted_inp = [\n",
    "        int(middle_input[0]),\n",
    "        int(middle_input[1]),\n",
    "        int(middle_input[2])\n",
    "    ]\n",
    "    \n",
    "    return converted_inp"
   ]
  },
  {
   "cell_type": "code",
   "execution_count": 14,
   "id": "e550b853",
   "metadata": {},
   "outputs": [],
   "source": [
    "# from avicenna.avix import AviX\n",
    "# AviX.create_event_file( instrumented_function='main',\n",
    "#                         #instr_path=instrumented_file_path,\n",
    "#                         inp='sqrt(9)', \n",
    "#                         conversion_func=None, \n",
    "#                         event_path='rsc/event_file',\n",
    "# )"
   ]
  },
  {
   "cell_type": "code",
   "execution_count": 15,
   "id": "025672c0",
   "metadata": {},
   "outputs": [],
   "source": [
    "# from typing import List\n",
    "\n",
    "# from sflkit.analysis.analysis_type import AnalysisType\n",
    "# from sflkit.analysis.spectra import Line\n",
    "\n",
    "# analyzer2 = analyzer.analyze()\n",
    "# print(\"hi\")\n",
    "# coverage: List[Line] = analyzer2.get_coverage(AnalysisType.LINE)\n",
    "# coverage = {line.line for line in coverage}\n",
    "# print(coverage)\n",
    "from avicenna.avix import *\n",
    "from avicenna.oracle_construction import * \n",
    "avix_oracle = construct_oracle(\n",
    "                            program_under_test='main',\n",
    "                            # inp_converter=None,\n",
    "                            # timeout=10,\n",
    "                            line = 22,\n",
    "                            put_path='calculator.py'\n",
    "                            # resource_path='rsc/',\n",
    "                            # program_oracle= None,\n",
    "                            )\n"
   ]
  },
  {
   "cell_type": "code",
   "execution_count": 16,
   "id": "668dc3dc",
   "metadata": {},
   "outputs": [
    {
     "data": {
      "text/plain": [
       "<OracleResult.FAILING: 'FAILING'>"
      ]
     },
     "execution_count": 16,
     "metadata": {},
     "output_type": "execute_result"
    }
   ],
   "source": [
    "avix_oracle('sqrt(9)')\n"
   ]
  },
  {
   "cell_type": "code",
   "execution_count": 17,
   "id": "8772d57a",
   "metadata": {},
   "outputs": [
    {
     "data": {
      "text/plain": [
       "<OracleResult.PASSING: 'PASSING'>"
      ]
     },
     "execution_count": 17,
     "metadata": {},
     "output_type": "execute_result"
    }
   ],
   "source": [
    "avix_oracle('sin(9)')"
   ]
  },
  {
   "cell_type": "code",
   "execution_count": 18,
   "id": "548623aa",
   "metadata": {},
   "outputs": [],
   "source": [
    "def calc_oracle(inp):\n",
    "    # convert inputs\n",
    "    \n",
    "    return eval(inp)\n",
    "    \n",
    "    inputs = input.split()\n",
    "    result_list = [x, y, z]\n",
    "    result_list.sort()\n",
    "    return result_list[1]"
   ]
  },
  {
   "cell_type": "code",
   "execution_count": 19,
   "id": "70c8de77",
   "metadata": {},
   "outputs": [
    {
     "data": {
      "text/plain": [
       "3.0"
      ]
     },
     "execution_count": 19,
     "metadata": {},
     "output_type": "execute_result"
    }
   ],
   "source": [
    "import math\n",
    "calc_oracle('math.sqrt(9)')"
   ]
  },
  {
   "cell_type": "code",
   "execution_count": 20,
   "id": "e5131eff",
   "metadata": {},
   "outputs": [],
   "source": [
    "regular_oracle = construct_oracle(\n",
    "                            program_under_test=main,\n",
    "                            timeout=10,\n",
    "                            program_oracle=calc_oracle,\n",
    "                            default_oracle_result=OracleResult.PASSING)\n",
    "\n"
   ]
  },
  {
   "cell_type": "code",
   "execution_count": 21,
   "id": "64704837",
   "metadata": {},
   "outputs": [],
   "source": [
    "inputs_calc = ['sqrt(9)','cos(8)']"
   ]
  },
  {
   "cell_type": "code",
   "execution_count": 22,
   "id": "0b6ee533",
   "metadata": {},
   "outputs": [
    {
     "data": {
      "text/plain": [
       "<OracleResult.FAILING: 'FAILING'>"
      ]
     },
     "execution_count": 22,
     "metadata": {},
     "output_type": "execute_result"
    }
   ],
   "source": [
    "avix_oracle(inputs_calc[0])"
   ]
  },
  {
   "cell_type": "code",
   "execution_count": 23,
   "id": "1b0fef36",
   "metadata": {},
   "outputs": [],
   "source": [
    "# avicenna = Avicenna(\n",
    "#     grammar=grammar_calc,\n",
    "#     initial_inputs=inputs_calc,\n",
    "#     oracle=avix_oracle,\n",
    "#     max_iterations=10,\n",
    "#     top_n_relevant_features=3,\n",
    "# )"
   ]
  },
  {
   "cell_type": "code",
   "execution_count": 24,
   "id": "639abe3d",
   "metadata": {},
   "outputs": [
    {
     "name": "stderr",
     "output_type": "stream",
     "text": [
      "sflkit :: INFO     :: I found 16 events in calculator.py.\n",
      "sflkit :: INFO     :: I found 16 events in calculator.py.\n"
     ]
    }
   ],
   "source": [
    "avix = AviX(\n",
    "    grammar=grammar_calc,\n",
    "    initial_inputs=inputs_calc,\n",
    "    oracle=avix_oracle,\n",
    "    max_iterations=10,\n",
    "    top_n_relevant_features=3,\n",
    "    put_path='calculator.py'\n",
    ")"
   ]
  },
  {
   "cell_type": "code",
   "execution_count": 25,
   "id": "5465c93e",
   "metadata": {},
   "outputs": [],
   "source": [
    "# avicenna2 = Avicenna(\n",
    "#     grammar=middle_grammar,\n",
    "#     initial_inputs=middle_inputs,\n",
    "#     oracle=regular_oracle,\n",
    "#     max_iterations=10,\n",
    "#     top_n_relevant_features=3, \n",
    "# )"
   ]
  },
  {
   "cell_type": "code",
   "execution_count": 26,
   "id": "95b78629",
   "metadata": {},
   "outputs": [],
   "source": [
    "import warnings\n",
    "\n",
    "import logging\n",
    "# Suppress the specific SHAP warning\n",
    "warnings.filterwarnings(\n",
    "    \"ignore\",\n",
    "    message=\"LightGBM binary classifier with TreeExplainer shap values output has changed to a list of ndarray\",\n",
    ")\n",
    "warnings.filterwarnings(\n",
    "    \"ignore\", \n",
    "    message=\"No further splits with positive gain, best gain: -inf\"\n",
    ")"
   ]
  },
  {
   "cell_type": "code",
   "execution_count": 27,
   "id": "1fb1d396",
   "metadata": {},
   "outputs": [],
   "source": [
    "logging.basicConfig(filename='avicenna.log', filemode='w', encoding='utf-8', level=logging.INFO, force=True)\n",
    "# only 2 constraints used in the end why\n",
    "best_invariant = avix.explain() # unparse with islaunparse for further use\n"
   ]
  },
  {
   "cell_type": "code",
   "execution_count": 28,
   "id": "18c1892f",
   "metadata": {},
   "outputs": [],
   "source": [
    "#another_invariant = avicenna2.explain() # unparse with islaunparse for further use"
   ]
  },
  {
   "cell_type": "code",
   "execution_count": 29,
   "id": "370d134f",
   "metadata": {},
   "outputs": [],
   "source": [
    "#print(another_invariant)"
   ]
  },
  {
   "cell_type": "code",
   "execution_count": 30,
   "id": "4c4300d1",
   "metadata": {},
   "outputs": [
    {
     "name": "stdout",
     "output_type": "stream",
     "text": [
      "(ConjunctiveFormula(ForallFormula(BoundVariable(\"container\", \"<number>\"), Constant(\"start\", \"<start>\"), ExistsFormula(BoundVariable(\"elem\", \"<one_nine>\"), BoundVariable(\"container\", \"<number>\"), SMTFormula('(= (str.len elem) (str.to_int \"1\"))', BoundVariable(\"elem\", \"<one_nine>\"), ))), ForallFormula(BoundVariable(\"container_0\", \"<arith_expr>\"), Constant(\"start\", \"<start>\"), ExistsFormula(BoundVariable(\"elem_0\", \"<function>\"), BoundVariable(\"container_0\", \"<arith_expr>\"), SMTFormula('(= (str.len elem_0) (str.to_int \"4\"))', BoundVariable(\"elem_0\", \"<function>\"), )))), 1.0, 1.0)\n",
      "1.0\n"
     ]
    }
   ],
   "source": [
    "print(best_invariant)\n",
    "print(best_invariant[2])"
   ]
  },
  {
   "cell_type": "code",
   "execution_count": 31,
   "id": "186549fa",
   "metadata": {},
   "outputs": [
    {
     "name": "stdout",
     "output_type": "stream",
     "text": [
      "stop\n"
     ]
    }
   ],
   "source": [
    "# solver1 = ISLaSolver(\n",
    "#     grammar=grammar_calc,\n",
    "#     formula=another_invariant[0],\n",
    "#     enable_optimized_z3_queries=False,\n",
    "# )\n",
    "from isla.solver import ISLaSolver\n",
    "\n",
    "solver2 = ISLaSolver(\n",
    "    grammar=grammar_calc,\n",
    "    formula=best_invariant[0],\n",
    "    enable_optimized_z3_queries=False,\n",
    ")\n",
    "\n",
    "results1 = []\n",
    "results2 = []\n",
    "\n",
    "# # print(best_invariant[0])\n",
    "# # print(another_invariant[0])\n",
    "# for _ in range(1,10):\n",
    "#     results1.append(solver1.solve())\n",
    "    \n",
    "print(\"stop\")\n",
    "#    avix_oracle()\n",
    "for _ in range(1,10):\n",
    "    results2.append(solver2.solve())"
   ]
  },
  {
   "cell_type": "code",
   "execution_count": 32,
   "id": "3aed1e73",
   "metadata": {},
   "outputs": [
    {
     "name": "stdout",
     "output_type": "stream",
     "text": [
      "sqrt(1)\n",
      "FAILING\n",
      "sqrt(15.27)\n",
      "FAILING\n",
      "sqrt(16.8)\n",
      "FAILING\n",
      "sqrt(14.91063)\n",
      "FAILING\n",
      "sqrt(1559)\n",
      "FAILING\n",
      "sqrt(1)\n",
      "FAILING\n",
      "sqrt(1.72052)\n",
      "FAILING\n",
      "sqrt(1)\n",
      "FAILING\n",
      "sqrt(1)\n",
      "FAILING\n"
     ]
    }
   ],
   "source": [
    "for input in results2:\n",
    "    if avix_oracle(input) == OracleResult.FAILING:\n",
    "        print(input)\n",
    "        print(avix_oracle(input))"
   ]
  },
  {
   "cell_type": "code",
   "execution_count": 33,
   "id": "188ad42d",
   "metadata": {},
   "outputs": [
    {
     "name": "stdout",
     "output_type": "stream",
     "text": [
      "sqrt(1)\n",
      "FAILING\n",
      "sqrt(15.27)\n",
      "FAILING\n",
      "sqrt(16.8)\n",
      "FAILING\n",
      "sqrt(14.91063)\n",
      "FAILING\n",
      "sqrt(1559)\n",
      "FAILING\n",
      "sqrt(1)\n",
      "FAILING\n",
      "sqrt(1.72052)\n",
      "FAILING\n",
      "sqrt(1)\n",
      "FAILING\n",
      "sqrt(1)\n",
      "FAILING\n",
      "sqrt(1)\n",
      "sqrt(15.27)\n",
      "sqrt(16.8)\n",
      "sqrt(14.91063)\n",
      "sqrt(1559)\n",
      "sqrt(1)\n",
      "sqrt(1.72052)\n",
      "sqrt(1)\n",
      "sqrt(1)\n"
     ]
    }
   ],
   "source": [
    "for input in results2:\n",
    "    if avix_oracle(input) == OracleResult.FAILING:\n",
    "        print(input)\n",
    "        print(avix_oracle(input))\n",
    "for input in results2:\n",
    "    print(input)"
   ]
  },
  {
   "cell_type": "code",
   "execution_count": 34,
   "id": "effa0a08",
   "metadata": {},
   "outputs": [
    {
     "ename": "NameError",
     "evalue": "name 'middle_grammar' is not defined",
     "output_type": "error",
     "traceback": [
      "\u001b[0;31m---------------------------------------------------------------------------\u001b[0m",
      "\u001b[0;31mNameError\u001b[0m                                 Traceback (most recent call last)",
      "Cell \u001b[0;32mIn[34], line 2\u001b[0m\n\u001b[1;32m      1\u001b[0m solver \u001b[38;5;241m=\u001b[39m ISLaSolver(\n\u001b[0;32m----> 2\u001b[0m     grammar\u001b[38;5;241m=\u001b[39m\u001b[43mmiddle_grammar\u001b[49m,\n\u001b[1;32m      3\u001b[0m     formula\u001b[38;5;241m=\u001b[39mbest_invariant[\u001b[38;5;241m0\u001b[39m],\n\u001b[1;32m      4\u001b[0m     enable_optimized_z3_queries\u001b[38;5;241m=\u001b[39m\u001b[38;5;28;01mFalse\u001b[39;00m,\n\u001b[1;32m      5\u001b[0m )\n\u001b[1;32m      7\u001b[0m \u001b[38;5;66;03m# this isnt working rn why not raaaaaaaaaaaaaaaaaaaaaaa\u001b[39;00m\n\u001b[1;32m      8\u001b[0m \u001b[38;5;66;03m# should be inputs of type 2, 3, 1\u001b[39;00m\n\u001b[1;32m      9\u001b[0m \u001b[38;5;28;01mfor\u001b[39;00m _ \u001b[38;5;129;01min\u001b[39;00m \u001b[38;5;28mrange\u001b[39m(\u001b[38;5;241m1\u001b[39m,\u001b[38;5;241m10\u001b[39m):\n",
      "\u001b[0;31mNameError\u001b[0m: name 'middle_grammar' is not defined"
     ]
    }
   ],
   "source": [
    "solver = ISLaSolver(\n",
    "    grammar=middle_grammar,\n",
    "    formula=best_invariant[0],\n",
    "    enable_optimized_z3_queries=False,\n",
    ")\n",
    "\n",
    "# this isnt working rn why not raaaaaaaaaaaaaaaaaaaaaaa\n",
    "# should be inputs of type 2, 3, 1\n",
    "for _ in range(1,10):\n",
    "    print(solver.solve())\n"
   ]
  },
  {
   "cell_type": "code",
   "execution_count": null,
   "id": "1270c1ba",
   "metadata": {},
   "outputs": [],
   "source": [
    "# call func for middle, converts string input to usable integer values\n",
    "\n",
    "def call_func_middle(inp: str):\n",
    "    \n",
    "    inp = inp.__str__()\n",
    "    \n",
    "    middle_input = inp.split(',')\n",
    "    converted_inp =  [int(middle_input[0]), int(middle_input[1]), int(middle_input[2])]\n",
    "    return converted_inp"
   ]
  },
  {
   "cell_type": "code",
   "execution_count": null,
   "id": "d208b26e",
   "metadata": {},
   "outputs": [
    {
     "name": "stdout",
     "output_type": "stream",
     "text": [
      "True\n"
     ]
    }
   ],
   "source": [
    "test_path = Path('rsc/')\n",
    "print(Path.exists(test_path))\n"
   ]
  },
  {
   "cell_type": "code",
   "execution_count": null,
   "id": "c6757172",
   "metadata": {},
   "outputs": [],
   "source": [
    "from avicenna.avix import *\n",
    "from avicenna.oracle_construction import * "
   ]
  },
  {
   "cell_type": "code",
   "execution_count": null,
   "id": "39a153fb",
   "metadata": {},
   "outputs": [],
   "source": [
    "def middle_inp_conv(inp):\n",
    "    inp = inp.__str__()\n",
    "    middle_input = inp.split(',')\n",
    "    \n",
    "    converted_inp = [\n",
    "        int(middle_input[0]),\n",
    "        int(middle_input[1]),\n",
    "        int(middle_input[2])\n",
    "    ]\n",
    "    \n",
    "    return converted_inp"
   ]
  },
  {
   "cell_type": "code",
   "execution_count": null,
   "id": "54b33f10",
   "metadata": {},
   "outputs": [],
   "source": [
    "import tmp\n",
    "importlib.reload(tmp)\n",
    "tmp.sflkitlib.lib.reset()\n",
    "avix_oracle = construct_oracle(\n",
    "                            program_under_test='middle',\n",
    "                            inp_converter=middle_inp_conv,\n",
    "                            timeout=10,\n",
    "                            line = 7,\n",
    "                            resource_path='rsc/',\n",
    "                            program_oracle= None)\n"
   ]
  },
  {
   "cell_type": "code",
   "execution_count": null,
   "id": "3f8f2c41",
   "metadata": {},
   "outputs": [
    {
     "data": {
      "text/plain": [
       "<OracleResult.FAILING: 'FAILING'>"
      ]
     },
     "execution_count": 51,
     "metadata": {},
     "output_type": "execute_result"
    }
   ],
   "source": [
    "avix_oracle(\"6,3,7\")"
   ]
  },
  {
   "cell_type": "code",
   "execution_count": null,
   "id": "11969097",
   "metadata": {},
   "outputs": [],
   "source": [
    "# # double check if this works\n",
    "\n",
    "# AviX.create_event_file(instrumented_function='middle',\n",
    "#                        #instr_path='tmp',\n",
    "#                        inp = '2,1,3',\n",
    "#                        conversion_func=middle_inp_conv,\n",
    "#                        event_path='rsc/event_file'\n",
    "#                        )"
   ]
  },
  {
   "cell_type": "code",
   "execution_count": null,
   "id": "942d3017",
   "metadata": {},
   "outputs": [],
   "source": [
    "avix = AviX(grammar=middle_grammar,\n",
    "            initial_inputs=middle_inputs,\n",
    "            oracle=avix_oracle,\n",
    "            max_iterations=10,\n",
    "            desired_line=7,\n",
    "            put_path='middle.py',\n",
    "            #instr_path='instrumented.py',\n",
    "            min_precision = 0.7,)"
   ]
  },
  {
   "cell_type": "code",
   "execution_count": null,
   "id": "9a44d30e",
   "metadata": {},
   "outputs": [
    {
     "name": "stdout",
     "output_type": "stream",
     "text": [
      "14,977,74\n",
      "9,1,1\n",
      "86,87619,98\n",
      "75,88,2\n",
      "4,3,7\n",
      "4,8,74\n",
      "67,11,97\n",
      "6,25,182\n",
      "7958,6,82\n",
      "5,46,2\n"
     ]
    }
   ],
   "source": [
    "from fuzzingbook.GrammarFuzzer import GrammarFuzzer, DerivationTree\n",
    "\n",
    "middle_grammar_converted = {\n",
    "    \"<start>\": [\"<stmt>\"],\n",
    "    \"<stmt>\": [\"str.to.int(<x>),str.to.int(<y>),str.to.int(<z>)\"],\n",
    "    \"<x>\": [\"<integer>\"],\n",
    "    \"<y>\": [\"<integer>\"],\n",
    "    \"<z>\": [\"<integer>\"],\n",
    "    \"<integer>\": [\"<digit>\", \"<digit><integer>\"],\n",
    "    \"<digit>\": [str(num) for num in range(1, 10)]\n",
    "}\n",
    "\n",
    "fuzzer = GrammarFuzzer(middle_grammar)\n",
    "\n",
    "for i in range(10):\n",
    "    print(fuzzer.fuzz())"
   ]
  },
  {
   "cell_type": "code",
   "execution_count": null,
   "id": "4a9846ed",
   "metadata": {},
   "outputs": [],
   "source": []
  },
  {
   "cell_type": "markdown",
   "id": "501b70f5-3276-45e8-9e48-7331964004d7",
   "metadata": {},
   "source": [
    "https://github.com/uds-se/sflkit\n",
    "\n",
    "<img src=\"qrcode.png\" style=\"width:500px\">"
   ]
  },
  {
   "cell_type": "markdown",
   "id": "d99da91b",
   "metadata": {},
   "source": []
  },
  {
   "cell_type": "markdown",
   "id": "a3e651cb",
   "metadata": {},
   "source": []
  }
 ],
 "metadata": {
  "kernelspec": {
   "display_name": "Python 3 (ipykernel)",
   "language": "python",
   "name": "python3"
  },
  "language_info": {
   "codemirror_mode": {
    "name": "ipython",
    "version": 3
   },
   "file_extension": ".py",
   "mimetype": "text/x-python",
   "name": "python",
   "nbconvert_exporter": "python",
   "pygments_lexer": "ipython3",
   "version": "3.10.14"
  }
 },
 "nbformat": 4,
 "nbformat_minor": 5
}
