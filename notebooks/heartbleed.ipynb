{
 "cells": [
  {
   "cell_type": "markdown",
   "metadata": {},
   "source": [
    "# **Understanding the Heartbleed Bug**\n",
    "\n",
    "## Introduction\n",
    "The Heartbleed Bug is a serious vulnerability in the popular OpenSSL cryptographic software library. It allows stealing the information protected by the SSL/TLS encryption, which is used to secure the internet. This bug allows anyone on the internet to read the memory of systems protected by the vulnerable versions of OpenSSL.\n",
    "\n",
    "## The Heartbeat Protocol\n",
    "Before diving into the bug itself, it's crucial to understand the heartbeat protocol in TLS. A heartbeat message is usually sent to ensure that the other end is still connected and responsive. This message contains a payload, its length, and some random padding data.\n",
    "\n",
    "#### **Heartbeat Message Format**\n",
    "```plaintext\n",
    "| Type (1 byte) | Payload Length (2 bytes) | Payload (variable) | Padding (variable) |\n",
    "```\n"
   ]
  },
  {
   "cell_type": "markdown",
   "metadata": {},
   "source": [
    "### Simulating a Heartbeat Request\n",
    "Let's create a sample heartbeat request. The type is `0x01`, indicating a request, and the payload is `HelloRANDOM`."
   ]
  },
  {
   "cell_type": "code",
   "execution_count": null,
   "metadata": {},
   "outputs": [],
   "source": [
    "from avicenna_formalizations.heartbeat import heartbeat_string_to_hex\n",
    "# Simulating a Heartbeat request\n",
    "s = \"\\x01 5 Hello XY\"\n",
    "heartbeat_request = heartbeat_string_to_hex(s)\n",
    "print(\"Heartbeat Request:\", heartbeat_request)"
   ]
  },
  {
   "cell_type": "markdown",
   "metadata": {},
   "source": [
    "## Simulating the Heartbleed Bug\n",
    "Given the heartbeat request, if the payload length is set longer than the actual payload, a vulnerable server might send back more data than it should, revealing sensitive information from its memory.\n"
   ]
  },
  {
   "cell_type": "code",
   "execution_count": null,
   "metadata": {},
   "outputs": [],
   "source": [
    "s = \"\\x01 5 Hello XY\"\n",
    "heartbeat_request = heartbeat_string_to_hex(s)\n",
    "print(\"Heartbeat Request:\", heartbeat_request)"
   ]
  },
  {
   "cell_type": "code",
   "execution_count": null,
   "metadata": {},
   "outputs": [],
   "source": [
    "from avicenna_formalizations.heartbeat import heartbeat_response\n",
    "\n",
    "response = heartbeat_response(heartbeat_request)\n",
    "print(\"Heartbeat Response:\", response)"
   ]
  },
  {
   "cell_type": "code",
   "execution_count": null,
   "metadata": {},
   "outputs": [],
   "source": [
    "from avicenna_formalizations.heartbeat import hex_to_heartbeat_string\n",
    "\n",
    "decoded_response = hex_to_heartbeat_string(response)\n",
    "print(\"Decoded Response:\", decoded_response)"
   ]
  },
  {
   "cell_type": "markdown",
   "metadata": {},
   "source": [
    "Now we lets check the following heartbeat request:"
   ]
  },
  {
   "cell_type": "code",
   "execution_count": null,
   "metadata": {},
   "outputs": [],
   "source": [
    "s = \"\\x01 100 Hello XY\"\n",
    "heartbeat_request = heartbeat_string_to_hex(s)\n",
    "print(\"Heartbeat Request:\", heartbeat_request)"
   ]
  },
  {
   "cell_type": "code",
   "execution_count": null,
   "metadata": {},
   "outputs": [],
   "source": [
    "# Getting a response from the vulnerable server\n",
    "response = heartbeat_response(heartbeat_request)\n",
    "print(\"Heartbeat Response:\", response)"
   ]
  },
  {
   "cell_type": "code",
   "execution_count": null,
   "metadata": {},
   "outputs": [],
   "source": [
    "decoded_response = hex_to_heartbeat_string(response)\n",
    "print(\"Decoded Response:\", decoded_response)"
   ]
  },
  {
   "cell_type": "code",
   "execution_count": null,
   "metadata": {},
   "outputs": [],
   "source": []
  },
  {
   "cell_type": "code",
   "execution_count": null,
   "metadata": {},
   "outputs": [],
   "source": [
    "def test_heartbleed_vulnerability(request_str, response_hex):\n",
    "    \"\"\"Test if the Heartbleed bug occurred based on the request and response.\"\"\"\n",
    "    \n",
    "    # Extract the specified payload length from the request string format\n",
    "    # Given your format \"\\x01 8 Hello abc\", we extract the number after the space and before the payload.\n",
    "    specified_payload_length = int(request_str.split()[1])\n",
    "    \n",
    "    # Extract the actual payload from the request string (assuming space-separated format)\n",
    "    actual_payload = request_str.split()[2][:specified_payload_length].encode('utf-8')\n",
    "    \n",
    "    # Convert the response hex string to bytes\n",
    "    response_byte_data = bytes.fromhex(response_hex.replace(\" \", \"\"))\n",
    "    \n",
    "    # Extract the payload (and potentially extra data) from the response\n",
    "    response_payload_and_extra = response_byte_data[3:3+specified_payload_length+len(actual_payload)]\n",
    "\n",
    "    # Compare the response payload to the request payload\n",
    "    # If they're not the same or if there's extra data, then there's a potential Heartbleed vulnerability\n",
    "    if response_payload_and_extra != actual_payload:\n",
    "        return True  # Heartbleed bug might have occurred\n",
    "    \n",
    "    return False"
   ]
  },
  {
   "cell_type": "code",
   "execution_count": null,
   "metadata": {},
   "outputs": [],
   "source": [
    "from avicenna.oracle import OracleResult\n",
    "def oracle(inp):\n",
    "    try:\n",
    "        heartbeat_request_str = str(inp)\n",
    "        hex_request = heartbeat_string_to_hex(heartbeat_request_str)\n",
    "        response = heartbeat_response(hex_request)\n",
    "        is_vulnerable = test_heartbleed_vulnerability(heartbeat_request_str, response)\n",
    "        print(\"Is the server vulnerable to Heartbleed?\", is_vulnerable)\n",
    "    except OverflowError:\n",
    "        return OracleResult.UNDEF\n",
    "    return OracleResult.BUG if is_vulnerable else OracleResult.NO_BUG"
   ]
  },
  {
   "cell_type": "code",
   "execution_count": null,
   "metadata": {},
   "outputs": [],
   "source": [
    "oracle(\"\\x01 65535 Hello abc\")"
   ]
  },
  {
   "cell_type": "markdown",
   "metadata": {},
   "source": [
    "### Conclusion\n",
    "The Heartbleed bug is a severe vulnerability that exposes sensitive data due to incorrect handling of heartbeat requests. It emphasizes the need for rigorous testing and scrutiny of cryptographic software and protocols.\n"
   ]
  },
  {
   "cell_type": "markdown",
   "metadata": {},
   "source": [
    "In the case of the Heartbleed bug:\n",
    "\n",
    "- A malicious client can send a heartbeat request with a payload of small size (let's say 1 byte) but specify a much larger payload length (e.g., 65535 bytes).\n",
    "- A vulnerable server will then respond with a heartbeat response that contains the 1-byte payload and up to 65534 bytes of memory contents that follow it, which is the heart of the vulnerability. The padding is not the focal point here; the danger lies in the extra memory content returned as payload due to erroneous handling of the specified payload length."
   ]
  },
  {
   "cell_type": "code",
   "execution_count": null,
   "metadata": {},
   "outputs": [],
   "source": [
    "from isla.fuzzer import GrammarFuzzer\n",
    "from avicenna_formalizations.heartbeat import grammar\n",
    "\n",
    "g = GrammarFuzzer(grammar)\n",
    "\n",
    "for _ in range(10):\n",
    "    inp = g.fuzz()\n",
    "    print(inp.encode())\n",
    "    print(oracle(inp))"
   ]
  },
  {
   "cell_type": "code",
   "execution_count": null,
   "metadata": {},
   "outputs": [],
   "source": [
    "from avicenna.avicenna import Avicenna\n",
    "from avicenna_formalizations.heartbeat import initial_inputs, oracle\n",
    "\n",
    "from isla.language import ISLaUnparser\n",
    "\n",
    "avicenna = Avicenna(\n",
    "    grammar=grammar,\n",
    "    initial_inputs=initial_inputs,\n",
    "    oracle=oracle,\n",
    "    max_iterations=10,\n",
    ")\n",
    "\n",
    "diagnoses = avicenna.explain()\n",
    "\n",
    "for diagnosis in diagnoses:\n",
    "    print(ISLaUnparser(diagnosis[0]).unparse())"
   ]
  },
  {
   "cell_type": "code",
   "execution_count": null,
   "metadata": {},
   "outputs": [],
   "source": [
    "for inp in avicenna.all_inputs:\n",
    "    print(inp, inp.oracle)"
   ]
  },
  {
   "cell_type": "code",
   "execution_count": null,
   "metadata": {},
   "outputs": [],
   "source": [
    "from isla.solver import ISLaSolver\n",
    "\n",
    "constraint = \"\"\"\n",
    "exists <payload> container1 in start:\n",
    "  exists <payload-length> length_field in start:\n",
    "    (< (str.len container1) (str.to.int length_field))\n",
    "\"\"\"\n",
    "solver = ISLaSolver(grammar, constraint)\n",
    "\n",
    "for inp in avicenna.all_inputs:\n",
    "    bool_ = True if inp.oracle == OracleResult.BUG else False\n",
    "    solver_result = solver.check(str(inp))\n",
    "    if bool_ != solver_result:\n",
    "        print(str(inp).encode())\n",
    "    # print(str(inp).encode(), inp.oracle, solver.check(str(inp)))"
   ]
  },
  {
   "cell_type": "code",
   "execution_count": null,
   "metadata": {},
   "outputs": [],
   "source": []
  }
 ],
 "metadata": {
  "kernelspec": {
   "display_name": "Python 3 (ipykernel)",
   "language": "python",
   "name": "python3"
  },
  "language_info": {
   "codemirror_mode": {
    "name": "ipython",
    "version": 3
   },
   "file_extension": ".py",
   "mimetype": "text/x-python",
   "name": "python",
   "nbconvert_exporter": "python",
   "pygments_lexer": "ipython3",
   "version": "3.10.9"
  }
 },
 "nbformat": 4,
 "nbformat_minor": 4
}
