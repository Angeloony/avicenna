{
 "cells": [
  {
   "cell_type": "markdown",
   "metadata": {
    "collapsed": true,
    "jupyter": {
     "outputs_hidden": true
    }
   },
   "source": [
    "# Tests4Py Subjects"
   ]
  },
  {
   "cell_type": "code",
   "execution_count": 4,
   "metadata": {},
   "outputs": [],
   "source": [
    "# !pip install tests4py"
   ]
  },
  {
   "cell_type": "code",
   "execution_count": 5,
   "metadata": {},
   "outputs": [
    {
     "name": "stderr",
     "output_type": "stream",
     "text": [
      "tests4py :: INFO     :: Loading projects\n"
     ]
    }
   ],
   "source": [
    "from tests4py import framework"
   ]
  },
  {
   "cell_type": "code",
   "execution_count": 6,
   "metadata": {},
   "outputs": [
    {
     "name": "stdout",
     "output_type": "stream",
     "text": [
      "The existing subjects in Tests4Py:\n",
      "\n",
      "╒══════════════╤══════════╕\n",
      "│ project      │   # bugs │\n",
      "╞══════════════╪══════════╡\n",
      "│ ansible      │       18 │\n",
      "├──────────────┼──────────┤\n",
      "│ black        │       23 │\n",
      "├──────────────┼──────────┤\n",
      "│ calculator   │        1 │\n",
      "├──────────────┼──────────┤\n",
      "│ cookiecutter │        4 │\n",
      "├──────────────┼──────────┤\n",
      "│ expression   │        1 │\n",
      "├──────────────┼──────────┤\n",
      "│ fastapi      │       16 │\n",
      "├──────────────┼──────────┤\n",
      "│ httpie       │        5 │\n",
      "├──────────────┼──────────┤\n",
      "│ keras        │       45 │\n",
      "├──────────────┼──────────┤\n",
      "│ luigi        │       32 │\n",
      "├──────────────┼──────────┤\n",
      "│ markup       │        2 │\n",
      "├──────────────┼──────────┤\n",
      "│ matplotlib   │       30 │\n",
      "├──────────────┼──────────┤\n",
      "│ middle       │        2 │\n",
      "├──────────────┼──────────┤\n",
      "│ pandas       │      169 │\n",
      "├──────────────┼──────────┤\n",
      "│ pysnooper    │        3 │\n",
      "├──────────────┼──────────┤\n",
      "│ sanic        │        5 │\n",
      "├──────────────┼──────────┤\n",
      "│ scrapy       │       40 │\n",
      "├──────────────┼──────────┤\n",
      "│ spacy        │       10 │\n",
      "├──────────────┼──────────┤\n",
      "│ thefuck      │       32 │\n",
      "├──────────────┼──────────┤\n",
      "│ tornado      │       16 │\n",
      "├──────────────┼──────────┤\n",
      "│ tqdm         │        9 │\n",
      "╘══════════════╧══════════╛\n",
      "\n",
      "Set a project to get further information.\n"
     ]
    },
    {
     "data": {
      "text/plain": [
       "{\n",
       "    \"command\": \"info\",\n",
       "    \"successful\": true\n",
       "}"
      ]
     },
     "execution_count": 6,
     "metadata": {},
     "output_type": "execute_result"
    }
   ],
   "source": [
    "framework.default.tests4py_info()"
   ]
  },
  {
   "cell_type": "code",
   "execution_count": 7,
   "metadata": {},
   "outputs": [],
   "source": [
    "from tests4py.api import checkout_project\n",
    "from tests4py.framework.default import tests4py_checkout, tests4py_compile"
   ]
  },
  {
   "cell_type": "code",
   "execution_count": 8,
   "metadata": {},
   "outputs": [
    {
     "name": "stderr",
     "output_type": "stream",
     "text": [
      "tests4py :: INFO     :: PROJECT_NAME: pysnooper\n",
      "tests4py :: INFO     :: BUG_ID: 2\n",
      "tests4py :: INFO     :: FIXED: False\n",
      "tests4py :: INFO     :: WORK_DIR: /Users/martineberlein/github/avicenna/notebooks/tests4py/tmp\n",
      "tests4py :: INFO     :: Loading projects\n",
      "tests4py :: INFO     :: Copying https://github.com/cool-RR/PySnooper from /Users/martineberlein/.t4p/projects/pysnooper into /Users/martineberlein/github/avicenna/notebooks/tests4py/tmp/pysnooper_2... \n",
      "tests4py :: INFO     :: Resetting git at /Users/martineberlein/github/avicenna/notebooks/tests4py/tmp/pysnooper_2 to 814abc34a098c1b98cb327105ac396f985d2413e\n",
      "tests4py :: INFO     :: Creating tmp location at /Users/martineberlein/github/avicenna/notebooks/tests4py/tmp/tmp_pysnooper\n",
      "tests4py :: INFO     :: Copying required files to /Users/martineberlein/github/avicenna/notebooks/tests4py/tmp/tmp_pysnooper\n",
      "tests4py :: INFO     :: Checkout buggy commit id e21a31162f4c54be693d8ca8260e42393b39abd3\n",
      "tests4py :: INFO     :: Copying required files from /Users/martineberlein/github/avicenna/notebooks/tests4py/tmp/tmp_pysnooper\n",
      "tests4py :: INFO     :: Create info file\n",
      "tests4py :: INFO     :: Copying resources for pysnooper_2\n"
     ]
    },
    {
     "data": {
      "text/plain": [
       "{\n",
       "    \"command\": \"checkout\",\n",
       "    \"successful\": true,\n",
       "    \"project\": \"pysnooper_2\",\n",
       "    \"location\": \"PosixPath('/Users/martineberlein/github/avicenna/notebooks/tests4py/tmp/pysnooper_2')\"\n",
       "}"
      ]
     },
     "execution_count": 8,
     "metadata": {},
     "output_type": "execute_result"
    }
   ],
   "source": [
    "tests4py_checkout(\"pysnooper\", 2)"
   ]
  },
  {
   "cell_type": "code",
   "execution_count": 9,
   "metadata": {},
   "outputs": [],
   "source": [
    "from pathlib import Path\n",
    "from tests4py.api import compile_project"
   ]
  },
  {
   "cell_type": "code",
   "execution_count": 10,
   "metadata": {},
   "outputs": [
    {
     "name": "stderr",
     "output_type": "stream",
     "text": [
      "tests4py :: INFO     :: Checking whether Tests4Py project\n",
      "tests4py :: INFO     :: Loading projects\n",
      "tests4py :: INFO     :: Checking for platform darwin\n",
      "tests4py :: INFO     :: Check for activated python version\n",
      "tests4py :: INFO     :: Using pyenv python 3.8.16\n",
      "tests4py :: INFO     :: Activating virtual env\n",
      "tests4py :: INFO     :: Run setup\n",
      "\n",
      "[notice] A new release of pip is available: 23.1.2 -> 23.2.1\n",
      "[notice] To update, run: pip install --upgrade pip\n",
      "tests4py :: INFO     :: Set compiled flag\n"
     ]
    },
    {
     "data": {
      "text/plain": [
       "{\n",
       "    \"command\": \"compile\",\n",
       "    \"successful\": true,\n",
       "    \"project\": \"pysnooper_2\",\n",
       "    \"location\": \"PosixPath('/Users/martineberlein/github/avicenna/notebooks/tests4py/tmp/pysnooper_2')\",\n",
       "    \"env\": \"PATH=/Users/martineberlein/github/avicenna/notebooks/tests4py/tmp/pysnooper_2/tests4py_venv/bin:/Users/martineberlein/.pyenv/versions/3.8.16/bin:/Users/martineberlein/github/avicenna/venv/bin:/Users/martineberlein/.pyenv/shims:/Users/martineberlein/.pyenv/bin:/Users/martineberlein/gems/bin:/opt/homebrew/opt/ruby/bin:/opt/homebrew/opt/python@3.10/bin:/opt/homebrew/bin:/opt/homebrew/sbin:/usr/local/bin:/System/Cryptexes/App/usr/bin:/usr/bin:/bin:/usr/sbin:/sbin:/Library/TeX/texbin:/usr/local/share/dotnet:~/.dotnet/tools:/Library/Apple/usr/bin:/var/run/com.apple.security.cryptexd/codex.system/bootstrap/usr/local/bin:/var/run/com.apple.security.cryptexd/codex.system/bootstrap/usr/bin:/var/run/com.apple.security.cryptexd/codex.system/bootstrap/usr/appleinternal/bin:/Users/martineberlein/Library/Application Support/JetBrains/Toolbox/scripts\\n__CFBundleIdentifier=com.jetbrains.pycharm\\nSHELL=/bin/zsh\\nTERM=xterm-color\\nUSER=martineberlein\\nFIG_JETBRAINS_SHELL_INTEGRATION=1\\nTMPDIR=/var/folders/02/7jyqzsc129vc1fqtp6sqknnm0000gn/T/\\nCOMMAND_MODE=unix2003\\nTERMINAL_EMULATOR=JetBrains-JediTerm\\nSSH_AUTH_SOCK=/private/tmp/com.apple.launchd.mhRJZWRE3F/Listeners\\nXPC_FLAGS=0x0\\nTERM_SESSION_ID=b0ec9cb3-2b3a-411e-8eec-8d316c356856\\n__CF_USER_TEXT_ENCODING=0x1F5:0x0:0x3\\nLOGNAME=martineberlein\\nLC_CTYPE=UTF-8\\nXPC_SERVICE_NAME=0\\nHOME=/Users/martineberlein\\nSHLVL=1\\nPWD=/Users/martineberlein/github/avicenna/notebooks/tests4py\\nOLDPWD=/Users/martineberlein/github/avicenna/notebooks\\nHOMEBREW_PREFIX=/opt/homebrew\\nHOMEBREW_CELLAR=/opt/homebrew/Cellar\\nHOMEBREW_REPOSITORY=/opt/homebrew\\nMANPATH=/opt/homebrew/share/man::\\nINFOPATH=/opt/homebrew/share/info:\\nGEM_HOME=/Users/martineberlein/gems\\nPYENV_ROOT=/Users/martineberlein/.pyenv\\nPYENV_SHELL=zsh\\nVIRTUAL_ENV=/Users/martineberlein/github/avicenna/notebooks/tests4py/tmp/pysnooper_2/tests4py_venv\\nPS1=(tests4py_venv) (venv) %n@%m %1~ %# \\n_=/Users/martineberlein/github/avicenna/venv/bin/jupyter\\nPYDEVD_USE_FRAME_EVAL=NO\\nJPY_SESSION_NAME=/Users/martineberlein/github/avicenna/notebooks/tests4py/tests4py.ipynb\\nJPY_PARENT_PID=85740\\nCLICOLOR=1\\nFORCE_COLOR=1\\nCLICOLOR_FORCE=1\\nPAGER=cat\\nGIT_PAGER=cat\\nMPLBACKEND=module://matplotlib_inline.backend_inline\\nKMP_DUPLICATE_LIB_OK=True\\nKMP_INIT_AT_FORK=FALSE\\n_OLD_VIRTUAL_PATH=/Users/martineberlein/.pyenv/versions/3.8.16/bin:/Users/martineberlein/github/avicenna/venv/bin:/Users/martineberlein/.pyenv/shims:/Users/martineberlein/.pyenv/bin:/Users/martineberlein/gems/bin:/opt/homebrew/opt/ruby/bin:/opt/homebrew/opt/python@3.10/bin:/opt/homebrew/bin:/opt/homebrew/sbin:/usr/local/bin:/System/Cryptexes/App/usr/bin:/usr/bin:/bin:/usr/sbin:/sbin:/Library/TeX/texbin:/usr/local/share/dotnet:~/.dotnet/tools:/Library/Apple/usr/bin:/var/run/com.apple.security.cryptexd/codex.system/bootstrap/usr/local/bin:/var/run/com.apple.security.cryptexd/codex.system/bootstrap/usr/bin:/var/run/com.apple.security.cryptexd/codex.system/bootstrap/usr/appleinternal/bin:/Users/martineberlein/Library/Application Support/JetBrains/Toolbox/scripts\\n_OLD_VIRTUAL_PS1=(venv) %n@%m %1~ %# \\nVIRTUAL_ENV_PROMPT=(tests4py_venv)\"\n",
       "}"
      ]
     },
     "execution_count": 10,
     "metadata": {},
     "output_type": "execute_result"
    }
   ],
   "source": [
    "compile_project(work_dir_or_project=Path(\"./tmp/pysnooper_2/\").absolute())"
   ]
  },
  {
   "cell_type": "code",
   "execution_count": 11,
   "metadata": {},
   "outputs": [],
   "source": [
    "from tests4py.api import test_project"
   ]
  },
  {
   "cell_type": "code",
   "execution_count": 12,
   "metadata": {},
   "outputs": [
    {
     "name": "stderr",
     "output_type": "stream",
     "text": [
      "tests4py :: INFO     :: Checking whether Tests4Py project\n",
      "tests4py :: INFO     :: Loading projects\n",
      "tests4py :: INFO     :: Checking for platform darwin\n",
      "tests4py :: INFO     :: Check for activated python version\n",
      "tests4py :: INFO     :: Using pyenv python 3.8.16\n",
      "tests4py :: INFO     :: Activating virtual env\n",
      "tests4py :: INFO     :: Run tests with command ['python', '-m', 'pytest', '-otest.log\\n-cint=str']\n",
      "tests4py :: INFO     :: \u001b[1m============================= test session starts ==============================\u001b[0m\n",
      "platform darwin -- Python 3.8.16, pytest-7.4.0, pluggy-1.2.0\n",
      "rootdir: /Users/martineberlein/github/avicenna/notebooks/tests4py/tmp/pysnooper_2\n",
      "configfile: tox.ini\n",
      "collected 31 items\n",
      "\n",
      "tests/test_pysnooper.py \u001b[32m.\u001b[0m\u001b[32m.\u001b[0m\u001b[32m.\u001b[0m\u001b[32m.\u001b[0m\u001b[32m.\u001b[0m\u001b[32m.\u001b[0m\u001b[32m.\u001b[0m\u001b[32m.\u001b[0m\u001b[32m.\u001b[0m\u001b[32m.\u001b[0m\u001b[32m.\u001b[0m\u001b[32m.\u001b[0m\u001b[32m.\u001b[0m\u001b[32m.\u001b[0m\u001b[32m.\u001b[0m\u001b[32m.\u001b[0m\u001b[32m.\u001b[0m\u001b[32m.\u001b[0m\u001b[32m.\u001b[0m\u001b[32m.\u001b[0m\u001b[32m.\u001b[0m\u001b[32m.\u001b[0m\u001b[32m.\u001b[0m\u001b[32m.\u001b[0m\u001b[32m.\u001b[0m\u001b[32m.\u001b[0m\u001b[32m.\u001b[0m\u001b[32m.\u001b[0m\u001b[31mF\u001b[0m\u001b[31mF\u001b[0m\u001b[31mF\u001b[0m\u001b[31m                  [100%]\u001b[0m\n",
      "\n",
      "=================================== FAILURES ===================================\n",
      "\u001b[31m\u001b[1m_______________________________ test_custom_repr _______________________________\u001b[0m\n",
      "\n",
      "    def test_custom_repr():\n",
      "        string_io = io.StringIO()\n",
      "    \n",
      "        def large(l):\n",
      "            return isinstance(l, list) and len(l) > 5\n",
      "    \n",
      "        def print_list_size(l):\n",
      "            return 'list(size={})'.format(len(l))\n",
      "    \n",
      "        def print_dict(d):\n",
      "            return 'dict(keys={})'.format(sorted(list(d.keys())))\n",
      "    \n",
      "        def evil_condition(x):\n",
      "            return large(x) or isinstance(x, dict)\n",
      "    \n",
      ">       @pysnooper.snoop(string_io, custom_repr=(\n",
      "            (large, print_list_size),\n",
      "            (dict, print_dict),\n",
      "            (evil_condition, lambda x: 'I am evil')))\n",
      "\u001b[1m\u001b[31mE           TypeError: __init__() got an unexpected keyword argument 'custom_repr'\u001b[0m\n",
      "\n",
      "\u001b[1m\u001b[31mtests/test_pysnooper.py\u001b[0m:1150: TypeError\n",
      "\u001b[31m\u001b[1m___________________________ test_custom_repr_single ____________________________\u001b[0m\n",
      "\n",
      "    def test_custom_repr_single():\n",
      "        string_io = io.StringIO()\n",
      "    \n",
      ">       @pysnooper.snoop(string_io, custom_repr=(list, lambda l: 'foofoo!'))\n",
      "\u001b[1m\u001b[31mE       TypeError: __init__() got an unexpected keyword argument 'custom_repr'\u001b[0m\n",
      "\n",
      "\u001b[1m\u001b[31mtests/test_pysnooper.py\u001b[0m:1180: TypeError\n",
      "\u001b[31m\u001b[1m_________________________________ test_disable _________________________________\u001b[0m\n",
      "\n",
      "    def test_disable():\n",
      "        string_io = io.StringIO()\n",
      "    \n",
      "        def my_function(foo):\n",
      "            x = 7\n",
      "            y = 8\n",
      "            return x + y\n",
      "    \n",
      ">       with mini_toolbox.TempValueSetter((pysnooper.tracer, 'DISABLED'), True):\n",
      "\n",
      "\u001b[1m\u001b[31mtests/test_pysnooper.py\u001b[0m:1210: \n",
      "_ _ _ _ _ _ _ _ _ _ _ _ _ _ _ _ _ _ _ _ _ _ _ _ _ _ _ _ _ _ _ _ _ _ _ _ _ _ _ _ \n",
      "\u001b[1m\u001b[31mtests/mini_toolbox/__init__.py\u001b[0m:147: in __enter__\n",
      "    self.old_value = self.getter()\n",
      "_ _ _ _ _ _ _ _ _ _ _ _ _ _ _ _ _ _ _ _ _ _ _ _ _ _ _ _ _ _ _ _ _ _ _ _ _ _ _ _ \n",
      "\n",
      ">   self.getter = lambda: getattr(parent, attribute_name)\n",
      "\u001b[1m\u001b[31mE   AttributeError: module 'pysnooper.tracer' has no attribute 'DISABLED'\u001b[0m\n",
      "\n",
      "\u001b[1m\u001b[31mtests/mini_toolbox/__init__.py\u001b[0m:122: AttributeError\n",
      "\u001b[33m=============================== warnings summary ===============================\u001b[0m\n",
      "tests4py_venv/lib/python3.8/site-packages/_pytest/config/__init__.py:1316\n",
      "  /Users/martineberlein/github/avicenna/notebooks/tests4py/tmp/pysnooper_2/tests4py_venv/lib/python3.8/site-packages/_pytest/config/__init__.py:1316: PytestRemovedIn8Warning: The --strict option is deprecated, use --strict-markers instead.\n",
      "    self.issue_config_time_warning(\n",
      "\n",
      "pysnooper/variables.py:3\n",
      "pysnooper/variables.py:3\n",
      "  /Users/martineberlein/github/avicenna/notebooks/tests4py/tmp/pysnooper_2/pysnooper/variables.py:3: DeprecationWarning: Using or importing the ABCs from 'collections' instead of from 'collections.abc' is deprecated since Python 3.3, and in 3.10 it will stop working\n",
      "    from collections import Mapping, Sequence\n",
      "\n",
      "-- Docs: https://docs.pytest.org/en/stable/how-to/capture-warnings.html\n",
      "\u001b[36m\u001b[1m=========================== short test summary info ============================\u001b[0m\n",
      "\u001b[31mFAILED\u001b[0m tests/test_pysnooper.py::\u001b[1mtest_custom_repr\u001b[0m - TypeError: __init__() got an unexpected keyword argument 'custom_repr'\n",
      "\u001b[31mFAILED\u001b[0m tests/test_pysnooper.py::\u001b[1mtest_custom_repr_single\u001b[0m - TypeError: __init__() got an unexpected keyword argument 'custom_repr'\n",
      "\u001b[31mFAILED\u001b[0m tests/test_pysnooper.py::\u001b[1mtest_disable\u001b[0m - AttributeError: module 'pysnooper.tracer' has no attribute 'DISABLED'\n",
      "\u001b[31m=================== \u001b[31m\u001b[1m3 failed\u001b[0m, \u001b[32m28 passed\u001b[0m, \u001b[33m3 warnings\u001b[0m\u001b[31m in 0.16s\u001b[0m\u001b[31m ===================\u001b[0m\n",
      "\n",
      "tests4py :: INFO     :: Ran None tests\n",
      "tests4py :: INFO     :: None passed --- None failed\n"
     ]
    },
    {
     "data": {
      "text/plain": [
       "{\n",
       "    \"command\": \"test\",\n",
       "    \"successful\": false,\n",
       "    \"project\": \"pysnooper_2\",\n",
       "    \"location\": \"PosixPath('/Users/martineberlein/github/avicenna/notebooks/tests4py/tmp/pysnooper_2')\"\n",
       "}"
      ]
     },
     "execution_count": 12,
     "metadata": {},
     "output_type": "execute_result"
    }
   ],
   "source": [
    "test_project(work_dir_or_project=Path(\"./tmp/pysnooper_2/\").absolute(), single_test=\"-otest.log\\n-cint=str\")"
   ]
  },
  {
   "cell_type": "code",
   "execution_count": 13,
   "metadata": {},
   "outputs": [],
   "source": [
    "from tests4py import framework"
   ]
  },
  {
   "cell_type": "code",
   "execution_count": 14,
   "metadata": {},
   "outputs": [
    {
     "name": "stderr",
     "output_type": "stream",
     "text": [
      "tests4py :: INFO     :: Checking whether Tests4Py project\n",
      "tests4py :: INFO     :: Loading projects\n",
      "tests4py :: INFO     :: Checking for platform darwin\n",
      "tests4py :: INFO     :: Check for activated python version\n",
      "tests4py :: INFO     :: Using pyenv python 3.8.16\n",
      "tests4py :: INFO     :: Activating virtual env\n",
      "tests4py :: INFO     :: Path /Users/martineberlein/github/avicenna/notebooks/tests4py/tmp/pysnooper_2/tests4py_systemtest_diversity/passing_test_diversity_1 is a file\n",
      "tests4py :: INFO     :: Ran 1 tests\n",
      "tests4py :: INFO     :: 1 passed --- 0 failed\n"
     ]
    }
   ],
   "source": [
    "report = framework.systemtest.tests4py_test(work_dir=Path(\"tmp\", \"pysnooper_2\").absolute(), path_or_str=Path(\"tmp/pysnooper_2/tests4py_systemtest_diversity/passing_test_diversity_1\").absolute(), diversity=False)"
   ]
  },
  {
   "cell_type": "code",
   "execution_count": 15,
   "metadata": {},
   "outputs": [
    {
     "name": "stdout",
     "output_type": "stream",
     "text": [
      "0\n"
     ]
    }
   ],
   "source": [
    "print(report.failing)"
   ]
  },
  {
   "cell_type": "markdown",
   "metadata": {},
   "source": [
    "## Grammar"
   ]
  },
  {
   "cell_type": "code",
   "execution_count": 16,
   "metadata": {},
   "outputs": [],
   "source": [
    "import string\n",
    "import os\n",
    "from tests4py.grammars.fuzzer import GrammarFuzzer, Grammar, srange, is_valid_grammar\n",
    "\n",
    "grammar: Grammar = {\n",
    "    \"<start>\": [\"<options>\"],\n",
    "    \"<options>\": [\"<output><variables><depth><prefix><watch><custom_repr><overwrite><thread_info>\"],\n",
    "    \n",
    "    \"<output>\": [\"-o\\n\", \"-o<path>\\n\", \"\"],\n",
    "    \"<variables>\": [\"-v<variable_list>\\n\", \"\"],\n",
    "    \"<depth>\": [\"-d<int>\\n\", \"\"],\n",
    "    \"<prefix>\": [\"-p<str>\\n\", \"\"],\n",
    "    \"<watch>\": [\"-w<variable_list>\\n\", \"\"],\n",
    "    \"<custom_repr>\": [\"-c<predicate_list>\\n\", \"\"],\n",
    "    \"<overwrite>\": [\"-O\\n\", \"\"],\n",
    "    \"<thread_info>\": [\"-T\\n\", \"\"],\n",
    "    \"<path>\": [\"<location>\", \"<location>.<str>\"],\n",
    "    \"<location>\": [\"<str>\", os.path.join(\"<path>\", \"<str>\")],\n",
    "    \"<variable_list>\": [\"<variable>\", \"<variable_list>,<variable>\"],\n",
    "    \"<variable>\": [\"<name>\", \"<variable>.<name>\"],\n",
    "    \"<name>\": [\"<letter><chars>\"],\n",
    "    \"<chars>\": [\"\", \"<chars><char>\"],\n",
    "    \"<letter>\": srange(string.ascii_letters),\n",
    "    \"<digit>\": srange(string.digits),\n",
    "    \"<char>\": [\"<letter>\", \"<digit>\", \"_\"],\n",
    "    \"<int>\": [\"<nonzero><digits>\", \"0\"],\n",
    "    \"<digits>\": [\"\", \"<digits><digit>\"],\n",
    "    \"<nonzero>\": [\"1\", \"2\", \"3\", \"4\", \"5\", \"6\", \"7\", \"8\", \"9\"],\n",
    "    \"<str>\": [\"<char><chars>\"],\n",
    "    \"<predicate_list>\": [\"<predicate>\", \"<predicate_list>,<predicate>\"],\n",
    "    \"<predicate>\": [\"<p_function>=<t_function>\"],\n",
    "    \"<p_function>\": [\"int\", \"str\", \"float\", \"bool\"],\n",
    "    \"<t_function>\": [\"repr\", \"str\", \"int\"],\n",
    "}"
   ]
  },
  {
   "cell_type": "code",
   "execution_count": 17,
   "metadata": {},
   "outputs": [],
   "source": [
    "assert is_valid_grammar(grammar)"
   ]
  },
  {
   "cell_type": "code",
   "execution_count": 18,
   "metadata": {},
   "outputs": [
    {
     "name": "stderr",
     "output_type": "stream",
     "text": [
      "tests4py :: INFO     :: Checking whether Tests4Py project\n",
      "tests4py :: INFO     :: Loading projects\n",
      "tests4py :: INFO     :: Checking for platform darwin\n",
      "tests4py :: INFO     :: Check for activated python version\n",
      "tests4py :: INFO     :: Using pyenv python 3.8.16\n",
      "tests4py :: INFO     :: Activating virtual env\n",
      "tests4py :: INFO     :: Path '-p__\\n-wG,x,l.s\\n-cint=int\\n-T\\n' does not exist, try to execute it as test case\n",
      "tests4py :: INFO     :: Ran 1 tests\n",
      "tests4py :: INFO     :: 0 passed --- 1 failed\n",
      "tests4py :: INFO     :: Checking whether Tests4Py project\n",
      "tests4py :: INFO     :: Loading projects\n",
      "tests4py :: INFO     :: Checking for platform darwin\n",
      "tests4py :: INFO     :: Check for activated python version\n",
      "tests4py :: INFO     :: Using pyenv python 3.8.16\n",
      "tests4py :: INFO     :: Activating virtual env\n",
      "tests4py :: INFO     :: Path '-o\\n-p5\\n-cstr=repr\\n' does not exist, try to execute it as test case\n",
      "tests4py :: INFO     :: Ran 1 tests\n",
      "tests4py :: INFO     :: 0 passed --- 1 failed\n",
      "tests4py :: INFO     :: Checking whether Tests4Py project\n",
      "tests4py :: INFO     :: Loading projects\n",
      "tests4py :: INFO     :: Checking for platform darwin\n"
     ]
    },
    {
     "name": "stdout",
     "output_type": "stream",
     "text": [
      "-p__\n",
      "-wG,x,l.s\n",
      "-cint=int\n",
      "-T\n",
      "\n",
      "\n",
      "1\n",
      "None\n",
      "0\n",
      "-o\n",
      "-p5\n",
      "-cstr=repr\n",
      "\n",
      "\n",
      "1\n",
      "None\n",
      "0\n",
      "-vLFkh8_.L.X\n",
      "-d7\n",
      "-O\n",
      "\n",
      "\n"
     ]
    },
    {
     "name": "stderr",
     "output_type": "stream",
     "text": [
      "tests4py :: INFO     :: Check for activated python version\n",
      "tests4py :: INFO     :: Using pyenv python 3.8.16\n",
      "tests4py :: INFO     :: Activating virtual env\n",
      "tests4py :: INFO     :: Path '-vLFkh8_.L.X\\n-d7\\n-O\\n' does not exist, try to execute it as test case\n",
      "tests4py :: INFO     :: Ran 1 tests\n",
      "tests4py :: INFO     :: 0 passed --- 0 failed\n",
      "tests4py :: INFO     :: Checking whether Tests4Py project\n",
      "tests4py :: INFO     :: Loading projects\n",
      "tests4py :: INFO     :: Checking for platform darwin\n",
      "tests4py :: INFO     :: Check for activated python version\n",
      "tests4py :: INFO     :: Using pyenv python 3.8.16\n",
      "tests4py :: INFO     :: Activating virtual env\n",
      "tests4py :: INFO     :: Path '-o\\n-d0\\n-p9\\n-cint=repr,float=int,int=repr,float=str\\n-T\\n' does not exist, try to execute it as test case\n",
      "tests4py :: INFO     :: Ran 1 tests\n",
      "tests4py :: INFO     :: 0 passed --- 1 failed\n",
      "tests4py :: INFO     :: Checking whether Tests4Py project\n",
      "tests4py :: INFO     :: Loading projects\n",
      "tests4py :: INFO     :: Checking for platform darwin\n",
      "tests4py :: INFO     :: Check for activated python version\n",
      "tests4py :: INFO     :: Using pyenv python 3.8.16\n",
      "tests4py :: INFO     :: Activating virtual env\n",
      "tests4py :: INFO     :: Path '-okE\\n-vm.j,k.F,S.n.e_\\n' does not exist, try to execute it as test case\n",
      "tests4py :: INFO     :: Ran 1 tests\n",
      "tests4py :: INFO     :: 0 passed --- 0 failed\n",
      "tests4py :: INFO     :: Checking whether Tests4Py project\n",
      "tests4py :: INFO     :: Loading projects\n",
      "tests4py :: INFO     :: Checking for platform darwin\n"
     ]
    },
    {
     "name": "stdout",
     "output_type": "stream",
     "text": [
      "0\n",
      "None\n",
      "0\n",
      "-o\n",
      "-d0\n",
      "-p9\n",
      "-cint=repr,float=int,int=repr,float=str\n",
      "-T\n",
      "\n",
      "\n",
      "1\n",
      "None\n",
      "0\n",
      "-okE\n",
      "-vm.j,k.F,S.n.e_\n",
      "\n",
      "\n",
      "0\n",
      "None\n",
      "0\n",
      "-o_/_/_\n",
      "-vQ_\n",
      "-p_\n",
      "-cbool=repr,int=repr,int=str,str=str\n",
      "\n",
      "\n"
     ]
    },
    {
     "name": "stderr",
     "output_type": "stream",
     "text": [
      "tests4py :: INFO     :: Check for activated python version\n",
      "tests4py :: INFO     :: Using pyenv python 3.8.16\n",
      "tests4py :: INFO     :: Activating virtual env\n",
      "tests4py :: INFO     :: Path '-o_/_/_\\n-vQ_\\n-p_\\n-cbool=repr,int=repr,int=str,str=str\\n' does not exist, try to execute it as test case\n",
      "tests4py :: INFO     :: Ran 1 tests\n",
      "tests4py :: INFO     :: 0 passed --- 0 failed\n",
      "tests4py :: INFO     :: Checking whether Tests4Py project\n",
      "tests4py :: INFO     :: Loading projects\n",
      "tests4py :: INFO     :: Checking for platform darwin\n",
      "tests4py :: INFO     :: Check for activated python version\n",
      "tests4py :: INFO     :: Using pyenv python 3.8.16\n",
      "tests4py :: INFO     :: Activating virtual env\n",
      "tests4py :: INFO     :: Path '-o\\n-p4\\n-O\\n-T\\n' does not exist, try to execute it as test case\n",
      "tests4py :: INFO     :: Ran 1 tests\n",
      "tests4py :: INFO     :: 0 passed --- 0 failed\n",
      "tests4py :: INFO     :: Checking whether Tests4Py project\n",
      "tests4py :: INFO     :: Loading projects\n",
      "tests4py :: INFO     :: Checking for platform darwin\n",
      "tests4py :: INFO     :: Check for activated python version\n",
      "tests4py :: INFO     :: Using pyenv python 3.8.16\n",
      "tests4py :: INFO     :: Activating virtual env\n",
      "tests4py :: INFO     :: Path '-o_/_.s_\\n-vo,S.j,M\\n-pl\\n-cint=int\\n-T\\n' does not exist, try to execute it as test case\n",
      "tests4py :: INFO     :: Ran 1 tests\n",
      "tests4py :: INFO     :: 0 passed --- 0 failed\n",
      "tests4py :: INFO     :: Checking whether Tests4Py project\n",
      "tests4py :: INFO     :: Loading projects\n",
      "tests4py :: INFO     :: Checking for platform darwin\n"
     ]
    },
    {
     "name": "stdout",
     "output_type": "stream",
     "text": [
      "0\n",
      "None\n",
      "0\n",
      "-o\n",
      "-p4\n",
      "-O\n",
      "-T\n",
      "\n",
      "\n",
      "0\n",
      "None\n",
      "0\n",
      "-o_/_.s_\n",
      "-vo,S.j,M\n",
      "-pl\n",
      "-cint=int\n",
      "-T\n",
      "\n",
      "\n",
      "0\n",
      "None\n",
      "0\n",
      "-vw\n",
      "-wS.K,O.H\n",
      "-cfloat=int,int=repr,bool=str,float=int\n",
      "-O\n",
      "\n",
      "\n"
     ]
    },
    {
     "name": "stderr",
     "output_type": "stream",
     "text": [
      "tests4py :: INFO     :: Check for activated python version\n",
      "tests4py :: INFO     :: Using pyenv python 3.8.16\n",
      "tests4py :: INFO     :: Activating virtual env\n",
      "tests4py :: INFO     :: Path '-vw\\n-wS.K,O.H\\n-cfloat=int,int=repr,bool=str,float=int\\n-O\\n' does not exist, try to execute it as test case\n",
      "tests4py :: INFO     :: Ran 1 tests\n",
      "tests4py :: INFO     :: 0 passed --- 0 failed\n",
      "tests4py :: INFO     :: Checking whether Tests4Py project\n",
      "tests4py :: INFO     :: Loading projects\n",
      "tests4py :: INFO     :: Checking for platform darwin\n",
      "tests4py :: INFO     :: Check for activated python version\n",
      "tests4py :: INFO     :: Using pyenv python 3.8.16\n",
      "tests4py :: INFO     :: Activating virtual env\n",
      "tests4py :: INFO     :: Path '-o_/_\\n-vh.C\\n-pH\\n-wV\\n-cbool=int,float=int,bool=int\\n-O\\n' does not exist, try to execute it as test case\n",
      "tests4py :: INFO     :: Ran 1 tests\n",
      "tests4py :: INFO     :: 0 passed --- 0 failed\n"
     ]
    },
    {
     "name": "stdout",
     "output_type": "stream",
     "text": [
      "0\n",
      "None\n",
      "0\n",
      "-o_/_\n",
      "-vh.C\n",
      "-pH\n",
      "-wV\n",
      "-cbool=int,float=int,bool=int\n",
      "-O\n",
      "\n",
      "\n",
      "0\n",
      "None\n",
      "0\n"
     ]
    }
   ],
   "source": [
    "fuzzer = GrammarFuzzer(grammar)\n",
    "\n",
    "for _ in range(10):\n",
    "    inp = fuzzer.fuzz()\n",
    "    print(inp, end=\"\\n\\n\")\n",
    "    report = framework.systemtest.tests4py_test(work_dir=Path(\"tmp\", \"pysnooper_2\").absolute(), path_or_str=inp, diversity=False)\n",
    "    print(report.failing)\n",
    "    print(report.raised)\n",
    "    print(report.passing)"
   ]
  },
  {
   "cell_type": "code",
   "execution_count": 19,
   "metadata": {},
   "outputs": [
    {
     "name": "stderr",
     "output_type": "stream",
     "text": [
      "tests4py :: INFO     :: Checking whether Tests4Py project\n",
      "tests4py :: INFO     :: Loading projects\n",
      "tests4py :: INFO     :: Checking for platform darwin\n",
      "tests4py :: INFO     :: Check for activated python version\n",
      "tests4py :: INFO     :: Using pyenv python 3.8.16\n",
      "tests4py :: INFO     :: Activating virtual env\n",
      "tests4py :: INFO     :: Path '-otest.log\\n-cint=str\\n' does not exist, try to execute it as test case\n",
      "tests4py :: INFO     :: Ran 1 tests\n",
      "tests4py :: INFO     :: 0 passed --- 1 failed\n",
      "tests4py :: INFO     :: Checking whether Tests4Py project\n",
      "tests4py :: INFO     :: Loading projects\n",
      "tests4py :: INFO     :: Checking for platform darwin\n"
     ]
    },
    {
     "name": "stdout",
     "output_type": "stream",
     "text": [
      "1\n"
     ]
    },
    {
     "name": "stderr",
     "output_type": "stream",
     "text": [
      "tests4py :: INFO     :: Check for activated python version\n",
      "tests4py :: INFO     :: Using pyenv python 3.8.16\n",
      "tests4py :: INFO     :: Activating virtual env\n",
      "tests4py :: INFO     :: Path '-cint=str\\n' does not exist, try to execute it as test case\n",
      "tests4py :: INFO     :: Ran 1 tests\n",
      "tests4py :: INFO     :: 0 passed --- 1 failed\n",
      "tests4py :: INFO     :: Checking whether Tests4Py project\n",
      "tests4py :: INFO     :: Loading projects\n",
      "tests4py :: INFO     :: Checking for platform darwin\n",
      "tests4py :: INFO     :: Check for activated python version\n",
      "tests4py :: INFO     :: Using pyenv python 3.8.16\n",
      "tests4py :: INFO     :: Activating virtual env\n",
      "tests4py :: INFO     :: Path '-d1\\n-cint=repr\\n-T\\n' does not exist, try to execute it as test case\n",
      "tests4py :: INFO     :: Ran 1 tests\n",
      "tests4py :: INFO     :: 0 passed --- 1 failed\n",
      "tests4py :: INFO     :: Checking whether Tests4Py project\n",
      "tests4py :: INFO     :: Loading projects\n",
      "tests4py :: INFO     :: Checking for platform darwin\n"
     ]
    },
    {
     "name": "stdout",
     "output_type": "stream",
     "text": [
      "1\n",
      "1\n"
     ]
    },
    {
     "name": "stderr",
     "output_type": "stream",
     "text": [
      "tests4py :: INFO     :: Check for activated python version\n",
      "tests4py :: INFO     :: Using pyenv python 3.8.16\n",
      "tests4py :: INFO     :: Activating virtual env\n",
      "tests4py :: INFO     :: Path '-o\\n-d1\\n-cbool=str\\n' does not exist, try to execute it as test case\n",
      "tests4py :: INFO     :: Ran 1 tests\n",
      "tests4py :: INFO     :: 0 passed --- 1 failed\n",
      "tests4py :: INFO     :: Checking whether Tests4Py project\n",
      "tests4py :: INFO     :: Loading projects\n",
      "tests4py :: INFO     :: Checking for platform darwin\n"
     ]
    },
    {
     "name": "stdout",
     "output_type": "stream",
     "text": [
      "1\n"
     ]
    },
    {
     "name": "stderr",
     "output_type": "stream",
     "text": [
      "tests4py :: INFO     :: Check for activated python version\n",
      "tests4py :: INFO     :: Using pyenv python 3.8.16\n",
      "tests4py :: INFO     :: Activating virtual env\n",
      "tests4py :: INFO     :: Path '-otest.log\\n-cint=repr,bool=str\\n-O\\n' does not exist, try to execute it as test case\n",
      "tests4py :: INFO     :: Ran 1 tests\n",
      "tests4py :: INFO     :: 0 passed --- 1 failed\n",
      "tests4py :: INFO     :: Checking whether Tests4Py project\n",
      "tests4py :: INFO     :: Loading projects\n",
      "tests4py :: INFO     :: Checking for platform darwin\n",
      "tests4py :: INFO     :: Check for activated python version\n",
      "tests4py :: INFO     :: Using pyenv python 3.8.16\n",
      "tests4py :: INFO     :: Activating virtual env\n",
      "tests4py :: INFO     :: Path '-d1\\n-wx\\n-cfloat=str\\n' does not exist, try to execute it as test case\n",
      "tests4py :: INFO     :: Ran 1 tests\n",
      "tests4py :: INFO     :: 0 passed --- 1 failed\n",
      "tests4py :: INFO     :: Checking whether Tests4Py project\n",
      "tests4py :: INFO     :: Loading projects\n",
      "tests4py :: INFO     :: Checking for platform darwin\n"
     ]
    },
    {
     "name": "stdout",
     "output_type": "stream",
     "text": [
      "1\n",
      "1\n"
     ]
    },
    {
     "name": "stderr",
     "output_type": "stream",
     "text": [
      "tests4py :: INFO     :: Check for activated python version\n",
      "tests4py :: INFO     :: Using pyenv python 3.8.16\n",
      "tests4py :: INFO     :: Activating virtual env\n",
      "tests4py :: INFO     :: Path '-wy\\n-cstr=str\\n' does not exist, try to execute it as test case\n",
      "tests4py :: INFO     :: Ran 1 tests\n",
      "tests4py :: INFO     :: 0 passed --- 1 failed\n",
      "tests4py :: INFO     :: Checking whether Tests4Py project\n",
      "tests4py :: INFO     :: Loading projects\n",
      "tests4py :: INFO     :: Checking for platform darwin\n"
     ]
    },
    {
     "name": "stdout",
     "output_type": "stream",
     "text": [
      "1\n"
     ]
    },
    {
     "name": "stderr",
     "output_type": "stream",
     "text": [
      "tests4py :: INFO     :: Check for activated python version\n",
      "tests4py :: INFO     :: Using pyenv python 3.8.16\n",
      "tests4py :: INFO     :: Activating virtual env\n",
      "tests4py :: INFO     :: Path '-otest.log\\n-wx\\n-cstr=int\\n' does not exist, try to execute it as test case\n",
      "tests4py :: INFO     :: Ran 1 tests\n",
      "tests4py :: INFO     :: 0 passed --- 1 failed\n",
      "tests4py :: INFO     :: Checking whether Tests4Py project\n",
      "tests4py :: INFO     :: Loading projects\n",
      "tests4py :: INFO     :: Checking for platform darwin\n",
      "tests4py :: INFO     :: Check for activated python version\n",
      "tests4py :: INFO     :: Using pyenv python 3.8.16\n",
      "tests4py :: INFO     :: Activating virtual env\n",
      "tests4py :: INFO     :: Path '-ptest\\n-cbool=int\\n' does not exist, try to execute it as test case\n",
      "tests4py :: INFO     :: Ran 1 tests\n",
      "tests4py :: INFO     :: 0 passed --- 1 failed\n",
      "tests4py :: INFO     :: Checking whether Tests4Py project\n",
      "tests4py :: INFO     :: Loading projects\n",
      "tests4py :: INFO     :: Checking for platform darwin\n"
     ]
    },
    {
     "name": "stdout",
     "output_type": "stream",
     "text": [
      "1\n",
      "1\n"
     ]
    },
    {
     "name": "stderr",
     "output_type": "stream",
     "text": [
      "tests4py :: INFO     :: Check for activated python version\n",
      "tests4py :: INFO     :: Using pyenv python 3.8.16\n",
      "tests4py :: INFO     :: Activating virtual env\n",
      "tests4py :: INFO     :: Path '-ptest\\n-wx\\n-cint=str\\n' does not exist, try to execute it as test case\n",
      "tests4py :: INFO     :: Ran 1 tests\n",
      "tests4py :: INFO     :: 0 passed --- 1 failed\n"
     ]
    },
    {
     "name": "stdout",
     "output_type": "stream",
     "text": [
      "1\n"
     ]
    }
   ],
   "source": [
    "# failing\n",
    "\n",
    "failing_list = [\n",
    "    \"-otest.log\\n-cint=str\\n\",\n",
    "    \"-cint=str\\n\",\n",
    "    \"-d1\\n-cint=repr\\n-T\\n\",\n",
    "    \"-o\\n-d1\\n-cbool=str\\n\",\n",
    "    \"-otest.log\\n-cint=repr,bool=str\\n-O\\n\",\n",
    "    \"-d1\\n-wx\\n-cfloat=str\\n\",\n",
    "    \"-wy\\n-cstr=str\\n\",\n",
    "    \"-otest.log\\n-wx\\n-cstr=int\\n\",\n",
    "    \"-ptest\\n-cbool=int\\n\",\n",
    "    \"-ptest\\n-wx\\n-cint=str\\n\"\n",
    "]\n",
    "\n",
    "for inp in failing_list:\n",
    "    report = framework.systemtest.tests4py_test(work_dir=Path(\"tmp\", \"pysnooper_2\").absolute(), path_or_str=inp, diversity=False)\n",
    "    print(report.failing)"
   ]
  },
  {
   "cell_type": "code",
   "execution_count": 20,
   "metadata": {},
   "outputs": [
    {
     "name": "stderr",
     "output_type": "stream",
     "text": [
      "tests4py :: INFO     :: Checking whether Tests4Py project\n",
      "tests4py :: INFO     :: Loading projects\n",
      "tests4py :: INFO     :: Checking for platform darwin\n",
      "tests4py :: INFO     :: Check for activated python version\n",
      "tests4py :: INFO     :: Using pyenv python 3.8.16\n",
      "tests4py :: INFO     :: Activating virtual env\n",
      "tests4py :: INFO     :: Path '-otest.log\\n' does not exist, try to execute it as test case\n",
      "tests4py :: INFO     :: Ran 1 tests\n",
      "tests4py :: INFO     :: 1 passed --- 0 failed\n",
      "tests4py :: INFO     :: Checking whether Tests4Py project\n",
      "tests4py :: INFO     :: Loading projects\n",
      "tests4py :: INFO     :: Checking for platform darwin\n",
      "tests4py :: INFO     :: Check for activated python version\n",
      "tests4py :: INFO     :: Using pyenv python 3.8.16\n",
      "tests4py :: INFO     :: Activating virtual env\n",
      "tests4py :: INFO     :: Ran 0 tests\n",
      "tests4py :: INFO     :: 0 passed --- 0 failed\n",
      "tests4py :: INFO     :: Checking whether Tests4Py project\n",
      "tests4py :: INFO     :: Loading projects\n",
      "tests4py :: INFO     :: Checking for platform darwin\n",
      "tests4py :: INFO     :: Check for activated python version\n",
      "tests4py :: INFO     :: Using pyenv python 3.8.16\n",
      "tests4py :: INFO     :: Activating virtual env\n",
      "tests4py :: INFO     :: Path '-d1\\n-T\\n' does not exist, try to execute it as test case\n"
     ]
    },
    {
     "name": "stdout",
     "output_type": "stream",
     "text": [
      "1\n",
      "0\n"
     ]
    },
    {
     "name": "stderr",
     "output_type": "stream",
     "text": [
      "tests4py :: INFO     :: Ran 1 tests\n",
      "tests4py :: INFO     :: 1 passed --- 0 failed\n",
      "tests4py :: INFO     :: Checking whether Tests4Py project\n",
      "tests4py :: INFO     :: Loading projects\n",
      "tests4py :: INFO     :: Checking for platform darwin\n",
      "tests4py :: INFO     :: Check for activated python version\n",
      "tests4py :: INFO     :: Using pyenv python 3.8.16\n",
      "tests4py :: INFO     :: Activating virtual env\n",
      "tests4py :: INFO     :: Path '-o\\n-d1\\n' does not exist, try to execute it as test case\n"
     ]
    },
    {
     "name": "stdout",
     "output_type": "stream",
     "text": [
      "1\n"
     ]
    },
    {
     "name": "stderr",
     "output_type": "stream",
     "text": [
      "tests4py :: INFO     :: Ran 1 tests\n",
      "tests4py :: INFO     :: 1 passed --- 0 failed\n",
      "tests4py :: INFO     :: Checking whether Tests4Py project\n",
      "tests4py :: INFO     :: Loading projects\n",
      "tests4py :: INFO     :: Checking for platform darwin\n",
      "tests4py :: INFO     :: Check for activated python version\n",
      "tests4py :: INFO     :: Using pyenv python 3.8.16\n",
      "tests4py :: INFO     :: Activating virtual env\n",
      "tests4py :: INFO     :: Path '-otest.log\\n-O\\n' does not exist, try to execute it as test case\n",
      "tests4py :: INFO     :: Ran 1 tests\n",
      "tests4py :: INFO     :: 1 passed --- 0 failed\n",
      "tests4py :: INFO     :: Checking whether Tests4Py project\n",
      "tests4py :: INFO     :: Loading projects\n",
      "tests4py :: INFO     :: Checking for platform darwin\n"
     ]
    },
    {
     "name": "stdout",
     "output_type": "stream",
     "text": [
      "1\n",
      "1\n"
     ]
    },
    {
     "name": "stderr",
     "output_type": "stream",
     "text": [
      "tests4py :: INFO     :: Check for activated python version\n",
      "tests4py :: INFO     :: Using pyenv python 3.8.16\n",
      "tests4py :: INFO     :: Activating virtual env\n",
      "tests4py :: INFO     :: Path '-d1\\n-wx\\n' does not exist, try to execute it as test case\n",
      "tests4py :: INFO     :: Ran 1 tests\n",
      "tests4py :: INFO     :: 1 passed --- 0 failed\n",
      "tests4py :: INFO     :: Checking whether Tests4Py project\n",
      "tests4py :: INFO     :: Loading projects\n",
      "tests4py :: INFO     :: Checking for platform darwin\n"
     ]
    },
    {
     "name": "stdout",
     "output_type": "stream",
     "text": [
      "1\n"
     ]
    },
    {
     "name": "stderr",
     "output_type": "stream",
     "text": [
      "tests4py :: INFO     :: Check for activated python version\n",
      "tests4py :: INFO     :: Using pyenv python 3.8.16\n",
      "tests4py :: INFO     :: Activating virtual env\n",
      "tests4py :: INFO     :: Path '-wy\\n' does not exist, try to execute it as test case\n",
      "tests4py :: INFO     :: Ran 1 tests\n",
      "tests4py :: INFO     :: 1 passed --- 0 failed\n",
      "tests4py :: INFO     :: Checking whether Tests4Py project\n",
      "tests4py :: INFO     :: Loading projects\n",
      "tests4py :: INFO     :: Checking for platform darwin\n",
      "tests4py :: INFO     :: Check for activated python version\n",
      "tests4py :: INFO     :: Using pyenv python 3.8.16\n",
      "tests4py :: INFO     :: Activating virtual env\n",
      "tests4py :: INFO     :: Path '-otest.log\\n-wx\\n' does not exist, try to execute it as test case\n",
      "tests4py :: INFO     :: Ran 1 tests\n",
      "tests4py :: INFO     :: 1 passed --- 0 failed\n",
      "tests4py :: INFO     :: Checking whether Tests4Py project\n",
      "tests4py :: INFO     :: Loading projects\n",
      "tests4py :: INFO     :: Checking for platform darwin\n"
     ]
    },
    {
     "name": "stdout",
     "output_type": "stream",
     "text": [
      "1\n",
      "1\n"
     ]
    },
    {
     "name": "stderr",
     "output_type": "stream",
     "text": [
      "tests4py :: INFO     :: Check for activated python version\n",
      "tests4py :: INFO     :: Using pyenv python 3.8.16\n",
      "tests4py :: INFO     :: Activating virtual env\n",
      "tests4py :: INFO     :: Path '-ptest\\n' does not exist, try to execute it as test case\n",
      "tests4py :: INFO     :: Ran 1 tests\n",
      "tests4py :: INFO     :: 1 passed --- 0 failed\n",
      "tests4py :: INFO     :: Checking whether Tests4Py project\n",
      "tests4py :: INFO     :: Loading projects\n",
      "tests4py :: INFO     :: Checking for platform darwin\n"
     ]
    },
    {
     "name": "stdout",
     "output_type": "stream",
     "text": [
      "1\n"
     ]
    },
    {
     "name": "stderr",
     "output_type": "stream",
     "text": [
      "tests4py :: INFO     :: Check for activated python version\n",
      "tests4py :: INFO     :: Using pyenv python 3.8.16\n",
      "tests4py :: INFO     :: Activating virtual env\n",
      "tests4py :: INFO     :: Path '-ptest\\n-wx\\n' does not exist, try to execute it as test case\n",
      "tests4py :: INFO     :: Ran 1 tests\n",
      "tests4py :: INFO     :: 1 passed --- 0 failed\n"
     ]
    },
    {
     "name": "stdout",
     "output_type": "stream",
     "text": [
      "1\n"
     ]
    }
   ],
   "source": [
    "# passing\n",
    "\n",
    "passing_list = [\n",
    "    \"-otest.log\\n\",\n",
    "    \"\",\n",
    "    \"-d1\\n-T\\n\",\n",
    "    \"-o\\n-d1\\n\",\n",
    "    \"-otest.log\\n-O\\n\",\n",
    "    \"-d1\\n-wx\\n\",\n",
    "    \"-wy\\n\",\n",
    "    \"-otest.log\\n-wx\\n\",\n",
    "    \"-ptest\\n\",\n",
    "    \"-ptest\\n-wx\\n\"\n",
    "]\n",
    "\n",
    "for inp in passing_list:\n",
    "    report = framework.systemtest.tests4py_test(work_dir=Path(\"tmp\", \"pysnooper_2\").absolute(), path_or_str=inp, diversity=False)\n",
    "    print(report.passing)"
   ]
  },
  {
   "cell_type": "code",
   "execution_count": 21,
   "metadata": {},
   "outputs": [
    {
     "name": "stdout",
     "output_type": "stream",
     "text": [
      "-otest.log\n",
      "-cint=str\n",
      "\n",
      "('<start>', [('<options>', [('<output>', [('-o', []), ('<path>', [('<location>', [('<str>', [('<char>', [('<letter>', [('t', [])])]), ('<chars>', [('<chars>', [('<chars>', [('<chars>', []), ('<char>', [('<letter>', [('e', [])])])]), ('<char>', [('<letter>', [('s', [])])])]), ('<char>', [('<letter>', [('t', [])])])])])]), ('.', []), ('<str>', [('<char>', [('<letter>', [('l', [])])]), ('<chars>', [('<chars>', [('<chars>', []), ('<char>', [('<letter>', [('o', [])])])]), ('<char>', [('<letter>', [('g', [])])])])])]), ('\\n', [])]), ('<variables>', []), ('<depth>', []), ('<prefix>', []), ('<watch>', []), ('<custom_repr>', [('-c', []), ('<predicate_list>', [('<predicate>', [('<p_function>', [('int', [])]), ('=', []), ('<t_function>', [('str', [])])])]), ('\\n', [])]), ('<overwrite>', []), ('<thread_info>', [])])])\n",
      "-cint=str\n",
      "\n",
      "('<start>', [('<options>', [('<output>', []), ('<variables>', []), ('<depth>', []), ('<prefix>', []), ('<watch>', []), ('<custom_repr>', [('-c', []), ('<predicate_list>', [('<predicate>', [('<p_function>', [('int', [])]), ('=', []), ('<t_function>', [('str', [])])])]), ('\\n', [])]), ('<overwrite>', []), ('<thread_info>', [])])])\n",
      "-d1\n",
      "-cint=repr\n",
      "-T\n",
      "\n",
      "('<start>', [('<options>', [('<output>', []), ('<variables>', []), ('<depth>', [('-d', []), ('<int>', [('<nonzero>', [('1', [])]), ('<digits>', [])]), ('\\n', [])]), ('<prefix>', []), ('<watch>', []), ('<custom_repr>', [('-c', []), ('<predicate_list>', [('<predicate>', [('<p_function>', [('int', [])]), ('=', []), ('<t_function>', [('repr', [])])])]), ('\\n', [])]), ('<overwrite>', []), ('<thread_info>', [('-T\\n', [])])])])\n",
      "-o\n",
      "-d1\n",
      "-cbool=str\n",
      "\n",
      "('<start>', [('<options>', [('<output>', [('-o\\n', [])]), ('<variables>', []), ('<depth>', [('-d', []), ('<int>', [('<nonzero>', [('1', [])]), ('<digits>', [])]), ('\\n', [])]), ('<prefix>', []), ('<watch>', []), ('<custom_repr>', [('-c', []), ('<predicate_list>', [('<predicate>', [('<p_function>', [('bool', [])]), ('=', []), ('<t_function>', [('str', [])])])]), ('\\n', [])]), ('<overwrite>', []), ('<thread_info>', [])])])\n",
      "-otest.log\n",
      "-cint=repr,bool=str\n",
      "-O\n",
      "\n",
      "('<start>', [('<options>', [('<output>', [('-o', []), ('<path>', [('<location>', [('<str>', [('<char>', [('<letter>', [('t', [])])]), ('<chars>', [('<chars>', [('<chars>', [('<chars>', []), ('<char>', [('<letter>', [('e', [])])])]), ('<char>', [('<letter>', [('s', [])])])]), ('<char>', [('<letter>', [('t', [])])])])])]), ('.', []), ('<str>', [('<char>', [('<letter>', [('l', [])])]), ('<chars>', [('<chars>', [('<chars>', []), ('<char>', [('<letter>', [('o', [])])])]), ('<char>', [('<letter>', [('g', [])])])])])]), ('\\n', [])]), ('<variables>', []), ('<depth>', []), ('<prefix>', []), ('<watch>', []), ('<custom_repr>', [('-c', []), ('<predicate_list>', [('<predicate_list>', [('<predicate>', [('<p_function>', [('int', [])]), ('=', []), ('<t_function>', [('repr', [])])])]), (',', []), ('<predicate>', [('<p_function>', [('bool', [])]), ('=', []), ('<t_function>', [('str', [])])])]), ('\\n', [])]), ('<overwrite>', [('-O\\n', [])]), ('<thread_info>', [])])])\n",
      "-d1\n",
      "-wx\n",
      "-cfloat=str\n",
      "\n",
      "('<start>', [('<options>', [('<output>', []), ('<variables>', []), ('<depth>', [('-d', []), ('<int>', [('<nonzero>', [('1', [])]), ('<digits>', [])]), ('\\n', [])]), ('<prefix>', []), ('<watch>', [('-w', []), ('<variable_list>', [('<variable>', [('<name>', [('<letter>', [('x', [])]), ('<chars>', [])])])]), ('\\n', [])]), ('<custom_repr>', [('-c', []), ('<predicate_list>', [('<predicate>', [('<p_function>', [('float', [])]), ('=', []), ('<t_function>', [('str', [])])])]), ('\\n', [])]), ('<overwrite>', []), ('<thread_info>', [])])])\n",
      "-wy\n",
      "-cstr=str\n",
      "\n",
      "('<start>', [('<options>', [('<output>', []), ('<variables>', []), ('<depth>', []), ('<prefix>', []), ('<watch>', [('-w', []), ('<variable_list>', [('<variable>', [('<name>', [('<letter>', [('y', [])]), ('<chars>', [])])])]), ('\\n', [])]), ('<custom_repr>', [('-c', []), ('<predicate_list>', [('<predicate>', [('<p_function>', [('str', [])]), ('=', []), ('<t_function>', [('str', [])])])]), ('\\n', [])]), ('<overwrite>', []), ('<thread_info>', [])])])\n",
      "-otest.log\n",
      "-wx\n",
      "-cstr=int\n",
      "\n",
      "('<start>', [('<options>', [('<output>', [('-o', []), ('<path>', [('<location>', [('<str>', [('<char>', [('<letter>', [('t', [])])]), ('<chars>', [('<chars>', [('<chars>', [('<chars>', []), ('<char>', [('<letter>', [('e', [])])])]), ('<char>', [('<letter>', [('s', [])])])]), ('<char>', [('<letter>', [('t', [])])])])])]), ('.', []), ('<str>', [('<char>', [('<letter>', [('l', [])])]), ('<chars>', [('<chars>', [('<chars>', []), ('<char>', [('<letter>', [('o', [])])])]), ('<char>', [('<letter>', [('g', [])])])])])]), ('\\n', [])]), ('<variables>', []), ('<depth>', []), ('<prefix>', []), ('<watch>', [('-w', []), ('<variable_list>', [('<variable>', [('<name>', [('<letter>', [('x', [])]), ('<chars>', [])])])]), ('\\n', [])]), ('<custom_repr>', [('-c', []), ('<predicate_list>', [('<predicate>', [('<p_function>', [('str', [])]), ('=', []), ('<t_function>', [('int', [])])])]), ('\\n', [])]), ('<overwrite>', []), ('<thread_info>', [])])])\n",
      "-ptest\n",
      "-cbool=int\n",
      "\n",
      "('<start>', [('<options>', [('<output>', []), ('<variables>', []), ('<depth>', []), ('<prefix>', [('-p', []), ('<str>', [('<char>', [('<letter>', [('t', [])])]), ('<chars>', [('<chars>', [('<chars>', [('<chars>', []), ('<char>', [('<letter>', [('e', [])])])]), ('<char>', [('<letter>', [('s', [])])])]), ('<char>', [('<letter>', [('t', [])])])])]), ('\\n', [])]), ('<watch>', []), ('<custom_repr>', [('-c', []), ('<predicate_list>', [('<predicate>', [('<p_function>', [('bool', [])]), ('=', []), ('<t_function>', [('int', [])])])]), ('\\n', [])]), ('<overwrite>', []), ('<thread_info>', [])])])\n",
      "-ptest\n",
      "-wx\n",
      "-cint=str\n",
      "\n",
      "('<start>', [('<options>', [('<output>', []), ('<variables>', []), ('<depth>', []), ('<prefix>', [('-p', []), ('<str>', [('<char>', [('<letter>', [('t', [])])]), ('<chars>', [('<chars>', [('<chars>', [('<chars>', []), ('<char>', [('<letter>', [('e', [])])])]), ('<char>', [('<letter>', [('s', [])])])]), ('<char>', [('<letter>', [('t', [])])])])]), ('\\n', [])]), ('<watch>', [('-w', []), ('<variable_list>', [('<variable>', [('<name>', [('<letter>', [('x', [])]), ('<chars>', [])])])]), ('\\n', [])]), ('<custom_repr>', [('-c', []), ('<predicate_list>', [('<predicate>', [('<p_function>', [('int', [])]), ('=', []), ('<t_function>', [('str', [])])])]), ('\\n', [])]), ('<overwrite>', []), ('<thread_info>', [])])])\n",
      "-otest.log\n",
      "\n",
      "('<start>', [('<options>', [('<output>', [('-o', []), ('<path>', [('<location>', [('<str>', [('<char>', [('<letter>', [('t', [])])]), ('<chars>', [('<chars>', [('<chars>', [('<chars>', []), ('<char>', [('<letter>', [('e', [])])])]), ('<char>', [('<letter>', [('s', [])])])]), ('<char>', [('<letter>', [('t', [])])])])])]), ('.', []), ('<str>', [('<char>', [('<letter>', [('l', [])])]), ('<chars>', [('<chars>', [('<chars>', []), ('<char>', [('<letter>', [('o', [])])])]), ('<char>', [('<letter>', [('g', [])])])])])]), ('\\n', [])]), ('<variables>', []), ('<depth>', []), ('<prefix>', []), ('<watch>', []), ('<custom_repr>', []), ('<overwrite>', []), ('<thread_info>', [])])])\n",
      "\n",
      "('<start>', [('<options>', [('<output>', []), ('<variables>', []), ('<depth>', []), ('<prefix>', []), ('<watch>', []), ('<custom_repr>', []), ('<overwrite>', []), ('<thread_info>', [])])])\n",
      "-d1\n",
      "-T\n",
      "\n",
      "('<start>', [('<options>', [('<output>', []), ('<variables>', []), ('<depth>', [('-d', []), ('<int>', [('<nonzero>', [('1', [])]), ('<digits>', [])]), ('\\n', [])]), ('<prefix>', []), ('<watch>', []), ('<custom_repr>', []), ('<overwrite>', []), ('<thread_info>', [('-T\\n', [])])])])\n",
      "-o\n",
      "-d1\n",
      "\n",
      "('<start>', [('<options>', [('<output>', [('-o\\n', [])]), ('<variables>', []), ('<depth>', [('-d', []), ('<int>', [('<nonzero>', [('1', [])]), ('<digits>', [])]), ('\\n', [])]), ('<prefix>', []), ('<watch>', []), ('<custom_repr>', []), ('<overwrite>', []), ('<thread_info>', [])])])\n",
      "-otest.log\n",
      "-O\n",
      "\n",
      "('<start>', [('<options>', [('<output>', [('-o', []), ('<path>', [('<location>', [('<str>', [('<char>', [('<letter>', [('t', [])])]), ('<chars>', [('<chars>', [('<chars>', [('<chars>', []), ('<char>', [('<letter>', [('e', [])])])]), ('<char>', [('<letter>', [('s', [])])])]), ('<char>', [('<letter>', [('t', [])])])])])]), ('.', []), ('<str>', [('<char>', [('<letter>', [('l', [])])]), ('<chars>', [('<chars>', [('<chars>', []), ('<char>', [('<letter>', [('o', [])])])]), ('<char>', [('<letter>', [('g', [])])])])])]), ('\\n', [])]), ('<variables>', []), ('<depth>', []), ('<prefix>', []), ('<watch>', []), ('<custom_repr>', []), ('<overwrite>', [('-O\\n', [])]), ('<thread_info>', [])])])\n",
      "-d1\n",
      "-wx\n",
      "\n",
      "('<start>', [('<options>', [('<output>', []), ('<variables>', []), ('<depth>', [('-d', []), ('<int>', [('<nonzero>', [('1', [])]), ('<digits>', [])]), ('\\n', [])]), ('<prefix>', []), ('<watch>', [('-w', []), ('<variable_list>', [('<variable>', [('<name>', [('<letter>', [('x', [])]), ('<chars>', [])])])]), ('\\n', [])]), ('<custom_repr>', []), ('<overwrite>', []), ('<thread_info>', [])])])\n",
      "-wy\n",
      "\n",
      "('<start>', [('<options>', [('<output>', []), ('<variables>', []), ('<depth>', []), ('<prefix>', []), ('<watch>', [('-w', []), ('<variable_list>', [('<variable>', [('<name>', [('<letter>', [('y', [])]), ('<chars>', [])])])]), ('\\n', [])]), ('<custom_repr>', []), ('<overwrite>', []), ('<thread_info>', [])])])\n",
      "-otest.log\n",
      "-wx\n",
      "\n",
      "('<start>', [('<options>', [('<output>', [('-o', []), ('<path>', [('<location>', [('<str>', [('<char>', [('<letter>', [('t', [])])]), ('<chars>', [('<chars>', [('<chars>', [('<chars>', []), ('<char>', [('<letter>', [('e', [])])])]), ('<char>', [('<letter>', [('s', [])])])]), ('<char>', [('<letter>', [('t', [])])])])])]), ('.', []), ('<str>', [('<char>', [('<letter>', [('l', [])])]), ('<chars>', [('<chars>', [('<chars>', []), ('<char>', [('<letter>', [('o', [])])])]), ('<char>', [('<letter>', [('g', [])])])])])]), ('\\n', [])]), ('<variables>', []), ('<depth>', []), ('<prefix>', []), ('<watch>', [('-w', []), ('<variable_list>', [('<variable>', [('<name>', [('<letter>', [('x', [])]), ('<chars>', [])])])]), ('\\n', [])]), ('<custom_repr>', []), ('<overwrite>', []), ('<thread_info>', [])])])\n",
      "-ptest\n",
      "\n",
      "('<start>', [('<options>', [('<output>', []), ('<variables>', []), ('<depth>', []), ('<prefix>', [('-p', []), ('<str>', [('<char>', [('<letter>', [('t', [])])]), ('<chars>', [('<chars>', [('<chars>', [('<chars>', []), ('<char>', [('<letter>', [('e', [])])])]), ('<char>', [('<letter>', [('s', [])])])]), ('<char>', [('<letter>', [('t', [])])])])]), ('\\n', [])]), ('<watch>', []), ('<custom_repr>', []), ('<overwrite>', []), ('<thread_info>', [])])])\n",
      "-ptest\n",
      "-wx\n",
      "\n",
      "('<start>', [('<options>', [('<output>', []), ('<variables>', []), ('<depth>', []), ('<prefix>', [('-p', []), ('<str>', [('<char>', [('<letter>', [('t', [])])]), ('<chars>', [('<chars>', [('<chars>', [('<chars>', []), ('<char>', [('<letter>', [('e', [])])])]), ('<char>', [('<letter>', [('s', [])])])]), ('<char>', [('<letter>', [('t', [])])])])]), ('\\n', [])]), ('<watch>', [('-w', []), ('<variable_list>', [('<variable>', [('<name>', [('<letter>', [('x', [])]), ('<chars>', [])])])]), ('\\n', [])]), ('<custom_repr>', []), ('<overwrite>', []), ('<thread_info>', [])])])\n"
     ]
    }
   ],
   "source": [
    "from fuzzingbook.Parser import EarleyParser\n",
    "\n",
    "parser = EarleyParser(grammar)\n",
    "\n",
    "for inp in failing_list + passing_list:\n",
    "    print(inp)\n",
    "    for tree in parser.parse(inp):\n",
    "        print(tree)"
   ]
  },
  {
   "cell_type": "code",
   "execution_count": 22,
   "metadata": {},
   "outputs": [],
   "source": [
    "from avicenna.oracle import OracleResult\n",
    "\n",
    "def oracle(inp: str):\n",
    "    report = framework.systemtest.tests4py_test(work_dir=Path(\"tmp\", \"pysnooper_2\").absolute(), path_or_str=inp, diversity=False)\n",
    "    if report.failing == 1:\n",
    "        return OracleResult.BUG\n",
    "    elif report.passing == 1:\n",
    "        return OracleResult.NO_BUG\n",
    "    return OracleResult.UNDEF"
   ]
  },
  {
   "cell_type": "code",
   "execution_count": 24,
   "metadata": {},
   "outputs": [
    {
     "name": "stderr",
     "output_type": "stream",
     "text": [
      "tests4py :: INFO     :: Checking whether Tests4Py project\n",
      "tests4py :: INFO     :: Loading projects\n",
      "tests4py :: INFO     :: Checking for platform darwin\n",
      "tests4py :: INFO     :: Check for activated python version\n",
      "tests4py :: INFO     :: Using pyenv python 3.8.16\n",
      "tests4py :: INFO     :: Activating virtual env\n",
      "tests4py :: INFO     :: Path '-otest.log\\n-cint=str\\n' does not exist, try to execute it as test case\n",
      "tests4py :: INFO     :: Ran 1 tests\n",
      "tests4py :: INFO     :: 0 passed --- 1 failed\n",
      "tests4py :: INFO     :: Checking whether Tests4Py project\n",
      "tests4py :: INFO     :: Loading projects\n",
      "tests4py :: INFO     :: Checking for platform darwin\n",
      "tests4py :: INFO     :: Check for activated python version\n",
      "tests4py :: INFO     :: Using pyenv python 3.8.16\n",
      "tests4py :: INFO     :: Activating virtual env\n",
      "tests4py :: INFO     :: Path '-cint=str\\n' does not exist, try to execute it as test case\n",
      "tests4py :: INFO     :: Ran 1 tests\n",
      "tests4py :: INFO     :: 0 passed --- 1 failed\n",
      "tests4py :: INFO     :: Checking whether Tests4Py project\n",
      "tests4py :: INFO     :: Loading projects\n",
      "tests4py :: INFO     :: Checking for platform darwin\n",
      "tests4py :: INFO     :: Check for activated python version\n",
      "tests4py :: INFO     :: Using pyenv python 3.8.16\n",
      "tests4py :: INFO     :: Activating virtual env\n",
      "tests4py :: INFO     :: Path '-d1\\n-cint=repr\\n-T\\n' does not exist, try to execute it as test case\n",
      "tests4py :: INFO     :: Ran 1 tests\n",
      "tests4py :: INFO     :: 0 passed --- 1 failed\n",
      "tests4py :: INFO     :: Checking whether Tests4Py project\n",
      "tests4py :: INFO     :: Loading projects\n",
      "tests4py :: INFO     :: Checking for platform darwin\n"
     ]
    },
    {
     "name": "stdout",
     "output_type": "stream",
     "text": [
      "BUG\n",
      "BUG\n",
      "BUG\n"
     ]
    },
    {
     "name": "stderr",
     "output_type": "stream",
     "text": [
      "tests4py :: INFO     :: Check for activated python version\n",
      "tests4py :: INFO     :: Using pyenv python 3.8.16\n",
      "tests4py :: INFO     :: Activating virtual env\n",
      "tests4py :: INFO     :: Path '-o\\n-d1\\n-cbool=str\\n' does not exist, try to execute it as test case\n",
      "tests4py :: INFO     :: Ran 1 tests\n",
      "tests4py :: INFO     :: 0 passed --- 1 failed\n",
      "tests4py :: INFO     :: Checking whether Tests4Py project\n",
      "tests4py :: INFO     :: Loading projects\n",
      "tests4py :: INFO     :: Checking for platform darwin\n",
      "tests4py :: INFO     :: Check for activated python version\n",
      "tests4py :: INFO     :: Using pyenv python 3.8.16\n",
      "tests4py :: INFO     :: Activating virtual env\n",
      "tests4py :: INFO     :: Path '-otest.log\\n-cint=repr,bool=str\\n-O\\n' does not exist, try to execute it as test case\n",
      "tests4py :: INFO     :: Ran 1 tests\n",
      "tests4py :: INFO     :: 0 passed --- 1 failed\n",
      "tests4py :: INFO     :: Checking whether Tests4Py project\n",
      "tests4py :: INFO     :: Loading projects\n",
      "tests4py :: INFO     :: Checking for platform darwin\n",
      "tests4py :: INFO     :: Check for activated python version\n",
      "tests4py :: INFO     :: Using pyenv python 3.8.16\n",
      "tests4py :: INFO     :: Activating virtual env\n",
      "tests4py :: INFO     :: Path '-d1\\n-wx\\n-cfloat=str\\n' does not exist, try to execute it as test case\n",
      "tests4py :: INFO     :: Ran 1 tests\n",
      "tests4py :: INFO     :: 0 passed --- 1 failed\n",
      "tests4py :: INFO     :: Checking whether Tests4Py project\n",
      "tests4py :: INFO     :: Loading projects\n",
      "tests4py :: INFO     :: Checking for platform darwin\n"
     ]
    },
    {
     "name": "stdout",
     "output_type": "stream",
     "text": [
      "BUG\n",
      "BUG\n",
      "BUG\n"
     ]
    },
    {
     "name": "stderr",
     "output_type": "stream",
     "text": [
      "tests4py :: INFO     :: Check for activated python version\n",
      "tests4py :: INFO     :: Using pyenv python 3.8.16\n",
      "tests4py :: INFO     :: Activating virtual env\n",
      "tests4py :: INFO     :: Path '-wy\\n-cstr=str\\n' does not exist, try to execute it as test case\n",
      "tests4py :: INFO     :: Ran 1 tests\n",
      "tests4py :: INFO     :: 0 passed --- 1 failed\n",
      "tests4py :: INFO     :: Checking whether Tests4Py project\n",
      "tests4py :: INFO     :: Loading projects\n",
      "tests4py :: INFO     :: Checking for platform darwin\n",
      "tests4py :: INFO     :: Check for activated python version\n",
      "tests4py :: INFO     :: Using pyenv python 3.8.16\n",
      "tests4py :: INFO     :: Activating virtual env\n",
      "tests4py :: INFO     :: Path '-otest.log\\n-wx\\n-cstr=int\\n' does not exist, try to execute it as test case\n",
      "tests4py :: INFO     :: Ran 1 tests\n",
      "tests4py :: INFO     :: 0 passed --- 1 failed\n",
      "tests4py :: INFO     :: Checking whether Tests4Py project\n",
      "tests4py :: INFO     :: Loading projects\n",
      "tests4py :: INFO     :: Checking for platform darwin\n",
      "tests4py :: INFO     :: Check for activated python version\n",
      "tests4py :: INFO     :: Using pyenv python 3.8.16\n",
      "tests4py :: INFO     :: Activating virtual env\n",
      "tests4py :: INFO     :: Path '-ptest\\n-cbool=int\\n' does not exist, try to execute it as test case\n",
      "tests4py :: INFO     :: Ran 1 tests\n",
      "tests4py :: INFO     :: 0 passed --- 1 failed\n",
      "tests4py :: INFO     :: Checking whether Tests4Py project\n",
      "tests4py :: INFO     :: Loading projects\n",
      "tests4py :: INFO     :: Checking for platform darwin\n"
     ]
    },
    {
     "name": "stdout",
     "output_type": "stream",
     "text": [
      "BUG\n",
      "BUG\n",
      "BUG\n"
     ]
    },
    {
     "name": "stderr",
     "output_type": "stream",
     "text": [
      "tests4py :: INFO     :: Check for activated python version\n",
      "tests4py :: INFO     :: Using pyenv python 3.8.16\n",
      "tests4py :: INFO     :: Activating virtual env\n",
      "tests4py :: INFO     :: Path '-ptest\\n-wx\\n-cint=str\\n' does not exist, try to execute it as test case\n",
      "tests4py :: INFO     :: Ran 1 tests\n",
      "tests4py :: INFO     :: 0 passed --- 1 failed\n",
      "tests4py :: INFO     :: Checking whether Tests4Py project\n",
      "tests4py :: INFO     :: Loading projects\n",
      "tests4py :: INFO     :: Checking for platform darwin\n",
      "tests4py :: INFO     :: Check for activated python version\n",
      "tests4py :: INFO     :: Using pyenv python 3.8.16\n",
      "tests4py :: INFO     :: Activating virtual env\n",
      "tests4py :: INFO     :: Path '-otest.log\\n' does not exist, try to execute it as test case\n",
      "tests4py :: INFO     :: Ran 1 tests\n",
      "tests4py :: INFO     :: 1 passed --- 0 failed\n",
      "tests4py :: INFO     :: Checking whether Tests4Py project\n",
      "tests4py :: INFO     :: Loading projects\n",
      "tests4py :: INFO     :: Checking for platform darwin\n",
      "tests4py :: INFO     :: Check for activated python version\n",
      "tests4py :: INFO     :: Using pyenv python 3.8.16\n",
      "tests4py :: INFO     :: Activating virtual env\n",
      "tests4py :: INFO     :: Ran 0 tests\n",
      "tests4py :: INFO     :: 0 passed --- 0 failed\n",
      "tests4py :: INFO     :: Checking whether Tests4Py project\n",
      "tests4py :: INFO     :: Loading projects\n",
      "tests4py :: INFO     :: Checking for platform darwin\n",
      "tests4py :: INFO     :: Check for activated python version\n",
      "tests4py :: INFO     :: Using pyenv python 3.8.16\n",
      "tests4py :: INFO     :: Activating virtual env\n",
      "tests4py :: INFO     :: Path '-d1\\n-T\\n' does not exist, try to execute it as test case\n"
     ]
    },
    {
     "name": "stdout",
     "output_type": "stream",
     "text": [
      "BUG\n",
      "NO_BUG\n",
      "UNDEF\n"
     ]
    },
    {
     "name": "stderr",
     "output_type": "stream",
     "text": [
      "tests4py :: INFO     :: Ran 1 tests\n",
      "tests4py :: INFO     :: 1 passed --- 0 failed\n",
      "tests4py :: INFO     :: Checking whether Tests4Py project\n",
      "tests4py :: INFO     :: Loading projects\n",
      "tests4py :: INFO     :: Checking for platform darwin\n",
      "tests4py :: INFO     :: Check for activated python version\n",
      "tests4py :: INFO     :: Using pyenv python 3.8.16\n",
      "tests4py :: INFO     :: Activating virtual env\n",
      "tests4py :: INFO     :: Path '-o\\n-d1\\n' does not exist, try to execute it as test case\n",
      "tests4py :: INFO     :: Ran 1 tests\n",
      "tests4py :: INFO     :: 1 passed --- 0 failed\n",
      "tests4py :: INFO     :: Checking whether Tests4Py project\n",
      "tests4py :: INFO     :: Loading projects\n",
      "tests4py :: INFO     :: Checking for platform darwin\n",
      "tests4py :: INFO     :: Check for activated python version\n",
      "tests4py :: INFO     :: Using pyenv python 3.8.16\n",
      "tests4py :: INFO     :: Activating virtual env\n",
      "tests4py :: INFO     :: Path '-otest.log\\n-O\\n' does not exist, try to execute it as test case\n",
      "tests4py :: INFO     :: Ran 1 tests\n",
      "tests4py :: INFO     :: 1 passed --- 0 failed\n",
      "tests4py :: INFO     :: Checking whether Tests4Py project\n",
      "tests4py :: INFO     :: Loading projects\n",
      "tests4py :: INFO     :: Checking for platform darwin\n"
     ]
    },
    {
     "name": "stdout",
     "output_type": "stream",
     "text": [
      "NO_BUG\n",
      "NO_BUG\n",
      "NO_BUG\n"
     ]
    },
    {
     "name": "stderr",
     "output_type": "stream",
     "text": [
      "tests4py :: INFO     :: Check for activated python version\n",
      "tests4py :: INFO     :: Using pyenv python 3.8.16\n",
      "tests4py :: INFO     :: Activating virtual env\n",
      "tests4py :: INFO     :: Path '-d1\\n-wx\\n' does not exist, try to execute it as test case\n",
      "tests4py :: INFO     :: Ran 1 tests\n",
      "tests4py :: INFO     :: 1 passed --- 0 failed\n",
      "tests4py :: INFO     :: Checking whether Tests4Py project\n",
      "tests4py :: INFO     :: Loading projects\n",
      "tests4py :: INFO     :: Checking for platform darwin\n",
      "tests4py :: INFO     :: Check for activated python version\n",
      "tests4py :: INFO     :: Using pyenv python 3.8.16\n",
      "tests4py :: INFO     :: Activating virtual env\n",
      "tests4py :: INFO     :: Path '-wy\\n' does not exist, try to execute it as test case\n",
      "tests4py :: INFO     :: Ran 1 tests\n",
      "tests4py :: INFO     :: 1 passed --- 0 failed\n",
      "tests4py :: INFO     :: Checking whether Tests4Py project\n",
      "tests4py :: INFO     :: Loading projects\n",
      "tests4py :: INFO     :: Checking for platform darwin\n",
      "tests4py :: INFO     :: Check for activated python version\n",
      "tests4py :: INFO     :: Using pyenv python 3.8.16\n",
      "tests4py :: INFO     :: Activating virtual env\n",
      "tests4py :: INFO     :: Path '-otest.log\\n-wx\\n' does not exist, try to execute it as test case\n",
      "tests4py :: INFO     :: Ran 1 tests\n",
      "tests4py :: INFO     :: 1 passed --- 0 failed\n",
      "tests4py :: INFO     :: Checking whether Tests4Py project\n",
      "tests4py :: INFO     :: Loading projects\n",
      "tests4py :: INFO     :: Checking for platform darwin\n"
     ]
    },
    {
     "name": "stdout",
     "output_type": "stream",
     "text": [
      "NO_BUG\n",
      "NO_BUG\n",
      "NO_BUG\n"
     ]
    },
    {
     "name": "stderr",
     "output_type": "stream",
     "text": [
      "tests4py :: INFO     :: Check for activated python version\n",
      "tests4py :: INFO     :: Using pyenv python 3.8.16\n",
      "tests4py :: INFO     :: Activating virtual env\n",
      "tests4py :: INFO     :: Path '-ptest\\n' does not exist, try to execute it as test case\n",
      "tests4py :: INFO     :: Ran 1 tests\n",
      "tests4py :: INFO     :: 1 passed --- 0 failed\n",
      "tests4py :: INFO     :: Checking whether Tests4Py project\n",
      "tests4py :: INFO     :: Loading projects\n",
      "tests4py :: INFO     :: Checking for platform darwin\n",
      "tests4py :: INFO     :: Check for activated python version\n",
      "tests4py :: INFO     :: Using pyenv python 3.8.16\n",
      "tests4py :: INFO     :: Activating virtual env\n",
      "tests4py :: INFO     :: Path '-ptest\\n-wx\\n' does not exist, try to execute it as test case\n",
      "tests4py :: INFO     :: Ran 1 tests\n",
      "tests4py :: INFO     :: 1 passed --- 0 failed\n"
     ]
    },
    {
     "name": "stdout",
     "output_type": "stream",
     "text": [
      "NO_BUG\n",
      "NO_BUG\n"
     ]
    }
   ],
   "source": [
    "for inp in failing_list + passing_list:\n",
    "    print(oracle(inp))"
   ]
  },
  {
   "cell_type": "code",
   "execution_count": null,
   "metadata": {},
   "outputs": [],
   "source": []
  },
  {
   "cell_type": "code",
   "execution_count": null,
   "metadata": {},
   "outputs": [],
   "source": []
  },
  {
   "cell_type": "code",
   "execution_count": 2,
   "metadata": {},
   "outputs": [
    {
     "ename": "NameError",
     "evalue": "name 'grammar' is not defined",
     "output_type": "error",
     "traceback": [
      "\u001b[0;31m---------------------------------------------------------------------------\u001b[0m",
      "\u001b[0;31mNameError\u001b[0m                                 Traceback (most recent call last)",
      "Cell \u001b[0;32mIn[2], line 4\u001b[0m\n\u001b[1;32m      1\u001b[0m \u001b[38;5;28;01mfrom\u001b[39;00m \u001b[38;5;21;01mavicenna\u001b[39;00m\u001b[38;5;21;01m.\u001b[39;00m\u001b[38;5;21;01mavicenna\u001b[39;00m \u001b[38;5;28;01mimport\u001b[39;00m Avicenna\n\u001b[1;32m      3\u001b[0m avicenna \u001b[38;5;241m=\u001b[39m Avicenna(\n\u001b[0;32m----> 4\u001b[0m     grammar \u001b[38;5;241m=\u001b[39m \u001b[43mgrammar\u001b[49m,\n\u001b[1;32m      5\u001b[0m     oracle\u001b[38;5;241m=\u001b[39moracle,\n\u001b[1;32m      6\u001b[0m     initial_inputs\u001b[38;5;241m=\u001b[39mfailing_list \u001b[38;5;241m+\u001b[39m passing_list,\n\u001b[1;32m      7\u001b[0m     max_iterations\u001b[38;5;241m=\u001b[39m\u001b[38;5;241m2\u001b[39m,\n\u001b[1;32m      8\u001b[0m     log\u001b[38;5;241m=\u001b[39m\u001b[38;5;28;01mTrue\u001b[39;00m\n\u001b[1;32m      9\u001b[0m )\n\u001b[1;32m     11\u001b[0m diagnoses \u001b[38;5;241m=\u001b[39m avicenna\u001b[38;5;241m.\u001b[39mexplain()\n",
      "\u001b[0;31mNameError\u001b[0m: name 'grammar' is not defined"
     ]
    }
   ],
   "source": [
    "from avicenna.avicenna import Avicenna\n",
    "\n",
    "avicenna = Avicenna(\n",
    "    grammar = grammar,\n",
    "    oracle=oracle,\n",
    "    initial_inputs=failing_list + passing_list,\n",
    "    max_iterations=2,\n",
    "    log=True\n",
    ")\n",
    "\n",
    "diagnoses = avicenna.explain()"
   ]
  },
  {
   "cell_type": "code",
   "execution_count": null,
   "metadata": {},
   "outputs": [],
   "source": []
  },
  {
   "cell_type": "code",
   "execution_count": null,
   "metadata": {},
   "outputs": [],
   "source": []
  },
  {
   "cell_type": "code",
   "execution_count": null,
   "metadata": {},
   "outputs": [],
   "source": []
  }
 ],
 "metadata": {
  "kernelspec": {
   "display_name": "Python 3 (ipykernel)",
   "language": "python",
   "name": "python3"
  },
  "language_info": {
   "codemirror_mode": {
    "name": "ipython",
    "version": 3
   },
   "file_extension": ".py",
   "mimetype": "text/x-python",
   "name": "python",
   "nbconvert_exporter": "python",
   "pygments_lexer": "ipython3",
   "version": "3.10.9"
  }
 },
 "nbformat": 4,
 "nbformat_minor": 4
}
