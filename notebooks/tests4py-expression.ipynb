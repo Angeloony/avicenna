{
 "cells": [
  {
   "cell_type": "markdown",
   "id": "e0d6253a-03c4-4710-af76-aba079a85471",
   "metadata": {},
   "source": [
    "# Tests4Py: Division By Zero"
   ]
  },
  {
   "cell_type": "markdown",
   "id": "bd2733e4-d6a0-4e89-8cf0-63b9029c7a1a",
   "metadata": {},
   "source": [
    "This is a copy of the `division.ipynb` notebook, just initialized using the **Tests4Py** Benchmark. Please checkout the other notebook for a more detailed description of the grammar, oracle and initial inputs. The divisions notebook also comes with a in-depth interpretation of the final diagnosis and also highlights some of the current limitations of _Avicenna_."
   ]
  },
  {
   "cell_type": "markdown",
   "id": "73ad77f5-c084-463a-927e-e849db7a8b5c",
   "metadata": {},
   "source": [
    "<div class=\"alert alert-info\">\n",
    "<b>[Info]:</b> Please note that we slightly changed the grammar from the <b>dvision.ipynb</b> example. The changes include representing the negative sign `-` with a `~` and adding some whitespaces.\n",
    "</div>"
   ]
  },
  {
   "cell_type": "code",
   "execution_count": 1,
   "id": "0de928b9-24cf-465e-9588-82afb246348a",
   "metadata": {},
   "outputs": [
    {
     "name": "stderr",
     "output_type": "stream",
     "text": [
      "tests4py :: INFO     :: Loading projects\n"
     ]
    }
   ],
   "source": [
    "from tests4py.api.logging import deactivate\n",
    "deactivate()\n",
    "\n",
    "# Suppress logging for the notebook; uncomment the last line to disable Avicenna logs\n",
    "import logging\n",
    "\n",
    "# This will disable all logging messages\n",
    "logging.disable(logging.CRITICAL)"
   ]
  },
  {
   "cell_type": "code",
   "execution_count": 2,
   "id": "0cfb0453-9b54-40e4-aa9b-d5575e83d6f3",
   "metadata": {},
   "outputs": [],
   "source": [
    "from debugging_benchmark.tests4py_benchmark.repository import ExpressionBenchmarkRepository\n",
    "\n",
    "# build programs \n",
    "programs = ExpressionBenchmarkRepository().build()\n",
    "program = programs[0] # Only one Expression Benchmark Program"
   ]
  },
  {
   "cell_type": "code",
   "execution_count": 3,
   "id": "a1b61376-5cc0-4a3c-814e-3427d1b9c62c",
   "metadata": {},
   "outputs": [],
   "source": [
    "param = program.to_dict()\n",
    "\n",
    "# grammar = program.get_grammar()"
   ]
  },
  {
   "cell_type": "code",
   "execution_count": 4,
   "id": "3405c2c2-3b5f-4830-89cd-5433c75ed246",
   "metadata": {},
   "outputs": [],
   "source": [
    "from avicenna.avicenna import Avicenna\n",
    "\n",
    "avicenna = Avicenna(\n",
    "    **param,\n",
    "    min_recall=0.7,\n",
    ")"
   ]
  },
  {
   "cell_type": "code",
   "execution_count": 5,
   "id": "2ea7d5fe-a578-435f-a538-02d4ec9345b0",
   "metadata": {},
   "outputs": [],
   "source": [
    "from typing import List, Tuple\n",
    "from isla.language import Formula\n",
    "\n",
    "diagnosis: Tuple[Formula, float, float] = avicenna.explain()\n",
    "# Avicenna returns a List of learned ISla Formula and the corresponding precision and recall"
   ]
  },
  {
   "cell_type": "code",
   "execution_count": 6,
   "id": "4b114f2c-eac4-4b9f-b220-4c1780afc293",
   "metadata": {},
   "outputs": [
    {
     "name": "stdout",
     "output_type": "stream",
     "text": [
      "Avicenna determined the following constraints to describe the failure circumstances:\n",
      "\n",
      "exists <operator> elem in start:\n",
      "  (= elem \" / \")\n",
      "Avicenna calculated a precision of 83.64% and a recall of 100.00%\n",
      "\n"
     ]
    }
   ],
   "source": [
    "from isla.language import ISLaUnparser\n",
    "\n",
    "print(f\"Avicenna determined the following constraints to describe the failure circumstances:\\n\")\n",
    "\n",
    "print(ISLaUnparser(diagnosis[0]).unparse())\n",
    "print(f\"Avicenna calculated a precision of {diagnosis[1]*100:.2f}% and a recall of {diagnosis[2]*100:.2f}%\", end=\"\\n\\n\")"
   ]
  },
  {
   "cell_type": "markdown",
   "id": "a6b1366e-a108-4c59-97cf-46e6490ff23e",
   "metadata": {},
   "source": [
    "<div class=\"alert alert-info\">\n",
    "<b>[Info]:</b> For an in-depth interpretation of this diagnosis, please refer to the <b>division.ipynb</b> notebook.\n",
    "</div>"
   ]
  }
 ],
 "metadata": {
  "kernelspec": {
   "display_name": "Python 3 (ipykernel)",
   "language": "python",
   "name": "python3"
  },
  "language_info": {
   "codemirror_mode": {
    "name": "ipython",
    "version": 3
   },
   "file_extension": ".py",
   "mimetype": "text/x-python",
   "name": "python",
   "nbconvert_exporter": "python",
   "pygments_lexer": "ipython3",
   "version": "3.10.9"
  }
 },
 "nbformat": 4,
 "nbformat_minor": 5
}
